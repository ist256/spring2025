{
 "cells": [
  {
   "cell_type": "markdown",
   "metadata": {},
   "source": [
    "# Now You Code In Class: \n",
    "\n",
    "## Tricks of The Pandas Masters Volume II\n",
    "\n",
    "Once again, we will try something a bit different for our Activity - A series of Pandas coding challenges!\n",
    "\n",
    "Datasets we will use:\n",
    "\n",
    "- Reddit Data: https://raw.githubusercontent.com/mafudge/datasets/master/json-samples/reddit.json\n",
    "- Episodes of the HBO series \"The Wire\": https://raw.githubusercontent.com/mafudge/datasets/master/tv-shows/the-wire.json\n"
   ]
  },
  {
   "cell_type": "code",
   "execution_count": 1,
   "metadata": {},
   "outputs": [],
   "source": [
    "import pandas as pd\n",
    "import warnings\n",
    "\n",
    "pd.set_option('display.max_colwidth', None)\n",
    "warnings.filterwarnings('ignore')"
   ]
  },
  {
   "cell_type": "markdown",
   "metadata": {},
   "source": [
    "## Deserializing json\n",
    "\n",
    "the following function takes a URL as input and returns deserialized json as output.\n"
   ]
  },
  {
   "cell_type": "code",
   "execution_count": 2,
   "metadata": {
    "tags": []
   },
   "outputs": [],
   "source": [
    "def get_json(url: str):\n",
    "    import requests\n",
    "    response = requests.get(url)\n",
    "    response.raise_for_status()\n",
    "    return response.json()\n"
   ]
  },
  {
   "cell_type": "markdown",
   "metadata": {},
   "source": [
    "This example deserializes reddit news and then finds the key where the articles are and displays the first artcle."
   ]
  },
  {
   "cell_type": "code",
   "execution_count": 3,
   "metadata": {
    "tags": []
   },
   "outputs": [
    {
     "data": {
      "text/plain": [
       "{'kind': 't3',\n",
       " 'data': {'domain': 'wdrb.com',\n",
       "  'banned_by': None,\n",
       "  'media_embed': {},\n",
       "  'subreddit': 'news',\n",
       "  'selftext_html': None,\n",
       "  'selftext': '',\n",
       "  'likes': None,\n",
       "  'suggested_sort': None,\n",
       "  'user_reports': [],\n",
       "  'secure_media': None,\n",
       "  'link_flair_text': None,\n",
       "  'id': '4bn12d',\n",
       "  'from_kind': None,\n",
       "  'gilded': 0,\n",
       "  'archived': False,\n",
       "  'clicked': False,\n",
       "  'report_reasons': None,\n",
       "  'author': 'homeboy422',\n",
       "  'media': None,\n",
       "  'score': 1,\n",
       "  'approved_by': None,\n",
       "  'over_18': False,\n",
       "  'hidden': False,\n",
       "  'num_comments': 1,\n",
       "  'thumbnail': '',\n",
       "  'subreddit_id': 't5_2qh3l',\n",
       "  'hide_score': False,\n",
       "  'edited': False,\n",
       "  'link_flair_css_class': None,\n",
       "  'author_flair_css_class': None,\n",
       "  'downs': 0,\n",
       "  'secure_media_embed': {},\n",
       "  'saved': False,\n",
       "  'removal_reason': None,\n",
       "  'stickied': False,\n",
       "  'from': None,\n",
       "  'is_self': False,\n",
       "  'from_id': None,\n",
       "  'permalink': '/r/news/comments/4bn12d/man_arrested_for_stealing_suv_told_police_he/',\n",
       "  'locked': False,\n",
       "  'name': 't3_4bn12d',\n",
       "  'created': 1458776802.0,\n",
       "  'url': 'http://www.wdrb.com/story/31546565/man-arrested-for-stealing-suv-told-police-he-needed-it-for-job-interview',\n",
       "  'author_flair_text': None,\n",
       "  'quarantine': False,\n",
       "  'title': 'Man arrested for stealing SUV told police he needed it for job interview',\n",
       "  'created_utc': 1458748002.0,\n",
       "  'distinguished': None,\n",
       "  'mod_reports': [],\n",
       "  'visited': False,\n",
       "  'num_reports': None,\n",
       "  'ups': 1}}"
      ]
     },
     "execution_count": 3,
     "metadata": {},
     "output_type": "execute_result"
    }
   ],
   "source": [
    "reddit = get_json(\"https://raw.githubusercontent.com/mafudge/datasets/master/json-samples/reddit.json\")\n",
    "articles = reddit[\"data\"][\"children\"]\n",
    "articles[0]"
   ]
  },
  {
   "cell_type": "code",
   "execution_count": null,
   "metadata": {},
   "outputs": [],
   "source": [
    "# PROMPT 1 read in episodes of \"The Wire\" find the episodes key, and show the first episode.\n"
   ]
  },
  {
   "cell_type": "code",
   "execution_count": 11,
   "metadata": {
    "tags": []
   },
   "outputs": [
    {
     "data": {
      "text/plain": [
       "{'id': 12907,\n",
       " 'url': 'https://www.tvmaze.com/episodes/12907/the-wire-1x01-the-target',\n",
       " 'name': 'The Target',\n",
       " 'season': 1,\n",
       " 'number': 1,\n",
       " 'type': 'regular',\n",
       " 'airdate': '2002-06-02',\n",
       " 'airtime': '21:00',\n",
       " 'airstamp': '2002-06-03T01:00:00+00:00',\n",
       " 'runtime': 60,\n",
       " 'rating': {'average': 7.8},\n",
       " 'image': {'medium': 'https://static.tvmaze.com/uploads/images/medium_landscape/94/236937.jpg',\n",
       "  'original': 'https://static.tvmaze.com/uploads/images/original_untouched/94/236937.jpg'},\n",
       " 'summary': '<p>Homicide detective Jimmy McNulty observes the murder trial of a mid-level drug dealer, D\\'Angelo Barksdale, and sees the prosecution\\'s star witness recant her testimony. McNulty recognises drug king-pin Stringer Bell in the court room and believes he has manipulated the proceedings, so he circumvents the chain-of-command by talking to the judge, Daniel Phelan, who then places pressure on the police department to investigate the Barksdale drug-dealing organization, which, McNulty claims, has gotten away with ten murders in the last year. D\\'Angelo is welcomed home by his uncle, Barksdale patriarch, Avon, who is frustrated with him for placing himself in a situation where the police could charge him. Nevertheless, Avon allows him to return to work, but in what D\\'Angelo sees as a demotion, he is moved to a low-rise housing project known as \"the pit.\" Meanwhile, homeless drug addict Bubbles, acts as mentor to another addict, Johnny Weeks, in an ill-conceived scam with severe consequences.</p>',\n",
       " '_links': {'self': {'href': 'https://api.tvmaze.com/episodes/12907'}}}"
      ]
     },
     "execution_count": 11,
     "metadata": {},
     "output_type": "execute_result"
    }
   ],
   "source": [
    "wire = get_json(\"https://raw.githubusercontent.com/mafudge/datasets/master/tv-shows/the-wire.json\")\n",
    "wire.keys()\n",
    "wire['_embedded']\n",
    "wire['_embedded']['episodes']\n",
    "type(wire['_embedded']['episodes'])\n",
    "wire['_embedded']['episodes'][0]  # first one"
   ]
  },
  {
   "cell_type": "markdown",
   "metadata": {},
   "source": [
    "## Creaating dataframe\n",
    "\n",
    "In this example we use`json_normalize()` to display the articles in a dataframe"
   ]
  },
  {
   "cell_type": "code",
   "execution_count": 12,
   "metadata": {},
   "outputs": [
    {
     "data": {
      "text/html": [
       "<div>\n",
       "<style scoped>\n",
       "    .dataframe tbody tr th:only-of-type {\n",
       "        vertical-align: middle;\n",
       "    }\n",
       "\n",
       "    .dataframe tbody tr th {\n",
       "        vertical-align: top;\n",
       "    }\n",
       "\n",
       "    .dataframe thead th {\n",
       "        text-align: right;\n",
       "    }\n",
       "</style>\n",
       "<table border=\"1\" class=\"dataframe\">\n",
       "  <thead>\n",
       "    <tr style=\"text-align: right;\">\n",
       "      <th></th>\n",
       "      <th>kind</th>\n",
       "      <th>data.domain</th>\n",
       "      <th>data.banned_by</th>\n",
       "      <th>data.subreddit</th>\n",
       "      <th>data.selftext_html</th>\n",
       "      <th>data.selftext</th>\n",
       "      <th>data.likes</th>\n",
       "      <th>data.suggested_sort</th>\n",
       "      <th>data.user_reports</th>\n",
       "      <th>data.secure_media</th>\n",
       "      <th>...</th>\n",
       "      <th>data.url</th>\n",
       "      <th>data.author_flair_text</th>\n",
       "      <th>data.quarantine</th>\n",
       "      <th>data.title</th>\n",
       "      <th>data.created_utc</th>\n",
       "      <th>data.distinguished</th>\n",
       "      <th>data.mod_reports</th>\n",
       "      <th>data.visited</th>\n",
       "      <th>data.num_reports</th>\n",
       "      <th>data.ups</th>\n",
       "    </tr>\n",
       "  </thead>\n",
       "  <tbody>\n",
       "    <tr>\n",
       "      <th>0</th>\n",
       "      <td>t3</td>\n",
       "      <td>wdrb.com</td>\n",
       "      <td>None</td>\n",
       "      <td>news</td>\n",
       "      <td>None</td>\n",
       "      <td></td>\n",
       "      <td>None</td>\n",
       "      <td>None</td>\n",
       "      <td>[]</td>\n",
       "      <td>None</td>\n",
       "      <td>...</td>\n",
       "      <td>http://www.wdrb.com/story/31546565/man-arrested-for-stealing-suv-told-police-he-needed-it-for-job-interview</td>\n",
       "      <td>None</td>\n",
       "      <td>False</td>\n",
       "      <td>Man arrested for stealing SUV told police he needed it for job interview</td>\n",
       "      <td>1.458748e+09</td>\n",
       "      <td>None</td>\n",
       "      <td>[]</td>\n",
       "      <td>False</td>\n",
       "      <td>None</td>\n",
       "      <td>1</td>\n",
       "    </tr>\n",
       "  </tbody>\n",
       "</table>\n",
       "<p>1 rows × 51 columns</p>\n",
       "</div>"
      ],
      "text/plain": [
       "  kind data.domain data.banned_by data.subreddit data.selftext_html  \\\n",
       "0   t3    wdrb.com           None           news               None   \n",
       "\n",
       "  data.selftext data.likes data.suggested_sort data.user_reports  \\\n",
       "0                     None                None                []   \n",
       "\n",
       "  data.secure_media  ...  \\\n",
       "0              None  ...   \n",
       "\n",
       "                                                                                                      data.url  \\\n",
       "0  http://www.wdrb.com/story/31546565/man-arrested-for-stealing-suv-told-police-he-needed-it-for-job-interview   \n",
       "\n",
       "  data.author_flair_text data.quarantine  \\\n",
       "0                   None           False   \n",
       "\n",
       "                                                                 data.title  \\\n",
       "0  Man arrested for stealing SUV told police he needed it for job interview   \n",
       "\n",
       "   data.created_utc  data.distinguished data.mod_reports data.visited  \\\n",
       "0      1.458748e+09                None               []        False   \n",
       "\n",
       "  data.num_reports  data.ups  \n",
       "0             None         1  \n",
       "\n",
       "[1 rows x 51 columns]"
      ]
     },
     "execution_count": 12,
     "metadata": {},
     "output_type": "execute_result"
    }
   ],
   "source": [
    "art_df = pd.json_normalize(articles) #articles is a list of dict!\n",
    "art_df.head(1)"
   ]
  },
  {
   "cell_type": "code",
   "execution_count": 19,
   "metadata": {},
   "outputs": [
    {
     "data": {
      "text/html": [
       "<div>\n",
       "<style scoped>\n",
       "    .dataframe tbody tr th:only-of-type {\n",
       "        vertical-align: middle;\n",
       "    }\n",
       "\n",
       "    .dataframe tbody tr th {\n",
       "        vertical-align: top;\n",
       "    }\n",
       "\n",
       "    .dataframe thead th {\n",
       "        text-align: right;\n",
       "    }\n",
       "</style>\n",
       "<table border=\"1\" class=\"dataframe\">\n",
       "  <thead>\n",
       "    <tr style=\"text-align: right;\">\n",
       "      <th></th>\n",
       "      <th>id</th>\n",
       "      <th>url</th>\n",
       "      <th>name</th>\n",
       "      <th>season</th>\n",
       "      <th>number</th>\n",
       "      <th>type</th>\n",
       "      <th>airdate</th>\n",
       "      <th>airtime</th>\n",
       "      <th>airstamp</th>\n",
       "      <th>runtime</th>\n",
       "      <th>summary</th>\n",
       "      <th>rating.average</th>\n",
       "      <th>image.medium</th>\n",
       "      <th>image.original</th>\n",
       "      <th>_links.self.href</th>\n",
       "    </tr>\n",
       "  </thead>\n",
       "  <tbody>\n",
       "    <tr>\n",
       "      <th>55</th>\n",
       "      <td>12965</td>\n",
       "      <td>https://www.tvmaze.com/episodes/12965/the-wire-5x06-the-dickensian-aspect</td>\n",
       "      <td>The Dickensian Aspect</td>\n",
       "      <td>5</td>\n",
       "      <td>6</td>\n",
       "      <td>regular</td>\n",
       "      <td>2008-02-10</td>\n",
       "      <td>21:00</td>\n",
       "      <td>2008-02-11T02:00:00+00:00</td>\n",
       "      <td>60</td>\n",
       "      <td>&lt;p&gt;Mystified by Omar's disappearance, Marlo and Chris ramp up their efforts to locate their nemesis. After a sparsely attended waterfront ceremony, Carcetti fires away at a larger press event--and recasts himself as a champion for the homeless.&lt;/p&gt;</td>\n",
       "      <td>8.4</td>\n",
       "      <td>https://static.tvmaze.com/uploads/images/medium_landscape/94/236991.jpg</td>\n",
       "      <td>https://static.tvmaze.com/uploads/images/original_untouched/94/236991.jpg</td>\n",
       "      <td>https://api.tvmaze.com/episodes/12965</td>\n",
       "    </tr>\n",
       "    <tr>\n",
       "      <th>56</th>\n",
       "      <td>12966</td>\n",
       "      <td>https://www.tvmaze.com/episodes/12966/the-wire-5x07-took</td>\n",
       "      <td>Took</td>\n",
       "      <td>5</td>\n",
       "      <td>7</td>\n",
       "      <td>regular</td>\n",
       "      <td>2008-02-17</td>\n",
       "      <td>21:00</td>\n",
       "      <td>2008-02-18T02:00:00+00:00</td>\n",
       "      <td>60</td>\n",
       "      <td>&lt;p&gt;An unexpected call puts Templeton back in the spotlight--and gets McNulty more attention than he expected. Bunk bucks at Landsman when ordered to help with the force's most recent red ball.&lt;/p&gt;</td>\n",
       "      <td>8.5</td>\n",
       "      <td>https://static.tvmaze.com/uploads/images/medium_landscape/94/236992.jpg</td>\n",
       "      <td>https://static.tvmaze.com/uploads/images/original_untouched/94/236992.jpg</td>\n",
       "      <td>https://api.tvmaze.com/episodes/12966</td>\n",
       "    </tr>\n",
       "    <tr>\n",
       "      <th>57</th>\n",
       "      <td>12967</td>\n",
       "      <td>https://www.tvmaze.com/episodes/12967/the-wire-5x08-clarifications</td>\n",
       "      <td>Clarifications</td>\n",
       "      <td>5</td>\n",
       "      <td>8</td>\n",
       "      <td>regular</td>\n",
       "      <td>2008-02-24</td>\n",
       "      <td>21:00</td>\n",
       "      <td>2008-02-25T02:00:00+00:00</td>\n",
       "      <td>60</td>\n",
       "      <td>&lt;p&gt;Baltimore's renewed police commitment brings fresh recruits to Daniels and McNulty, starting with Carver. Facing a new political challenge, Carcetti is forced to make dangerous political deals.&lt;/p&gt;</td>\n",
       "      <td>8.6</td>\n",
       "      <td>https://static.tvmaze.com/uploads/images/medium_landscape/94/236993.jpg</td>\n",
       "      <td>https://static.tvmaze.com/uploads/images/original_untouched/94/236993.jpg</td>\n",
       "      <td>https://api.tvmaze.com/episodes/12967</td>\n",
       "    </tr>\n",
       "    <tr>\n",
       "      <th>58</th>\n",
       "      <td>12968</td>\n",
       "      <td>https://www.tvmaze.com/episodes/12968/the-wire-5x09-late-editions</td>\n",
       "      <td>Late Editions</td>\n",
       "      <td>5</td>\n",
       "      <td>9</td>\n",
       "      <td>regular</td>\n",
       "      <td>2008-03-02</td>\n",
       "      <td>21:00</td>\n",
       "      <td>2008-03-03T02:00:00+00:00</td>\n",
       "      <td>60</td>\n",
       "      <td>&lt;p&gt;With Steintorf ordering Rawls to initiate 'creative' remedies for the rising crime rate, Freamon's vigilance pays off with a promising lead, sending Sydnor and the department into overdrive.&lt;/p&gt;</td>\n",
       "      <td>8.9</td>\n",
       "      <td>https://static.tvmaze.com/uploads/images/medium_landscape/94/236994.jpg</td>\n",
       "      <td>https://static.tvmaze.com/uploads/images/original_untouched/94/236994.jpg</td>\n",
       "      <td>https://api.tvmaze.com/episodes/12968</td>\n",
       "    </tr>\n",
       "    <tr>\n",
       "      <th>59</th>\n",
       "      <td>12969</td>\n",
       "      <td>https://www.tvmaze.com/episodes/12969/the-wire-5x10-30</td>\n",
       "      <td>-30-</td>\n",
       "      <td>5</td>\n",
       "      <td>10</td>\n",
       "      <td>regular</td>\n",
       "      <td>2008-03-09</td>\n",
       "      <td>21:00</td>\n",
       "      <td>2008-03-10T01:00:00+00:00</td>\n",
       "      <td>60</td>\n",
       "      <td>&lt;p&gt;Carcetti maps out a damage-control scenario with the police brass in the wake of a startling revelation from Pearlman and Daniels. Their choice: clean up the mess...or hide the dirt.&lt;/p&gt;</td>\n",
       "      <td>9.3</td>\n",
       "      <td>https://static.tvmaze.com/uploads/images/medium_landscape/94/236995.jpg</td>\n",
       "      <td>https://static.tvmaze.com/uploads/images/original_untouched/94/236995.jpg</td>\n",
       "      <td>https://api.tvmaze.com/episodes/12969</td>\n",
       "    </tr>\n",
       "  </tbody>\n",
       "</table>\n",
       "</div>"
      ],
      "text/plain": [
       "       id  \\\n",
       "55  12965   \n",
       "56  12966   \n",
       "57  12967   \n",
       "58  12968   \n",
       "59  12969   \n",
       "\n",
       "                                                                          url  \\\n",
       "55  https://www.tvmaze.com/episodes/12965/the-wire-5x06-the-dickensian-aspect   \n",
       "56                   https://www.tvmaze.com/episodes/12966/the-wire-5x07-took   \n",
       "57         https://www.tvmaze.com/episodes/12967/the-wire-5x08-clarifications   \n",
       "58          https://www.tvmaze.com/episodes/12968/the-wire-5x09-late-editions   \n",
       "59                     https://www.tvmaze.com/episodes/12969/the-wire-5x10-30   \n",
       "\n",
       "                     name  season  number     type     airdate airtime  \\\n",
       "55  The Dickensian Aspect       5       6  regular  2008-02-10   21:00   \n",
       "56                   Took       5       7  regular  2008-02-17   21:00   \n",
       "57         Clarifications       5       8  regular  2008-02-24   21:00   \n",
       "58          Late Editions       5       9  regular  2008-03-02   21:00   \n",
       "59                   -30-       5      10  regular  2008-03-09   21:00   \n",
       "\n",
       "                     airstamp  runtime  \\\n",
       "55  2008-02-11T02:00:00+00:00       60   \n",
       "56  2008-02-18T02:00:00+00:00       60   \n",
       "57  2008-02-25T02:00:00+00:00       60   \n",
       "58  2008-03-03T02:00:00+00:00       60   \n",
       "59  2008-03-10T01:00:00+00:00       60   \n",
       "\n",
       "                                                                                                                                                                                                                                                     summary  \\\n",
       "55  <p>Mystified by Omar's disappearance, Marlo and Chris ramp up their efforts to locate their nemesis. After a sparsely attended waterfront ceremony, Carcetti fires away at a larger press event--and recasts himself as a champion for the homeless.</p>   \n",
       "56                                                      <p>An unexpected call puts Templeton back in the spotlight--and gets McNulty more attention than he expected. Bunk bucks at Landsman when ordered to help with the force's most recent red ball.</p>   \n",
       "57                                                  <p>Baltimore's renewed police commitment brings fresh recruits to Daniels and McNulty, starting with Carver. Facing a new political challenge, Carcetti is forced to make dangerous political deals.</p>   \n",
       "58                                                     <p>With Steintorf ordering Rawls to initiate 'creative' remedies for the rising crime rate, Freamon's vigilance pays off with a promising lead, sending Sydnor and the department into overdrive.</p>   \n",
       "59                                                             <p>Carcetti maps out a damage-control scenario with the police brass in the wake of a startling revelation from Pearlman and Daniels. Their choice: clean up the mess...or hide the dirt.</p>   \n",
       "\n",
       "    rating.average  \\\n",
       "55             8.4   \n",
       "56             8.5   \n",
       "57             8.6   \n",
       "58             8.9   \n",
       "59             9.3   \n",
       "\n",
       "                                                               image.medium  \\\n",
       "55  https://static.tvmaze.com/uploads/images/medium_landscape/94/236991.jpg   \n",
       "56  https://static.tvmaze.com/uploads/images/medium_landscape/94/236992.jpg   \n",
       "57  https://static.tvmaze.com/uploads/images/medium_landscape/94/236993.jpg   \n",
       "58  https://static.tvmaze.com/uploads/images/medium_landscape/94/236994.jpg   \n",
       "59  https://static.tvmaze.com/uploads/images/medium_landscape/94/236995.jpg   \n",
       "\n",
       "                                                               image.original  \\\n",
       "55  https://static.tvmaze.com/uploads/images/original_untouched/94/236991.jpg   \n",
       "56  https://static.tvmaze.com/uploads/images/original_untouched/94/236992.jpg   \n",
       "57  https://static.tvmaze.com/uploads/images/original_untouched/94/236993.jpg   \n",
       "58  https://static.tvmaze.com/uploads/images/original_untouched/94/236994.jpg   \n",
       "59  https://static.tvmaze.com/uploads/images/original_untouched/94/236995.jpg   \n",
       "\n",
       "                         _links.self.href  \n",
       "55  https://api.tvmaze.com/episodes/12965  \n",
       "56  https://api.tvmaze.com/episodes/12966  \n",
       "57  https://api.tvmaze.com/episodes/12967  \n",
       "58  https://api.tvmaze.com/episodes/12968  \n",
       "59  https://api.tvmaze.com/episodes/12969  "
      ]
     },
     "execution_count": 19,
     "metadata": {},
     "output_type": "execute_result"
    }
   ],
   "source": [
    "# PROMPT 2 display the episodes as a dataframe\n",
    "eps = wire['_embedded']['episodes'] # list of dict\n",
    "wire_eps = pd.json_normalize(eps)\n",
    "wire_eps.tail(5) # 5 last\n"
   ]
  },
  {
   "cell_type": "markdown",
   "metadata": {},
   "source": [
    "## A Text Sentiment Web Service\n",
    "\n",
    "The following function uses the http://text-processing.com service to calculate the sentiment for any input text. The result is a dict with probabilities and overall sentiment. For example:\n",
    "\n",
    "INPUT: `\"very nice\"`\n",
    "\n",
    "OUTPUT: \n",
    "```\n",
    "{\n",
    "    'probability': {\n",
    "        'neg': 0.28997418956645504,\n",
    "        'neutral': 0.13591527211268692,\n",
    "        'pos': 0.710025810433545\n",
    "    },\n",
    "    'label': 'pos'\n",
    "}\n"
   ]
  },
  {
   "cell_type": "code",
   "execution_count": 20,
   "metadata": {},
   "outputs": [
    {
     "name": "stdout",
     "output_type": "stream",
     "text": [
      "Collecting textblob\n",
      "  Downloading textblob-0.19.0-py3-none-any.whl.metadata (4.4 kB)\n",
      "Collecting nltk>=3.9 (from textblob)\n",
      "  Downloading nltk-3.9.1-py3-none-any.whl.metadata (2.9 kB)\n",
      "Requirement already satisfied: click in /opt/conda/lib/python3.12/site-packages (from nltk>=3.9->textblob) (8.1.8)\n",
      "Collecting joblib (from nltk>=3.9->textblob)\n",
      "  Downloading joblib-1.4.2-py3-none-any.whl.metadata (5.4 kB)\n",
      "Collecting regex>=2021.8.3 (from nltk>=3.9->textblob)\n",
      "  Downloading regex-2024.11.6-cp312-cp312-manylinux_2_17_x86_64.manylinux2014_x86_64.whl.metadata (40 kB)\n",
      "Requirement already satisfied: tqdm in /opt/conda/lib/python3.12/site-packages (from nltk>=3.9->textblob) (4.67.1)\n",
      "Downloading textblob-0.19.0-py3-none-any.whl (624 kB)\n",
      "\u001b[2K   \u001b[90m━━━━━━━━━━━━━━━━━━━━━━━━━━━━━━━━━━━━━━━━\u001b[0m \u001b[32m624.3/624.3 kB\u001b[0m \u001b[31m24.9 MB/s\u001b[0m eta \u001b[36m0:00:00\u001b[0m\n",
      "\u001b[?25hDownloading nltk-3.9.1-py3-none-any.whl (1.5 MB)\n",
      "\u001b[2K   \u001b[90m━━━━━━━━━━━━━━━━━━━━━━━━━━━━━━━━━━━━━━━━\u001b[0m \u001b[32m1.5/1.5 MB\u001b[0m \u001b[31m65.3 MB/s\u001b[0m eta \u001b[36m0:00:00\u001b[0m\n",
      "Downloading regex-2024.11.6-cp312-cp312-manylinux_2_17_x86_64.manylinux2014_x86_64.whl (796 kB)\n",
      "\u001b[2K   \u001b[90m━━━━━━━━━━━━━━━━━━━━━━━━━━━━━━━━━━━━━━━━\u001b[0m \u001b[32m796.9/796.9 kB\u001b[0m \u001b[31m62.9 MB/s\u001b[0m eta \u001b[36m0:00:00\u001b[0m\n",
      "\u001b[?25hDownloading joblib-1.4.2-py3-none-any.whl (301 kB)\n",
      "Installing collected packages: regex, joblib, nltk, textblob\n",
      "Successfully installed joblib-1.4.2 nltk-3.9.1 regex-2024.11.6 textblob-0.19.0\n"
     ]
    }
   ],
   "source": [
    "!pip install textblob"
   ]
  },
  {
   "cell_type": "code",
   "execution_count": 27,
   "metadata": {},
   "outputs": [
    {
     "data": {
      "text/plain": [
       "Sentiment(polarity=0.4636363636363636, subjectivity=0.5727272727272728)"
      ]
     },
     "execution_count": 27,
     "metadata": {},
     "output_type": "execute_result"
    }
   ],
   "source": [
    "from textblob import TextBlob\n",
    "\n",
    "tb = TextBlob(\"Research indicated good weather leads to positive student enrollments\")\n",
    "tb.sentiment \n",
    "# 1 most positive 1  0.3\n",
    "# 0 true neutral \n",
    "# -1 most negative -0.3 <> -1\n"
   ]
  },
  {
   "cell_type": "code",
   "execution_count": 33,
   "metadata": {},
   "outputs": [
    {
     "data": {
      "text/plain": [
       "Sentiment(polarity=-0.8, subjectivity=0.9)"
      ]
     },
     "execution_count": 33,
     "metadata": {},
     "output_type": "execute_result"
    }
   ],
   "source": [
    "tb2 = TextBlob(\"I hate your gutz you stinkin loser.\")\n",
    "tb2.sentiment"
   ]
  },
  {
   "cell_type": "code",
   "execution_count": 34,
   "metadata": {},
   "outputs": [
    {
     "data": {
      "text/plain": [
       "TextBlob(\"I hate your gut you stinking lower.\")"
      ]
     },
     "execution_count": 34,
     "metadata": {},
     "output_type": "execute_result"
    }
   ],
   "source": [
    "tb2.correct()"
   ]
  },
  {
   "cell_type": "code",
   "execution_count": 38,
   "metadata": {},
   "outputs": [
    {
     "data": {
      "text/plain": [
       "'negative'"
      ]
     },
     "execution_count": 38,
     "metadata": {},
     "output_type": "execute_result"
    }
   ],
   "source": [
    "def get_text_sentiment(text: str) -> dict:\n",
    "    from textblob import TextBlob\n",
    "    tb = TextBlob(text)\n",
    "    sentiment = tb.sentiment.polarity\n",
    "    if sentiment > 0.3:\n",
    "        return \"positive\"\n",
    "    elif sentiment > -0.3:\n",
    "        return \"neutral\"\n",
    "    else:\n",
    "        return \"negative\"\n",
    "\n",
    "sentiment = get_text_sentiment(\"you are a horrible person\")\n",
    "sentiment"
   ]
  },
  {
   "cell_type": "code",
   "execution_count": null,
   "metadata": {
    "tags": []
   },
   "outputs": [],
   "source": [
    "# PROMPT 3: get the sentiment of the text below and print the label only\n"
   ]
  },
  {
   "cell_type": "markdown",
   "metadata": {},
   "source": [
    "## Using a lambda with `apply()`\n",
    "\n",
    "The following example creates a new Series in the dataframe called `\"title_sentiment\"` which calculates the sentiment of the reddit news title."
   ]
  },
  {
   "cell_type": "code",
   "execution_count": 39,
   "metadata": {},
   "outputs": [
    {
     "data": {
      "text/html": [
       "<div>\n",
       "<style scoped>\n",
       "    .dataframe tbody tr th:only-of-type {\n",
       "        vertical-align: middle;\n",
       "    }\n",
       "\n",
       "    .dataframe tbody tr th {\n",
       "        vertical-align: top;\n",
       "    }\n",
       "\n",
       "    .dataframe thead th {\n",
       "        text-align: right;\n",
       "    }\n",
       "</style>\n",
       "<table border=\"1\" class=\"dataframe\">\n",
       "  <thead>\n",
       "    <tr style=\"text-align: right;\">\n",
       "      <th></th>\n",
       "      <th>data.title</th>\n",
       "      <th>title_sentiment</th>\n",
       "    </tr>\n",
       "  </thead>\n",
       "  <tbody>\n",
       "    <tr>\n",
       "      <th>0</th>\n",
       "      <td>Man arrested for stealing SUV told police he needed it for job interview</td>\n",
       "      <td>neutral</td>\n",
       "    </tr>\n",
       "    <tr>\n",
       "      <th>1</th>\n",
       "      <td>Zika outbreak needs $4 million: WHO</td>\n",
       "      <td>neutral</td>\n",
       "    </tr>\n",
       "    <tr>\n",
       "      <th>2</th>\n",
       "      <td>Austin police to fire officer who shot, killed nude teen</td>\n",
       "      <td>neutral</td>\n",
       "    </tr>\n",
       "    <tr>\n",
       "      <th>3</th>\n",
       "      <td>Hubble Unveils Monster Stars</td>\n",
       "      <td>neutral</td>\n",
       "    </tr>\n",
       "    <tr>\n",
       "      <th>4</th>\n",
       "      <td>ISIS application forms surface in intelligence haul on terror group's recruits</td>\n",
       "      <td>neutral</td>\n",
       "    </tr>\n",
       "  </tbody>\n",
       "</table>\n",
       "</div>"
      ],
      "text/plain": [
       "                                                                       data.title  \\\n",
       "0        Man arrested for stealing SUV told police he needed it for job interview   \n",
       "1                                             Zika outbreak needs $4 million: WHO   \n",
       "2                        Austin police to fire officer who shot, killed nude teen   \n",
       "3                                                    Hubble Unveils Monster Stars   \n",
       "4  ISIS application forms surface in intelligence haul on terror group's recruits   \n",
       "\n",
       "  title_sentiment  \n",
       "0         neutral  \n",
       "1         neutral  \n",
       "2         neutral  \n",
       "3         neutral  \n",
       "4         neutral  "
      ]
     },
     "execution_count": 39,
     "metadata": {},
     "output_type": "execute_result"
    }
   ],
   "source": [
    "art_df[\"title_sentiment\"] = art_df.apply(lambda row: get_text_sentiment(row[\"data.title\"]), axis=1)\n",
    "art_df[[\"data.title\", \"title_sentiment\"]].head()"
   ]
  },
  {
   "cell_type": "code",
   "execution_count": 40,
   "metadata": {
    "tags": []
   },
   "outputs": [
    {
     "data": {
      "text/plain": [
       "title_sentiment\n",
       "neutral     23\n",
       "positive     1\n",
       "negative     1\n",
       "Name: count, dtype: int64"
      ]
     },
     "execution_count": 40,
     "metadata": {},
     "output_type": "execute_result"
    }
   ],
   "source": [
    "# PROMPT 4 get the sentiment for the summary Series in the episodes dataframe, name the column \"summary_sentiment\" and show the summary and the sentiment\n",
    "art_df['title_sentiment'].value_counts()"
   ]
  },
  {
   "cell_type": "code",
   "execution_count": 41,
   "metadata": {},
   "outputs": [
    {
     "data": {
      "text/html": [
       "<div>\n",
       "<style scoped>\n",
       "    .dataframe tbody tr th:only-of-type {\n",
       "        vertical-align: middle;\n",
       "    }\n",
       "\n",
       "    .dataframe tbody tr th {\n",
       "        vertical-align: top;\n",
       "    }\n",
       "\n",
       "    .dataframe thead th {\n",
       "        text-align: right;\n",
       "    }\n",
       "</style>\n",
       "<table border=\"1\" class=\"dataframe\">\n",
       "  <thead>\n",
       "    <tr style=\"text-align: right;\">\n",
       "      <th></th>\n",
       "      <th>kind</th>\n",
       "      <th>data.domain</th>\n",
       "      <th>data.banned_by</th>\n",
       "      <th>data.subreddit</th>\n",
       "      <th>data.selftext_html</th>\n",
       "      <th>data.selftext</th>\n",
       "      <th>data.likes</th>\n",
       "      <th>data.suggested_sort</th>\n",
       "      <th>data.user_reports</th>\n",
       "      <th>data.secure_media</th>\n",
       "      <th>...</th>\n",
       "      <th>data.author_flair_text</th>\n",
       "      <th>data.quarantine</th>\n",
       "      <th>data.title</th>\n",
       "      <th>data.created_utc</th>\n",
       "      <th>data.distinguished</th>\n",
       "      <th>data.mod_reports</th>\n",
       "      <th>data.visited</th>\n",
       "      <th>data.num_reports</th>\n",
       "      <th>data.ups</th>\n",
       "      <th>title_sentiment</th>\n",
       "    </tr>\n",
       "  </thead>\n",
       "  <tbody>\n",
       "    <tr>\n",
       "      <th>23</th>\n",
       "      <td>t3</td>\n",
       "      <td>techinsider.io</td>\n",
       "      <td>None</td>\n",
       "      <td>news</td>\n",
       "      <td>None</td>\n",
       "      <td></td>\n",
       "      <td>None</td>\n",
       "      <td>None</td>\n",
       "      <td>[]</td>\n",
       "      <td>None</td>\n",
       "      <td>...</td>\n",
       "      <td>None</td>\n",
       "      <td>False</td>\n",
       "      <td>Dutch prisons are closing because the country is so safe</td>\n",
       "      <td>1.458723e+09</td>\n",
       "      <td>None</td>\n",
       "      <td>[]</td>\n",
       "      <td>False</td>\n",
       "      <td>None</td>\n",
       "      <td>4</td>\n",
       "      <td>positive</td>\n",
       "    </tr>\n",
       "    <tr>\n",
       "      <th>24</th>\n",
       "      <td>t3</td>\n",
       "      <td>freebeacon.com</td>\n",
       "      <td>None</td>\n",
       "      <td>news</td>\n",
       "      <td>None</td>\n",
       "      <td></td>\n",
       "      <td>None</td>\n",
       "      <td>None</td>\n",
       "      <td>[]</td>\n",
       "      <td>None</td>\n",
       "      <td>...</td>\n",
       "      <td>None</td>\n",
       "      <td>False</td>\n",
       "      <td>Obama annoyed at question about ISIS policy: “I’ve got a lot of things on my plate”</td>\n",
       "      <td>1.458762e+09</td>\n",
       "      <td>None</td>\n",
       "      <td>[]</td>\n",
       "      <td>False</td>\n",
       "      <td>None</td>\n",
       "      <td>0</td>\n",
       "      <td>negative</td>\n",
       "    </tr>\n",
       "  </tbody>\n",
       "</table>\n",
       "<p>2 rows × 52 columns</p>\n",
       "</div>"
      ],
      "text/plain": [
       "   kind     data.domain data.banned_by data.subreddit data.selftext_html  \\\n",
       "23   t3  techinsider.io           None           news               None   \n",
       "24   t3  freebeacon.com           None           news               None   \n",
       "\n",
       "   data.selftext data.likes data.suggested_sort data.user_reports  \\\n",
       "23                     None                None                []   \n",
       "24                     None                None                []   \n",
       "\n",
       "   data.secure_media  ... data.author_flair_text data.quarantine  \\\n",
       "23              None  ...                   None           False   \n",
       "24              None  ...                   None           False   \n",
       "\n",
       "                                                                             data.title  \\\n",
       "23                             Dutch prisons are closing because the country is so safe   \n",
       "24  Obama annoyed at question about ISIS policy: “I’ve got a lot of things on my plate”   \n",
       "\n",
       "    data.created_utc  data.distinguished  data.mod_reports data.visited  \\\n",
       "23      1.458723e+09                None                []        False   \n",
       "24      1.458762e+09                None                []        False   \n",
       "\n",
       "   data.num_reports data.ups  title_sentiment  \n",
       "23             None        4         positive  \n",
       "24             None        0         negative  \n",
       "\n",
       "[2 rows x 52 columns]"
      ]
     },
     "execution_count": 41,
     "metadata": {},
     "output_type": "execute_result"
    }
   ],
   "source": [
    "art_df[ \n",
    "    art_df['title_sentiment'] != 'neutral'\n",
    "]"
   ]
  },
  {
   "cell_type": "markdown",
   "metadata": {
    "tags": []
   },
   "source": [
    "## Saving the dataframe \n",
    "\n",
    "Calculating the sentiment isn't free and we don't need to do it more than once. Its a good idea to save the content of our dataframe at this point.  That way we can continue from the saved file versus re-calculating the transformation.\n",
    "\n",
    "After you run this code open the `reddit_news_articles.csv` file and check it out!"
   ]
  },
  {
   "cell_type": "code",
   "execution_count": 42,
   "metadata": {
    "tags": []
   },
   "outputs": [],
   "source": [
    "art_df.to_csv(\"reddit_news_articles.csv\", index=False)"
   ]
  },
  {
   "cell_type": "code",
   "execution_count": null,
   "metadata": {
    "tags": []
   },
   "outputs": [],
   "source": [
    "# PROMPT 5 save your episodes of the wire to \"the_wire_episodes.csv\"\n"
   ]
  },
  {
   "cell_type": "markdown",
   "metadata": {
    "slideshow": {
     "slide_type": "slide"
    }
   },
   "source": [
    "## Hot and Top articles.\n",
    "\n",
    "You have been hired as a data scientist at Reddit. Through your extensive statistical research, you have determined: \n",
    "\n",
    "- Articles where the number of comments are in the 75% percentile should be categorized as `\"Hot\"`\n",
    "- Articles where the number of upvotes are in the 75% percentile should be categorized as `\"Popular\"`\n",
    "- Articles matching both should be categories as `\"Fire\"`\n",
    "\n",
    "In these next challenges, we will write code to implement these rules.\n"
   ]
  },
  {
   "cell_type": "code",
   "execution_count": 45,
   "metadata": {
    "tags": []
   },
   "outputs": [
    {
     "data": {
      "text/html": [
       "<div>\n",
       "<style scoped>\n",
       "    .dataframe tbody tr th:only-of-type {\n",
       "        vertical-align: middle;\n",
       "    }\n",
       "\n",
       "    .dataframe tbody tr th {\n",
       "        vertical-align: top;\n",
       "    }\n",
       "\n",
       "    .dataframe thead th {\n",
       "        text-align: right;\n",
       "    }\n",
       "</style>\n",
       "<table border=\"1\" class=\"dataframe\">\n",
       "  <thead>\n",
       "    <tr style=\"text-align: right;\">\n",
       "      <th></th>\n",
       "      <th>data.gilded</th>\n",
       "      <th>data.score</th>\n",
       "      <th>data.num_comments</th>\n",
       "      <th>data.downs</th>\n",
       "      <th>data.created</th>\n",
       "      <th>data.created_utc</th>\n",
       "      <th>data.ups</th>\n",
       "    </tr>\n",
       "  </thead>\n",
       "  <tbody>\n",
       "    <tr>\n",
       "      <th>count</th>\n",
       "      <td>25.0</td>\n",
       "      <td>25.000000</td>\n",
       "      <td>25.000000</td>\n",
       "      <td>25.0</td>\n",
       "      <td>2.500000e+01</td>\n",
       "      <td>2.500000e+01</td>\n",
       "      <td>25.000000</td>\n",
       "    </tr>\n",
       "    <tr>\n",
       "      <th>mean</th>\n",
       "      <td>0.0</td>\n",
       "      <td>30.440000</td>\n",
       "      <td>10.920000</td>\n",
       "      <td>0.0</td>\n",
       "      <td>1.458733e+09</td>\n",
       "      <td>1.458704e+09</td>\n",
       "      <td>30.440000</td>\n",
       "    </tr>\n",
       "    <tr>\n",
       "      <th>std</th>\n",
       "      <td>0.0</td>\n",
       "      <td>74.512348</td>\n",
       "      <td>22.597788</td>\n",
       "      <td>0.0</td>\n",
       "      <td>3.688108e+04</td>\n",
       "      <td>3.688108e+04</td>\n",
       "      <td>74.512348</td>\n",
       "    </tr>\n",
       "    <tr>\n",
       "      <th>min</th>\n",
       "      <td>0.0</td>\n",
       "      <td>0.000000</td>\n",
       "      <td>0.000000</td>\n",
       "      <td>0.0</td>\n",
       "      <td>1.458655e+09</td>\n",
       "      <td>1.458627e+09</td>\n",
       "      <td>0.000000</td>\n",
       "    </tr>\n",
       "    <tr>\n",
       "      <th>25%</th>\n",
       "      <td>0.0</td>\n",
       "      <td>1.000000</td>\n",
       "      <td>1.000000</td>\n",
       "      <td>0.0</td>\n",
       "      <td>1.458700e+09</td>\n",
       "      <td>1.458671e+09</td>\n",
       "      <td>1.000000</td>\n",
       "    </tr>\n",
       "    <tr>\n",
       "      <th>50%</th>\n",
       "      <td>0.0</td>\n",
       "      <td>8.000000</td>\n",
       "      <td>2.000000</td>\n",
       "      <td>0.0</td>\n",
       "      <td>1.458727e+09</td>\n",
       "      <td>1.458698e+09</td>\n",
       "      <td>8.000000</td>\n",
       "    </tr>\n",
       "    <tr>\n",
       "      <th>75%</th>\n",
       "      <td>0.0</td>\n",
       "      <td>27.000000</td>\n",
       "      <td>11.000000</td>\n",
       "      <td>0.0</td>\n",
       "      <td>1.458767e+09</td>\n",
       "      <td>1.458738e+09</td>\n",
       "      <td>27.000000</td>\n",
       "    </tr>\n",
       "    <tr>\n",
       "      <th>max</th>\n",
       "      <td>0.0</td>\n",
       "      <td>376.000000</td>\n",
       "      <td>108.000000</td>\n",
       "      <td>0.0</td>\n",
       "      <td>1.458791e+09</td>\n",
       "      <td>1.458762e+09</td>\n",
       "      <td>376.000000</td>\n",
       "    </tr>\n",
       "  </tbody>\n",
       "</table>\n",
       "</div>"
      ],
      "text/plain": [
       "       data.gilded  data.score  data.num_comments  data.downs  data.created  \\\n",
       "count         25.0   25.000000          25.000000        25.0  2.500000e+01   \n",
       "mean           0.0   30.440000          10.920000         0.0  1.458733e+09   \n",
       "std            0.0   74.512348          22.597788         0.0  3.688108e+04   \n",
       "min            0.0    0.000000           0.000000         0.0  1.458655e+09   \n",
       "25%            0.0    1.000000           1.000000         0.0  1.458700e+09   \n",
       "50%            0.0    8.000000           2.000000         0.0  1.458727e+09   \n",
       "75%            0.0   27.000000          11.000000         0.0  1.458767e+09   \n",
       "max            0.0  376.000000         108.000000         0.0  1.458791e+09   \n",
       "\n",
       "       data.created_utc    data.ups  \n",
       "count      2.500000e+01   25.000000  \n",
       "mean       1.458704e+09   30.440000  \n",
       "std        3.688108e+04   74.512348  \n",
       "min        1.458627e+09    0.000000  \n",
       "25%        1.458671e+09    1.000000  \n",
       "50%        1.458698e+09    8.000000  \n",
       "75%        1.458738e+09   27.000000  \n",
       "max        1.458762e+09  376.000000  "
      ]
     },
     "execution_count": 45,
     "metadata": {},
     "output_type": "execute_result"
    }
   ],
   "source": [
    "# PROMPT 6 write code to show the statistics of the numerical columns in the `art_df`\n",
    "art_df.describe()"
   ]
  },
  {
   "cell_type": "code",
   "execution_count": 46,
   "metadata": {},
   "outputs": [
    {
     "data": {
      "text/plain": [
       "'Fire'"
      ]
     },
     "execution_count": 46,
     "metadata": {},
     "output_type": "execute_result"
    }
   ],
   "source": [
    "# PROMPT 7 which columns represent comments? upvotes? What are the thresholds based on the 75% percentile?\n",
    "pop = 27 # 27 or more upvotes\n",
    "hot = 11 # 11 or more comments\n",
    "\n",
    "\n",
    "def calc_label(upvotes, comment_count):\n",
    "    '''\n",
    "    return \"hot\" when comment_count >= 11\n",
    "    return \"pop\" when upvotes >= 27\n",
    "    return \"fire\" when both\n",
    "    '''\n",
    "    if comment_count >= 11 and upvotes >=27:\n",
    "        return \"Fire\"\n",
    "    if comment_count >= 11:\n",
    "        return \"Hot\"\n",
    "    if upvotes >= 27:\n",
    "        return \"Pop\"\n",
    "    return \"\"\n",
    "\n",
    "calc_label(upvotes =27, comment_count=50)\n"
   ]
  },
  {
   "cell_type": "code",
   "execution_count": 50,
   "metadata": {},
   "outputs": [
    {
     "data": {
      "text/html": [
       "<div>\n",
       "<style scoped>\n",
       "    .dataframe tbody tr th:only-of-type {\n",
       "        vertical-align: middle;\n",
       "    }\n",
       "\n",
       "    .dataframe tbody tr th {\n",
       "        vertical-align: top;\n",
       "    }\n",
       "\n",
       "    .dataframe thead th {\n",
       "        text-align: right;\n",
       "    }\n",
       "</style>\n",
       "<table border=\"1\" class=\"dataframe\">\n",
       "  <thead>\n",
       "    <tr style=\"text-align: right;\">\n",
       "      <th></th>\n",
       "      <th>label</th>\n",
       "      <th>data.title</th>\n",
       "    </tr>\n",
       "  </thead>\n",
       "  <tbody>\n",
       "    <tr>\n",
       "      <th>0</th>\n",
       "      <td></td>\n",
       "      <td>Man arrested for stealing SUV told police he needed it for job interview</td>\n",
       "    </tr>\n",
       "    <tr>\n",
       "      <th>1</th>\n",
       "      <td></td>\n",
       "      <td>Zika outbreak needs $4 million: WHO</td>\n",
       "    </tr>\n",
       "    <tr>\n",
       "      <th>2</th>\n",
       "      <td>Fire</td>\n",
       "      <td>Austin police to fire officer who shot, killed nude teen</td>\n",
       "    </tr>\n",
       "    <tr>\n",
       "      <th>3</th>\n",
       "      <td></td>\n",
       "      <td>Hubble Unveils Monster Stars</td>\n",
       "    </tr>\n",
       "    <tr>\n",
       "      <th>4</th>\n",
       "      <td></td>\n",
       "      <td>ISIS application forms surface in intelligence haul on terror group's recruits</td>\n",
       "    </tr>\n",
       "  </tbody>\n",
       "</table>\n",
       "</div>"
      ],
      "text/plain": [
       "  label  \\\n",
       "0         \n",
       "1         \n",
       "2  Fire   \n",
       "3         \n",
       "4         \n",
       "\n",
       "                                                                       data.title  \n",
       "0        Man arrested for stealing SUV told police he needed it for job interview  \n",
       "1                                             Zika outbreak needs $4 million: WHO  \n",
       "2                        Austin police to fire officer who shot, killed nude teen  \n",
       "3                                                    Hubble Unveils Monster Stars  \n",
       "4  ISIS application forms surface in intelligence haul on terror group's recruits  "
      ]
     },
     "execution_count": 50,
     "metadata": {},
     "output_type": "execute_result"
    }
   ],
   "source": [
    "# PROMPT 8 Write code to extract the comments_threshold\n",
    "\n",
    "art_df['label'] = art_df.apply(\n",
    "    lambda row: calc_label(row[\"data.ups\"], row[\"data.num_comments\"]), \n",
    "    axis=1\n",
    ")\n",
    "art_df[['label','data.title']].head(5)"
   ]
  },
  {
   "cell_type": "code",
   "execution_count": 47,
   "metadata": {
    "tags": []
   },
   "outputs": [
    {
     "name": "stdout",
     "output_type": "stream",
     "text": [
      "<class 'pandas.core.frame.DataFrame'>\n",
      "RangeIndex: 25 entries, 0 to 24\n",
      "Data columns (total 52 columns):\n",
      " #   Column                       Non-Null Count  Dtype  \n",
      "---  ------                       --------------  -----  \n",
      " 0   kind                         25 non-null     object \n",
      " 1   data.domain                  25 non-null     object \n",
      " 2   data.banned_by               0 non-null      object \n",
      " 3   data.subreddit               25 non-null     object \n",
      " 4   data.selftext_html           0 non-null      object \n",
      " 5   data.selftext                25 non-null     object \n",
      " 6   data.likes                   0 non-null      object \n",
      " 7   data.suggested_sort          0 non-null      object \n",
      " 8   data.user_reports            25 non-null     object \n",
      " 9   data.secure_media            0 non-null      object \n",
      " 10  data.link_flair_text         0 non-null      object \n",
      " 11  data.id                      25 non-null     object \n",
      " 12  data.from_kind               0 non-null      object \n",
      " 13  data.gilded                  25 non-null     int64  \n",
      " 14  data.archived                25 non-null     bool   \n",
      " 15  data.clicked                 25 non-null     bool   \n",
      " 16  data.report_reasons          0 non-null      object \n",
      " 17  data.author                  25 non-null     object \n",
      " 18  data.media                   0 non-null      object \n",
      " 19  data.score                   25 non-null     int64  \n",
      " 20  data.approved_by             0 non-null      object \n",
      " 21  data.over_18                 25 non-null     bool   \n",
      " 22  data.hidden                  25 non-null     bool   \n",
      " 23  data.num_comments            25 non-null     int64  \n",
      " 24  data.thumbnail               25 non-null     object \n",
      " 25  data.subreddit_id            25 non-null     object \n",
      " 26  data.hide_score              25 non-null     bool   \n",
      " 27  data.edited                  25 non-null     bool   \n",
      " 28  data.link_flair_css_class    0 non-null      object \n",
      " 29  data.author_flair_css_class  0 non-null      object \n",
      " 30  data.downs                   25 non-null     int64  \n",
      " 31  data.saved                   25 non-null     bool   \n",
      " 32  data.removal_reason          0 non-null      object \n",
      " 33  data.stickied                25 non-null     bool   \n",
      " 34  data.from                    0 non-null      object \n",
      " 35  data.is_self                 25 non-null     bool   \n",
      " 36  data.from_id                 0 non-null      object \n",
      " 37  data.permalink               25 non-null     object \n",
      " 38  data.locked                  25 non-null     bool   \n",
      " 39  data.name                    25 non-null     object \n",
      " 40  data.created                 25 non-null     float64\n",
      " 41  data.url                     25 non-null     object \n",
      " 42  data.author_flair_text       0 non-null      object \n",
      " 43  data.quarantine              25 non-null     bool   \n",
      " 44  data.title                   25 non-null     object \n",
      " 45  data.created_utc             25 non-null     float64\n",
      " 46  data.distinguished           0 non-null      object \n",
      " 47  data.mod_reports             25 non-null     object \n",
      " 48  data.visited                 25 non-null     bool   \n",
      " 49  data.num_reports             0 non-null      object \n",
      " 50  data.ups                     25 non-null     int64  \n",
      " 51  title_sentiment              25 non-null     object \n",
      "dtypes: bool(12), float64(2), int64(5), object(33)\n",
      "memory usage: 8.2+ KB\n"
     ]
    }
   ],
   "source": [
    "# PROMPT 9 Write code to extract the upvote_threshold\n",
    "art_df.info()"
   ]
  },
  {
   "cell_type": "markdown",
   "metadata": {},
   "source": [
    "### defining the `categorize()` function:\n",
    "\n",
    "Let's review the requirements: \n",
    "\n",
    "- Articles where the number of comments are in the 75% percentile should be categorized as \"Hot\"\n",
    "- Articles where the number of upvotes are in the 75% percentile should be categorized as \"Popular\"\n",
    "- Articles matching both should be categories as \"Fire\"\n",
    "\n",
    "INPUTS (4): \n",
    "\n",
    "    PROMPT 10\n",
    "    \n",
    "OUTPUTS (1):\n",
    "\n",
    "    PROMPT 11"
   ]
  },
  {
   "cell_type": "code",
   "execution_count": 53,
   "metadata": {
    "tags": []
   },
   "outputs": [
    {
     "name": "stdout",
     "output_type": "stream",
     "text": [
      "<class 'pandas.core.frame.DataFrame'>\n",
      "RangeIndex: 25 entries, 0 to 24\n",
      "Data columns (total 53 columns):\n",
      " #   Column                       Non-Null Count  Dtype  \n",
      "---  ------                       --------------  -----  \n",
      " 0   kind                         25 non-null     object \n",
      " 1   data.domain                  25 non-null     object \n",
      " 2   data.banned_by               0 non-null      object \n",
      " 3   data.subreddit               25 non-null     object \n",
      " 4   data.selftext_html           0 non-null      object \n",
      " 5   data.selftext                25 non-null     object \n",
      " 6   data.likes                   0 non-null      object \n",
      " 7   data.suggested_sort          0 non-null      object \n",
      " 8   data.user_reports            25 non-null     object \n",
      " 9   data.secure_media            0 non-null      object \n",
      " 10  data.link_flair_text         0 non-null      object \n",
      " 11  data.id                      25 non-null     object \n",
      " 12  data.from_kind               0 non-null      object \n",
      " 13  data.gilded                  25 non-null     int64  \n",
      " 14  data.archived                25 non-null     bool   \n",
      " 15  data.clicked                 25 non-null     bool   \n",
      " 16  data.report_reasons          0 non-null      object \n",
      " 17  data.author                  25 non-null     object \n",
      " 18  data.media                   0 non-null      object \n",
      " 19  data.score                   25 non-null     int64  \n",
      " 20  data.approved_by             0 non-null      object \n",
      " 21  data.over_18                 25 non-null     bool   \n",
      " 22  data.hidden                  25 non-null     bool   \n",
      " 23  data.num_comments            25 non-null     int64  \n",
      " 24  data.thumbnail               25 non-null     object \n",
      " 25  data.subreddit_id            25 non-null     object \n",
      " 26  data.hide_score              25 non-null     bool   \n",
      " 27  data.edited                  25 non-null     bool   \n",
      " 28  data.link_flair_css_class    0 non-null      object \n",
      " 29  data.author_flair_css_class  0 non-null      object \n",
      " 30  data.downs                   25 non-null     int64  \n",
      " 31  data.saved                   25 non-null     bool   \n",
      " 32  data.removal_reason          0 non-null      object \n",
      " 33  data.stickied                25 non-null     bool   \n",
      " 34  data.from                    0 non-null      object \n",
      " 35  data.is_self                 25 non-null     bool   \n",
      " 36  data.from_id                 0 non-null      object \n",
      " 37  data.permalink               25 non-null     object \n",
      " 38  data.locked                  25 non-null     bool   \n",
      " 39  data.name                    25 non-null     object \n",
      " 40  data.created                 25 non-null     float64\n",
      " 41  data.url                     25 non-null     object \n",
      " 42  data.author_flair_text       0 non-null      object \n",
      " 43  data.quarantine              25 non-null     bool   \n",
      " 44  data.title                   25 non-null     object \n",
      " 45  data.created_utc             25 non-null     float64\n",
      " 46  data.distinguished           0 non-null      object \n",
      " 47  data.mod_reports             25 non-null     object \n",
      " 48  data.visited                 25 non-null     bool   \n",
      " 49  data.num_reports             0 non-null      object \n",
      " 50  data.ups                     25 non-null     int64  \n",
      " 51  title_sentiment              25 non-null     object \n",
      " 52  label                        25 non-null     object \n",
      "dtypes: bool(12), float64(2), int64(5), object(34)\n",
      "memory usage: 8.4+ KB\n"
     ]
    }
   ],
   "source": [
    "# PROMPT 12 write function definition\n",
    "art_df.info()"
   ]
  },
  {
   "cell_type": "code",
   "execution_count": null,
   "metadata": {
    "tags": []
   },
   "outputs": [],
   "source": [
    "# PROMPT 13a write test for \"Hot\"\n",
    "upvotes = 0\n",
    "upvote_threshold = 0\n",
    "comments = 0\n",
    "comments_threshold = 0\n",
    "expect = \"????\"\n",
    "actual = categorize(upvotes, upvote_threshold, comments, comments_threshold)\n",
    "print(f\"When upvotes={upvotes}/{upvote_threshold}, comments={comments}/{comments_threshold}, EXPECT={expect}, ACTUAL={actual}\")\n",
    "assert expect == actual"
   ]
  },
  {
   "cell_type": "code",
   "execution_count": null,
   "metadata": {
    "tags": []
   },
   "outputs": [],
   "source": [
    "# PROMPT 13b write test for \"Popular\"\n",
    "upvotes = 0\n",
    "upvote_threshold = 0\n",
    "comments = 0\n",
    "comments_threshold = 0\n",
    "expect = \"????\"\n",
    "actual = categorize(upvotes, upvote_threshold, comments, comments_threshold)\n",
    "print(f\"When upvotes={upvotes}/{upvote_threshold}, comments={comments}/{comments_threshold}, EXPECT={expect}, ACTUAL={actual}\")\n",
    "assert expect == actua"
   ]
  },
  {
   "cell_type": "code",
   "execution_count": null,
   "metadata": {
    "tags": []
   },
   "outputs": [],
   "source": [
    "# PROMPT 13c write test for \"Fire\"\n",
    "upvotes = 0\n",
    "upvote_threshold = 0\n",
    "comments = 0\n",
    "comments_threshold = 0\n",
    "expect = \"????\"\n",
    "actual = categorize(upvotes, upvote_threshold, comments, comments_threshold)\n",
    "print(f\"When upvotes={upvotes}/{upvote_threshold}, comments={comments}/{comments_threshold}, EXPECT={expect}, ACTUAL={actual}\")\n",
    "assert expect == actua"
   ]
  },
  {
   "cell_type": "code",
   "execution_count": null,
   "metadata": {
    "tags": []
   },
   "outputs": [],
   "source": [
    "# PROMPT 13d write test for \"\"\n",
    "upvotes = 0\n",
    "upvote_threshold = 0\n",
    "comments = 0\n",
    "comments_threshold = 0\n",
    "expect = \"????\"\n",
    "actual = categorize(upvotes, upvote_threshold, comments, comments_threshold)\n",
    "print(f\"When upvotes={upvotes}/{upvote_threshold}, comments={comments}/{comments_threshold}, EXPECT={expect}, ACTUAL={actual}\")\n",
    "assert expect == actua"
   ]
  },
  {
   "cell_type": "markdown",
   "metadata": {},
   "source": [
    "## Final step. lambda / apply\n",
    "\n",
    "Add a column to the dataframe called `\"category\"` which calculates the category for the article \n",
    "\n",
    "output the article title, the number of comments, number of upvotes and the category"
   ]
  },
  {
   "cell_type": "code",
   "execution_count": null,
   "metadata": {},
   "outputs": [],
   "source": [
    "# PROMPT 14\n"
   ]
  },
  {
   "cell_type": "code",
   "execution_count": null,
   "metadata": {},
   "outputs": [],
   "source": []
  },
  {
   "cell_type": "code",
   "execution_count": null,
   "metadata": {},
   "outputs": [],
   "source": []
  },
  {
   "cell_type": "code",
   "execution_count": null,
   "metadata": {},
   "outputs": [],
   "source": [
    "# run this code to turn in your work!\n",
    "from casstools.assignment import Assignment\n",
    "Assignment().submit()"
   ]
  },
  {
   "cell_type": "code",
   "execution_count": null,
   "metadata": {},
   "outputs": [],
   "source": []
  }
 ],
 "metadata": {
  "anaconda-cloud": {},
  "kernelspec": {
   "display_name": "Python 3 (ipykernel)",
   "language": "python",
   "name": "python3"
  },
  "language_info": {
   "codemirror_mode": {
    "name": "ipython",
    "version": 3
   },
   "file_extension": ".py",
   "mimetype": "text/x-python",
   "name": "python",
   "nbconvert_exporter": "python",
   "pygments_lexer": "ipython3",
   "version": "3.12.8"
  },
  "toc": {
   "base_numbering": 1,
   "nav_menu": {},
   "number_sections": false,
   "sideBar": false,
   "skip_h1_title": false,
   "title_cell": "Table of Contents",
   "title_sidebar": "Contents",
   "toc_cell": false,
   "toc_position": {},
   "toc_section_display": false,
   "toc_window_display": false
  },
  "varInspector": {
   "cols": {
    "lenName": 16,
    "lenType": 16,
    "lenVar": 40
   },
   "kernels_config": {
    "python": {
     "delete_cmd_postfix": "",
     "delete_cmd_prefix": "del ",
     "library": "var_list.py",
     "varRefreshCmd": "print(var_dic_list())"
    },
    "r": {
     "delete_cmd_postfix": ") ",
     "delete_cmd_prefix": "rm(",
     "library": "var_list.r",
     "varRefreshCmd": "cat(var_dic_list()) "
    }
   },
   "types_to_exclude": [
    "module",
    "function",
    "builtin_function_or_method",
    "instance",
    "_Feature"
   ],
   "window_display": false
  }
 },
 "nbformat": 4,
 "nbformat_minor": 4
}
