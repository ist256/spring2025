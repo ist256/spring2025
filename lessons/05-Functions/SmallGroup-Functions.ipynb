{
 "cells": [
  {
   "cell_type": "markdown",
   "metadata": {},
   "source": [
    "# Now You Code In Class : Rock Paper Scissors Experiment\n",
    "\n",
    "In this now you code we will learn to re-factor a program into a function. This is the most common way to write a function when you are a beginner. *Re-factoring* is the act of re-writing code without changing its functionality. We commonly do re-factoring to improve performance or readability of our code. Through the process we will also demonstrate the DRY (don't repeat yourself principle of coding).\n",
    "\n",
    "The way you do this is rather simple. First you write a program to solve the problem, then you re-write that program as a function and finally test the function to make sure it works as expected. \n",
    "\n",
    "This helps train you to think abstractly about problems, but leverages what you understand currently about programming.\n",
    "\n",
    "## Introducing the Write - Refactor - Test - Rewrite approach\n",
    "\n",
    "The best way to get good at writing functions, a skill you will need to master to become a respectable programmer, is to use the **Write - Refactor - Test - Rewrite** approach.  The basic idea is as follows:\n",
    "\n",
    "1. Write the program \n",
    "2. Identify which parts of the program can be placed in a function\n",
    "3. Refactor the code into a function. Extract the bits into a function into a new, separate cell independent of the original code. \n",
    "4. Test the function so you are confident it works, using the expect... actual approach from the lab.\n",
    "5. Re-Write the original program to call the function instead.\n",
    "\n",
    "## The Problem \n",
    "\n",
    "Let's build a game that plays rock paper scissors.\n",
    "\n",
    "### The Approach\n",
    "\n",
    "1. Write the program once (done for you in the cell below)\n",
    "2. refactor step 1 into its own function `play_game(you, computer)` which returns the winning player.\n",
    "3. test the function to make sure it works. Write tests for all cases\n",
    "4. re-write the main program to now call the function.\n",
    "5. use the function in the final program.\n"
   ]
  },
  {
   "cell_type": "code",
   "execution_count": null,
   "metadata": {},
   "outputs": [],
   "source": [
    "'''\n",
    "    Input: length, width\n",
    "    Output: perimeter\n",
    "'''\n"
   ]
  },
  {
   "cell_type": "code",
   "execution_count": 3,
   "metadata": {},
   "outputs": [
    {
     "name": "stdin",
     "output_type": "stream",
     "text": [
      "Enter Length: 10\n",
      "Enter Width: 5\n"
     ]
    },
    {
     "name": "stdout",
     "output_type": "stream",
     "text": [
      "The perimeter is 30.0\n"
     ]
    }
   ],
   "source": [
    "# Write\n",
    "#input\n",
    "length = float(input(\"Enter Length:\"))\n",
    "width = float(input(\"Enter Width:\"))\n",
    "# process\n",
    "perm = length + length + width + width\n",
    "#output\n",
    "print(f\"The perimeter is {perm}\")              "
   ]
  },
  {
   "cell_type": "code",
   "execution_count": 17,
   "metadata": {},
   "outputs": [],
   "source": [
    "# Refactor\n",
    "def perimeter(length: float, width: float) -> float:\n",
    "    '''\n",
    "    return the perimeter of a rectangle as defined \n",
    "    as the sum of all 4 sides 2 length and 2 width\n",
    "    '''\n",
    "    p = 2 * (length + width)\n",
    "    return p"
   ]
  },
  {
   "cell_type": "code",
   "execution_count": 18,
   "metadata": {},
   "outputs": [
    {
     "name": "stdout",
     "output_type": "stream",
     "text": [
      "When length=5, width=3, expect=16, actual= 16\n"
     ]
    }
   ],
   "source": [
    "# Test\n",
    "# great for computers\n",
    "assert perimeter(length=5, width=3) == 16 \n",
    "# better for humans\n",
    "print(\"When length=5, width=3, expect=16, actual=\",perimeter(length=5, width=3))"
   ]
  },
  {
   "cell_type": "code",
   "execution_count": 16,
   "metadata": {},
   "outputs": [
    {
     "name": "stdin",
     "output_type": "stream",
     "text": [
      "Enter Length: 10\n",
      "Enter Width: 5\n"
     ]
    },
    {
     "name": "stdout",
     "output_type": "stream",
     "text": [
      "The perimeter is 30.0\n"
     ]
    }
   ],
   "source": [
    "# Rewrite\n",
    "# Write\n",
    "#input\n",
    "length = float(input(\"Enter Length:\"))\n",
    "width = float(input(\"Enter Width:\"))\n",
    "# process\n",
    "perm = perimeter(length, width)\n",
    "#output\n",
    "print(f\"The perimeter is {perm}\") "
   ]
  },
  {
   "cell_type": "code",
   "execution_count": 20,
   "metadata": {},
   "outputs": [
    {
     "data": {
      "text/html": [
       "<div>\n",
       "<style scoped>\n",
       "    .dataframe tbody tr th:only-of-type {\n",
       "        vertical-align: middle;\n",
       "    }\n",
       "\n",
       "    .dataframe tbody tr th {\n",
       "        vertical-align: top;\n",
       "    }\n",
       "\n",
       "    .dataframe thead th {\n",
       "        text-align: right;\n",
       "    }\n",
       "</style>\n",
       "<table border=\"1\" class=\"dataframe\">\n",
       "  <thead>\n",
       "    <tr style=\"text-align: right;\">\n",
       "      <th></th>\n",
       "      <th>name</th>\n",
       "      <th>gpa</th>\n",
       "    </tr>\n",
       "  </thead>\n",
       "  <tbody>\n",
       "    <tr>\n",
       "      <th>0</th>\n",
       "      <td>abby</td>\n",
       "      <td>3.5</td>\n",
       "    </tr>\n",
       "    <tr>\n",
       "      <th>1</th>\n",
       "      <td>bob</td>\n",
       "      <td>2.5</td>\n",
       "    </tr>\n",
       "  </tbody>\n",
       "</table>\n",
       "</div>"
      ],
      "text/plain": [
       "   name  gpa\n",
       "0  abby  3.5\n",
       "1   bob  2.5"
      ]
     },
     "execution_count": 20,
     "metadata": {},
     "output_type": "execute_result"
    }
   ],
   "source": [
    "import pandas as pd\n",
    "pd.DataFrame([ {\"name\" :\"abby\", \"gpa\" : 3.5}, {\"name\" :\"bob\", \"gpa\" : 2.5}])\n",
    "pd.DataFrame("
   ]
  },
  {
   "cell_type": "code",
   "execution_count": null,
   "metadata": {},
   "outputs": [],
   "source": [
    "#ORIGINAL CODE\n",
    "\n",
    "import random \n",
    "choices = ['rock', 'paper', 'scissors']\n",
    "computer = random.choice(choices)\n",
    "you = 'rock'  #Always rock strategy, saves us from having to input!\n",
    "\n",
    "if (you == 'rock' and computer == 'scissors'):\n",
    "    outcome = \"win\"\n",
    "elif (you == 'scissors' and computer =='rock'):\n",
    "    outcome = \"lose\"\n",
    "elif (you == 'paper' and computer =='rock'):\n",
    "    outcome = \"win\"\n",
    "elif (you == 'rock' and computer=='paper'):\n",
    "    outcome = \"lose\"\n",
    "elif (you == 'scissors' and computer == 'paper'):\n",
    "    outcome = \"win\"\n",
    "elif (you == 'paper' and computer == 'scissors'):\n",
    "    outcome = \"lose\"\n",
    "else:\n",
    "    outcome = \"tie\"\n",
    "\n",
    "print(f\"You:'{you}' Computer:'{computer}' Game: {outcome} \")"
   ]
  },
  {
   "cell_type": "markdown",
   "metadata": {},
   "source": [
    "## Problem Analysis\n",
    "\n",
    "For a function `rock_paper_scissors()` which plays the game, what are the inputs and outputs?\n",
    "\n",
    "Inputs:  \n",
    "\n",
    "    PROMPT 1 : \n",
    "\n",
    "\n",
    "Outputs:  \n",
    "\n",
    "    PROMPT 2 : \n",
    "    \n",
    "Function def in python:   (just `def` part)\n",
    "\n",
    "    PROMPT 3: Write the steps from input to output: Since we have code think about what it takes to refactor this\n",
    "    \n"
   ]
  },
  {
   "cell_type": "code",
   "execution_count": 21,
   "metadata": {},
   "outputs": [],
   "source": [
    "# PROMPT 4: Write function \n",
    "def play_rock_paper_scissors(you, computer): # <== inputs\n",
    "    # TODO\n",
    "    if (you == 'rock' and computer == 'scissors'):\n",
    "        outcome = \"win\"\n",
    "    elif (you == 'scissors' and computer =='rock'):\n",
    "        outcome = \"lose\"\n",
    "    elif (you == 'paper' and computer =='rock'):\n",
    "        outcome = \"win\"\n",
    "    elif (you == 'rock' and computer=='paper'):\n",
    "        outcome = \"lose\"\n",
    "    elif (you == 'scissors' and computer == 'paper'):\n",
    "        outcome = \"win\"\n",
    "    elif (you == 'paper' and computer == 'scissors'):\n",
    "        outcome = \"lose\"\n",
    "    else:\n",
    "        outcome = \"tie\"    \n",
    "    #output\n",
    "    return outcome"
   ]
  },
  {
   "cell_type": "markdown",
   "metadata": {},
   "source": [
    "## Test Cases\n",
    "\n",
    "Writing a function is not helpful unless we have some assurances that it is correct. We solve this problem with test cases:\n",
    "\n",
    "    YOU      COMPUTER  OUTCOME\n",
    "    Rock     Rock      Tie\n",
    "    Rock     Scissors  Win\n",
    "    Rock     Paper     Lose\n",
    "    \n",
    "    Scissors Rock      Lose\n",
    "    Scissors Scissors  Tie\n",
    "    Scissors Paper     Win\n",
    "    \n",
    "    Paper    Rock      Win\n",
    "    Paper    Scissors  Lose\n",
    "    Paper    Paper     Tie\n",
    "    \n",
    "PROMPTS 5 - 13   \n",
    "\n",
    "Write a `print()` or `assert()` statement for each test case:\n",
    "\n",
    "`When YOU=?, COMPUTER=?, EXPECT=?, ACTUAL=(call the function)`\n",
    "\n"
   ]
  },
  {
   "cell_type": "code",
   "execution_count": 22,
   "metadata": {},
   "outputs": [
    {
     "name": "stdout",
     "output_type": "stream",
     "text": [
      "When paper,rock EXPECT=win, ACTUAL=win\n",
      "When scissors,rock EXPECT=lose, ACTUAL=lose\n",
      "When rock,rock EXPECT=tie, ACTUAL=tie\n",
      "When paper,paper EXPECT=tie, ACTUAL=tie\n",
      "When scissors,paper EXPECT=win, ACTUAL=win\n",
      "When rock,paper EXPECT=lose, ACTUAL=lose\n",
      "When paper,scissors EXPECT=lose, ACTUAL=lose\n",
      "When scissors,scissors EXPECT=tie, ACTUAL=tie\n",
      "When rock,scissors EXPECT=win, ACTUAL=win\n"
     ]
    }
   ],
   "source": [
    "# PROMPTS 5-13 test Cases\n",
    "def test_play_game(you, computer, expect):\n",
    "    actual = play_rock_paper_scissors(you=you, computer=computer)\n",
    "    print(f\"When {you},{computer} EXPECT={expect}, ACTUAL={actual}\")\n",
    "    assert expect == actual\n",
    "\n",
    "test_play_game(\"paper\", \"rock\", \"win\")\n",
    "test_play_game(\"scissors\", \"rock\", \"lose\")\n",
    "test_play_game(\"rock\", \"rock\", \"tie\")\n",
    "\n",
    "test_play_game(\"paper\", \"paper\", \"tie\")\n",
    "test_play_game(\"scissors\", \"paper\", \"win\")\n",
    "test_play_game(\"rock\", \"paper\", \"lose\")\n",
    "\n",
    "# write the last 3 test cases...\n",
    "test_play_game(\"paper\", \"scissors\", \"lose\")\n",
    "test_play_game(\"scissors\", \"scissors\", \"tie\")\n",
    "test_play_game(\"rock\", \"scissors\", \"win\")\n",
    "\n"
   ]
  },
  {
   "cell_type": "code",
   "execution_count": null,
   "metadata": {},
   "outputs": [],
   "source": []
  },
  {
   "cell_type": "markdown",
   "metadata": {},
   "source": [
    "## Re-Write\n",
    "\n",
    "With the function code tested, and assurances it is correct, we can now re-write the original program, calling the function instead."
   ]
  },
  {
   "cell_type": "code",
   "execution_count": null,
   "metadata": {},
   "outputs": [],
   "source": [
    "# PROMPT 14 Re-write the game to use the function!\n",
    "import random \n",
    "choices = ['rock', 'paper', 'scissors']\n",
    "computer = random.choice(choices)\n",
    "you = 'rock'\n",
    "\n",
    "# todo??\n",
    "\n",
    "print(f\"You:'{you}' Computer:'{computer}' Game: {outcome} \")"
   ]
  },
  {
   "cell_type": "code",
   "execution_count": null,
   "metadata": {
    "tags": []
   },
   "outputs": [],
   "source": [
    "\n"
   ]
  },
  {
   "cell_type": "markdown",
   "metadata": {},
   "source": [
    "## Back to the game\n",
    "\n",
    "Now that we have function to play the game, we can write code for the acual game interation. \n",
    "\n",
    "\n",
    "INPUTS:\n",
    "\n",
    "- user selects one of rock, paper, scissors from a drop-down menu\n",
    "\n",
    "OUTPUTS: \n",
    "\n",
    "- game says whether you won or lost, and keep a record of your total wins and losses\n",
    "\n",
    "\n",
    "ALGORITHM:\n",
    "\n",
    "    PROMPT 15: Game steps !\n",
    "    \n",
    "\n",
    "## Final Code \n",
    "\n",
    "Let's use IPywidgets to create the user interface. Some notes:\n",
    "\n",
    " - the list of items `[\"rock\",\"paper\",\"scissors\"]` makes a drop down.\n",
    " - use `interact_manual` to generate input widgets\n",
    " - use `display` to show output\n"
   ]
  },
  {
   "cell_type": "code",
   "execution_count": null,
   "metadata": {},
   "outputs": [],
   "source": [
    "# FINAL CODE\n",
    "from IPython.display import display\n",
    "from ipywidgets import interact_manual\n",
    "\n",
    "# write code"
   ]
  },
  {
   "cell_type": "code",
   "execution_count": null,
   "metadata": {},
   "outputs": [],
   "source": [
    "# run this code to turn in your work!\n",
    "from coursetools.submission import Submission\n",
    "Submission().submit_now()"
   ]
  },
  {
   "cell_type": "code",
   "execution_count": null,
   "metadata": {},
   "outputs": [],
   "source": [
    "from casstools.assignment import Assignment\n",
    "Assignment().submit()"
   ]
  }
 ],
 "metadata": {
  "anaconda-cloud": {},
  "kernelspec": {
   "display_name": "Python 3 (ipykernel)",
   "language": "python",
   "name": "python3"
  },
  "language_info": {
   "codemirror_mode": {
    "name": "ipython",
    "version": 3
   },
   "file_extension": ".py",
   "mimetype": "text/x-python",
   "name": "python",
   "nbconvert_exporter": "python",
   "pygments_lexer": "ipython3",
   "version": "3.12.8"
  },
  "toc": {
   "base_numbering": 1,
   "nav_menu": {},
   "number_sections": false,
   "sideBar": false,
   "skip_h1_title": false,
   "title_cell": "Table of Contents",
   "title_sidebar": "Contents",
   "toc_cell": false,
   "toc_position": {},
   "toc_section_display": false,
   "toc_window_display": false
  },
  "varInspector": {
   "cols": {
    "lenName": 16,
    "lenType": 16,
    "lenVar": 40
   },
   "kernels_config": {
    "python": {
     "delete_cmd_postfix": "",
     "delete_cmd_prefix": "del ",
     "library": "var_list.py",
     "varRefreshCmd": "print(var_dic_list())"
    },
    "r": {
     "delete_cmd_postfix": ") ",
     "delete_cmd_prefix": "rm(",
     "library": "var_list.r",
     "varRefreshCmd": "cat(var_dic_list()) "
    }
   },
   "types_to_exclude": [
    "module",
    "function",
    "builtin_function_or_method",
    "instance",
    "_Feature"
   ],
   "window_display": false
  }
 },
 "nbformat": 4,
 "nbformat_minor": 4
}
