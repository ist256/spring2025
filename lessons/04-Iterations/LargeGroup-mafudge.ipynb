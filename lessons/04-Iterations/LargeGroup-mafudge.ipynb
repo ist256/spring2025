{
 "cells": [
  {
   "cell_type": "markdown",
   "metadata": {},
   "source": [
    "# Code Samples From Large Group\n",
    "\n",
    "Place your notes and code samples from large group here."
   ]
  },
  {
   "cell_type": "code",
   "execution_count": 1,
   "metadata": {},
   "outputs": [
    {
     "name": "stdout",
     "output_type": "stream",
     "text": [
      "Sarah\n",
      "Sarah\n",
      "Sarah\n",
      "Sarah\n",
      "Sarah\n",
      "Sarah\n",
      "Sarah\n",
      "Sarah\n",
      "Sarah\n",
      "Sarah\n"
     ]
    }
   ],
   "source": [
    "times = 10\n",
    "name = \"Sarah\"\n",
    "while times !=0:\n",
    "    print(name)\n",
    "    times = times - 1\n",
    "    "
   ]
  },
  {
   "cell_type": "code",
   "execution_count": null,
   "metadata": {},
   "outputs": [],
   "source": [
    "# a better way\n",
    "times = 10\n",
    "name = \"Sarah\"\n",
    "i = 1\n",
    "while i <= times:\n",
    "    print(f\"{i} {name}\")\n",
    "    i = i + 1"
   ]
  },
  {
   "cell_type": "code",
   "execution_count": null,
   "metadata": {},
   "outputs": [],
   "source": [
    "# this loops forever, and I meant it. Press the square to stop.\n",
    "times = 10\n",
    "name = \"Sarah\"\n",
    "i = 1\n",
    "while True:\n",
    "    print(f\"{i} {name}\")\n",
    "    i = i + 1"
   ]
  },
  {
   "cell_type": "code",
   "execution_count": null,
   "metadata": {},
   "outputs": [],
   "source": [
    "# this loops forever didn't mean to, but it does!!!\n",
    "times = 10\n",
    "name = \"Sarah\"\n",
    "i = 1\n",
    "while i <times:\n",
    "    print(f\"{i} {name}\")\n",
    "    i = i - 1"
   ]
  },
  {
   "cell_type": "code",
   "execution_count": 5,
   "metadata": {},
   "outputs": [
    {
     "name": "stdout",
     "output_type": "stream",
     "text": [
      "1 Sarah\n",
      "2 Sarah\n",
      "3 Sarah\n",
      "4 Sarah\n",
      "5 Sarah\n",
      "6 Sarah\n",
      "7 Sarah\n",
      "8 Sarah\n",
      "9 Sarah\n",
      "10 Sarah\n",
      "The loop is over!\n"
     ]
    }
   ],
   "source": [
    "times = 10\n",
    "name = \"Sarah\"\n",
    "i = 1\n",
    "while True:\n",
    "    if i > times:\n",
    "        break\n",
    "    print(f\"{i} {name}\")\n",
    "    i = i + 1\n",
    "print(\"The loop is over!\")"
   ]
  },
  {
   "cell_type": "code",
   "execution_count": 6,
   "metadata": {},
   "outputs": [
    {
     "name": "stdout",
     "output_type": "stream",
     "text": [
      "rock\n",
      "paper\n",
      "scissors\n"
     ]
    }
   ],
   "source": [
    "choices = [ \"rock\", \"paper\", \"scissors\"]\n",
    "for c in choices:\n",
    "    print(c)"
   ]
  },
  {
   "cell_type": "code",
   "execution_count": 9,
   "metadata": {},
   "outputs": [
    {
     "name": "stdout",
     "output_type": "stream",
     "text": [
      "grade=100, total=100\n",
      "grade=100, total=200\n",
      "grade=50, total=250\n",
      "grade=0, total=250\n",
      "62.5\n"
     ]
    }
   ],
   "source": [
    "grades = [100, 100, 50, 0]\n",
    "# total\n",
    "total = 0\n",
    "for grade in grades:\n",
    "    total = total + grade\n",
    "    print(f\"grade={grade}, total={total}\")\n",
    "\n",
    "print(total/4)"
   ]
  },
  {
   "cell_type": "code",
   "execution_count": 11,
   "metadata": {},
   "outputs": [
    {
     "name": "stdout",
     "output_type": "stream",
     "text": [
      "1 mike\n",
      "2 mike\n",
      "3 mike\n",
      "4 mike\n",
      "5 mike\n",
      "6 mike\n",
      "7 mike\n",
      "8 mike\n",
      "9 mike\n",
      "10 mike\n"
     ]
    }
   ],
   "source": [
    "for i in range(10): #do this 10 times\n",
    "    print(i+1, \"mike\")"
   ]
  },
  {
   "cell_type": "code",
   "execution_count": 12,
   "metadata": {},
   "outputs": [
    {
     "name": "stdout",
     "output_type": "stream",
     "text": [
      "p\n",
      "i\n",
      "z\n",
      "z\n",
      "a\n"
     ]
    }
   ],
   "source": [
    "text = \"pizza\"\n",
    "for i in text:\n",
    "    print(i)"
   ]
  },
  {
   "cell_type": "code",
   "execution_count": 13,
   "metadata": {},
   "outputs": [
    {
     "data": {
      "text/plain": [
       "'\\nPassword Program:\\n5 attempts for the password\\nOn correct password, print: “Access Granted”, then end the program\\nOn incorrect password “Invalid Password Attempt #” and give the user another try\\nAfter 5 attempts, print “You are locked out”. Then end the program.\\n'"
      ]
     },
     "execution_count": 13,
     "metadata": {},
     "output_type": "execute_result"
    }
   ],
   "source": [
    "\n"
   ]
  },
  {
   "cell_type": "code",
   "execution_count": 17,
   "metadata": {},
   "outputs": [
    {
     "name": "stdin",
     "output_type": "stream",
     "text": [
      "I'm thinking of a number 1-10: ? 3\n"
     ]
    },
    {
     "name": "stdout",
     "output_type": "stream",
     "text": [
      "Guess Higher\n"
     ]
    },
    {
     "name": "stdin",
     "output_type": "stream",
     "text": [
      "I'm thinking of a number 1-10: ? 5\n"
     ]
    },
    {
     "name": "stdout",
     "output_type": "stream",
     "text": [
      "Guess Higher\n"
     ]
    },
    {
     "name": "stdin",
     "output_type": "stream",
     "text": [
      "I'm thinking of a number 1-10: ? 8\n"
     ]
    },
    {
     "name": "stdout",
     "output_type": "stream",
     "text": [
      "Guess Lower\n"
     ]
    },
    {
     "name": "stdin",
     "output_type": "stream",
     "text": [
      "I'm thinking of a number 1-10: ? 6\n"
     ]
    },
    {
     "name": "stdout",
     "output_type": "stream",
     "text": [
      "Guess Higher\n"
     ]
    },
    {
     "name": "stdin",
     "output_type": "stream",
     "text": [
      "I'm thinking of a number 1-10: ? 7\n"
     ]
    },
    {
     "name": "stdout",
     "output_type": "stream",
     "text": [
      "You guessed it!\n"
     ]
    }
   ],
   "source": [
    "# sentinel loop check sentinel after input, always\n",
    "my_number = 7\n",
    "while True:\n",
    "    guess = int(input(\"I'm thinking of a number 1-10: ?\"))\n",
    "    if guess == my_number:\n",
    "        print(\"You guessed it!\")\n",
    "        break\n",
    "    if guess < my_number:\n",
    "        print(\"Guess Higher\")\n",
    "    else:\n",
    "        print(\"Guess Lower\")\n"
   ]
  },
  {
   "cell_type": "code",
   "execution_count": null,
   "metadata": {},
   "outputs": [],
   "source": [
    "'''\n",
    "Password Program:\n",
    "5 attempts for the password\n",
    "On correct password, print: “Access Granted”, then end the program\n",
    "On incorrect password “Invalid Password Attempt #” and give the user another try\n",
    "After 5 attempts, print “You are locked out”. Then end the program.\n",
    "'''"
   ]
  },
  {
   "cell_type": "code",
   "execution_count": 24,
   "metadata": {},
   "outputs": [
    {
     "name": "stdin",
     "output_type": "stream",
     "text": [
      "Enter Password: rhubarb\n"
     ]
    },
    {
     "name": "stdout",
     "output_type": "stream",
     "text": [
      "Access Granted\n",
      "Do whatever this person needs permission to do\n"
     ]
    }
   ],
   "source": [
    "attempts=0\n",
    "password=\"rhubarb\"\n",
    "access_granted = False\n",
    "while True:\n",
    "    your_entry = input(\"Enter Password:\")\n",
    "    attempts = attempts + 1\n",
    "    if your_entry == password:\n",
    "        access_granted = True\n",
    "        print(\"Access Granted\")\n",
    "        break\n",
    "    if attempts == 5:\n",
    "        print(\"You are locked out\")\n",
    "        break\n",
    "    print(f\"Invalid Password attempt # {attempts}\")\n",
    "\n",
    "if access_granted:\n",
    "    print(\"Do whatever this person needs permission to do\")"
   ]
  },
  {
   "cell_type": "code",
   "execution_count": null,
   "metadata": {},
   "outputs": [],
   "source": []
  }
 ],
 "metadata": {
  "kernelspec": {
   "display_name": "Python 3 (ipykernel)",
   "language": "python",
   "name": "python3"
  },
  "language_info": {
   "codemirror_mode": {
    "name": "ipython",
    "version": 3
   },
   "file_extension": ".py",
   "mimetype": "text/x-python",
   "name": "python",
   "nbconvert_exporter": "python",
   "pygments_lexer": "ipython3",
   "version": "3.12.8"
  },
  "varInspector": {
   "cols": {
    "lenName": 16,
    "lenType": 16,
    "lenVar": 40
   },
   "kernels_config": {
    "python": {
     "delete_cmd_postfix": "",
     "delete_cmd_prefix": "del ",
     "library": "var_list.py",
     "varRefreshCmd": "print(var_dic_list())"
    },
    "r": {
     "delete_cmd_postfix": ") ",
     "delete_cmd_prefix": "rm(",
     "library": "var_list.r",
     "varRefreshCmd": "cat(var_dic_list()) "
    }
   },
   "types_to_exclude": [
    "module",
    "function",
    "builtin_function_or_method",
    "instance",
    "_Feature"
   ],
   "window_display": false
  }
 },
 "nbformat": 4,
 "nbformat_minor": 4
}
