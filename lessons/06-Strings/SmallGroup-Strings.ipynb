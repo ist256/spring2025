{
 "cells": [
  {
   "cell_type": "markdown",
   "metadata": {},
   "source": [
    "## Step 1a: Problem Analysis for `onlist()`\n",
    "\n",
    "Examples:\n",
    "\n",
    "    \"mike\" is in dictionary \"mike is a big fat bozo\" == true\n",
    "    \"fat\" is in dictionary \"mike is a big fat bozo\" == true\n",
    "    \"apple\" is not in dictionary \"mike is a big fat bozo\" == false\n",
    "\n",
    "Inputs: \n",
    "\n",
    "    PROMPT 1:\n",
    "\n",
    "Outputs: \n",
    "\n",
    "    PROMPT 2:\n",
    "    \n",
    "\n",
    "Algorithm (Steps in Program):\n",
    "\n",
    "    PROMPT 3:\n",
    "    \n",
    "\n",
    "How many tests are required and why?\n",
    "\n",
    "    PROMPT 4\n",
    "\n",
    "\n",
    "## Step 1b: Code the function"
   ]
  },
  {
   "cell_type": "code",
   "execution_count": null,
   "metadata": {},
   "outputs": [],
   "source": [
    "## PROMPT 5: write function def\n"
   ]
  },
  {
   "cell_type": "code",
   "execution_count": null,
   "metadata": {
    "tags": []
   },
   "outputs": [],
   "source": [
    "# sample call == true\n",
    "onlist(\"people\", \"up with people\")"
   ]
  },
  {
   "cell_type": "code",
   "execution_count": null,
   "metadata": {
    "tags": []
   },
   "outputs": [],
   "source": [
    "# sample call == false\n",
    "onlist(\"peeple\", \"up with people\")"
   ]
  },
  {
   "cell_type": "markdown",
   "metadata": {},
   "source": [
    "## Step 2: Write tests\n",
    "\n",
    "Let's make sure the function works"
   ]
  },
  {
   "cell_type": "code",
   "execution_count": null,
   "metadata": {},
   "outputs": [],
   "source": [
    "## PROMT 6: tests\n",
    "def test_onlist(word, dictionary, expected):\n",
    "    actual = onlist(word, dictionary)\n",
    "    print(f\"For WORD={word}, DICT={dictionary} EXPECT={expected}, ACTUAL={actual}\")\n",
    "    assert expected == actual\n",
    "\n",
    "# call test function with test data\n"
   ]
  },
  {
   "cell_type": "markdown",
   "metadata": {},
   "source": [
    "## Step 3a: Problem Analysis v1 program\n",
    "\n",
    "Spell checker 1.0 for given text and dictionary output the misspelled words.\n",
    "\n",
    "Inputs: \n",
    "\n",
    "    PROMPT 7\n",
    "    Text to spell:\n",
    "    pizza is the numberr one chioyce of students\n",
    "\n",
    "Outputs: \n",
    "\n",
    "    PROMPT 8\n",
    "    Misspellings\n",
    "    numberr\n",
    "    choiyce\n",
    "\n",
    "Algorithm (Steps in Program):\n",
    "    PROMPT 9: Use the onlist() function!!!\n",
    "    \n",
    "     \n",
    "## Step 3b: Code for v1 program  "
   ]
  },
  {
   "cell_type": "code",
   "execution_count": null,
   "metadata": {},
   "outputs": [],
   "source": [
    "from IPython.display import display, HTML\n",
    "from ipywidgets import interact_manual, widgets\n",
    "dictionary = \"this test a and an are apple bar car cat dog eat eats ate bird fish for is goes went was has the wheel food water walk swim talk talks walks swims flies tly in on at sky \"\n",
    "\n",
    "display(HTML(\"<H1>Spellchecker</h1>\"))\n",
    "@interact_manual(text=widgets.Textarea())\n",
    "def onclick(text):\n",
    "    # PROMPT 10 Write code here\n",
    "    "
   ]
  },
  {
   "cell_type": "markdown",
   "metadata": {},
   "source": [
    "## Step 4a: Address concerns with cleanup function\n",
    "\n",
    "Let's write a `cleanup()` function to cleaned up the text:\n",
    "\n",
    "- case sensitivity `The` should equal `the`\n",
    "- stripping punctuation `orange.` should equal `orange` (see hint below)\n",
    "\n",
    "Examples:\n",
    "    \"The ORANGE!!!\" ==> \"the orange\"\n",
    "    \n",
    "    IN ==>\"What? ,The. Heck?\" \n",
    "    OUT ==> \"what the heck\"\n",
    "\n",
    "Inputs: \n",
    "\n",
    "    PROMPT 11\n",
    "\n",
    "Outputs: \n",
    "\n",
    "    PROMPT 12\n",
    "\n",
    "Algorithm (Steps in Program):\n",
    "\n",
    "    PROMPT 13\n",
    "\n",
    "How many tests are required and why?\n",
    "\n",
    "    PROMPT 14\n"
   ]
  },
  {
   "cell_type": "code",
   "execution_count": null,
   "metadata": {},
   "outputs": [],
   "source": [
    "# HINT Punctuation\n",
    "from string import punctuation \n",
    "punctuation\n",
    "\n",
    "text = \"Huh?!\"\n",
    "text.replace(\"?\", \"\").replace(\"!\", \"\")"
   ]
  },
  {
   "cell_type": "markdown",
   "metadata": {},
   "source": [
    "## Step 4b: Write cleanup function"
   ]
  },
  {
   "cell_type": "code",
   "execution_count": null,
   "metadata": {},
   "outputs": [],
   "source": [
    "# PROMPT 15\n",
    "def cleanup(text: str) -> str:\n",
    "    '''\n",
    "    Cleans up text by removing any puncutation and converting the text to lowercase\n",
    "    '''\n",
    "    # This is a localized import.\n",
    "    # commonly done when a function needs OPC to work, and will be re-used.\n",
    "    from string import punctuation\n",
    "\n",
    "    for ch in text:\n",
    "        if ch in punctuation:\n",
    "            text = text.replace(ch, \"\")\n",
    "\n",
    "    return text.lower()\n"
   ]
  },
  {
   "cell_type": "markdown",
   "metadata": {},
   "source": [
    "## Step 5: Write tests\n",
    "\n",
    "Let's make sure the function works"
   ]
  },
  {
   "cell_type": "code",
   "execution_count": null,
   "metadata": {},
   "outputs": [],
   "source": [
    "# PROMPT 16\n",
    "def test_cleanup(text, expected):\n",
    "    actual = cleanup(text)\n",
    "    print(f\"For TEXT={text}, EXPECT={expected}, ACTUAL={actual}\")\n",
    "    assert expected == actual\n",
    "\n",
    "# call test function with test data\n",
    "test_cleanup(\"WHAT?!?!?! ArE yOu {DOING}.\", \"what are you doing\")"
   ]
  },
  {
   "cell_type": "markdown",
   "metadata": {},
   "source": [
    "## Step 6: Rewrite final program with cleanup v2\n",
    "\n",
    "Spellchecker 2.0 deals with punctuation, whitespace and case-sensitivity\n"
   ]
  },
  {
   "cell_type": "code",
   "execution_count": null,
   "metadata": {},
   "outputs": [],
   "source": [
    "#PROMPT 17 (copy code cell from PROMPT 10 and edit to be)\n"
   ]
  },
  {
   "cell_type": "code",
   "execution_count": null,
   "metadata": {},
   "outputs": [],
   "source": []
  },
  {
   "cell_type": "code",
   "execution_count": null,
   "metadata": {},
   "outputs": [],
   "source": [
    "from casstools.assignment import Assignment\n",
    "Assignment().submit()"
   ]
  },
  {
   "cell_type": "code",
   "execution_count": null,
   "metadata": {},
   "outputs": [],
   "source": []
  }
 ],
 "metadata": {
  "anaconda-cloud": {},
  "kernelspec": {
   "display_name": "Python 3 (ipykernel)",
   "language": "python",
   "name": "python3"
  },
  "language_info": {
   "codemirror_mode": {
    "name": "ipython",
    "version": 3
   },
   "file_extension": ".py",
   "mimetype": "text/x-python",
   "name": "python",
   "nbconvert_exporter": "python",
   "pygments_lexer": "ipython3",
   "version": "3.12.8"
  },
  "toc": {
   "base_numbering": 1,
   "nav_menu": {},
   "number_sections": false,
   "sideBar": false,
   "skip_h1_title": false,
   "title_cell": "Table of Contents",
   "title_sidebar": "Contents",
   "toc_cell": false,
   "toc_position": {},
   "toc_section_display": false,
   "toc_window_display": false
  },
  "varInspector": {
   "cols": {
    "lenName": 16,
    "lenType": 16,
    "lenVar": 40
   },
   "kernels_config": {
    "python": {
     "delete_cmd_postfix": "",
     "delete_cmd_prefix": "del ",
     "library": "var_list.py",
     "varRefreshCmd": "print(var_dic_list())"
    },
    "r": {
     "delete_cmd_postfix": ") ",
     "delete_cmd_prefix": "rm(",
     "library": "var_list.r",
     "varRefreshCmd": "cat(var_dic_list()) "
    }
   },
   "types_to_exclude": [
    "module",
    "function",
    "builtin_function_or_method",
    "instance",
    "_Feature"
   ],
   "window_display": false
  }
 },
 "nbformat": 4,
 "nbformat_minor": 4
}
