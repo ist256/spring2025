{
 "cells": [
  {
   "cell_type": "markdown",
   "metadata": {},
   "source": [
    "# Code Samples From Large Group\n",
    "\n",
    "Place your notes and code samples from large group here."
   ]
  },
  {
   "cell_type": "code",
   "execution_count": null,
   "metadata": {},
   "outputs": [],
   "source": [
    "import pandas as pd\n",
    "import numpy as np"
   ]
  },
  {
   "cell_type": "code",
   "execution_count": null,
   "metadata": {},
   "outputs": [],
   "source": [
    "# get the files we need to complete this large group\n",
    "!curl https://raw.githubusercontent.com/mafudge/datasets/master/json-samples/orders.json -o orders.json\n",
    "!curl https://raw.githubusercontent.com/mafudge/datasets/master/delimited/jan-orders.csv -o jan-orders.csv\n",
    "!curl https://raw.githubusercontent.com/mafudge/datasets/master/delimited/feb-orders.csv -o feb-orders.csv\n",
    "!curl https://raw.githubusercontent.com/mafudge/datasets/master/delimited/mar-orders.csv -o mar-orders.csv\n",
    "!curl https://raw.githubusercontent.com/mafudge/datasets/master/delimited/apr-orders.csv -o apr-orders.csv\n",
    "!curl https://raw.githubusercontent.com/mafudge/datasets/master/delimited/bbplayers.csv -o bbplayers.csv\n",
    "!curl https://raw.githubusercontent.com/mafudge/datasets/master/delimited/bbteams.csv -o bbteams.csv"
   ]
  },
  {
   "cell_type": "code",
   "execution_count": null,
   "metadata": {},
   "outputs": [],
   "source": []
  },
  {
   "cell_type": "code",
   "execution_count": null,
   "metadata": {},
   "outputs": [],
   "source": []
  }
 ],
 "metadata": {
  "kernelspec": {
   "display_name": "Python 3 (ipykernel)",
   "language": "python",
   "name": "python3"
  },
  "language_info": {
   "codemirror_mode": {
    "name": "ipython",
    "version": 3
   },
   "file_extension": ".py",
   "mimetype": "text/x-python",
   "name": "python",
   "nbconvert_exporter": "python",
   "pygments_lexer": "ipython3",
   "version": "3.12.8"
  },
  "varInspector": {
   "cols": {
    "lenName": 16,
    "lenType": 16,
    "lenVar": 40
   },
   "kernels_config": {
    "python": {
     "delete_cmd_postfix": "",
     "delete_cmd_prefix": "del ",
     "library": "var_list.py",
     "varRefreshCmd": "print(var_dic_list())"
    },
    "r": {
     "delete_cmd_postfix": ") ",
     "delete_cmd_prefix": "rm(",
     "library": "var_list.r",
     "varRefreshCmd": "cat(var_dic_list()) "
    }
   },
   "types_to_exclude": [
    "module",
    "function",
    "builtin_function_or_method",
    "instance",
    "_Feature"
   ],
   "window_display": false
  }
 },
 "nbformat": 4,
 "nbformat_minor": 4
}
