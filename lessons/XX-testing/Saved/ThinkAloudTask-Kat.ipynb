{
 "cells": [
  {
   "cell_type": "markdown",
   "id": "48cd4dff-cecc-42ca-a84d-936ee37466f6",
   "metadata": {},
   "source": [
    "## The Task\n",
    "\n",
    "Your company has recieved a notice from Discover (a credit card company) \n",
    "that one of your customer's credit cards was used illegally.\n",
    "Discover is  asking for a list of customer emails for all pending\n",
    "orders so they can notify them of the activity.\n",
    "\n",
    "Orders are here: `https://raw.githubusercontent.com/mafudge/datasets/refs/heads/master/orders/task.csv`"
   ]
  },
  {
   "cell_type": "code",
   "execution_count": null,
   "id": "88d7fec2-3513-49fb-858d-13079d089b82",
   "metadata": {},
   "outputs": [],
   "source": [
    "import pandas as pd\n",
    "\n",
    "# Replace the URL below with the raw URL of your dataset\n",
    "url = 'https://raw.githubusercontent.com/mafudge/datasets/refs/heads/master/orders/task.csv'\n",
    "\n",
    "# Load the dataset into a DataFrame\n",
    "data = pd.read_csv(url)\n",
    "\n",
    "# Display the first few rows of the DataFrame\n",
    "print(data.head())"
   ]
  },
  {
   "cell_type": "code",
   "execution_count": null,
   "id": "601cff9c-2654-4bb4-a26a-eb9f11cfdbd1",
   "metadata": {},
   "outputs": [],
   "source": [
    "import pandas as pd\n",
    "\n",
    "# Replace the URL below with the raw URL of your dataset\n",
    "url = 'https://raw.githubusercontent.com/mafudge/datasets/refs/heads/master/orders/task.csv'\n",
    "\n",
    "# Load the dataset into a DataFrame\n",
    "data = pd.read_csv(url)\n",
    "\n",
    "# Assuming the DataFrame has columns 'status' and 'customer_email'\n",
    "pending_emails = data[data['orderstatus'] == 'pending']['custemail'].tolist()\n",
    "#dataset, call dataset column for order status, dictate what it needs to match, usd to list to find emails\n",
    "\n",
    "# Display the result\n",
    "print(f\"Pending customer emails: {pending_emails}\")"
   ]
  },
  {
   "cell_type": "code",
   "execution_count": null,
   "id": "850866e7-60e8-4a59-b456-ef1d0706cd16",
   "metadata": {},
   "outputs": [],
   "source": [
    "time 15 minutes\n",
    "correct  no (missed Discover)\n",
    "throug it was correct 4"
   ]
  }
 ],
 "metadata": {
  "kernelspec": {
   "display_name": "Python 3 (ipykernel)",
   "language": "python",
   "name": "python3"
  },
  "language_info": {
   "codemirror_mode": {
    "name": "ipython",
    "version": 3
   },
   "file_extension": ".py",
   "mimetype": "text/x-python",
   "name": "python",
   "nbconvert_exporter": "python",
   "pygments_lexer": "ipython3",
   "version": "3.12.8"
  }
 },
 "nbformat": 4,
 "nbformat_minor": 5
}
