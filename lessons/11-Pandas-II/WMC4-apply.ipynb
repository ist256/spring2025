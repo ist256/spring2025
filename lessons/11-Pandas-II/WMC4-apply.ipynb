{
 "cells": [
  {
   "cell_type": "code",
   "execution_count": 1,
   "id": "67ec8097-f60f-4d34-82b6-709727b498bf",
   "metadata": {
    "tags": []
   },
   "outputs": [],
   "source": [
    "import pandas as pd"
   ]
  },
  {
   "cell_type": "markdown",
   "id": "ee9f6055-81e4-4f11-b39c-81ae317ce2e7",
   "metadata": {},
   "source": [
    "### Watch Me Code 4\n",
    "\n",
    "Read in credit cards: https://raw.githubusercontent.com/mafudge/datasets/master/credit-cards/credit_cards.txt\n",
    "\n",
    "create a custom function() issuer, similar to the lesson 05 lab.\n",
    "\n",
    "apply() theissuer() function to each row to generate a new column \"issuer\""
   ]
  },
  {
   "cell_type": "code",
   "execution_count": 2,
   "id": "00135c31-2a46-49f8-a40f-4ac497cd8050",
   "metadata": {
    "tags": []
   },
   "outputs": [],
   "source": [
    "def issuer(card: str) -> str:\n",
    "    card = str(card)\n",
    "    first_digit = card[0]\n",
    "    if first_digit == \"6\":\n",
    "        return \"DISC\"\n",
    "    if first_digit == \"5\":\n",
    "        return \"MC\"\n",
    "    if first_digit == \"4\":\n",
    "        return \"VISA\"\n",
    "    if first_digit == \"3\":\n",
    "        return \"AMEX\"\n",
    "\n",
    "    return \"Unknown\"\n",
    "\n",
    "\n",
    "assert issuer(\"5295474999519325\") == \"MC\"\n",
    "assert issuer(\"4584857473589512\") == \"VISA\"\n",
    "assert issuer(\"6011687948781644\") == \"DISC\"\n",
    "assert issuer(364733448466728) == \"AMEX\"\n"
   ]
  },
  {
   "cell_type": "code",
   "execution_count": 4,
   "id": "1b88b26a-7f40-4248-b61b-9461e58c65ac",
   "metadata": {
    "tags": []
   },
   "outputs": [
    {
     "data": {
      "text/html": [
       "<div>\n",
       "<style scoped>\n",
       "    .dataframe tbody tr th:only-of-type {\n",
       "        vertical-align: middle;\n",
       "    }\n",
       "\n",
       "    .dataframe tbody tr th {\n",
       "        vertical-align: top;\n",
       "    }\n",
       "\n",
       "    .dataframe thead th {\n",
       "        text-align: right;\n",
       "    }\n",
       "</style>\n",
       "<table border=\"1\" class=\"dataframe\">\n",
       "  <thead>\n",
       "    <tr style=\"text-align: right;\">\n",
       "      <th></th>\n",
       "      <th>card</th>\n",
       "      <th>exp</th>\n",
       "    </tr>\n",
       "  </thead>\n",
       "  <tbody>\n",
       "    <tr>\n",
       "      <th>0</th>\n",
       "      <td>6011325926714465</td>\n",
       "      <td>02/2023</td>\n",
       "    </tr>\n",
       "    <tr>\n",
       "      <th>1</th>\n",
       "      <td>6011687948781644</td>\n",
       "      <td>02/2023</td>\n",
       "    </tr>\n",
       "    <tr>\n",
       "      <th>2</th>\n",
       "      <td>4567958456643465</td>\n",
       "      <td>07/2022</td>\n",
       "    </tr>\n",
       "    <tr>\n",
       "      <th>3</th>\n",
       "      <td>4235823774487478</td>\n",
       "      <td>03/2023</td>\n",
       "    </tr>\n",
       "    <tr>\n",
       "      <th>4</th>\n",
       "      <td>4982444199283999</td>\n",
       "      <td>12/2022</td>\n",
       "    </tr>\n",
       "  </tbody>\n",
       "</table>\n",
       "</div>"
      ],
      "text/plain": [
       "               card      exp\n",
       "0  6011325926714465  02/2023\n",
       "1  6011687948781644  02/2023\n",
       "2  4567958456643465  07/2022\n",
       "3  4235823774487478  03/2023\n",
       "4  4982444199283999  12/2022"
      ]
     },
     "execution_count": 4,
     "metadata": {},
     "output_type": "execute_result"
    }
   ],
   "source": [
    "df = pd.read_csv(\"https://raw.githubusercontent.com/mafudge/datasets/master/credit-cards/credit_cards.txt\", sep=\" \", header=None)\n",
    "df.columns = [\"card\", \"exp\"]\n",
    "df.head()"
   ]
  },
  {
   "cell_type": "code",
   "execution_count": 5,
   "id": "d0b32c44-7cf9-48a2-ab1d-cc7cfabcdf81",
   "metadata": {
    "tags": []
   },
   "outputs": [
    {
     "data": {
      "text/html": [
       "<div>\n",
       "<style scoped>\n",
       "    .dataframe tbody tr th:only-of-type {\n",
       "        vertical-align: middle;\n",
       "    }\n",
       "\n",
       "    .dataframe tbody tr th {\n",
       "        vertical-align: top;\n",
       "    }\n",
       "\n",
       "    .dataframe thead th {\n",
       "        text-align: right;\n",
       "    }\n",
       "</style>\n",
       "<table border=\"1\" class=\"dataframe\">\n",
       "  <thead>\n",
       "    <tr style=\"text-align: right;\">\n",
       "      <th></th>\n",
       "      <th>card</th>\n",
       "      <th>exp</th>\n",
       "      <th>issuer</th>\n",
       "    </tr>\n",
       "  </thead>\n",
       "  <tbody>\n",
       "    <tr>\n",
       "      <th>0</th>\n",
       "      <td>6011325926714465</td>\n",
       "      <td>02/2023</td>\n",
       "      <td>DISC</td>\n",
       "    </tr>\n",
       "    <tr>\n",
       "      <th>1</th>\n",
       "      <td>6011687948781644</td>\n",
       "      <td>02/2023</td>\n",
       "      <td>DISC</td>\n",
       "    </tr>\n",
       "    <tr>\n",
       "      <th>2</th>\n",
       "      <td>4567958456643465</td>\n",
       "      <td>07/2022</td>\n",
       "      <td>VISA</td>\n",
       "    </tr>\n",
       "    <tr>\n",
       "      <th>3</th>\n",
       "      <td>4235823774487478</td>\n",
       "      <td>03/2023</td>\n",
       "      <td>VISA</td>\n",
       "    </tr>\n",
       "    <tr>\n",
       "      <th>4</th>\n",
       "      <td>4982444199283999</td>\n",
       "      <td>12/2022</td>\n",
       "      <td>VISA</td>\n",
       "    </tr>\n",
       "  </tbody>\n",
       "</table>\n",
       "</div>"
      ],
      "text/plain": [
       "               card      exp issuer\n",
       "0  6011325926714465  02/2023   DISC\n",
       "1  6011687948781644  02/2023   DISC\n",
       "2  4567958456643465  07/2022   VISA\n",
       "3  4235823774487478  03/2023   VISA\n",
       "4  4982444199283999  12/2022   VISA"
      ]
     },
     "execution_count": 5,
     "metadata": {},
     "output_type": "execute_result"
    }
   ],
   "source": [
    "df['issuer'] = df.apply(lambda row: issuer(row[\"card\"]), axis=1)\n",
    "df.head()"
   ]
  },
  {
   "cell_type": "code",
   "execution_count": 7,
   "id": "f50ffa4d-5c8c-43e8-802b-a504a24a9306",
   "metadata": {},
   "outputs": [
    {
     "data": {
      "text/plain": [
       "2026"
      ]
     },
     "execution_count": 7,
     "metadata": {},
     "output_type": "execute_result"
    }
   ],
   "source": [
    "# function extract year from mm/yyyy string\n",
    "def get_year( datestring: str) -> int:\n",
    "    m, y  = datestring.split(\"/\")\n",
    "    return int(y)\n",
    "\n",
    "get_year(\"12/2026\")"
   ]
  },
  {
   "cell_type": "code",
   "execution_count": 8,
   "id": "9e6a8e62-99c9-40f0-806c-0208112d41ee",
   "metadata": {},
   "outputs": [
    {
     "data": {
      "text/html": [
       "<div>\n",
       "<style scoped>\n",
       "    .dataframe tbody tr th:only-of-type {\n",
       "        vertical-align: middle;\n",
       "    }\n",
       "\n",
       "    .dataframe tbody tr th {\n",
       "        vertical-align: top;\n",
       "    }\n",
       "\n",
       "    .dataframe thead th {\n",
       "        text-align: right;\n",
       "    }\n",
       "</style>\n",
       "<table border=\"1\" class=\"dataframe\">\n",
       "  <thead>\n",
       "    <tr style=\"text-align: right;\">\n",
       "      <th></th>\n",
       "      <th>card</th>\n",
       "      <th>exp</th>\n",
       "      <th>issuer</th>\n",
       "      <th>year</th>\n",
       "    </tr>\n",
       "  </thead>\n",
       "  <tbody>\n",
       "    <tr>\n",
       "      <th>0</th>\n",
       "      <td>6011325926714465</td>\n",
       "      <td>02/2023</td>\n",
       "      <td>DISC</td>\n",
       "      <td>2023</td>\n",
       "    </tr>\n",
       "    <tr>\n",
       "      <th>1</th>\n",
       "      <td>6011687948781644</td>\n",
       "      <td>02/2023</td>\n",
       "      <td>DISC</td>\n",
       "      <td>2023</td>\n",
       "    </tr>\n",
       "    <tr>\n",
       "      <th>2</th>\n",
       "      <td>4567958456643465</td>\n",
       "      <td>07/2022</td>\n",
       "      <td>VISA</td>\n",
       "      <td>2022</td>\n",
       "    </tr>\n",
       "    <tr>\n",
       "      <th>3</th>\n",
       "      <td>4235823774487478</td>\n",
       "      <td>03/2023</td>\n",
       "      <td>VISA</td>\n",
       "      <td>2023</td>\n",
       "    </tr>\n",
       "    <tr>\n",
       "      <th>4</th>\n",
       "      <td>4982444199283999</td>\n",
       "      <td>12/2022</td>\n",
       "      <td>VISA</td>\n",
       "      <td>2022</td>\n",
       "    </tr>\n",
       "    <tr>\n",
       "      <th>...</th>\n",
       "      <td>...</td>\n",
       "      <td>...</td>\n",
       "      <td>...</td>\n",
       "      <td>...</td>\n",
       "    </tr>\n",
       "    <tr>\n",
       "      <th>9995</th>\n",
       "      <td>352888222731772</td>\n",
       "      <td>08/2034</td>\n",
       "      <td>AMEX</td>\n",
       "      <td>2034</td>\n",
       "    </tr>\n",
       "    <tr>\n",
       "      <th>9996</th>\n",
       "      <td>5199814725741213</td>\n",
       "      <td>08/2034</td>\n",
       "      <td>MC</td>\n",
       "      <td>2034</td>\n",
       "    </tr>\n",
       "    <tr>\n",
       "      <th>9997</th>\n",
       "      <td>5219844932546556</td>\n",
       "      <td>07/2034</td>\n",
       "      <td>MC</td>\n",
       "      <td>2034</td>\n",
       "    </tr>\n",
       "    <tr>\n",
       "      <th>9998</th>\n",
       "      <td>5148415714228279</td>\n",
       "      <td>11/2033</td>\n",
       "      <td>MC</td>\n",
       "      <td>2033</td>\n",
       "    </tr>\n",
       "    <tr>\n",
       "      <th>9999</th>\n",
       "      <td>4325469121865692</td>\n",
       "      <td>03/2034</td>\n",
       "      <td>VISA</td>\n",
       "      <td>2034</td>\n",
       "    </tr>\n",
       "  </tbody>\n",
       "</table>\n",
       "<p>10000 rows × 4 columns</p>\n",
       "</div>"
      ],
      "text/plain": [
       "                  card      exp issuer  year\n",
       "0     6011325926714465  02/2023   DISC  2023\n",
       "1     6011687948781644  02/2023   DISC  2023\n",
       "2     4567958456643465  07/2022   VISA  2022\n",
       "3     4235823774487478  03/2023   VISA  2023\n",
       "4     4982444199283999  12/2022   VISA  2022\n",
       "...                ...      ...    ...   ...\n",
       "9995   352888222731772  08/2034   AMEX  2034\n",
       "9996  5199814725741213  08/2034     MC  2034\n",
       "9997  5219844932546556  07/2034     MC  2034\n",
       "9998  5148415714228279  11/2033     MC  2033\n",
       "9999  4325469121865692  03/2034   VISA  2034\n",
       "\n",
       "[10000 rows x 4 columns]"
      ]
     },
     "execution_count": 8,
     "metadata": {},
     "output_type": "execute_result"
    }
   ],
   "source": [
    "# apply that function makeing new df column\n",
    "df[\"year\"]  = df.apply(lambda row: get_year(row['exp']) , axis=1)\n",
    "df"
   ]
  },
  {
   "cell_type": "code",
   "execution_count": 9,
   "id": "96e73f51-52bc-4b7d-acd3-c2f5a11e3862",
   "metadata": {},
   "outputs": [],
   "source": [
    "df.to_csv(\"final_credit_cards.csv\")"
   ]
  },
  {
   "cell_type": "code",
   "execution_count": 7,
   "id": "fa8e4109-27ae-4708-94b4-473ebcbcb778",
   "metadata": {
    "tags": []
   },
   "outputs": [
    {
     "data": {
      "text/plain": [
       "issuer\n",
       "MC      3863\n",
       "VISA    3645\n",
       "AMEX    1496\n",
       "DISC     996\n",
       "Name: count, dtype: int64"
      ]
     },
     "execution_count": 7,
     "metadata": {},
     "output_type": "execute_result"
    }
   ],
   "source": [
    "df.issuer.value_counts()"
   ]
  },
  {
   "cell_type": "code",
   "execution_count": 18,
   "id": "a63779cf-6fe5-476d-9f92-41a6de2af49f",
   "metadata": {
    "tags": []
   },
   "outputs": [
    {
     "data": {
      "text/plain": [
       "issuer\n",
       "MC      0.3863\n",
       "VISA    0.3645\n",
       "AMEX    0.1496\n",
       "DISC    0.0996\n",
       "Name: proportion, dtype: float64"
      ]
     },
     "execution_count": 18,
     "metadata": {},
     "output_type": "execute_result"
    }
   ],
   "source": [
    "df.issuer.value_counts(normalize=True)"
   ]
  },
  {
   "cell_type": "code",
   "execution_count": null,
   "id": "4458eba6-16c1-419a-b004-aa1357bb30fa",
   "metadata": {},
   "outputs": [],
   "source": []
  }
 ],
 "metadata": {
  "kernelspec": {
   "display_name": "Python 3 (ipykernel)",
   "language": "python",
   "name": "python3"
  },
  "language_info": {
   "codemirror_mode": {
    "name": "ipython",
    "version": 3
   },
   "file_extension": ".py",
   "mimetype": "text/x-python",
   "name": "python",
   "nbconvert_exporter": "python",
   "pygments_lexer": "ipython3",
   "version": "3.12.8"
  }
 },
 "nbformat": 4,
 "nbformat_minor": 5
}
