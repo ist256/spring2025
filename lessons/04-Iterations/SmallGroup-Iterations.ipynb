{
 "cells": [
  {
   "cell_type": "markdown",
   "metadata": {},
   "source": [
    "# Now You Code In Class: Gathering Data and Reporting Statistics\n",
    "\n",
    "For this in-class exercise we demonstrate a common programming pattern for reporting statistics on data in real time as it is input. This is used for data collection and real time analyics of time-series data. \n",
    "\n",
    "In this example we will input temperatures ourselves, but same code could be used to read from an actual temperature sensor or any other type of sensor or data stream for that matter.\n",
    "\n",
    "Write a program to input a series of temperatures in Celcius, until `quit` is entered (sentinel controlled indefinite loop). For each temperature input, we should output:\n",
    "\n",
    " - the count of temperatures recorded\n",
    " - the mean (average) temperature recorded\n",
    " - the max temperature recorded\n",
    " - the min temperature recorded\n",
    " - the count and percentage of temperatures above freezing\n",
    " - the count and percentage of temperatures at or below freezing\n",
    "\n",
    "\n",
    "Example Run:\n",
    "\n",
    "    Enter temp: 100\n",
    "        Count      : 1\n",
    "        Min        : 100\n",
    "        Mean       : 100\n",
    "        Max        : 100\n",
    "        Above 0    : 1 (100%)\n",
    "        At/Below 0 : 0 (0%)        \n",
    "\n",
    "    Enter temp: 0\n",
    "        Count      : 2\n",
    "        Min        : 0\n",
    "        Mean       : 50\n",
    "        Max        : 100\n",
    "        Above 0    : 1 (50%)\n",
    "        At/Below 0 : 1 (50%)        \n",
    "\n",
    "    Enter temp: -100\n",
    "        Count      : 3\n",
    "        Min        : -100\n",
    "        Mean       : 0\n",
    "        Max        : 100\n",
    "        Above 0    : 1 (33%)\n",
    "        At/Below 0 : 2 (67%)        \n",
    "    \n",
    "    Enter temp: quit\n",
    "\n",
    "## Simplifying this problem\n",
    "\n",
    "This can seem like a lot to figure out all at once. Once again we will use **problem simplification** to make this problem easier to code, taking several iterations and adding more features with each iteration. Typically we use problem simplification to constrain the inputs, but since this problem has only one input, instead we will constrain the outputs. \n",
    "\n"
   ]
  },
  {
   "cell_type": "markdown",
   "metadata": {},
   "source": [
    "## First Iteration: Problem Analysis\n",
    "\n",
    "The first version of this program will will ONLY output the count (number of temperature readings) for each temperature input.\n",
    "\n",
    "Example Run:\n",
    "\n",
    "    Enter temp: 100\n",
    "        Count      : 1\n",
    "    Enter temp: 0\n",
    "        Count      : 2\n",
    "    Enter temp: -100\n",
    "        Count      : 3\n",
    "    Enter temp: quit\n",
    "\n",
    "\n",
    "### Loop-Building:\n",
    "    \n",
    "What makes this program stop? (sentinel value)\n",
    "\n",
    "PROMPT 1\n",
    "enter \"quit\"\n",
    "\n",
    "if value == \"quit\":\n",
    "    break\n",
    "\n",
    "while True:\n",
    "    if ??? break\n",
    "\n",
    "\n",
    "What are we doing in the body of the loop?\n",
    "\n",
    "PROMPT 2\n",
    "\n",
    "# increment count \n",
    "count = count +1\n",
    "\n",
    "\n",
    "\n",
    "### Algorithm (Steps in Program):\n",
    "\n",
    "```\n",
    "INPUT: Temperature:\n",
    "\n",
    "OUTPUT: Current Min Temperature\n",
    "\n",
    "INPUT: 100\n",
    "MIN: 100\n",
    "\n",
    "INPUT: 50\n",
    "MIN: 50\n",
    "\n",
    "INPUT: 75\n",
    "MIN: 50 \n",
    "\n",
    "```\n",
    "\n",
    "\n",
    "       PROMPT 3: Write steps in your own words\n"
   ]
  },
  {
   "cell_type": "code",
   "execution_count": 1,
   "metadata": {},
   "outputs": [
    {
     "name": "stdin",
     "output_type": "stream",
     "text": [
      "Enter a temperature:  100\n"
     ]
    },
    {
     "name": "stdout",
     "output_type": "stream",
     "text": [
      "Count: 1\n"
     ]
    },
    {
     "name": "stdin",
     "output_type": "stream",
     "text": [
      "Enter a temperature:  0\n"
     ]
    },
    {
     "name": "stdout",
     "output_type": "stream",
     "text": [
      "Count: 2\n"
     ]
    },
    {
     "name": "stdin",
     "output_type": "stream",
     "text": [
      "Enter a temperature:  -100\n"
     ]
    },
    {
     "name": "stdout",
     "output_type": "stream",
     "text": [
      "Count: 3\n"
     ]
    },
    {
     "name": "stdin",
     "output_type": "stream",
     "text": [
      "Enter a temperature:  quit\n"
     ]
    }
   ],
   "source": [
    "# PROMPT 4\n",
    "count = 0\n",
    "while True:\n",
    "    value = input(\"Enter a temperature: \")\n",
    "    if value == \"quit\":\n",
    "        break\n",
    "    # all good... continue\n",
    "    count = count + 1\n",
    "    print(f\"Count: {count}\")\n",
    "    "
   ]
  },
  {
   "cell_type": "markdown",
   "metadata": {},
   "source": [
    "## Second Iteration: Problem Analysis\n",
    "\n",
    "Next let's add a feature which calculates the **mean**. The mean is the average of the recorded temperatures so far.\n",
    "\n",
    "\n",
    "Example Run:\n",
    "\n",
    "    Enter temp: 100\n",
    "        Count      : 1\n",
    "        Mean       : 100\n",
    "\n",
    "    Enter temp: 0\n",
    "        Count      : 2\n",
    "        Mean       : 50\n",
    "\n",
    "    Enter temp: -100\n",
    "        Count      : 3\n",
    "        Mean       : 0\n",
    "    \n",
    "    Enter temp: quit\n",
    "\n",
    "### Understanding the Problem\n",
    "    \n",
    "How do we calculate a mean? E.g. what is the mean of 10,5,6 ?\n",
    "\n",
    "    PROMPT 5\n",
    "\n",
    "\n",
    "### Algorithm (Steps in Program):\n",
    "\n",
    "copy from PROMPT 3 and revise\n",
    "\n",
    "```\n",
    "PROMPT 6\n",
    "```"
   ]
  },
  {
   "cell_type": "code",
   "execution_count": 3,
   "metadata": {},
   "outputs": [
    {
     "name": "stdin",
     "output_type": "stream",
     "text": [
      "Enter a temperature:  100\n"
     ]
    },
    {
     "name": "stdout",
     "output_type": "stream",
     "text": [
      "Count:   1\n",
      "Average: 100.0\n"
     ]
    },
    {
     "name": "stdin",
     "output_type": "stream",
     "text": [
      "Enter a temperature:  -100\n"
     ]
    },
    {
     "name": "stdout",
     "output_type": "stream",
     "text": [
      "Count:   2\n",
      "Average: 0.0\n"
     ]
    },
    {
     "name": "stdin",
     "output_type": "stream",
     "text": [
      "Enter a temperature:  quit\n"
     ]
    }
   ],
   "source": [
    "# PROMPT 7 (copy prompt 4 add code)\n",
    "count, total = 0, 0 \n",
    "while True:\n",
    "    value = input(\"Enter a temperature: \")\n",
    "    if value == \"quit\":\n",
    "        break\n",
    "    # all good... continue\n",
    "    temp = float(value)\n",
    "    count = count + 1\n",
    "    total = total + temp\n",
    "    average = total / count\n",
    "    print(f\"Count:   {count}\")\n",
    "    print(f\"Average: {average}\")"
   ]
  },
  {
   "cell_type": "markdown",
   "metadata": {},
   "source": [
    "## Third Iteration: Problem Analysis\n",
    "\n",
    "Next let's add a feature which calculates the **minimum**. this a variable which should keep track of the lowest recorded temperature so far.\n",
    "\n",
    "\n",
    "Example Run:\n",
    "\n",
    "    Enter temp: 100\n",
    "        Count      : 1\n",
    "        Min        : 100\n",
    "        Mean       : 100\n",
    "\n",
    "    Enter temp: 0\n",
    "        Count      : 2\n",
    "        Min        : 0\n",
    "        Mean       : 50\n",
    "\n",
    "    Enter temp: -100\n",
    "        Count      : 3\n",
    "        Min        : -100\n",
    "        Mean       : 0\n",
    "    \n",
    "    Enter temp: quit\n",
    "\n",
    "\n",
    "### Understanding the Problem\n",
    "    \n",
    "What when given a freshly input `temp` and a current `minimum` how to we know when `temp` should be the new `minimum`?\n",
    "\n",
    "PROMPT 8\n",
    "\n",
    "when:\n",
    "temp = 100\n",
    "low = 120\n",
    "\n",
    "\n",
    "\n",
    "low = 99999\n",
    "temp = 10\n",
    "\n",
    "\n",
    "### Algorithm (Steps in Program):\n",
    "\n",
    "copy from PROMPT 6 and revise\n",
    "\n",
    "```\n",
    "low = float('inf')\n",
    "\n",
    "if temp < low: then\n",
    "    low = temp\n",
    "```\n",
    "Note: We must initialize `minimum` to be the largest number possible, so `float('inf')` see: https://www.geeksforgeeks.org/python-infinity/\n"
   ]
  },
  {
   "cell_type": "code",
   "execution_count": 6,
   "metadata": {},
   "outputs": [
    {
     "name": "stdin",
     "output_type": "stream",
     "text": [
      "Enter a temperature:  100\n"
     ]
    },
    {
     "name": "stdout",
     "output_type": "stream",
     "text": [
      "Count:   1\n",
      "Low:     100.0\n",
      "Average: 100.0\n",
      "High:    100.0\n"
     ]
    },
    {
     "name": "stdin",
     "output_type": "stream",
     "text": [
      "Enter a temperature:  50\n"
     ]
    },
    {
     "name": "stdout",
     "output_type": "stream",
     "text": [
      "Count:   2\n",
      "Low:     50.0\n",
      "Average: 75.0\n",
      "High:    100.0\n"
     ]
    },
    {
     "name": "stdin",
     "output_type": "stream",
     "text": [
      "Enter a temperature:  150\n"
     ]
    },
    {
     "name": "stdout",
     "output_type": "stream",
     "text": [
      "Count:   3\n",
      "Low:     50.0\n",
      "Average: 100.0\n",
      "High:    150.0\n"
     ]
    },
    {
     "name": "stdin",
     "output_type": "stream",
     "text": [
      "Enter a temperature:  quit\n"
     ]
    }
   ],
   "source": [
    "# PROMPT 10 (copy prompt 7 add code )\n",
    "count, total = 0, 0\n",
    "low, high = float('inf'), float('-inf')\n",
    "while True:\n",
    "    # INPUT\n",
    "    value = input(\"Enter a temperature: \")\n",
    "    if value == \"quit\":\n",
    "        break\n",
    "    # PROCESS\n",
    "    temp = float(value)\n",
    "    count = count + 1\n",
    "    total = total + temp\n",
    "    average = total / count\n",
    "    if temp < low:\n",
    "        low = temp\n",
    "    if temp > high:\n",
    "        high = temp\n",
    "    #OUTPUTS\n",
    "    print(f\"Count:   {count}\")\n",
    "    print(f\"Low:     {low}\")\n",
    "    print(f\"Average: {average}\")\n",
    "    print(f\"High:    {high}\")"
   ]
  },
  {
   "cell_type": "markdown",
   "metadata": {},
   "source": [
    "## Final Iteration: Problem Analysis\n",
    "\n",
    "We should have enough knowledge of how to do this to complete the rest of the program.\n",
    "\n",
    "\n",
    "### Understanding the Problem\n",
    "    \n",
    "What when given a freshly input `temp` and a current `maximum` how to we know when `temp` should be the new `maximum`?\n",
    "\n",
    "PROMPT 11\n",
    "\n",
    "How do we keep a count of temperatures above freezing?\n",
    "\n",
    "PROMPT 12\n",
    "\n",
    "How do we keep a count of temperatures above freezing?\n",
    "\n",
    "PROMPT 13\n",
    "\n",
    "\n",
    "### Algorithm (Steps in Program):\n",
    "\n",
    "copy from PROMPT 9 and revise\n",
    "\n",
    "```\n",
    "PROMPT 14\n",
    "```\n",
    "\n",
    "Note: We must initialize `maximum` to be the largest number possible, so `float('-inf')` see: https://www.geeksforgeeks.org/python-infinity/\n"
   ]
  },
  {
   "cell_type": "code",
   "execution_count": 1,
   "metadata": {},
   "outputs": [
    {
     "name": "stdin",
     "output_type": "stream",
     "text": [
      "Enter a temperature:  100\n"
     ]
    },
    {
     "name": "stdout",
     "output_type": "stream",
     "text": [
      "Count:   1\n",
      "Low:     100.0\n",
      "Average: 100.0\n",
      "High:    100.0\n",
      "Freezing:0\n",
      "Above 0: 1\n"
     ]
    },
    {
     "name": "stdin",
     "output_type": "stream",
     "text": [
      "Enter a temperature:  120\n"
     ]
    },
    {
     "name": "stdout",
     "output_type": "stream",
     "text": [
      "Count:   2\n",
      "Low:     100.0\n",
      "Average: 110.0\n",
      "High:    120.0\n",
      "Freezing:0\n",
      "Above 0: 2\n"
     ]
    },
    {
     "name": "stdin",
     "output_type": "stream",
     "text": [
      "Enter a temperature:  -40\n"
     ]
    },
    {
     "name": "stdout",
     "output_type": "stream",
     "text": [
      "Count:   3\n",
      "Low:     -40.0\n",
      "Average: 60.0\n",
      "High:    120.0\n",
      "Freezing:1\n",
      "Above 0: 2\n"
     ]
    },
    {
     "name": "stdin",
     "output_type": "stream",
     "text": [
      "Enter a temperature:  quit\n"
     ]
    }
   ],
   "source": [
    "# PROMPT 15 (copy from prompt 10, final code!!!)\n",
    "count, total = 0, 0\n",
    "low, high = float('inf'), float('-inf')\n",
    "freezing_count, not_freezing_count = 0, 0\n",
    "while True:\n",
    "    # INPUT\n",
    "    value = input(\"Enter a temperature: \")\n",
    "    if value == \"quit\":\n",
    "        break\n",
    "    # PROCESS\n",
    "    temp = float(value)\n",
    "    count = count + 1\n",
    "    total = total + temp\n",
    "    average = total / count\n",
    "    if temp < low:\n",
    "        low = temp\n",
    "    if temp > high:\n",
    "        high = temp\n",
    "    if temp <= 0:\n",
    "        freezing_count += 1\n",
    "    else:\n",
    "        not_freezing_count += 1\n",
    "    #OUTPUTS\n",
    "    print(f\"Count:   {count}\")\n",
    "    print(f\"Low:     {low}\")\n",
    "    print(f\"Average: {average}\")\n",
    "    print(f\"High:    {high}\")\n",
    "    print(f\"Freezing:{freezing_count}\")\n",
    "    print(f\"Above 0: {not_freezing_count}\")\n",
    "    "
   ]
  },
  {
   "cell_type": "code",
   "execution_count": 2,
   "metadata": {},
   "outputs": [
    {
     "name": "stdout",
     "output_type": "stream",
     "text": [
      "✅ TIMESTAMP  : 2025-02-05 16:53\n",
      "✅ COURSE     : ist256\n",
      "✅ TERM       : spring2025\n",
      "✅ USER       : mafudge@syr.edu\n",
      "✅ STUDENT    : True\n",
      "✅ PATH       : ist256/spring2025/lessons/04-Iterations/SmallGroup-Iterations.ipynb\n",
      "✅ ASSIGNMENT : SmallGroup-Iterations.ipynb\n",
      "✅ POINTS     : 3\n",
      "✅ DUE DATE   : 2025-02-05 23:59\n",
      "✅ LATE       : False\n",
      "✅ STATUS     : New Submission\n",
      "\n"
     ]
    },
    {
     "name": "stdin",
     "output_type": "stream",
     "text": [
      "❓ Submit? [y/n] ❓  y\n"
     ]
    },
    {
     "name": "stdout",
     "output_type": "stream",
     "text": [
      "\n",
      "👍 SUBMITTED\n",
      "📃 RECIEPT   : b95f95f5e030c62503151cfe3e3eb697\n"
     ]
    }
   ],
   "source": [
    "# run this code to turn in your work!\n",
    "from casstools.assignment import Assignment\n",
    "Assignment().submit()"
   ]
  },
  {
   "cell_type": "code",
   "execution_count": 3,
   "metadata": {},
   "outputs": [
    {
     "data": {
      "text/plain": [
       "90"
      ]
     },
     "execution_count": 3,
     "metadata": {},
     "output_type": "execute_result"
    }
   ],
   "source": [
    " 45 * 2"
   ]
  },
  {
   "cell_type": "code",
   "execution_count": 4,
   "metadata": {},
   "outputs": [
    {
     "data": {
      "text/plain": [
       "' :-)  :-)  :-)  :-)  :-) '"
      ]
     },
     "execution_count": 4,
     "metadata": {},
     "output_type": "execute_result"
    }
   ],
   "source": [
    "\" :-) \" * 5"
   ]
  },
  {
   "cell_type": "code",
   "execution_count": 5,
   "metadata": {},
   "outputs": [
    {
     "ename": "SyntaxError",
     "evalue": "unterminated string literal (detected at line 1) (1845220801.py, line 1)",
     "output_type": "error",
     "traceback": [
      "\u001b[0;36m  Cell \u001b[0;32mIn[5], line 1\u001b[0;36m\u001b[0m\n\u001b[0;31m    \"\u001b[0m\n\u001b[0m    ^\u001b[0m\n\u001b[0;31mSyntaxError\u001b[0m\u001b[0;31m:\u001b[0m unterminated string literal (detected at line 1)\n"
     ]
    }
   ],
   "source": [
    "\""
   ]
  },
  {
   "cell_type": "code",
   "execution_count": 6,
   "metadata": {},
   "outputs": [
    {
     "data": {
      "text/plain": [
       "'😂😂😂😂😂😂😂😂😂😂😂😂😂😂'"
      ]
     },
     "execution_count": 6,
     "metadata": {},
     "output_type": "execute_result"
    }
   ],
   "source": [
    "\"😂\" * 14\n"
   ]
  },
  {
   "cell_type": "code",
   "execution_count": 7,
   "metadata": {},
   "outputs": [],
   "source": [
    "a = 12\n",
    "b = 6"
   ]
  },
  {
   "cell_type": "code",
   "execution_count": 8,
   "metadata": {},
   "outputs": [
    {
     "name": "stdout",
     "output_type": "stream",
     "text": [
      "A 12\n"
     ]
    }
   ],
   "source": [
    "print(f\"A {a}\")"
   ]
  },
  {
   "cell_type": "code",
   "execution_count": 9,
   "metadata": {},
   "outputs": [
    {
     "name": "stdout",
     "output_type": "stream",
     "text": [
      "A 12: ************\n"
     ]
    }
   ],
   "source": [
    "print(f\"A {a}: {'*'*a}\")"
   ]
  },
  {
   "cell_type": "code",
   "execution_count": 10,
   "metadata": {},
   "outputs": [],
   "source": [
    "star = \"🥓\""
   ]
  },
  {
   "cell_type": "code",
   "execution_count": 11,
   "metadata": {},
   "outputs": [
    {
     "name": "stdout",
     "output_type": "stream",
     "text": [
      "A 12: 🥓🥓🥓🥓🥓🥓🥓🥓🥓🥓🥓🥓\n"
     ]
    }
   ],
   "source": [
    "print(f\"A {a}: {star*a}\")"
   ]
  },
  {
   "cell_type": "code",
   "execution_count": null,
   "metadata": {},
   "outputs": [],
   "source": []
  }
 ],
 "metadata": {
  "anaconda-cloud": {},
  "kernelspec": {
   "display_name": "Python 3 (ipykernel)",
   "language": "python",
   "name": "python3"
  },
  "language_info": {
   "codemirror_mode": {
    "name": "ipython",
    "version": 3
   },
   "file_extension": ".py",
   "mimetype": "text/x-python",
   "name": "python",
   "nbconvert_exporter": "python",
   "pygments_lexer": "ipython3",
   "version": "3.12.8"
  },
  "toc": {
   "base_numbering": 1,
   "nav_menu": {},
   "number_sections": false,
   "sideBar": false,
   "skip_h1_title": false,
   "title_cell": "Table of Contents",
   "title_sidebar": "Contents",
   "toc_cell": false,
   "toc_position": {},
   "toc_section_display": false,
   "toc_window_display": false
  },
  "varInspector": {
   "cols": {
    "lenName": 16,
    "lenType": 16,
    "lenVar": 40
   },
   "kernels_config": {
    "python": {
     "delete_cmd_postfix": "",
     "delete_cmd_prefix": "del ",
     "library": "var_list.py",
     "varRefreshCmd": "print(var_dic_list())"
    },
    "r": {
     "delete_cmd_postfix": ") ",
     "delete_cmd_prefix": "rm(",
     "library": "var_list.r",
     "varRefreshCmd": "cat(var_dic_list()) "
    }
   },
   "types_to_exclude": [
    "module",
    "function",
    "builtin_function_or_method",
    "instance",
    "_Feature"
   ],
   "window_display": false
  }
 },
 "nbformat": 4,
 "nbformat_minor": 4
}
