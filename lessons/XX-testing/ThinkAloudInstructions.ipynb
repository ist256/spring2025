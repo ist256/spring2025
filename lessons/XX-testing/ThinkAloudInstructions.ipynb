{
 "cells": [
  {
   "cell_type": "markdown",
   "id": "6a9ac9ee-b558-4f27-82a2-d0e675bf2b94",
   "metadata": {},
   "source": [
    "## Setup \n",
    "\n",
    "- Sign in to jupyterhub: [https://v2hub.ischool.syr.edu](https://v2hub.ischool.syr.edu)\n",
    "- Start the IST256 AI (AI Tutor in the launcher)\n",
    "- Open the Task: `library/ist256/spring2025/XX-Testing/ThinkAloudTask.ipynb`\n",
    "- Drag the windows so they are side by side\n",
    "- Close the folder view (click folder on the left)"
   ]
  },
  {
   "cell_type": "markdown",
   "id": "a897f554-9b4b-4068-b2cf-03525a31f0b6",
   "metadata": {},
   "source": [
    "## IST256 Think-Aloud\n",
    "\n",
    "Thank you for agreeing to participate in this study. Your contributions will make this class better by helping me to understand the needs and challenges of novice programmer through your interactions, thought processes and behaviors: these are things I cannot obeserve in exams and assignments directly.\n",
    "\n",
    "For this activity you will be given a programming task to complete, along with access to the IST256 AI Tutor. You are welcome to use the tutor as you see fit.\n",
    "\n",
    "Please note:\n",
    "\n",
    "- Since it is a think aloud, please verbalize your thought process as you work on the task. Think out loud, literally.\n",
    "- There are no \"right or wrong\" ways to complete the task. There is only your way.\n",
    "- I am not your teacher during this activity. I am just an observer. The only things I might ask are \"what are you thinking/feeling right now?\" or say \"Our time is up.\"\n",
    "- I may ask a short follow up question about the task when it is complete.\n",
    "- There is also 5 minutes for you to ask questions aftwards.\n",
    "- With your approval, I will record your actions and words for analysis at a later date. Any findings will be presented anonymously as to protect your privacy.\n",
    "\n"
   ]
  },
  {
   "cell_type": "markdown",
   "id": "51172ad0-5d17-4b0a-b715-7adf49254cab",
   "metadata": {},
   "source": [
    "## After Task\n",
    "\n",
    "- On a scale of 1 to 5,  How confident are you that you completed this task correctly 1 least confident, 5 most confident"
   ]
  },
  {
   "cell_type": "code",
   "execution_count": null,
   "id": "9820dda3-cbb7-4921-8bad-6c5a7a79fee3",
   "metadata": {},
   "outputs": [],
   "source": []
  }
 ],
 "metadata": {
  "kernelspec": {
   "display_name": "Python 3 (ipykernel)",
   "language": "python",
   "name": "python3"
  },
  "language_info": {
   "codemirror_mode": {
    "name": "ipython",
    "version": 3
   },
   "file_extension": ".py",
   "mimetype": "text/x-python",
   "name": "python",
   "nbconvert_exporter": "python",
   "pygments_lexer": "ipython3",
   "version": "3.12.8"
  }
 },
 "nbformat": 4,
 "nbformat_minor": 5
}
