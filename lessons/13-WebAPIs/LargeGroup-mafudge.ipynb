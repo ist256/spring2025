{
 "cells": [
  {
   "cell_type": "markdown",
   "id": "d53e7546-8d08-4aa1-b583-24a697e817cb",
   "metadata": {},
   "source": [
    "# Code Samples From Large Group\n",
    "\n",
    "Place your notes and code samples from large group here.\n"
   ]
  },
  {
   "cell_type": "code",
   "execution_count": 1,
   "id": "c114571f-989c-4307-9c0c-db38707b7852",
   "metadata": {},
   "outputs": [],
   "source": [
    "import requests"
   ]
  },
  {
   "cell_type": "code",
   "execution_count": 6,
   "id": "53c047de-6d49-4711-89c0-5ef81887b7e3",
   "metadata": {},
   "outputs": [
    {
     "name": "stdout",
     "output_type": "stream",
     "text": [
      "https://cent.ischool-iot.net/api/funnyname/random\n"
     ]
    }
   ],
   "source": [
    "url = \"https://cent.ischool-iot.net/api/funnyname/random\"\n",
    "print(url)"
   ]
  },
  {
   "cell_type": "code",
   "execution_count": 12,
   "id": "1dba130d-613f-44cb-9502-91ed6d398ea3",
   "metadata": {},
   "outputs": [
    {
     "data": {
      "text/plain": [
       "[{'first': 'Buck', 'last': 'Naked'}]"
      ]
     },
     "execution_count": 12,
     "metadata": {},
     "output_type": "execute_result"
    }
   ],
   "source": [
    "# Standard Requests Boilerplate\n",
    "response = requests.get(url) # Makes the request to URL over the web using the \"get\" method\n",
    "response.raise_for_status()  # Throw an exception if status_code is not 2xx\n",
    "data = response.json()       # de-serializing the response to a python variable\n",
    "data                         # vary based on data structure"
   ]
  },
  {
   "cell_type": "code",
   "execution_count": 13,
   "id": "1c6c9473-e4f3-4d72-a00c-268ab91f522c",
   "metadata": {},
   "outputs": [
    {
     "name": "stdout",
     "output_type": "stream",
     "text": [
      "Buck Naked\n"
     ]
    }
   ],
   "source": [
    "first_name = data[0]['first']\n",
    "last_name = data[0]['last']\n",
    "print(first_name, last_name)"
   ]
  },
  {
   "cell_type": "code",
   "execution_count": 25,
   "id": "bae949f8-5612-4c50-b8a8-77f22b5d969b",
   "metadata": {},
   "outputs": [
    {
     "name": "stdin",
     "output_type": "stream",
     "text": [
      "Search Google Places for: Sushi places in Syracuse, NY\n"
     ]
    }
   ],
   "source": [
    "import requests\n",
    "search = input(\"Search Google Places for:\")\n",
    "\n",
    "url = \"https://cent.ischool-iot.net/api/google/places/textsearch\"\n",
    "headers = {\n",
    "    \"accept\": \"application/json\",\n",
    "    \"X-API-KEY\": \"0f92bf60ff8c50f7e6929e57\"\n",
    "}\n",
    "params = { \"query\": search }\n",
    "response = requests.get(url, headers=headers, params=params)\n",
    "response.raise_for_status()\n",
    "data = response.json()"
   ]
  },
  {
   "cell_type": "code",
   "execution_count": 28,
   "id": "1dec428e-03e2-4673-8e24-0bf71bd647d6",
   "metadata": {},
   "outputs": [
    {
     "name": "stdout",
     "output_type": "stream",
     "text": [
      "Sakana-Ya Sushi Bar 4.3\n",
      "Ocean Sushi 2 4.6\n",
      "Aloha Japanese Bento 4.6\n",
      "AT Sushi Japanese Restaurant 4.5\n",
      "Secret Garden 4.3\n",
      "Firudo Asian Food & Bar 食为天餐厅 4.1\n",
      "Umi Sushi and Hibachi 4.8\n",
      "Koto Japanese Steakhouse & Sushi 4\n",
      "Bleu Monkey Cafe 4.1\n",
      "Taichi Bubble Tea, Ramen and Poke Bowl - Syracuse 4.3\n",
      "Yamasho sushi steakhouse 4.6\n",
      "Sake Japan Hibachi & Ramen 2.9\n",
      "Mitsuba Ramen Noodle 4.2\n",
      "Asahi Japanese Restaurant 3.3\n",
      "Inka’s 4.9\n",
      "Oishi Restaurant 3.8\n",
      "Spoon & Chopsticks Express Korean Cuisine 4.5\n",
      "Poke Fish 4.5\n"
     ]
    }
   ],
   "source": [
    "for result in data[\"results\"]:\n",
    "    print(result[\"name\"], result[\"rating\"])"
   ]
  },
  {
   "cell_type": "code",
   "execution_count": 29,
   "id": "e5e87de8-d86b-46ba-bdc0-312ee2f96c52",
   "metadata": {},
   "outputs": [
    {
     "data": {
      "text/plain": [
       "{'business_status': 'OPERATIONAL',\n",
       " 'formatted_address': '129 Marshall St #2fl, Syracuse, NY 13210, United States',\n",
       " 'geometry': {'location': {'lat': 43.0418914, 'lng': -76.1358535},\n",
       "  'viewport': {'northeast': {'lat': 43.04310877989272,\n",
       "    'lng': -76.13452722010729},\n",
       "   'southwest': {'lat': 43.04040912010728, 'lng': -76.13722687989272}}},\n",
       " 'icon': 'https://maps.gstatic.com/mapfiles/place_api/icons/v1/png_71/restaurant-71.png',\n",
       " 'icon_background_color': '#FF9E67',\n",
       " 'icon_mask_base_uri': 'https://maps.gstatic.com/mapfiles/place_api/icons/v2/restaurant_pinlet',\n",
       " 'name': 'Poke Fish',\n",
       " 'opening_hours': {'open_now': True},\n",
       " 'photos': [{'height': 4080,\n",
       "   'html_attributions': ['<a href=\"https://maps.google.com/maps/contrib/107887630577194609792\">Kristine Witherbee</a>'],\n",
       "   'photo_reference': 'AeeoHcL8v_2UEKx7AxXkYtBstC30RhEav9Sj346F6wczo67Y83Ynx-Km9IYLH7wSFXHpeZugnVraM3AYOdgZ7W9JfX6_IucKqNHaVFbasC3w3qItpAEs6aeNbzuyPOH-rRDDlr_BNs3iarM9lg--DF5Akchn0Gh35GrW1IHn1UEzhnBj9mxLqKODocT1hcKTA0M97L9THEYz73NHKRtxc3CH6zcDLN-BUsaXyXhSJZuy7bXP3EVxpe3gmOb-ShL2WUDTVgCjqOGX_RZF2eBzVFiyvsPhdxAWgFZhE9Z-jgeQy23lDRh7dr4',\n",
       "   'width': 3072}],\n",
       " 'place_id': 'ChIJUTrygArz2YkRAj63x8dkd-s',\n",
       " 'plus_code': {'compound_code': '2VR7+QM Syracuse, New York',\n",
       "  'global_code': '87M52VR7+QM'},\n",
       " 'rating': 4.5,\n",
       " 'reference': 'ChIJUTrygArz2YkRAj63x8dkd-s',\n",
       " 'types': ['restaurant', 'food', 'point_of_interest', 'establishment'],\n",
       " 'user_ratings_total': 54}"
      ]
     },
     "execution_count": 29,
     "metadata": {},
     "output_type": "execute_result"
    }
   ],
   "source": [
    "result"
   ]
  },
  {
   "cell_type": "code",
   "execution_count": 26,
   "id": "e021af12-0ca9-474d-ac7a-3a45eb177144",
   "metadata": {},
   "outputs": [],
   "source": [
    "import pandas as pd\n",
    "df = pd.DataFrame(data[\"results\"])"
   ]
  },
  {
   "cell_type": "code",
   "execution_count": 27,
   "id": "c80fa2de-c7cf-4d50-a496-cf8b9bd9fb8f",
   "metadata": {
    "scrolled": true
   },
   "outputs": [
    {
     "data": {
      "text/html": [
       "<div>\n",
       "<style scoped>\n",
       "    .dataframe tbody tr th:only-of-type {\n",
       "        vertical-align: middle;\n",
       "    }\n",
       "\n",
       "    .dataframe tbody tr th {\n",
       "        vertical-align: top;\n",
       "    }\n",
       "\n",
       "    .dataframe thead th {\n",
       "        text-align: right;\n",
       "    }\n",
       "</style>\n",
       "<table border=\"1\" class=\"dataframe\">\n",
       "  <thead>\n",
       "    <tr style=\"text-align: right;\">\n",
       "      <th></th>\n",
       "      <th>name</th>\n",
       "      <th>rating</th>\n",
       "    </tr>\n",
       "  </thead>\n",
       "  <tbody>\n",
       "    <tr>\n",
       "      <th>14</th>\n",
       "      <td>Inka’s</td>\n",
       "      <td>4.9</td>\n",
       "    </tr>\n",
       "    <tr>\n",
       "      <th>6</th>\n",
       "      <td>Umi Sushi and Hibachi</td>\n",
       "      <td>4.8</td>\n",
       "    </tr>\n",
       "    <tr>\n",
       "      <th>10</th>\n",
       "      <td>Yamasho sushi steakhouse</td>\n",
       "      <td>4.6</td>\n",
       "    </tr>\n",
       "    <tr>\n",
       "      <th>1</th>\n",
       "      <td>Ocean Sushi 2</td>\n",
       "      <td>4.6</td>\n",
       "    </tr>\n",
       "    <tr>\n",
       "      <th>2</th>\n",
       "      <td>Aloha Japanese Bento</td>\n",
       "      <td>4.6</td>\n",
       "    </tr>\n",
       "  </tbody>\n",
       "</table>\n",
       "</div>"
      ],
      "text/plain": [
       "                        name  rating\n",
       "14                    Inka’s     4.9\n",
       "6      Umi Sushi and Hibachi     4.8\n",
       "10  Yamasho sushi steakhouse     4.6\n",
       "1              Ocean Sushi 2     4.6\n",
       "2       Aloha Japanese Bento     4.6"
      ]
     },
     "execution_count": 27,
     "metadata": {},
     "output_type": "execute_result"
    }
   ],
   "source": [
    "df[['name','rating']].sort_values(\"rating\", ascending=False).head(5)"
   ]
  },
  {
   "cell_type": "code",
   "execution_count": null,
   "id": "c5f60431-0a7e-4436-a0a7-7fbc458ad4b5",
   "metadata": {},
   "outputs": [],
   "source": []
  }
 ],
 "metadata": {
  "kernelspec": {
   "display_name": "Python 3 (ipykernel)",
   "language": "python",
   "name": "python3"
  },
  "language_info": {
   "codemirror_mode": {
    "name": "ipython",
    "version": 3
   },
   "file_extension": ".py",
   "mimetype": "text/x-python",
   "name": "python",
   "nbconvert_exporter": "python",
   "pygments_lexer": "ipython3",
   "version": "3.12.8"
  }
 },
 "nbformat": 4,
 "nbformat_minor": 5
}
