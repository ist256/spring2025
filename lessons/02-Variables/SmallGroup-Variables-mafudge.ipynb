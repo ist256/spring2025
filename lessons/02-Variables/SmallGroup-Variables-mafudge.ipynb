{
 "cells": [
  {
   "cell_type": "markdown",
   "metadata": {},
   "source": [
    "# Now You Code In-Class: Boxes Of Flooring\n",
    "\n",
    "## The Problem\n",
    "\n",
    "High's Home Improvement store has hired you to write a mobile app which will estimate the number of boxes of flooring required to cover a room. \n",
    "\n",
    "Things to note:\n",
    "\n",
    "- One box of flooring covers 24.5 square feet. \n",
    "- You should account for 10% waste in any project. This means you should buy 10% more flooring than you need.\n",
    "\n",
    "Write a python program which given the length and width measurement of a room will correctly calculate:\n",
    "\n",
    "- The area of the room in square feet\n",
    "- The project area when accounting for an additional 10% waste\n",
    "- The number of boxes of flooring required, rounded up to the nearest whole box (since we can only purchase complete boxes). \n",
    "\n",
    "Example: \n",
    "\n",
    "```\n",
    "*** Flooring Calculator ***\n",
    "Project Name: Mud Room\n",
    "Length of room (ft): 3\n",
    "Width of room (ft): 6\n",
    "\n",
    "Calculations....\n",
    "Project: Mud Room\n",
    "Room Area: ==> 18.0 square ft\n",
    "Project Area: 18.0 square ft + 1.8 (10% waste) ==> 19.8 square ft\n",
    "Number of boxes at 24.5 square ft: ==> 1\n",
    "```\n",
    "\n",
    "NOTES:\n",
    "\n",
    "- Display the output to 1 decimal place.\n",
    "- Round up your boxes of flooring to the nearest whole box. \n"
   ]
  },
  {
   "cell_type": "markdown",
   "metadata": {},
   "source": [
    "## Problem Solving Approach: Understanding the Problem By Example\n",
    "\n",
    "Before you can write code for a solution, you need to ensure you have a very good understanding of the problem. One approach to get a better understanding of the problem is to work through the examples yourself. If you can do the steps yourself, its rather trivial to explain the steps to a computer. \n",
    "\n",
    "\n",
    "### Example 1\n",
    "\n",
    "Inputs:\n",
    "\n",
    "    PROMPT 1: Length and Width \n",
    "\n",
    "Outputs:\n",
    "\n",
    "    PROMPT 2: \n",
    "        - area  = length times width \n",
    "        - project area 10% of the the area + area ( 1.1 times area)\n",
    "        - boxes = project area / 24.5 (size of box)\n",
    "\n",
    "### Example 1\n",
    "\n",
    "Inputs:\n",
    "\n",
    "- Length: 6\n",
    "- Width: 7\n",
    "\n",
    "Outputs:\n",
    "\n",
    "- Room Area?: 6 x 7 = 42\n",
    "- Project Area?: 42 x 1.1\n",
    "- Number of Boxes?: 42 * 1.1 / 24.5 \n",
    "- Boxes Rounded Up to Nearest Whole Number?: 2 boxes (cieling) \n"
   ]
  },
  {
   "cell_type": "markdown",
   "metadata": {
    "collapsed": true,
    "jupyter": {
     "outputs_hidden": true
    }
   },
   "source": [
    "With a good understanding of the problem, we can move on to the problem analysis.\n",
    "\n",
    "\n",
    "## Part 1: Problem Analysis\n",
    "\n",
    "Inputs: \n",
    "\n",
    "- length and width\n",
    "\n",
    "Outputs:\n",
    "\n",
    "- number of boxes of flooring required\n",
    "\n",
    "Algorithm (Steps in Program):\n",
    "\n",
    "```\n",
    "    PROMPT 7 What are the steps from input to output?\n",
    "    INPUT:  length as float and width as float\n",
    "    box_size = 24.5\n",
    "    waste = 0.1\n",
    "    area = length * width\n",
    "    project_area = (1 + waste) * area\n",
    "    boxes = cieling of project_area / box_size\n",
    "    OUTPUT: area, project_area, boxes    \n",
    "```\n",
    "### Can you perform each step in Code?\n",
    "\n",
    "Now review your algorithm. Can you translate each step of the algorithm into a line of code trivially? That which we cannot do, we will need to look up. Problem solving is often a bunch of little problems!\n",
    "\n",
    "- How do I Display the output to 1 decimal place.\n",
    "- Round up your boxes of flooring to the nearest whole box.  (How do I round a float up to the next whole number in python?)"
   ]
  },
  {
   "cell_type": "code",
   "execution_count": null,
   "metadata": {},
   "outputs": [],
   "source": [
    "# PROMPT 8: Write code here\n",
    "import math \n",
    "\n",
    "#INPUT:  length as float and width as float\n",
    "length = float(input(\"Please enter length:\"))\n",
    "width = float(input(\"Please enter width: \"))\n",
    "box_size = 24.5\n",
    "waste = 0.1\n",
    "area = length * width\n",
    "project_area = (1 + waste) * area\n",
    "boxes = math.ceil(project_area / box_size)\n",
    "#OUTPUT: area, project_area, boxes\n",
    "print(f\"The area is {area:.2f} sqft\")\n",
    "print(f\"Project size is {project_area:.2f} sqft (accounts for {100*waste} pct waste)\")\n",
    "print(f\"You need {boxes} boxes because each box is {box_size} sqft.\")"
   ]
  },
  {
   "cell_type": "code",
   "execution_count": null,
   "metadata": {},
   "outputs": [],
   "source": [
    "print(length * width)"
   ]
  },
  {
   "cell_type": "markdown",
   "metadata": {},
   "source": [
    "### Making it better !\n",
    "\n",
    "In reality, each brand of flooring will have different square footage per box. Some brands have 24.5 sqft per box, while others will have a different number.\n",
    "\n",
    "Copy and paste the code below so you have an additional copy. Re-Write the program so that 24.5 is a variable.  \n",
    "PROMPT 9\n",
    "\n",
    "Then re-write the program to ask for the square footage of the box as input.   \n",
    "PROMPT 10\n"
   ]
  },
  {
   "cell_type": "code",
   "execution_count": 10,
   "metadata": {},
   "outputs": [
    {
     "name": "stdin",
     "output_type": "stream",
     "text": [
      "Please enter the percentage of waste in decimal form:  0.2\n"
     ]
    },
    {
     "name": "stdout",
     "output_type": "stream",
     "text": [
      "The area is 42.00 sqft\n",
      "Project size is 50.40 sqft (accounts for 20.0 pct waste)\n",
      "You need 3 boxes because each box is 24.5 sqft.\n"
     ]
    }
   ],
   "source": [
    "# PROMPT 11: Code again\n",
    "import math \n",
    "\n",
    "#INPUT:  length as float and width as float\n",
    "length = float(input(\"Please enter length:\"))\n",
    "width = float(input(\"Please enter width: \"))\n",
    "box_size = float(input(\"What are the size in sqft of the boxes? \"))\n",
    "waste = float(input(\"Please enter the percentage of waste in decimal form: \"))\n",
    "area = length * width\n",
    "project_area = (1 + waste) * area\n",
    "boxes = math.ceil(project_area / box_size)\n",
    "#OUTPUT: area, project_area, boxes\n",
    "print(f\"The area is {area:.2f} sqft\")\n",
    "print(f\"Project size is {project_area:.2f} sqft (accounts for {100*waste} pct waste)\")\n",
    "print(f\"You need {boxes} boxes because each box is {box_size} sqft.\")"
   ]
  },
  {
   "cell_type": "code",
   "execution_count": 5,
   "metadata": {},
   "outputs": [
    {
     "name": "stdout",
     "output_type": "stream",
     "text": [
      "✅ TIMESTAMP  : 2025-01-22 16:57\n",
      "✅ COURSE     : ist256\n",
      "✅ TERM       : spring2025\n",
      "✅ USER       : mafudge@syr.edu\n",
      "✅ STUDENT    : True\n",
      "✅ PATH       : ist256/spring2025/lessons/02-Variables/SmallGroup-Variables.ipynb\n",
      "✅ ASSIGNMENT : SmallGroup-Variables.ipynb\n",
      "✅ POINTS     : 3\n",
      "✅ DUE DATE   : 2025-01-22 23:59\n",
      "✅ LATE       : False\n",
      "✅ STATUS     : New Submission\n",
      "\n"
     ]
    },
    {
     "name": "stdin",
     "output_type": "stream",
     "text": [
      "❓ Submit? [y/n] ❓  y\n"
     ]
    },
    {
     "name": "stdout",
     "output_type": "stream",
     "text": [
      "\n",
      "👍 SUBMITTED\n",
      "📃 RECIEPT   : 18807a11bad186da4cc86c691ab85b4c\n"
     ]
    }
   ],
   "source": [
    "# run this code to turn in your work!\n",
    "from casstools.assignment import Assignment\n",
    "Assignment().submit()"
   ]
  },
  {
   "cell_type": "code",
   "execution_count": 3,
   "metadata": {},
   "outputs": [
    {
     "name": "stdout",
     "output_type": "stream",
     "text": [
      "hi\n"
     ]
    }
   ],
   "source": [
    "print(\"hi\")"
   ]
  },
  {
   "cell_type": "code",
   "execution_count": null,
   "metadata": {},
   "outputs": [],
   "source": []
  }
 ],
 "metadata": {
  "anaconda-cloud": {},
  "kernelspec": {
   "display_name": "Python 3 (ipykernel)",
   "language": "python",
   "name": "python3"
  },
  "language_info": {
   "codemirror_mode": {
    "name": "ipython",
    "version": 3
   },
   "file_extension": ".py",
   "mimetype": "text/x-python",
   "name": "python",
   "nbconvert_exporter": "python",
   "pygments_lexer": "ipython3",
   "version": "3.12.8"
  },
  "toc": {
   "base_numbering": 1,
   "nav_menu": {},
   "number_sections": false,
   "sideBar": false,
   "skip_h1_title": false,
   "title_cell": "Table of Contents",
   "title_sidebar": "Contents",
   "toc_cell": false,
   "toc_position": {},
   "toc_section_display": false,
   "toc_window_display": false
  },
  "varInspector": {
   "cols": {
    "lenName": 16,
    "lenType": 16,
    "lenVar": 40
   },
   "kernels_config": {
    "python": {
     "delete_cmd_postfix": "",
     "delete_cmd_prefix": "del ",
     "library": "var_list.py",
     "varRefreshCmd": "print(var_dic_list())"
    },
    "r": {
     "delete_cmd_postfix": ") ",
     "delete_cmd_prefix": "rm(",
     "library": "var_list.r",
     "varRefreshCmd": "cat(var_dic_list()) "
    }
   },
   "position": {
    "height": "277.839px",
    "left": "710.429px",
    "right": "20px",
    "top": "98px",
    "width": "351px"
   },
   "types_to_exclude": [
    "module",
    "function",
    "builtin_function_or_method",
    "instance",
    "_Feature"
   ],
   "window_display": false
  }
 },
 "nbformat": 4,
 "nbformat_minor": 4
}
