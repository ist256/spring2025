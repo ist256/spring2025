{
 "cells": [
  {
   "cell_type": "markdown",
   "metadata": {},
   "source": [
    "# End-To-End Example: Google Restaurants Map\n",
    "\n",
    "Let's import our google functions and then use folium to plot restaurants on a map.\n",
    "\n"
   ]
  },
  {
   "cell_type": "code",
   "execution_count": 7,
   "metadata": {},
   "outputs": [],
   "source": [
    "import requests \n",
    "import pandas as pd\n",
    "import folium\n",
    "import import_ipynb\n",
    "from IPython.display import display, HTML\n",
    "from ipywidgets import interact, interactive, fixed, interact_manual\n",
    "import ipywidgets as widgets"
   ]
  },
  {
   "cell_type": "code",
   "execution_count": 8,
   "metadata": {},
   "outputs": [],
   "source": [
    "API_KEY = '0f92bf60ff8c50f7e6929e57'"
   ]
  },
  {
   "cell_type": "code",
   "execution_count": 9,
   "metadata": {},
   "outputs": [
    {
     "data": {
      "text/plain": [
       "{'results': [{'address_components': [{'long_name': 'Hinds Hall',\n",
       "     'short_name': 'Hinds Hall',\n",
       "     'types': ['premise']},\n",
       "    {'long_name': '343', 'short_name': '343', 'types': ['street_number']},\n",
       "    {'long_name': 'Hinds Hall',\n",
       "     'short_name': 'Hinds Hall',\n",
       "     'types': ['route']},\n",
       "    {'long_name': 'Eastside',\n",
       "     'short_name': 'Eastside',\n",
       "     'types': ['neighborhood', 'political']},\n",
       "    {'long_name': 'Syracuse',\n",
       "     'short_name': 'Syracuse',\n",
       "     'types': ['locality', 'political']},\n",
       "    {'long_name': 'Onondaga County',\n",
       "     'short_name': 'Onondaga County',\n",
       "     'types': ['administrative_area_level_2', 'political']},\n",
       "    {'long_name': 'New York',\n",
       "     'short_name': 'NY',\n",
       "     'types': ['administrative_area_level_1', 'political']},\n",
       "    {'long_name': 'United States',\n",
       "     'short_name': 'US',\n",
       "     'types': ['country', 'political']},\n",
       "    {'long_name': '13210', 'short_name': '13210', 'types': ['postal_code']}],\n",
       "   'formatted_address': 'Hinds Hall, 343 Hinds Hall, Syracuse, NY 13210, USA',\n",
       "   'geometry': {'bounds': {'northeast': {'lat': 43.0384541,\n",
       "      'lng': -76.1330223},\n",
       "     'southwest': {'lat': 43.0381074, 'lng': -76.13376989999999}},\n",
       "    'location': {'lat': 43.038222, 'lng': -76.13336799999999},\n",
       "    'location_type': 'ROOFTOP',\n",
       "    'viewport': {'northeast': {'lat': 43.03962973029149,\n",
       "      'lng': -76.13204711970849},\n",
       "     'southwest': {'lat': 43.0369317697085, 'lng': -76.1347450802915}}},\n",
       "   'navigation_points': [{'location': {'latitude': 43.0383608,\n",
       "      'longitude': -76.1333346},\n",
       "     'restricted_travel_modes': ['WALK']},\n",
       "    {'location': {'latitude': 43.0381534, 'longitude': -76.1332975},\n",
       "     'restricted_travel_modes': ['DRIVE']}],\n",
       "   'place_id': 'ChIJJTIPyp_z2YkR9pISLr-84Lc',\n",
       "   'types': ['premise', 'street_address']}],\n",
       " 'status': 'OK'}"
      ]
     },
     "execution_count": 9,
     "metadata": {},
     "output_type": "execute_result"
    }
   ],
   "source": [
    "def geocode(location):\n",
    "    '''\n",
    "    using geocoding here: Cent IoT Portal\n",
    "    '''\n",
    "    query_string = {'location' : location}\n",
    "    headers = { \"X-API-KEY\" : API_KEY }\n",
    "    url = 'https://cent.ischool-iot.net/api/google/geocode'\n",
    "    response = requests.get(url, params = query_string, headers=headers)\n",
    "    data = response.json()\n",
    "    if type(data) == list:\n",
    "        return data[0]\n",
    "    else:\n",
    "        return data\n",
    "\n",
    "geocode(\"Hinds Hall Syracuse University Syracuse NY\")"
   ]
  },
  {
   "cell_type": "code",
   "execution_count": 4,
   "metadata": {},
   "outputs": [
    {
     "ename": "NameError",
     "evalue": "name 'HTML' is not defined",
     "output_type": "error",
     "traceback": [
      "\u001b[0;31m---------------------------------------------------------------------------\u001b[0m",
      "\u001b[0;31mNameError\u001b[0m                                 Traceback (most recent call last)",
      "Cell \u001b[0;32mIn[4], line 1\u001b[0m\n\u001b[0;32m----> 1\u001b[0m display(\u001b[43mHTML\u001b[49m(\u001b[38;5;124m\"\u001b[39m\u001b[38;5;124m<h1>Yummy.com Restaurants</h1>\u001b[39m\u001b[38;5;124m\"\u001b[39m))\n\u001b[1;32m      2\u001b[0m interact_zomato\u001b[38;5;241m=\u001b[39minteract\u001b[38;5;241m.\u001b[39moptions(manual\u001b[38;5;241m=\u001b[39m\u001b[38;5;28;01mTrue\u001b[39;00m, manual_name\u001b[38;5;241m=\u001b[39m\u001b[38;5;124m\"\u001b[39m\u001b[38;5;124mFind Eateries!\u001b[39m\u001b[38;5;124m\"\u001b[39m)\n\u001b[1;32m      3\u001b[0m \u001b[38;5;129m@interact_zomato\u001b[39m(cuisine\u001b[38;5;241m=\u001b[39m\u001b[38;5;124m\"\u001b[39m\u001b[38;5;124m\"\u001b[39m, city\u001b[38;5;241m=\u001b[39m\u001b[38;5;124m\"\u001b[39m\u001b[38;5;124m\"\u001b[39m)\n\u001b[1;32m      4\u001b[0m \u001b[38;5;28;01mdef\u001b[39;00m \u001b[38;5;21mmain\u001b[39m(cuisine,city):\n",
      "\u001b[0;31mNameError\u001b[0m: name 'HTML' is not defined"
     ]
    }
   ],
   "source": [
    "display(HTML(\"<h1>Yummy.com Restaurants</h1>\"))\n",
    "interact_zomato=interact.options(manual=True, manual_name=\"Find Eateries!\")\n",
    "@interact_zomato(cuisine=\"\", city=\"\")\n",
    "def main(cuisine,city):\n",
    "    geo = geocode(city)\n",
    "    rests = googleapi.googlePlacesSearch(google_key, geo['lat'], geo['lon'], \"restaurant\", keyword=cuisine)\n",
    "    rests_df = pd.json_normalize(rests)\n",
    "    MAPCITY = (geo['lat'], geo['lon'])\n",
    "    rmap = folium.Map(location=MAPCITY, zoom_start=10, width=800, height=600)\n",
    "                    \n",
    "    for row in rests_df.to_records():\n",
    "        coords = (float(row['geometry.location.lat']),float(row['geometry.location.lng']))\n",
    "        loc = f\"<p><b>{row['name']}</b><br>{row['rating']}</p>\"\n",
    "        if row['rating'] > 4:\n",
    "            color = \"lightgreen\"\n",
    "        elif row['rating'] > 3:\n",
    "            color = 'green'\n",
    "        else:\n",
    "            color = 'darkgreen'            \n",
    "        marker = folium.Marker(location=coords, popup=loc,tooltip=loc, icon=folium.Icon(color=color))\n",
    "        rmap.add_child(marker)\n",
    "    display(rmap)"
   ]
  },
  {
   "cell_type": "code",
   "execution_count": null,
   "metadata": {},
   "outputs": [],
   "source": []
  }
 ],
 "metadata": {
  "kernelspec": {
   "display_name": "Python 3 (ipykernel)",
   "language": "python",
   "name": "python3"
  },
  "language_info": {
   "codemirror_mode": {
    "name": "ipython",
    "version": 3
   },
   "file_extension": ".py",
   "mimetype": "text/x-python",
   "name": "python",
   "nbconvert_exporter": "python",
   "pygments_lexer": "ipython3",
   "version": "3.12.8"
  },
  "varInspector": {
   "cols": {
    "lenName": 16,
    "lenType": 16,
    "lenVar": 40
   },
   "kernels_config": {
    "python": {
     "delete_cmd_postfix": "",
     "delete_cmd_prefix": "del ",
     "library": "var_list.py",
     "varRefreshCmd": "print(var_dic_list())"
    },
    "r": {
     "delete_cmd_postfix": ") ",
     "delete_cmd_prefix": "rm(",
     "library": "var_list.r",
     "varRefreshCmd": "cat(var_dic_list()) "
    }
   },
   "types_to_exclude": [
    "module",
    "function",
    "builtin_function_or_method",
    "instance",
    "_Feature"
   ],
   "window_display": false
  }
 },
 "nbformat": 4,
 "nbformat_minor": 4
}
