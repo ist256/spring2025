{
 "cells": [
  {
   "cell_type": "markdown",
   "id": "21ba0de5-149b-4fd3-8cc5-b9dc21ab2abc",
   "metadata": {},
   "source": [
    "# ParkMagic! \n",
    "### An Example Student Final Project for IST256\n",
    "\n",
    "### By Michael Fudge\n",
    "\n",
    "- Students are asked to create something useful with what they learned in the course\n",
    "- This is usually some kind of data storytelling / app prototype / or both!\n",
    "- See bottom of document as for why this is an \"A\" level project.\n",
    "\n",
    "## Syracuse Park magic\n",
    "\n",
    "- Will you get a parking ticket? We hope not!\n",
    "- Data courtsey of Syracuse Open Data (https://data.syr.gov/)\n",
    "\n",
    "## New Stuff I Learned on my own:\n",
    "\n",
    "- Using the seaborn library for plots: https://seaborn.pydata.org/\n",
    "- Haversine for distance calculations: https://pypi.org/project/haversine/\n",
    "- Folium Custom Icons https://ocefpaf.github.io/python4oceanographers/blog/2015/11/02/icons/\n",
    "- Custom Data set from Syracuse Open Data Portal\n",
    "\n",
    "## Analysis\n",
    "\n",
    "### Inputs\n",
    "\n",
    "Enter a location, day and time (hour) you want to park\n",
    "\n",
    "### Outputs\n",
    "\n",
    "I will let you know your chances of getting a ticket (based on the data) and show tickets within a block or so of the location.\n",
    "\n",
    "That way you can decide if you should pay for parking or not!\n",
    "\n",
    "### Algorithms\n",
    "\n",
    "Creating the final dataset\n",
    "\n",
    "1. Load in the Syracuse Parking data\n",
    "2. figure out the day of the week / hour of the day for the ticket\n",
    "3. geocode the location to a lat/lon so it can be mapped\n",
    "4. save the dataset\n",
    "\n",
    "\n",
    "Calculating the probabilities\n",
    "\n",
    "1. for the finalized dataset:\n",
    "2. create a table of probabilities of getting a parking ticket on day of week X\n",
    "3. do the same for hour of the day \n",
    "\n",
    "\n",
    "Main Alogirithm\n",
    "\n",
    "1. load final dataset\n",
    "2. get probabilities for day and hour from dataset\n",
    "3. get inputs: location, day of week, and hour of day\n",
    "4. geocode the input location, place it on the map\n",
    "5. determine if input day is > average for that day\n",
    "6. determine if input hour is > average for that hour\n",
    "7. find parking tickets within a block (0.1 of a mile)\n",
    "8. display chances of getting a ticket\n",
    "9. display the map of parking tickets"
   ]
  },
  {
   "cell_type": "code",
   "execution_count": 1,
   "id": "d0eec1cf-697a-4ccc-a51f-97fdd6d9a24e",
   "metadata": {
    "tags": []
   },
   "outputs": [
    {
     "name": "stdout",
     "output_type": "stream",
     "text": [
      "Note: you may need to restart the kernel to use updated packages.\n"
     ]
    }
   ],
   "source": [
    "%pip install -q haversine"
   ]
  },
  {
   "cell_type": "code",
   "execution_count": 2,
   "id": "dad3cb01-79d4-42df-93c9-ecc74e6ba018",
   "metadata": {
    "tags": []
   },
   "outputs": [],
   "source": [
    "from IPython.display import display, HTML, Image\n",
    "from ipywidgets import interact_manual\n",
    "import pandas as pd\n",
    "import numpy as np\n",
    "import requests\n",
    "import json\n",
    "from datetime import datetime\n",
    "from time import sleep\n",
    "import seaborn as sns\n",
    "import folium\n",
    "from haversine import haversine, Unit\n"
   ]
  },
  {
   "cell_type": "markdown",
   "id": "5a8470fa-ed2d-43fe-8755-3d40a914e10a",
   "metadata": {},
   "source": [
    "# Part I: Exploratory Data Analysis\n",
    "\n",
    "The purpose of an exploratory data analysis is to:\n",
    "\n",
    "- Figure out \"what you have\"\n",
    "- Understand how it can be used to tell a story\n",
    "- Determine what is compelling to share as part of your story\n",
    "- Build and enrich the dataset as needed to tell a better story.\n",
    "\n",
    "The Titanic Lab from lesson 10 is an example of an exploratory data analysis.\n",
    "\n",
    "## Explore the Data, Creating A Final Dataset\n",
    "\n",
    "This section generates the final dataset `final_cuse_parking_violations.csv` from the source data `Parking_Violations_2023.csv` which was downloaded from the Syracuse Open Data Portal (https://data.syr.gov/) \n",
    "\n",
    "It does this after exploring the data for meaningful insights that will be included in the data story."
   ]
  },
  {
   "cell_type": "code",
   "execution_count": 3,
   "id": "b0453906-ac3b-4000-a2f9-038fc0b20008",
   "metadata": {
    "tags": []
   },
   "outputs": [],
   "source": [
    "# read in the parking violations original dataset\n",
    "pv = pd.read_csv(\"Parking_Violations_2023.csv\")"
   ]
  },
  {
   "cell_type": "code",
   "execution_count": 4,
   "id": "6b167326-b023-4cfc-bbfc-4534d4c208d2",
   "metadata": {
    "tags": []
   },
   "outputs": [
    {
     "data": {
      "text/html": [
       "<div>\n",
       "<style scoped>\n",
       "    .dataframe tbody tr th:only-of-type {\n",
       "        vertical-align: middle;\n",
       "    }\n",
       "\n",
       "    .dataframe tbody tr th {\n",
       "        vertical-align: top;\n",
       "    }\n",
       "\n",
       "    .dataframe thead th {\n",
       "        text-align: right;\n",
       "    }\n",
       "</style>\n",
       "<table border=\"1\" class=\"dataframe\">\n",
       "  <thead>\n",
       "    <tr style=\"text-align: right;\">\n",
       "      <th></th>\n",
       "      <th>X</th>\n",
       "      <th>Y</th>\n",
       "      <th>OBJECTID</th>\n",
       "      <th>ticket_number</th>\n",
       "      <th>issued_date</th>\n",
       "      <th>location</th>\n",
       "      <th>description</th>\n",
       "      <th>status</th>\n",
       "      <th>amount</th>\n",
       "    </tr>\n",
       "  </thead>\n",
       "  <tbody>\n",
       "    <tr>\n",
       "      <th>5435</th>\n",
       "      <td>NaN</td>\n",
       "      <td>NaN</td>\n",
       "      <td>5436</td>\n",
       "      <td>23500771</td>\n",
       "      <td>2023/01/31 13:10:00+00</td>\n",
       "      <td>100 MARSHALL ST</td>\n",
       "      <td>NONE/ONE LICENSE PLATE/ALL VTL402-1</td>\n",
       "      <td>Adjudication Pending</td>\n",
       "      <td>25</td>\n",
       "    </tr>\n",
       "    <tr>\n",
       "      <th>5850</th>\n",
       "      <td>NaN</td>\n",
       "      <td>NaN</td>\n",
       "      <td>5851</td>\n",
       "      <td>349345D</td>\n",
       "      <td>2023/01/25 14:01:00+00</td>\n",
       "      <td>400 MONTGOMERY ST</td>\n",
       "      <td>NO STOPPING ANY TIME CO15-316 (A)14</td>\n",
       "      <td>Paid In Full</td>\n",
       "      <td>25</td>\n",
       "    </tr>\n",
       "    <tr>\n",
       "      <th>10200</th>\n",
       "      <td>NaN</td>\n",
       "      <td>NaN</td>\n",
       "      <td>10201</td>\n",
       "      <td>230900803</td>\n",
       "      <td>2023/02/27 13:39:00+00</td>\n",
       "      <td>300 WAVERLY AVE</td>\n",
       "      <td>NO STOPPING ANY TIME CO15-316 (A)14</td>\n",
       "      <td>Paid In Full</td>\n",
       "      <td>25</td>\n",
       "    </tr>\n",
       "    <tr>\n",
       "      <th>1458</th>\n",
       "      <td>NaN</td>\n",
       "      <td>NaN</td>\n",
       "      <td>1459</td>\n",
       "      <td>23500247</td>\n",
       "      <td>2023/01/11 09:44:00+00</td>\n",
       "      <td>100 DELL ST</td>\n",
       "      <td>OBSTRUCTING TRAFFIC/ALL CO15-317</td>\n",
       "      <td>Fourth Notice</td>\n",
       "      <td>60</td>\n",
       "    </tr>\n",
       "    <tr>\n",
       "      <th>2066</th>\n",
       "      <td>NaN</td>\n",
       "      <td>NaN</td>\n",
       "      <td>2067</td>\n",
       "      <td>23500284</td>\n",
       "      <td>2023/01/12 09:32:00+00</td>\n",
       "      <td>200 BUCKINGHAM AVE</td>\n",
       "      <td>UNINSPECTED/ ALL TIMES VTL 306-B</td>\n",
       "      <td>Void Approved</td>\n",
       "      <td>0</td>\n",
       "    </tr>\n",
       "    <tr>\n",
       "      <th>1089</th>\n",
       "      <td>-8.477183e+06</td>\n",
       "      <td>5.319493e+06</td>\n",
       "      <td>1090</td>\n",
       "      <td>230900112</td>\n",
       "      <td>2023/01/09 10:36:00+00</td>\n",
       "      <td>100 WASHINGTON ST E</td>\n",
       "      <td>NO STPNG HERE TO CNR/ALL CO15-316(A)6</td>\n",
       "      <td>Fourth Notice</td>\n",
       "      <td>25</td>\n",
       "    </tr>\n",
       "    <tr>\n",
       "      <th>13486</th>\n",
       "      <td>-8.478806e+06</td>\n",
       "      <td>5.319750e+06</td>\n",
       "      <td>13487</td>\n",
       "      <td>231301263</td>\n",
       "      <td>2023/03/13 11:56:00+00</td>\n",
       "      <td>400 WILKINSON ST</td>\n",
       "      <td>LEFT WHEELS TO CURB/ALL CO15-301</td>\n",
       "      <td>Second Notice</td>\n",
       "      <td>25</td>\n",
       "    </tr>\n",
       "    <tr>\n",
       "      <th>13483</th>\n",
       "      <td>-8.478806e+06</td>\n",
       "      <td>5.319750e+06</td>\n",
       "      <td>13484</td>\n",
       "      <td>231301259</td>\n",
       "      <td>2023/03/13 11:53:00+00</td>\n",
       "      <td>400 WILKINSON ST</td>\n",
       "      <td>ODD/EVEN PARKING NOV-MAR CO15-318 (A)2</td>\n",
       "      <td>Paid In Full</td>\n",
       "      <td>60</td>\n",
       "    </tr>\n",
       "    <tr>\n",
       "      <th>2835</th>\n",
       "      <td>NaN</td>\n",
       "      <td>NaN</td>\n",
       "      <td>2836</td>\n",
       "      <td>231500468</td>\n",
       "      <td>2023/01/19 11:35:00+00</td>\n",
       "      <td>700 CROUSE AVE N</td>\n",
       "      <td>PARKED IN LOADING ZONE/ALL CO15-329</td>\n",
       "      <td>Issued</td>\n",
       "      <td>25</td>\n",
       "    </tr>\n",
       "    <tr>\n",
       "      <th>3145</th>\n",
       "      <td>NaN</td>\n",
       "      <td>NaN</td>\n",
       "      <td>3146</td>\n",
       "      <td>397214D</td>\n",
       "      <td>2023/01/12 09:56:00+00</td>\n",
       "      <td>200 WASHINGTON ST W</td>\n",
       "      <td>MISC</td>\n",
       "      <td>Paid In Full</td>\n",
       "      <td>25</td>\n",
       "    </tr>\n",
       "  </tbody>\n",
       "</table>\n",
       "</div>"
      ],
      "text/plain": [
       "                  X             Y  OBJECTID ticket_number  \\\n",
       "5435            NaN           NaN      5436      23500771   \n",
       "5850            NaN           NaN      5851       349345D   \n",
       "10200           NaN           NaN     10201     230900803   \n",
       "1458            NaN           NaN      1459      23500247   \n",
       "2066            NaN           NaN      2067      23500284   \n",
       "1089  -8.477183e+06  5.319493e+06      1090     230900112   \n",
       "13486 -8.478806e+06  5.319750e+06     13487     231301263   \n",
       "13483 -8.478806e+06  5.319750e+06     13484     231301259   \n",
       "2835            NaN           NaN      2836     231500468   \n",
       "3145            NaN           NaN      3146       397214D   \n",
       "\n",
       "                  issued_date             location  \\\n",
       "5435   2023/01/31 13:10:00+00      100 MARSHALL ST   \n",
       "5850   2023/01/25 14:01:00+00    400 MONTGOMERY ST   \n",
       "10200  2023/02/27 13:39:00+00      300 WAVERLY AVE   \n",
       "1458   2023/01/11 09:44:00+00          100 DELL ST   \n",
       "2066   2023/01/12 09:32:00+00   200 BUCKINGHAM AVE   \n",
       "1089   2023/01/09 10:36:00+00  100 WASHINGTON ST E   \n",
       "13486  2023/03/13 11:56:00+00     400 WILKINSON ST   \n",
       "13483  2023/03/13 11:53:00+00     400 WILKINSON ST   \n",
       "2835   2023/01/19 11:35:00+00     700 CROUSE AVE N   \n",
       "3145   2023/01/12 09:56:00+00  200 WASHINGTON ST W   \n",
       "\n",
       "                                  description                 status  amount  \n",
       "5435      NONE/ONE LICENSE PLATE/ALL VTL402-1  Adjudication Pending       25  \n",
       "5850      NO STOPPING ANY TIME CO15-316 (A)14           Paid In Full      25  \n",
       "10200     NO STOPPING ANY TIME CO15-316 (A)14           Paid In Full      25  \n",
       "1458         OBSTRUCTING TRAFFIC/ALL CO15-317          Fourth Notice      60  \n",
       "2066         UNINSPECTED/ ALL TIMES VTL 306-B          Void Approved       0  \n",
       "1089    NO STPNG HERE TO CNR/ALL CO15-316(A)6          Fourth Notice      25  \n",
       "13486        LEFT WHEELS TO CURB/ALL CO15-301          Second Notice      25  \n",
       "13483  ODD/EVEN PARKING NOV-MAR CO15-318 (A)2           Paid In Full      60  \n",
       "2835      PARKED IN LOADING ZONE/ALL CO15-329                 Issued      25  \n",
       "3145                                     MISC           Paid In Full      25  "
      ]
     },
     "execution_count": 4,
     "metadata": {},
     "output_type": "execute_result"
    }
   ],
   "source": [
    "pv.sample(10)"
   ]
  },
  {
   "cell_type": "markdown",
   "id": "0002913f-698e-4aa4-b2d6-035215779404",
   "metadata": {},
   "source": [
    "### Demonstrating What You Learned, While showing you can learn on your own!\n",
    "\n",
    "These functions help enrich the data set the first one will extract the day of the week from the date, the second will exctract the hour of the day from the time. \n",
    "\n",
    "Why these? After exploring the data, I determined it would be interesting to investigate if more parking tickets are given out on a specific day of the week or time of day."
   ]
  },
  {
   "cell_type": "code",
   "execution_count": 5,
   "id": "141736b4-da6c-4c11-9100-81df8e0f1057",
   "metadata": {
    "tags": []
   },
   "outputs": [],
   "source": [
    "from datetime import datetime\n",
    "def get_day_of_week(datestring):\n",
    "    '''\n",
    "    This function returns the day of the week (Monday, Tuesday, etc..) \n",
    "    for an input date string in the format:\n",
    "    YYYY/MM/DD HH:MM:SS+00\n",
    "    '''\n",
    "    dow = datetime.strptime(datestring, \"%Y/%m/%d %H:%M:%S+00\").strftime(\"%A\")\n",
    "    return dow\n",
    "\n",
    "assert get_day_of_week(\"2023/11/27 14:30:00+00\")  == \"Monday\""
   ]
  },
  {
   "cell_type": "code",
   "execution_count": 6,
   "id": "fa60b13c-579d-4d18-8f22-73fd9a391a58",
   "metadata": {
    "tags": []
   },
   "outputs": [],
   "source": [
    "def get_hour_of_day(datestring):\n",
    "    '''\n",
    "    This function returns the hour of the day (01, 23, etc..) \n",
    "    for an input date string in the format:\n",
    "    YYYY/MM/DD HH:MM:SS+00\n",
    "    '''    \n",
    "    hod = datetime.strptime(datestring, \"%Y/%m/%d %H:%M:%S+00\").strftime(\"%H\")\n",
    "    return hod\n",
    "\n",
    "assert get_hour_of_day(\"2023/11/27 14:30:00+00\") == \"14\""
   ]
  },
  {
   "cell_type": "markdown",
   "id": "06120745-de0b-47f4-a6a3-1a6b9c9be872",
   "metadata": {},
   "source": [
    "use pandas `apply()` to generate a new column..."
   ]
  },
  {
   "cell_type": "code",
   "execution_count": 7,
   "id": "027ca135-a690-4f16-98d5-462dc772bf42",
   "metadata": {
    "tags": []
   },
   "outputs": [],
   "source": [
    "# Engineer dayofweek and hourofday columns we will need\n",
    "pv['dayofweek'] = pv['issued_date'].apply(lambda dt: get_day_of_week(dt))\n",
    "pv['hour'] = pv['issued_date'].apply(lambda dt: get_hour_of_day(dt))"
   ]
  },
  {
   "cell_type": "code",
   "execution_count": 8,
   "id": "f256237f-5253-4ded-8fd3-3eb55446a767",
   "metadata": {
    "tags": []
   },
   "outputs": [
    {
     "data": {
      "text/html": [
       "<div>\n",
       "<style scoped>\n",
       "    .dataframe tbody tr th:only-of-type {\n",
       "        vertical-align: middle;\n",
       "    }\n",
       "\n",
       "    .dataframe tbody tr th {\n",
       "        vertical-align: top;\n",
       "    }\n",
       "\n",
       "    .dataframe thead th {\n",
       "        text-align: right;\n",
       "    }\n",
       "</style>\n",
       "<table border=\"1\" class=\"dataframe\">\n",
       "  <thead>\n",
       "    <tr style=\"text-align: right;\">\n",
       "      <th></th>\n",
       "      <th>X</th>\n",
       "      <th>Y</th>\n",
       "      <th>OBJECTID</th>\n",
       "      <th>ticket_number</th>\n",
       "      <th>issued_date</th>\n",
       "      <th>location</th>\n",
       "      <th>description</th>\n",
       "      <th>status</th>\n",
       "      <th>amount</th>\n",
       "      <th>dayofweek</th>\n",
       "      <th>hour</th>\n",
       "    </tr>\n",
       "  </thead>\n",
       "  <tbody>\n",
       "    <tr>\n",
       "      <th>8317</th>\n",
       "      <td>-8.476223e+06</td>\n",
       "      <td>5.321730e+06</td>\n",
       "      <td>8318</td>\n",
       "      <td>230700864</td>\n",
       "      <td>2023/02/13 09:49:00+00</td>\n",
       "      <td>1000 BUTTERNUT ST</td>\n",
       "      <td>ODD/EVEN PARKING NOV-MAR CO15-318 (A)2</td>\n",
       "      <td>Third Notice</td>\n",
       "      <td>60</td>\n",
       "      <td>Monday</td>\n",
       "      <td>09</td>\n",
       "    </tr>\n",
       "    <tr>\n",
       "      <th>14891</th>\n",
       "      <td>NaN</td>\n",
       "      <td>NaN</td>\n",
       "      <td>14892</td>\n",
       "      <td>411284D</td>\n",
       "      <td>2023/03/13 23:45:00+00</td>\n",
       "      <td>800 PARK ST</td>\n",
       "      <td>ODD/EVEN PARKING NOV-MAR CO15-318 (A)2</td>\n",
       "      <td>Second Notice</td>\n",
       "      <td>60</td>\n",
       "      <td>Monday</td>\n",
       "      <td>23</td>\n",
       "    </tr>\n",
       "    <tr>\n",
       "      <th>6327</th>\n",
       "      <td>-8.474672e+06</td>\n",
       "      <td>5.321176e+06</td>\n",
       "      <td>6328</td>\n",
       "      <td>392015D</td>\n",
       "      <td>2023/01/27 05:18:00+00</td>\n",
       "      <td>100 DOROTHY ST</td>\n",
       "      <td>ODD/EVEN PARKING NOV-MAR CO15-318 (A)2</td>\n",
       "      <td>Paid In Full</td>\n",
       "      <td>60</td>\n",
       "      <td>Friday</td>\n",
       "      <td>05</td>\n",
       "    </tr>\n",
       "    <tr>\n",
       "      <th>10970</th>\n",
       "      <td>NaN</td>\n",
       "      <td>NaN</td>\n",
       "      <td>10971</td>\n",
       "      <td>408398D</td>\n",
       "      <td>2023/02/13 10:21:00+00</td>\n",
       "      <td>700 STATE ST S</td>\n",
       "      <td>UNREGSTRD/UNAFFIXD/ALL VTL401-1/403-1</td>\n",
       "      <td>Paid In Full</td>\n",
       "      <td>25</td>\n",
       "      <td>Monday</td>\n",
       "      <td>10</td>\n",
       "    </tr>\n",
       "    <tr>\n",
       "      <th>13271</th>\n",
       "      <td>-8.475378e+06</td>\n",
       "      <td>5.320349e+06</td>\n",
       "      <td>13272</td>\n",
       "      <td>231501740</td>\n",
       "      <td>2023/03/13 09:12:00+00</td>\n",
       "      <td>300 GERTRUDE ST</td>\n",
       "      <td>ODD/EVEN PARKING NOV-MAR CO15-318 (A)2</td>\n",
       "      <td>Issued</td>\n",
       "      <td>60</td>\n",
       "      <td>Monday</td>\n",
       "      <td>09</td>\n",
       "    </tr>\n",
       "    <tr>\n",
       "      <th>4829</th>\n",
       "      <td>NaN</td>\n",
       "      <td>NaN</td>\n",
       "      <td>4830</td>\n",
       "      <td>231500664</td>\n",
       "      <td>2023/01/26 11:31:00+00</td>\n",
       "      <td>300 MONTGOMERY ST</td>\n",
       "      <td>PARKED IN LOADING ZONE/ALL CO15-329</td>\n",
       "      <td>Fourth Notice</td>\n",
       "      <td>25</td>\n",
       "      <td>Thursday</td>\n",
       "      <td>11</td>\n",
       "    </tr>\n",
       "    <tr>\n",
       "      <th>2312</th>\n",
       "      <td>-8.476877e+06</td>\n",
       "      <td>5.320206e+06</td>\n",
       "      <td>2313</td>\n",
       "      <td>231500332</td>\n",
       "      <td>2023/01/13 10:56:00+00</td>\n",
       "      <td>300 HICKORY ST</td>\n",
       "      <td>UNREGSTRD/UNAFFIXD/ALL VTL401-1/403-1</td>\n",
       "      <td>Paid In Full</td>\n",
       "      <td>25</td>\n",
       "      <td>Friday</td>\n",
       "      <td>10</td>\n",
       "    </tr>\n",
       "    <tr>\n",
       "      <th>8411</th>\n",
       "      <td>NaN</td>\n",
       "      <td>NaN</td>\n",
       "      <td>8412</td>\n",
       "      <td>231501019</td>\n",
       "      <td>2023/02/13 11:21:00+00</td>\n",
       "      <td>700 IRVING AVE</td>\n",
       "      <td>NO STOPPING ANY TIME CO15-316 (A)14</td>\n",
       "      <td>Paid In Full</td>\n",
       "      <td>25</td>\n",
       "      <td>Monday</td>\n",
       "      <td>11</td>\n",
       "    </tr>\n",
       "    <tr>\n",
       "      <th>4878</th>\n",
       "      <td>NaN</td>\n",
       "      <td>NaN</td>\n",
       "      <td>4879</td>\n",
       "      <td>23500595</td>\n",
       "      <td>2023/01/26 10:24:00+00</td>\n",
       "      <td>100 HARVARD PL</td>\n",
       "      <td>NO STOPPING ANY TIME CO15-316 (A)14</td>\n",
       "      <td>Fourth Notice</td>\n",
       "      <td>25</td>\n",
       "      <td>Thursday</td>\n",
       "      <td>10</td>\n",
       "    </tr>\n",
       "    <tr>\n",
       "      <th>15334</th>\n",
       "      <td>NaN</td>\n",
       "      <td>NaN</td>\n",
       "      <td>15335</td>\n",
       "      <td>231501981</td>\n",
       "      <td>2023/03/22 10:51:00+00</td>\n",
       "      <td>600 STATE ST S</td>\n",
       "      <td>OVERTIME PRKNG MON-SAT 9AM-6PM CO15-383</td>\n",
       "      <td>Issued</td>\n",
       "      <td>25</td>\n",
       "      <td>Wednesday</td>\n",
       "      <td>10</td>\n",
       "    </tr>\n",
       "  </tbody>\n",
       "</table>\n",
       "</div>"
      ],
      "text/plain": [
       "                  X             Y  OBJECTID ticket_number  \\\n",
       "8317  -8.476223e+06  5.321730e+06      8318     230700864   \n",
       "14891           NaN           NaN     14892       411284D   \n",
       "6327  -8.474672e+06  5.321176e+06      6328       392015D   \n",
       "10970           NaN           NaN     10971       408398D   \n",
       "13271 -8.475378e+06  5.320349e+06     13272     231501740   \n",
       "4829            NaN           NaN      4830     231500664   \n",
       "2312  -8.476877e+06  5.320206e+06      2313     231500332   \n",
       "8411            NaN           NaN      8412     231501019   \n",
       "4878            NaN           NaN      4879      23500595   \n",
       "15334           NaN           NaN     15335     231501981   \n",
       "\n",
       "                  issued_date           location  \\\n",
       "8317   2023/02/13 09:49:00+00  1000 BUTTERNUT ST   \n",
       "14891  2023/03/13 23:45:00+00        800 PARK ST   \n",
       "6327   2023/01/27 05:18:00+00     100 DOROTHY ST   \n",
       "10970  2023/02/13 10:21:00+00     700 STATE ST S   \n",
       "13271  2023/03/13 09:12:00+00    300 GERTRUDE ST   \n",
       "4829   2023/01/26 11:31:00+00  300 MONTGOMERY ST   \n",
       "2312   2023/01/13 10:56:00+00     300 HICKORY ST   \n",
       "8411   2023/02/13 11:21:00+00     700 IRVING AVE   \n",
       "4878   2023/01/26 10:24:00+00     100 HARVARD PL   \n",
       "15334  2023/03/22 10:51:00+00     600 STATE ST S   \n",
       "\n",
       "                                   description         status  amount  \\\n",
       "8317    ODD/EVEN PARKING NOV-MAR CO15-318 (A)2   Third Notice      60   \n",
       "14891   ODD/EVEN PARKING NOV-MAR CO15-318 (A)2  Second Notice      60   \n",
       "6327    ODD/EVEN PARKING NOV-MAR CO15-318 (A)2   Paid In Full      60   \n",
       "10970    UNREGSTRD/UNAFFIXD/ALL VTL401-1/403-1   Paid In Full      25   \n",
       "13271   ODD/EVEN PARKING NOV-MAR CO15-318 (A)2         Issued      60   \n",
       "4829       PARKED IN LOADING ZONE/ALL CO15-329  Fourth Notice      25   \n",
       "2312     UNREGSTRD/UNAFFIXD/ALL VTL401-1/403-1   Paid In Full      25   \n",
       "8411       NO STOPPING ANY TIME CO15-316 (A)14   Paid In Full      25   \n",
       "4878       NO STOPPING ANY TIME CO15-316 (A)14  Fourth Notice      25   \n",
       "15334  OVERTIME PRKNG MON-SAT 9AM-6PM CO15-383         Issued      25   \n",
       "\n",
       "       dayofweek hour  \n",
       "8317      Monday   09  \n",
       "14891     Monday   23  \n",
       "6327      Friday   05  \n",
       "10970     Monday   10  \n",
       "13271     Monday   09  \n",
       "4829    Thursday   11  \n",
       "2312      Friday   10  \n",
       "8411      Monday   11  \n",
       "4878    Thursday   10  \n",
       "15334  Wednesday   10  "
      ]
     },
     "execution_count": 8,
     "metadata": {},
     "output_type": "execute_result"
    }
   ],
   "source": [
    "pv.sample(10)"
   ]
  },
  {
   "cell_type": "code",
   "execution_count": 9,
   "id": "6b5c4a5b-245b-4bde-b3c8-e57856c26b7f",
   "metadata": {
    "tags": []
   },
   "outputs": [],
   "source": [
    "cache = {\n",
    "    '1000 EILEEN COLLINS BLVD SYRACUSE, NY' : (43.113505702811246,-76.11989651004016)\n",
    "}"
   ]
  },
  {
   "cell_type": "code",
   "execution_count": 10,
   "id": "66574676-afb7-4f03-be64-3ee1f979a19c",
   "metadata": {
    "tags": []
   },
   "outputs": [],
   "source": [
    "def geocode_syracuse(location):\n",
    "    '''\n",
    "    This will geocode the location. It uses a caching strategy\n",
    "    so that we don't keep geocoding the same addresses.\n",
    "    '''\n",
    "    global cache\n",
    "    location = f\"{location} SYRACUSE, NY\".upper()\n",
    "    lat, lon = cache.get(location, (0, 0))\n",
    "    if lat == 0 and lon == 0:\n",
    "        sleep(0.5) # to avoid an error when geocoding to quickly\n",
    "        query_string = {'q': location, 'format': 'json'}\n",
    "        headers = {\"user-agent\": \"ist256 example mafudge\"}\n",
    "        url = 'https://nominatim.openstreetmap.org/search'\n",
    "        response = requests.get(url, params=query_string, headers=headers)\n",
    "        response.raise_for_status()\n",
    "        geodata = response.json()\n",
    "        if geodata != []:\n",
    "            lat, lon = geodata[0]['lat'], geodata[0]['lon']\n",
    "            cache[location] = (lat, lon)\n",
    "            return (lat, lon)\n",
    "        else:\n",
    "            return (0, 0)\n",
    "    else:\n",
    "        return (lat, lon)\n",
    "# Testing with 2300 FAYETTE ST E syracuse, NY \n",
    "assert geocode_syracuse('2300 FAYETTE ST E') == ('43.048168', '-76.111425')"
   ]
  },
  {
   "cell_type": "code",
   "execution_count": 11,
   "id": "bd43cedd-af61-495c-88f6-07a8287e9119",
   "metadata": {},
   "outputs": [
    {
     "ename": "KeyboardInterrupt",
     "evalue": "",
     "output_type": "error",
     "traceback": [
      "\u001b[0;31m---------------------------------------------------------------------------\u001b[0m",
      "\u001b[0;31mKeyboardInterrupt\u001b[0m                         Traceback (most recent call last)",
      "Cell \u001b[0;32mIn[11], line 2\u001b[0m\n\u001b[1;32m      1\u001b[0m \u001b[38;5;66;03m# do the geocoding... this takes a while, so grab a drink while you wait!\u001b[39;00m\n\u001b[0;32m----> 2\u001b[0m pv[\u001b[38;5;124m'\u001b[39m\u001b[38;5;124mcoords\u001b[39m\u001b[38;5;124m'\u001b[39m] \u001b[38;5;241m=\u001b[39m \u001b[43mpv\u001b[49m\u001b[38;5;241;43m.\u001b[39;49m\u001b[43mapply\u001b[49m\u001b[43m(\u001b[49m\u001b[38;5;28;43;01mlambda\u001b[39;49;00m\u001b[43m \u001b[49m\u001b[43mrow\u001b[49m\u001b[43m:\u001b[49m\u001b[43m \u001b[49m\u001b[43mgeocode_syracuse\u001b[49m\u001b[43m(\u001b[49m\u001b[43mrow\u001b[49m\u001b[43m[\u001b[49m\u001b[38;5;124;43m'\u001b[39;49m\u001b[38;5;124;43mlocation\u001b[39;49m\u001b[38;5;124;43m'\u001b[39;49m\u001b[43m]\u001b[49m\u001b[43m)\u001b[49m\u001b[43m,\u001b[49m\u001b[43m \u001b[49m\u001b[43maxis\u001b[49m\u001b[38;5;241;43m=\u001b[39;49m\u001b[38;5;241;43m1\u001b[39;49m\u001b[43m)\u001b[49m\n",
      "File \u001b[0;32m/opt/conda/lib/python3.12/site-packages/pandas/core/frame.py:10374\u001b[0m, in \u001b[0;36mDataFrame.apply\u001b[0;34m(self, func, axis, raw, result_type, args, by_row, engine, engine_kwargs, **kwargs)\u001b[0m\n\u001b[1;32m  10360\u001b[0m \u001b[38;5;28;01mfrom\u001b[39;00m \u001b[38;5;21;01mpandas\u001b[39;00m\u001b[38;5;21;01m.\u001b[39;00m\u001b[38;5;21;01mcore\u001b[39;00m\u001b[38;5;21;01m.\u001b[39;00m\u001b[38;5;21;01mapply\u001b[39;00m \u001b[38;5;28;01mimport\u001b[39;00m frame_apply\n\u001b[1;32m  10362\u001b[0m op \u001b[38;5;241m=\u001b[39m frame_apply(\n\u001b[1;32m  10363\u001b[0m     \u001b[38;5;28mself\u001b[39m,\n\u001b[1;32m  10364\u001b[0m     func\u001b[38;5;241m=\u001b[39mfunc,\n\u001b[0;32m   (...)\u001b[0m\n\u001b[1;32m  10372\u001b[0m     kwargs\u001b[38;5;241m=\u001b[39mkwargs,\n\u001b[1;32m  10373\u001b[0m )\n\u001b[0;32m> 10374\u001b[0m \u001b[38;5;28;01mreturn\u001b[39;00m \u001b[43mop\u001b[49m\u001b[38;5;241;43m.\u001b[39;49m\u001b[43mapply\u001b[49m\u001b[43m(\u001b[49m\u001b[43m)\u001b[49m\u001b[38;5;241m.\u001b[39m__finalize__(\u001b[38;5;28mself\u001b[39m, method\u001b[38;5;241m=\u001b[39m\u001b[38;5;124m\"\u001b[39m\u001b[38;5;124mapply\u001b[39m\u001b[38;5;124m\"\u001b[39m)\n",
      "File \u001b[0;32m/opt/conda/lib/python3.12/site-packages/pandas/core/apply.py:916\u001b[0m, in \u001b[0;36mFrameApply.apply\u001b[0;34m(self)\u001b[0m\n\u001b[1;32m    913\u001b[0m \u001b[38;5;28;01melif\u001b[39;00m \u001b[38;5;28mself\u001b[39m\u001b[38;5;241m.\u001b[39mraw:\n\u001b[1;32m    914\u001b[0m     \u001b[38;5;28;01mreturn\u001b[39;00m \u001b[38;5;28mself\u001b[39m\u001b[38;5;241m.\u001b[39mapply_raw(engine\u001b[38;5;241m=\u001b[39m\u001b[38;5;28mself\u001b[39m\u001b[38;5;241m.\u001b[39mengine, engine_kwargs\u001b[38;5;241m=\u001b[39m\u001b[38;5;28mself\u001b[39m\u001b[38;5;241m.\u001b[39mengine_kwargs)\n\u001b[0;32m--> 916\u001b[0m \u001b[38;5;28;01mreturn\u001b[39;00m \u001b[38;5;28;43mself\u001b[39;49m\u001b[38;5;241;43m.\u001b[39;49m\u001b[43mapply_standard\u001b[49m\u001b[43m(\u001b[49m\u001b[43m)\u001b[49m\n",
      "File \u001b[0;32m/opt/conda/lib/python3.12/site-packages/pandas/core/apply.py:1063\u001b[0m, in \u001b[0;36mFrameApply.apply_standard\u001b[0;34m(self)\u001b[0m\n\u001b[1;32m   1061\u001b[0m \u001b[38;5;28;01mdef\u001b[39;00m \u001b[38;5;21mapply_standard\u001b[39m(\u001b[38;5;28mself\u001b[39m):\n\u001b[1;32m   1062\u001b[0m     \u001b[38;5;28;01mif\u001b[39;00m \u001b[38;5;28mself\u001b[39m\u001b[38;5;241m.\u001b[39mengine \u001b[38;5;241m==\u001b[39m \u001b[38;5;124m\"\u001b[39m\u001b[38;5;124mpython\u001b[39m\u001b[38;5;124m\"\u001b[39m:\n\u001b[0;32m-> 1063\u001b[0m         results, res_index \u001b[38;5;241m=\u001b[39m \u001b[38;5;28;43mself\u001b[39;49m\u001b[38;5;241;43m.\u001b[39;49m\u001b[43mapply_series_generator\u001b[49m\u001b[43m(\u001b[49m\u001b[43m)\u001b[49m\n\u001b[1;32m   1064\u001b[0m     \u001b[38;5;28;01melse\u001b[39;00m:\n\u001b[1;32m   1065\u001b[0m         results, res_index \u001b[38;5;241m=\u001b[39m \u001b[38;5;28mself\u001b[39m\u001b[38;5;241m.\u001b[39mapply_series_numba()\n",
      "File \u001b[0;32m/opt/conda/lib/python3.12/site-packages/pandas/core/apply.py:1081\u001b[0m, in \u001b[0;36mFrameApply.apply_series_generator\u001b[0;34m(self)\u001b[0m\n\u001b[1;32m   1078\u001b[0m \u001b[38;5;28;01mwith\u001b[39;00m option_context(\u001b[38;5;124m\"\u001b[39m\u001b[38;5;124mmode.chained_assignment\u001b[39m\u001b[38;5;124m\"\u001b[39m, \u001b[38;5;28;01mNone\u001b[39;00m):\n\u001b[1;32m   1079\u001b[0m     \u001b[38;5;28;01mfor\u001b[39;00m i, v \u001b[38;5;129;01min\u001b[39;00m \u001b[38;5;28menumerate\u001b[39m(series_gen):\n\u001b[1;32m   1080\u001b[0m         \u001b[38;5;66;03m# ignore SettingWithCopy here in case the user mutates\u001b[39;00m\n\u001b[0;32m-> 1081\u001b[0m         results[i] \u001b[38;5;241m=\u001b[39m \u001b[38;5;28;43mself\u001b[39;49m\u001b[38;5;241;43m.\u001b[39;49m\u001b[43mfunc\u001b[49m\u001b[43m(\u001b[49m\u001b[43mv\u001b[49m\u001b[43m,\u001b[49m\u001b[43m \u001b[49m\u001b[38;5;241;43m*\u001b[39;49m\u001b[38;5;28;43mself\u001b[39;49m\u001b[38;5;241;43m.\u001b[39;49m\u001b[43margs\u001b[49m\u001b[43m,\u001b[49m\u001b[43m \u001b[49m\u001b[38;5;241;43m*\u001b[39;49m\u001b[38;5;241;43m*\u001b[39;49m\u001b[38;5;28;43mself\u001b[39;49m\u001b[38;5;241;43m.\u001b[39;49m\u001b[43mkwargs\u001b[49m\u001b[43m)\u001b[49m\n\u001b[1;32m   1082\u001b[0m         \u001b[38;5;28;01mif\u001b[39;00m \u001b[38;5;28misinstance\u001b[39m(results[i], ABCSeries):\n\u001b[1;32m   1083\u001b[0m             \u001b[38;5;66;03m# If we have a view on v, we need to make a copy because\u001b[39;00m\n\u001b[1;32m   1084\u001b[0m             \u001b[38;5;66;03m#  series_generator will swap out the underlying data\u001b[39;00m\n\u001b[1;32m   1085\u001b[0m             results[i] \u001b[38;5;241m=\u001b[39m results[i]\u001b[38;5;241m.\u001b[39mcopy(deep\u001b[38;5;241m=\u001b[39m\u001b[38;5;28;01mFalse\u001b[39;00m)\n",
      "Cell \u001b[0;32mIn[11], line 2\u001b[0m, in \u001b[0;36m<lambda>\u001b[0;34m(row)\u001b[0m\n\u001b[1;32m      1\u001b[0m \u001b[38;5;66;03m# do the geocoding... this takes a while, so grab a drink while you wait!\u001b[39;00m\n\u001b[0;32m----> 2\u001b[0m pv[\u001b[38;5;124m'\u001b[39m\u001b[38;5;124mcoords\u001b[39m\u001b[38;5;124m'\u001b[39m] \u001b[38;5;241m=\u001b[39m pv\u001b[38;5;241m.\u001b[39mapply(\u001b[38;5;28;01mlambda\u001b[39;00m row: \u001b[43mgeocode_syracuse\u001b[49m\u001b[43m(\u001b[49m\u001b[43mrow\u001b[49m\u001b[43m[\u001b[49m\u001b[38;5;124;43m'\u001b[39;49m\u001b[38;5;124;43mlocation\u001b[39;49m\u001b[38;5;124;43m'\u001b[39;49m\u001b[43m]\u001b[49m\u001b[43m)\u001b[49m, axis\u001b[38;5;241m=\u001b[39m\u001b[38;5;241m1\u001b[39m)\n",
      "Cell \u001b[0;32mIn[10], line 14\u001b[0m, in \u001b[0;36mgeocode_syracuse\u001b[0;34m(location)\u001b[0m\n\u001b[1;32m     12\u001b[0m headers \u001b[38;5;241m=\u001b[39m {\u001b[38;5;124m\"\u001b[39m\u001b[38;5;124muser-agent\u001b[39m\u001b[38;5;124m\"\u001b[39m: \u001b[38;5;124m\"\u001b[39m\u001b[38;5;124mist256 example mafudge\u001b[39m\u001b[38;5;124m\"\u001b[39m}\n\u001b[1;32m     13\u001b[0m url \u001b[38;5;241m=\u001b[39m \u001b[38;5;124m'\u001b[39m\u001b[38;5;124mhttps://nominatim.openstreetmap.org/search\u001b[39m\u001b[38;5;124m'\u001b[39m\n\u001b[0;32m---> 14\u001b[0m response \u001b[38;5;241m=\u001b[39m \u001b[43mrequests\u001b[49m\u001b[38;5;241;43m.\u001b[39;49m\u001b[43mget\u001b[49m\u001b[43m(\u001b[49m\u001b[43murl\u001b[49m\u001b[43m,\u001b[49m\u001b[43m \u001b[49m\u001b[43mparams\u001b[49m\u001b[38;5;241;43m=\u001b[39;49m\u001b[43mquery_string\u001b[49m\u001b[43m,\u001b[49m\u001b[43m \u001b[49m\u001b[43mheaders\u001b[49m\u001b[38;5;241;43m=\u001b[39;49m\u001b[43mheaders\u001b[49m\u001b[43m)\u001b[49m\n\u001b[1;32m     15\u001b[0m response\u001b[38;5;241m.\u001b[39mraise_for_status()\n\u001b[1;32m     16\u001b[0m geodata \u001b[38;5;241m=\u001b[39m response\u001b[38;5;241m.\u001b[39mjson()\n",
      "File \u001b[0;32m/opt/conda/lib/python3.12/site-packages/requests/api.py:73\u001b[0m, in \u001b[0;36mget\u001b[0;34m(url, params, **kwargs)\u001b[0m\n\u001b[1;32m     62\u001b[0m \u001b[38;5;28;01mdef\u001b[39;00m \u001b[38;5;21mget\u001b[39m(url, params\u001b[38;5;241m=\u001b[39m\u001b[38;5;28;01mNone\u001b[39;00m, \u001b[38;5;241m*\u001b[39m\u001b[38;5;241m*\u001b[39mkwargs):\n\u001b[1;32m     63\u001b[0m \u001b[38;5;250m    \u001b[39m\u001b[38;5;124mr\u001b[39m\u001b[38;5;124;03m\"\"\"Sends a GET request.\u001b[39;00m\n\u001b[1;32m     64\u001b[0m \n\u001b[1;32m     65\u001b[0m \u001b[38;5;124;03m    :param url: URL for the new :class:`Request` object.\u001b[39;00m\n\u001b[0;32m   (...)\u001b[0m\n\u001b[1;32m     70\u001b[0m \u001b[38;5;124;03m    :rtype: requests.Response\u001b[39;00m\n\u001b[1;32m     71\u001b[0m \u001b[38;5;124;03m    \"\"\"\u001b[39;00m\n\u001b[0;32m---> 73\u001b[0m     \u001b[38;5;28;01mreturn\u001b[39;00m \u001b[43mrequest\u001b[49m\u001b[43m(\u001b[49m\u001b[38;5;124;43m\"\u001b[39;49m\u001b[38;5;124;43mget\u001b[39;49m\u001b[38;5;124;43m\"\u001b[39;49m\u001b[43m,\u001b[49m\u001b[43m \u001b[49m\u001b[43murl\u001b[49m\u001b[43m,\u001b[49m\u001b[43m \u001b[49m\u001b[43mparams\u001b[49m\u001b[38;5;241;43m=\u001b[39;49m\u001b[43mparams\u001b[49m\u001b[43m,\u001b[49m\u001b[43m \u001b[49m\u001b[38;5;241;43m*\u001b[39;49m\u001b[38;5;241;43m*\u001b[39;49m\u001b[43mkwargs\u001b[49m\u001b[43m)\u001b[49m\n",
      "File \u001b[0;32m/opt/conda/lib/python3.12/site-packages/requests/api.py:59\u001b[0m, in \u001b[0;36mrequest\u001b[0;34m(method, url, **kwargs)\u001b[0m\n\u001b[1;32m     55\u001b[0m \u001b[38;5;66;03m# By using the 'with' statement we are sure the session is closed, thus we\u001b[39;00m\n\u001b[1;32m     56\u001b[0m \u001b[38;5;66;03m# avoid leaving sockets open which can trigger a ResourceWarning in some\u001b[39;00m\n\u001b[1;32m     57\u001b[0m \u001b[38;5;66;03m# cases, and look like a memory leak in others.\u001b[39;00m\n\u001b[1;32m     58\u001b[0m \u001b[38;5;28;01mwith\u001b[39;00m sessions\u001b[38;5;241m.\u001b[39mSession() \u001b[38;5;28;01mas\u001b[39;00m session:\n\u001b[0;32m---> 59\u001b[0m     \u001b[38;5;28;01mreturn\u001b[39;00m \u001b[43msession\u001b[49m\u001b[38;5;241;43m.\u001b[39;49m\u001b[43mrequest\u001b[49m\u001b[43m(\u001b[49m\u001b[43mmethod\u001b[49m\u001b[38;5;241;43m=\u001b[39;49m\u001b[43mmethod\u001b[49m\u001b[43m,\u001b[49m\u001b[43m \u001b[49m\u001b[43murl\u001b[49m\u001b[38;5;241;43m=\u001b[39;49m\u001b[43murl\u001b[49m\u001b[43m,\u001b[49m\u001b[43m \u001b[49m\u001b[38;5;241;43m*\u001b[39;49m\u001b[38;5;241;43m*\u001b[39;49m\u001b[43mkwargs\u001b[49m\u001b[43m)\u001b[49m\n",
      "File \u001b[0;32m/opt/conda/lib/python3.12/site-packages/requests/sessions.py:589\u001b[0m, in \u001b[0;36mSession.request\u001b[0;34m(self, method, url, params, data, headers, cookies, files, auth, timeout, allow_redirects, proxies, hooks, stream, verify, cert, json)\u001b[0m\n\u001b[1;32m    584\u001b[0m send_kwargs \u001b[38;5;241m=\u001b[39m {\n\u001b[1;32m    585\u001b[0m     \u001b[38;5;124m\"\u001b[39m\u001b[38;5;124mtimeout\u001b[39m\u001b[38;5;124m\"\u001b[39m: timeout,\n\u001b[1;32m    586\u001b[0m     \u001b[38;5;124m\"\u001b[39m\u001b[38;5;124mallow_redirects\u001b[39m\u001b[38;5;124m\"\u001b[39m: allow_redirects,\n\u001b[1;32m    587\u001b[0m }\n\u001b[1;32m    588\u001b[0m send_kwargs\u001b[38;5;241m.\u001b[39mupdate(settings)\n\u001b[0;32m--> 589\u001b[0m resp \u001b[38;5;241m=\u001b[39m \u001b[38;5;28;43mself\u001b[39;49m\u001b[38;5;241;43m.\u001b[39;49m\u001b[43msend\u001b[49m\u001b[43m(\u001b[49m\u001b[43mprep\u001b[49m\u001b[43m,\u001b[49m\u001b[43m \u001b[49m\u001b[38;5;241;43m*\u001b[39;49m\u001b[38;5;241;43m*\u001b[39;49m\u001b[43msend_kwargs\u001b[49m\u001b[43m)\u001b[49m\n\u001b[1;32m    591\u001b[0m \u001b[38;5;28;01mreturn\u001b[39;00m resp\n",
      "File \u001b[0;32m/opt/conda/lib/python3.12/site-packages/requests/sessions.py:703\u001b[0m, in \u001b[0;36mSession.send\u001b[0;34m(self, request, **kwargs)\u001b[0m\n\u001b[1;32m    700\u001b[0m start \u001b[38;5;241m=\u001b[39m preferred_clock()\n\u001b[1;32m    702\u001b[0m \u001b[38;5;66;03m# Send the request\u001b[39;00m\n\u001b[0;32m--> 703\u001b[0m r \u001b[38;5;241m=\u001b[39m \u001b[43madapter\u001b[49m\u001b[38;5;241;43m.\u001b[39;49m\u001b[43msend\u001b[49m\u001b[43m(\u001b[49m\u001b[43mrequest\u001b[49m\u001b[43m,\u001b[49m\u001b[43m \u001b[49m\u001b[38;5;241;43m*\u001b[39;49m\u001b[38;5;241;43m*\u001b[39;49m\u001b[43mkwargs\u001b[49m\u001b[43m)\u001b[49m\n\u001b[1;32m    705\u001b[0m \u001b[38;5;66;03m# Total elapsed time of the request (approximately)\u001b[39;00m\n\u001b[1;32m    706\u001b[0m elapsed \u001b[38;5;241m=\u001b[39m preferred_clock() \u001b[38;5;241m-\u001b[39m start\n",
      "File \u001b[0;32m/opt/conda/lib/python3.12/site-packages/requests/adapters.py:667\u001b[0m, in \u001b[0;36mHTTPAdapter.send\u001b[0;34m(self, request, stream, timeout, verify, cert, proxies)\u001b[0m\n\u001b[1;32m    664\u001b[0m     timeout \u001b[38;5;241m=\u001b[39m TimeoutSauce(connect\u001b[38;5;241m=\u001b[39mtimeout, read\u001b[38;5;241m=\u001b[39mtimeout)\n\u001b[1;32m    666\u001b[0m \u001b[38;5;28;01mtry\u001b[39;00m:\n\u001b[0;32m--> 667\u001b[0m     resp \u001b[38;5;241m=\u001b[39m \u001b[43mconn\u001b[49m\u001b[38;5;241;43m.\u001b[39;49m\u001b[43murlopen\u001b[49m\u001b[43m(\u001b[49m\n\u001b[1;32m    668\u001b[0m \u001b[43m        \u001b[49m\u001b[43mmethod\u001b[49m\u001b[38;5;241;43m=\u001b[39;49m\u001b[43mrequest\u001b[49m\u001b[38;5;241;43m.\u001b[39;49m\u001b[43mmethod\u001b[49m\u001b[43m,\u001b[49m\n\u001b[1;32m    669\u001b[0m \u001b[43m        \u001b[49m\u001b[43murl\u001b[49m\u001b[38;5;241;43m=\u001b[39;49m\u001b[43murl\u001b[49m\u001b[43m,\u001b[49m\n\u001b[1;32m    670\u001b[0m \u001b[43m        \u001b[49m\u001b[43mbody\u001b[49m\u001b[38;5;241;43m=\u001b[39;49m\u001b[43mrequest\u001b[49m\u001b[38;5;241;43m.\u001b[39;49m\u001b[43mbody\u001b[49m\u001b[43m,\u001b[49m\n\u001b[1;32m    671\u001b[0m \u001b[43m        \u001b[49m\u001b[43mheaders\u001b[49m\u001b[38;5;241;43m=\u001b[39;49m\u001b[43mrequest\u001b[49m\u001b[38;5;241;43m.\u001b[39;49m\u001b[43mheaders\u001b[49m\u001b[43m,\u001b[49m\n\u001b[1;32m    672\u001b[0m \u001b[43m        \u001b[49m\u001b[43mredirect\u001b[49m\u001b[38;5;241;43m=\u001b[39;49m\u001b[38;5;28;43;01mFalse\u001b[39;49;00m\u001b[43m,\u001b[49m\n\u001b[1;32m    673\u001b[0m \u001b[43m        \u001b[49m\u001b[43massert_same_host\u001b[49m\u001b[38;5;241;43m=\u001b[39;49m\u001b[38;5;28;43;01mFalse\u001b[39;49;00m\u001b[43m,\u001b[49m\n\u001b[1;32m    674\u001b[0m \u001b[43m        \u001b[49m\u001b[43mpreload_content\u001b[49m\u001b[38;5;241;43m=\u001b[39;49m\u001b[38;5;28;43;01mFalse\u001b[39;49;00m\u001b[43m,\u001b[49m\n\u001b[1;32m    675\u001b[0m \u001b[43m        \u001b[49m\u001b[43mdecode_content\u001b[49m\u001b[38;5;241;43m=\u001b[39;49m\u001b[38;5;28;43;01mFalse\u001b[39;49;00m\u001b[43m,\u001b[49m\n\u001b[1;32m    676\u001b[0m \u001b[43m        \u001b[49m\u001b[43mretries\u001b[49m\u001b[38;5;241;43m=\u001b[39;49m\u001b[38;5;28;43mself\u001b[39;49m\u001b[38;5;241;43m.\u001b[39;49m\u001b[43mmax_retries\u001b[49m\u001b[43m,\u001b[49m\n\u001b[1;32m    677\u001b[0m \u001b[43m        \u001b[49m\u001b[43mtimeout\u001b[49m\u001b[38;5;241;43m=\u001b[39;49m\u001b[43mtimeout\u001b[49m\u001b[43m,\u001b[49m\n\u001b[1;32m    678\u001b[0m \u001b[43m        \u001b[49m\u001b[43mchunked\u001b[49m\u001b[38;5;241;43m=\u001b[39;49m\u001b[43mchunked\u001b[49m\u001b[43m,\u001b[49m\n\u001b[1;32m    679\u001b[0m \u001b[43m    \u001b[49m\u001b[43m)\u001b[49m\n\u001b[1;32m    681\u001b[0m \u001b[38;5;28;01mexcept\u001b[39;00m (ProtocolError, \u001b[38;5;167;01mOSError\u001b[39;00m) \u001b[38;5;28;01mas\u001b[39;00m err:\n\u001b[1;32m    682\u001b[0m     \u001b[38;5;28;01mraise\u001b[39;00m \u001b[38;5;167;01mConnectionError\u001b[39;00m(err, request\u001b[38;5;241m=\u001b[39mrequest)\n",
      "File \u001b[0;32m/opt/conda/lib/python3.12/site-packages/urllib3/connectionpool.py:787\u001b[0m, in \u001b[0;36mHTTPConnectionPool.urlopen\u001b[0;34m(self, method, url, body, headers, retries, redirect, assert_same_host, timeout, pool_timeout, release_conn, chunked, body_pos, preload_content, decode_content, **response_kw)\u001b[0m\n\u001b[1;32m    784\u001b[0m response_conn \u001b[38;5;241m=\u001b[39m conn \u001b[38;5;28;01mif\u001b[39;00m \u001b[38;5;129;01mnot\u001b[39;00m release_conn \u001b[38;5;28;01melse\u001b[39;00m \u001b[38;5;28;01mNone\u001b[39;00m\n\u001b[1;32m    786\u001b[0m \u001b[38;5;66;03m# Make the request on the HTTPConnection object\u001b[39;00m\n\u001b[0;32m--> 787\u001b[0m response \u001b[38;5;241m=\u001b[39m \u001b[38;5;28;43mself\u001b[39;49m\u001b[38;5;241;43m.\u001b[39;49m\u001b[43m_make_request\u001b[49m\u001b[43m(\u001b[49m\n\u001b[1;32m    788\u001b[0m \u001b[43m    \u001b[49m\u001b[43mconn\u001b[49m\u001b[43m,\u001b[49m\n\u001b[1;32m    789\u001b[0m \u001b[43m    \u001b[49m\u001b[43mmethod\u001b[49m\u001b[43m,\u001b[49m\n\u001b[1;32m    790\u001b[0m \u001b[43m    \u001b[49m\u001b[43murl\u001b[49m\u001b[43m,\u001b[49m\n\u001b[1;32m    791\u001b[0m \u001b[43m    \u001b[49m\u001b[43mtimeout\u001b[49m\u001b[38;5;241;43m=\u001b[39;49m\u001b[43mtimeout_obj\u001b[49m\u001b[43m,\u001b[49m\n\u001b[1;32m    792\u001b[0m \u001b[43m    \u001b[49m\u001b[43mbody\u001b[49m\u001b[38;5;241;43m=\u001b[39;49m\u001b[43mbody\u001b[49m\u001b[43m,\u001b[49m\n\u001b[1;32m    793\u001b[0m \u001b[43m    \u001b[49m\u001b[43mheaders\u001b[49m\u001b[38;5;241;43m=\u001b[39;49m\u001b[43mheaders\u001b[49m\u001b[43m,\u001b[49m\n\u001b[1;32m    794\u001b[0m \u001b[43m    \u001b[49m\u001b[43mchunked\u001b[49m\u001b[38;5;241;43m=\u001b[39;49m\u001b[43mchunked\u001b[49m\u001b[43m,\u001b[49m\n\u001b[1;32m    795\u001b[0m \u001b[43m    \u001b[49m\u001b[43mretries\u001b[49m\u001b[38;5;241;43m=\u001b[39;49m\u001b[43mretries\u001b[49m\u001b[43m,\u001b[49m\n\u001b[1;32m    796\u001b[0m \u001b[43m    \u001b[49m\u001b[43mresponse_conn\u001b[49m\u001b[38;5;241;43m=\u001b[39;49m\u001b[43mresponse_conn\u001b[49m\u001b[43m,\u001b[49m\n\u001b[1;32m    797\u001b[0m \u001b[43m    \u001b[49m\u001b[43mpreload_content\u001b[49m\u001b[38;5;241;43m=\u001b[39;49m\u001b[43mpreload_content\u001b[49m\u001b[43m,\u001b[49m\n\u001b[1;32m    798\u001b[0m \u001b[43m    \u001b[49m\u001b[43mdecode_content\u001b[49m\u001b[38;5;241;43m=\u001b[39;49m\u001b[43mdecode_content\u001b[49m\u001b[43m,\u001b[49m\n\u001b[1;32m    799\u001b[0m \u001b[43m    \u001b[49m\u001b[38;5;241;43m*\u001b[39;49m\u001b[38;5;241;43m*\u001b[39;49m\u001b[43mresponse_kw\u001b[49m\u001b[43m,\u001b[49m\n\u001b[1;32m    800\u001b[0m \u001b[43m\u001b[49m\u001b[43m)\u001b[49m\n\u001b[1;32m    802\u001b[0m \u001b[38;5;66;03m# Everything went great!\u001b[39;00m\n\u001b[1;32m    803\u001b[0m clean_exit \u001b[38;5;241m=\u001b[39m \u001b[38;5;28;01mTrue\u001b[39;00m\n",
      "File \u001b[0;32m/opt/conda/lib/python3.12/site-packages/urllib3/connectionpool.py:534\u001b[0m, in \u001b[0;36mHTTPConnectionPool._make_request\u001b[0;34m(self, conn, method, url, body, headers, retries, timeout, chunked, response_conn, preload_content, decode_content, enforce_content_length)\u001b[0m\n\u001b[1;32m    532\u001b[0m \u001b[38;5;66;03m# Receive the response from the server\u001b[39;00m\n\u001b[1;32m    533\u001b[0m \u001b[38;5;28;01mtry\u001b[39;00m:\n\u001b[0;32m--> 534\u001b[0m     response \u001b[38;5;241m=\u001b[39m \u001b[43mconn\u001b[49m\u001b[38;5;241;43m.\u001b[39;49m\u001b[43mgetresponse\u001b[49m\u001b[43m(\u001b[49m\u001b[43m)\u001b[49m\n\u001b[1;32m    535\u001b[0m \u001b[38;5;28;01mexcept\u001b[39;00m (BaseSSLError, \u001b[38;5;167;01mOSError\u001b[39;00m) \u001b[38;5;28;01mas\u001b[39;00m e:\n\u001b[1;32m    536\u001b[0m     \u001b[38;5;28mself\u001b[39m\u001b[38;5;241m.\u001b[39m_raise_timeout(err\u001b[38;5;241m=\u001b[39me, url\u001b[38;5;241m=\u001b[39murl, timeout_value\u001b[38;5;241m=\u001b[39mread_timeout)\n",
      "File \u001b[0;32m/opt/conda/lib/python3.12/site-packages/urllib3/connection.py:516\u001b[0m, in \u001b[0;36mHTTPConnection.getresponse\u001b[0;34m(self)\u001b[0m\n\u001b[1;32m    513\u001b[0m _shutdown \u001b[38;5;241m=\u001b[39m \u001b[38;5;28mgetattr\u001b[39m(\u001b[38;5;28mself\u001b[39m\u001b[38;5;241m.\u001b[39msock, \u001b[38;5;124m\"\u001b[39m\u001b[38;5;124mshutdown\u001b[39m\u001b[38;5;124m\"\u001b[39m, \u001b[38;5;28;01mNone\u001b[39;00m)\n\u001b[1;32m    515\u001b[0m \u001b[38;5;66;03m# Get the response from http.client.HTTPConnection\u001b[39;00m\n\u001b[0;32m--> 516\u001b[0m httplib_response \u001b[38;5;241m=\u001b[39m \u001b[38;5;28;43msuper\u001b[39;49m\u001b[43m(\u001b[49m\u001b[43m)\u001b[49m\u001b[38;5;241;43m.\u001b[39;49m\u001b[43mgetresponse\u001b[49m\u001b[43m(\u001b[49m\u001b[43m)\u001b[49m\n\u001b[1;32m    518\u001b[0m \u001b[38;5;28;01mtry\u001b[39;00m:\n\u001b[1;32m    519\u001b[0m     assert_header_parsing(httplib_response\u001b[38;5;241m.\u001b[39mmsg)\n",
      "File \u001b[0;32m/opt/conda/lib/python3.12/http/client.py:1428\u001b[0m, in \u001b[0;36mHTTPConnection.getresponse\u001b[0;34m(self)\u001b[0m\n\u001b[1;32m   1426\u001b[0m \u001b[38;5;28;01mtry\u001b[39;00m:\n\u001b[1;32m   1427\u001b[0m     \u001b[38;5;28;01mtry\u001b[39;00m:\n\u001b[0;32m-> 1428\u001b[0m         \u001b[43mresponse\u001b[49m\u001b[38;5;241;43m.\u001b[39;49m\u001b[43mbegin\u001b[49m\u001b[43m(\u001b[49m\u001b[43m)\u001b[49m\n\u001b[1;32m   1429\u001b[0m     \u001b[38;5;28;01mexcept\u001b[39;00m \u001b[38;5;167;01mConnectionError\u001b[39;00m:\n\u001b[1;32m   1430\u001b[0m         \u001b[38;5;28mself\u001b[39m\u001b[38;5;241m.\u001b[39mclose()\n",
      "File \u001b[0;32m/opt/conda/lib/python3.12/http/client.py:331\u001b[0m, in \u001b[0;36mHTTPResponse.begin\u001b[0;34m(self)\u001b[0m\n\u001b[1;32m    329\u001b[0m \u001b[38;5;66;03m# read until we get a non-100 response\u001b[39;00m\n\u001b[1;32m    330\u001b[0m \u001b[38;5;28;01mwhile\u001b[39;00m \u001b[38;5;28;01mTrue\u001b[39;00m:\n\u001b[0;32m--> 331\u001b[0m     version, status, reason \u001b[38;5;241m=\u001b[39m \u001b[38;5;28;43mself\u001b[39;49m\u001b[38;5;241;43m.\u001b[39;49m\u001b[43m_read_status\u001b[49m\u001b[43m(\u001b[49m\u001b[43m)\u001b[49m\n\u001b[1;32m    332\u001b[0m     \u001b[38;5;28;01mif\u001b[39;00m status \u001b[38;5;241m!=\u001b[39m CONTINUE:\n\u001b[1;32m    333\u001b[0m         \u001b[38;5;28;01mbreak\u001b[39;00m\n",
      "File \u001b[0;32m/opt/conda/lib/python3.12/http/client.py:292\u001b[0m, in \u001b[0;36mHTTPResponse._read_status\u001b[0;34m(self)\u001b[0m\n\u001b[1;32m    291\u001b[0m \u001b[38;5;28;01mdef\u001b[39;00m \u001b[38;5;21m_read_status\u001b[39m(\u001b[38;5;28mself\u001b[39m):\n\u001b[0;32m--> 292\u001b[0m     line \u001b[38;5;241m=\u001b[39m \u001b[38;5;28mstr\u001b[39m(\u001b[38;5;28;43mself\u001b[39;49m\u001b[38;5;241;43m.\u001b[39;49m\u001b[43mfp\u001b[49m\u001b[38;5;241;43m.\u001b[39;49m\u001b[43mreadline\u001b[49m\u001b[43m(\u001b[49m\u001b[43m_MAXLINE\u001b[49m\u001b[43m \u001b[49m\u001b[38;5;241;43m+\u001b[39;49m\u001b[43m \u001b[49m\u001b[38;5;241;43m1\u001b[39;49m\u001b[43m)\u001b[49m, \u001b[38;5;124m\"\u001b[39m\u001b[38;5;124miso-8859-1\u001b[39m\u001b[38;5;124m\"\u001b[39m)\n\u001b[1;32m    293\u001b[0m     \u001b[38;5;28;01mif\u001b[39;00m \u001b[38;5;28mlen\u001b[39m(line) \u001b[38;5;241m>\u001b[39m _MAXLINE:\n\u001b[1;32m    294\u001b[0m         \u001b[38;5;28;01mraise\u001b[39;00m LineTooLong(\u001b[38;5;124m\"\u001b[39m\u001b[38;5;124mstatus line\u001b[39m\u001b[38;5;124m\"\u001b[39m)\n",
      "File \u001b[0;32m/opt/conda/lib/python3.12/socket.py:720\u001b[0m, in \u001b[0;36mSocketIO.readinto\u001b[0;34m(self, b)\u001b[0m\n\u001b[1;32m    718\u001b[0m \u001b[38;5;28;01mwhile\u001b[39;00m \u001b[38;5;28;01mTrue\u001b[39;00m:\n\u001b[1;32m    719\u001b[0m     \u001b[38;5;28;01mtry\u001b[39;00m:\n\u001b[0;32m--> 720\u001b[0m         \u001b[38;5;28;01mreturn\u001b[39;00m \u001b[38;5;28;43mself\u001b[39;49m\u001b[38;5;241;43m.\u001b[39;49m\u001b[43m_sock\u001b[49m\u001b[38;5;241;43m.\u001b[39;49m\u001b[43mrecv_into\u001b[49m\u001b[43m(\u001b[49m\u001b[43mb\u001b[49m\u001b[43m)\u001b[49m\n\u001b[1;32m    721\u001b[0m     \u001b[38;5;28;01mexcept\u001b[39;00m timeout:\n\u001b[1;32m    722\u001b[0m         \u001b[38;5;28mself\u001b[39m\u001b[38;5;241m.\u001b[39m_timeout_occurred \u001b[38;5;241m=\u001b[39m \u001b[38;5;28;01mTrue\u001b[39;00m\n",
      "File \u001b[0;32m/opt/conda/lib/python3.12/ssl.py:1251\u001b[0m, in \u001b[0;36mSSLSocket.recv_into\u001b[0;34m(self, buffer, nbytes, flags)\u001b[0m\n\u001b[1;32m   1247\u001b[0m     \u001b[38;5;28;01mif\u001b[39;00m flags \u001b[38;5;241m!=\u001b[39m \u001b[38;5;241m0\u001b[39m:\n\u001b[1;32m   1248\u001b[0m         \u001b[38;5;28;01mraise\u001b[39;00m \u001b[38;5;167;01mValueError\u001b[39;00m(\n\u001b[1;32m   1249\u001b[0m           \u001b[38;5;124m\"\u001b[39m\u001b[38;5;124mnon-zero flags not allowed in calls to recv_into() on \u001b[39m\u001b[38;5;132;01m%s\u001b[39;00m\u001b[38;5;124m\"\u001b[39m \u001b[38;5;241m%\u001b[39m\n\u001b[1;32m   1250\u001b[0m           \u001b[38;5;28mself\u001b[39m\u001b[38;5;241m.\u001b[39m\u001b[38;5;18m__class__\u001b[39m)\n\u001b[0;32m-> 1251\u001b[0m     \u001b[38;5;28;01mreturn\u001b[39;00m \u001b[38;5;28;43mself\u001b[39;49m\u001b[38;5;241;43m.\u001b[39;49m\u001b[43mread\u001b[49m\u001b[43m(\u001b[49m\u001b[43mnbytes\u001b[49m\u001b[43m,\u001b[49m\u001b[43m \u001b[49m\u001b[43mbuffer\u001b[49m\u001b[43m)\u001b[49m\n\u001b[1;32m   1252\u001b[0m \u001b[38;5;28;01melse\u001b[39;00m:\n\u001b[1;32m   1253\u001b[0m     \u001b[38;5;28;01mreturn\u001b[39;00m \u001b[38;5;28msuper\u001b[39m()\u001b[38;5;241m.\u001b[39mrecv_into(buffer, nbytes, flags)\n",
      "File \u001b[0;32m/opt/conda/lib/python3.12/ssl.py:1103\u001b[0m, in \u001b[0;36mSSLSocket.read\u001b[0;34m(self, len, buffer)\u001b[0m\n\u001b[1;32m   1101\u001b[0m \u001b[38;5;28;01mtry\u001b[39;00m:\n\u001b[1;32m   1102\u001b[0m     \u001b[38;5;28;01mif\u001b[39;00m buffer \u001b[38;5;129;01mis\u001b[39;00m \u001b[38;5;129;01mnot\u001b[39;00m \u001b[38;5;28;01mNone\u001b[39;00m:\n\u001b[0;32m-> 1103\u001b[0m         \u001b[38;5;28;01mreturn\u001b[39;00m \u001b[38;5;28;43mself\u001b[39;49m\u001b[38;5;241;43m.\u001b[39;49m\u001b[43m_sslobj\u001b[49m\u001b[38;5;241;43m.\u001b[39;49m\u001b[43mread\u001b[49m\u001b[43m(\u001b[49m\u001b[38;5;28;43mlen\u001b[39;49m\u001b[43m,\u001b[49m\u001b[43m \u001b[49m\u001b[43mbuffer\u001b[49m\u001b[43m)\u001b[49m\n\u001b[1;32m   1104\u001b[0m     \u001b[38;5;28;01melse\u001b[39;00m:\n\u001b[1;32m   1105\u001b[0m         \u001b[38;5;28;01mreturn\u001b[39;00m \u001b[38;5;28mself\u001b[39m\u001b[38;5;241m.\u001b[39m_sslobj\u001b[38;5;241m.\u001b[39mread(\u001b[38;5;28mlen\u001b[39m)\n",
      "\u001b[0;31mKeyboardInterrupt\u001b[0m: "
     ]
    }
   ],
   "source": [
    "# do the geocoding... this takes a while, so grab a drink while you wait!\n",
    "pv['coords'] = pv.apply(lambda row: geocode_syracuse(row['location']), axis=1)"
   ]
  },
  {
   "cell_type": "code",
   "execution_count": null,
   "id": "2b4b33ae-9050-4482-807e-cd9e4e7ac6d9",
   "metadata": {},
   "outputs": [],
   "source": [
    "pv.sample(10)"
   ]
  },
  {
   "cell_type": "code",
   "execution_count": null,
   "id": "2169f8e6-54a6-4d41-bb9c-87675e49a20a",
   "metadata": {},
   "outputs": [],
   "source": [
    "# write out the final dataset\n",
    "pv.to_csv(\"X_final_cuse_parking_violations.csv\")"
   ]
  },
  {
   "cell_type": "markdown",
   "id": "eda866ce-4165-4f47-885d-343478667c79",
   "metadata": {
    "tags": []
   },
   "source": [
    "## Calculating the Probabilities\n",
    "\n",
    "In this section I create tables for day of the week and hour of the day based on the probabilitity distributions of getting a ticket."
   ]
  },
  {
   "cell_type": "code",
   "execution_count": 12,
   "id": "9a3ce9ad-fb52-478f-bfe8-1d221dca1b49",
   "metadata": {
    "tags": []
   },
   "outputs": [],
   "source": [
    "# read in the final dataset\n",
    "pv = pd.read_csv(\"final_cuse_parking_violations.csv\")"
   ]
  },
  {
   "cell_type": "code",
   "execution_count": 13,
   "id": "f7168725-8e68-4316-bd34-02cf2617c9ac",
   "metadata": {
    "tags": []
   },
   "outputs": [
    {
     "data": {
      "text/plain": [
       "<Axes: xlabel='dayofweek', ylabel='count'>"
      ]
     },
     "execution_count": 13,
     "metadata": {},
     "output_type": "execute_result"
    },
    {
     "data": {
      "image/png": "[encoded data removed]",
      "text/plain": [
       "<Figure size 640x480 with 1 Axes>"
      ]
     },
     "metadata": {},
     "output_type": "display_data"
    }
   ],
   "source": [
    "# checking out the days of the week. In a perfect scenaio all days would be equal. 1/7\n",
    "# Not a lot of tickets on the weekend.\n",
    "sns.countplot(x='dayofweek', data=pv)"
   ]
  },
  {
   "cell_type": "code",
   "execution_count": 14,
   "id": "604e9279-2fed-400c-a310-bad5ce4dfcc6",
   "metadata": {
    "tags": []
   },
   "outputs": [
    {
     "data": {
      "text/plain": [
       "dayofweek\n",
       "Tuesday      0.198264\n",
       "Thursday     0.197821\n",
       "Wednesday    0.190473\n",
       "Monday       0.174447\n",
       "Friday       0.140369\n",
       "Sunday       0.053968\n",
       "Saturday     0.044657\n",
       "Name: proportion, dtype: float64"
      ]
     },
     "execution_count": 14,
     "metadata": {},
     "output_type": "execute_result"
    }
   ],
   "source": [
    "day_prob_table = pv['dayofweek'].value_counts(normalize=True)\n",
    "day_prob_table"
   ]
  },
  {
   "cell_type": "code",
   "execution_count": 15,
   "id": "0a8f9e3e-e6da-4544-aae0-e7ce3822e15c",
   "metadata": {
    "tags": []
   },
   "outputs": [
    {
     "data": {
      "text/plain": [
       "<Axes: xlabel='hour', ylabel='count'>"
      ]
     },
     "execution_count": 15,
     "metadata": {},
     "output_type": "execute_result"
    },
    {
     "data": {
      "image/png": "[encoded data removed]",
      "text/plain": [
       "<Figure size 640x480 with 1 Axes>"
      ]
     },
     "metadata": {},
     "output_type": "display_data"
    }
   ],
   "source": [
    "sns.countplot(x='hour', data=pv.sort_values(\"hour\")) # Yuck let's sort it\n",
    "# 9 - 11 am is ticket witching hour\n",
    "# in a perfect scenairo all hours would be equal 1/24"
   ]
  },
  {
   "cell_type": "code",
   "execution_count": 16,
   "id": "b473f27a-98b4-476c-9675-f778e92adca8",
   "metadata": {
    "tags": []
   },
   "outputs": [
    {
     "data": {
      "text/plain": [
       "hour\n",
       "0     0.020143\n",
       "1     0.013302\n",
       "2     0.012922\n",
       "3     0.011275\n",
       "4     0.009755\n",
       "5     0.003991\n",
       "6     0.022677\n",
       "7     0.008045\n",
       "8     0.005701\n",
       "9     0.168810\n",
       "10    0.244632\n",
       "11    0.160702\n",
       "12    0.029645\n",
       "13    0.067017\n",
       "14    0.049661\n",
       "15    0.010515\n",
       "16    0.018243\n",
       "17    0.019320\n",
       "18    0.008171\n",
       "19    0.027301\n",
       "20    0.024324\n",
       "21    0.024070\n",
       "22    0.020460\n",
       "23    0.019320\n",
       "Name: proportion, dtype: float64"
      ]
     },
     "execution_count": 16,
     "metadata": {},
     "output_type": "execute_result"
    }
   ],
   "source": [
    "hour_prob_table = pv['hour'].value_counts(normalize=True).sort_index()\n",
    "hour_prob_table"
   ]
  },
  {
   "cell_type": "code",
   "execution_count": 17,
   "id": "9c77d849-5dc4-4b66-8007-d5e5a916e2e6",
   "metadata": {
    "tags": []
   },
   "outputs": [
    {
     "data": {
      "text/plain": [
       "(np.float64(0.012922024450497244), np.float64(0.19826439475517832))"
      ]
     },
     "execution_count": 17,
     "metadata": {},
     "output_type": "execute_result"
    }
   ],
   "source": [
    "# example: retrieving a probability\n",
    "hour = \"02\"\n",
    "day = \"Tuesday\"\n",
    "hour_prob_table[int(hour)], day_prob_table[day]"
   ]
  },
  {
   "cell_type": "markdown",
   "id": "2f5d562c-87d1-4088-b7b1-a73b18cfd840",
   "metadata": {
    "tags": []
   },
   "source": [
    "# Part II - This is the Data Story Telling\n",
    "\n",
    "## Main Program\n",
    "\n",
    "Run the cells below this line to execute the main program. This will execute the code necessary to tell the data story. \n",
    "\n",
    "It assumes the `final_cuse_parking_violations.csv` exists already.\n",
    "\n",
    "This should run on a new kernel provided `haversine` was installed."
   ]
  },
  {
   "cell_type": "code",
   "execution_count": 18,
   "id": "cd164e34-a84e-4eeb-942a-53395570525f",
   "metadata": {
    "tags": []
   },
   "outputs": [],
   "source": [
    "from IPython.display import display, HTML, Image\n",
    "from ipywidgets import interact_manual\n",
    "import folium\n",
    "import pandas as pd\n",
    "import requests\n",
    "from haversine import haversine, Unit"
   ]
  },
  {
   "cell_type": "code",
   "execution_count": 19,
   "id": "60dca47d-bca3-47c5-9cd3-eed3a0f12f7c",
   "metadata": {
    "tags": []
   },
   "outputs": [],
   "source": [
    "def geocode_syracuse_no_cache(location):\n",
    "    '''\n",
    "    This will geocode the location. It does not use a caching strategy\n",
    "    '''\n",
    "    location = f\"{location} SYRACUSE, NY\".upper()\n",
    "    query_string = {'q': location, 'format': 'json'}\n",
    "    headers = {\"user-agent\": \"ist256 example mafudge\"}\n",
    "    url = 'https://nominatim.openstreetmap.org/search'\n",
    "    response = requests.get(url, params=query_string, headers=headers)\n",
    "    response.raise_for_status()\n",
    "    geodata = response.json()\n",
    "    if geodata != []:\n",
    "        lat, lon = geodata[0]['lat'], geodata[0]['lon']\n",
    "        return (lat, lon)\n",
    "    else:\n",
    "        return (0, 0)\n",
    "\n",
    "assert geocode_syracuse_no_cache(\"330 W GENESEE ST\") == ('43.05230228571428', '-76.15564457142858')"
   ]
  },
  {
   "cell_type": "code",
   "execution_count": 20,
   "id": "682067d2-98d5-4193-a6ce-978c397bcc84",
   "metadata": {
    "tags": []
   },
   "outputs": [],
   "source": [
    "def mark_tickets_nearby(center_latlon, day, hour, pv, radius_in_miles):\n",
    "    '''\n",
    "    return a list of markers that are near center_latlon based on \n",
    "    radius_in_miles. was written to simplify the logic in the final program\n",
    "    '''\n",
    "    markers = []\n",
    "    center_lat = float(center_latlon[0])\n",
    "    center_lon = float(center_latlon[1])\n",
    "    for index, row in pv[:].iterrows():\n",
    "        lat = float(row['coords'].split(\",\")[0].replace(\"(\",\"\").replace(\"'\",\"\")) # clean up the lat which was a string\n",
    "        lon = float(row['coords'].split(\",\")[1].replace(\")\",\"\").replace(\"'\",\"\")) # # clean up the lon which was a string\n",
    "        distance = haversine((center_lat, center_lon), (lat, lon), unit = Unit.MILES)\n",
    "        if distance <= radius_in_miles:\n",
    "            if day ==  row['dayofweek'] and hour == row['hour']:\n",
    "                icon = icon=folium.Icon(color=\"red\", icon=\"arrow-up\")\n",
    "            else:\n",
    "                icon = icon=folium.Icon(color=\"orange\", icon=\"arrow-up\")\n",
    "\n",
    "            text = f\"{row['location']} - {row['dayofweek']} @ {row['hour']}:00 - {row['description']}\"\n",
    "            marker = folium.Marker(location=(lat, lon), popup = text, icon = icon)\n",
    "            markers.append(marker)\n",
    "\n",
    "    return markers\n",
    "\n",
    "pv = pd.read_csv(\"final_cuse_parking_violations.csv\")\n",
    "lat, lon = geocode_syracuse_no_cache(\"330 W GENESEE ST\")\n",
    "assert len(mark_tickets_nearby((lat,lon), \"Sunday\", \"09\", pv, 0.05)) == 15"
   ]
  },
  {
   "cell_type": "code",
   "execution_count": 21,
   "id": "43e910cd-785f-4dfa-9ba5-a001c0cae44c",
   "metadata": {
    "tags": []
   },
   "outputs": [
    {
     "data": {
      "text/html": [
       "<h1>Syracuse Parkmagic</h1>"
      ],
      "text/plain": [
       "<IPython.core.display.HTML object>"
      ]
     },
     "metadata": {},
     "output_type": "display_data"
    },
    {
     "data": {
      "text/html": [
       "Let us help you avoid a parking ticket!"
      ],
      "text/plain": [
       "<IPython.core.display.HTML object>"
      ]
     },
     "metadata": {},
     "output_type": "display_data"
    },
    {
     "data": {
      "text/html": [
       "Enter the day, hour and address of where you want to mark and we will do the rest!"
      ],
      "text/plain": [
       "<IPython.core.display.HTML object>"
      ]
     },
     "metadata": {},
     "output_type": "display_data"
    },
    {
     "data": {
      "application/vnd.jupyter.widget-view+json": {
       "model_id": "aee5c8e8de0e4570b2c4d8db45c10382",
       "version_major": 2,
       "version_minor": 0
      },
      "text/plain": [
       "interactive(children=(Dropdown(description='day', options=('Sunday', 'Monday', 'Tuesday', 'Wednesday', 'Thursd…"
      ]
     },
     "metadata": {},
     "output_type": "display_data"
    }
   ],
   "source": [
    "# Main Program\n",
    "pv = pd.read_csv(\"final_cuse_parking_violations.csv\")\n",
    "day_prob_table = pv['dayofweek'].value_counts(normalize=True)\n",
    "hour_prob_table = pv['hour'].value_counts(normalize=True).sort_index()\n",
    "day_average = 1/7\n",
    "hour_average = 1/24\n",
    "days = ['Sunday', 'Monday', 'Tuesday', 'Wednesday', 'Thursday', 'Friday', 'Saturday']\n",
    "hours = hour_prob_table.index.values\n",
    "metered_parking_day_exception = ['Sunday']\n",
    "metered_parking_hour_exception = ['00', '01', '02', '03', '04', '05', '06', '07', '08', '19', '20', '21', '22', '23', '24']\n",
    "\n",
    "display(HTML(\"<h1>Syracuse Parkmagic</h1>\"))\n",
    "display(HTML(\"Let us help you avoid a parking ticket!\"))\n",
    "display(HTML(\"Enter the day, hour and address of where you want to mark and we will do the rest!\"))\n",
    "\n",
    "@interact_manual(day=days, hour=hours, address=\"330 E WASHINGTON ST\")\n",
    "def onclick(day, hour, address):\n",
    "    day_prob = day_prob_table[day]\n",
    "    hour_prob = hour_prob_table[int(hour)]\n",
    "    lat, lon = geocode_syracuse_no_cache(address)\n",
    "    cusemap = folium.Map(location=(lat,lon), zoom_start=18)\n",
    "    marker = folium.Marker(location=(lat, lon), popup=address, icon=folium.Icon(color=\"green\", icon=\"home\"))\n",
    "    cusemap.add_child(marker, name=address)\n",
    "    if day_prob > day_average:\n",
    "        day_interval = \"HIGHER\"\n",
    "    else:\n",
    "        day_interval = \"LOWER\"\n",
    "    if hour_prob > hour_average:\n",
    "        hour_interval = \"HIGHER\"\n",
    "    else:\n",
    "        hour_interval = \"LOWER\"\n",
    "    if hour in metered_parking_hour_exception or day in metered_parking_day_exception:\n",
    "        meter = \"You do NOT need to pay for metered parking.\"\n",
    "    else:\n",
    "        meter = \"You must pay at a parking meter.\"\n",
    "\n",
    "    display(HTML(\"<h3>Parking Analysis</h3>\"))\n",
    "    display(HTML(f\"Report for {address} On {day} at {hour}:00\"))\n",
    "    display(HTML(f\"<li>{100*day_prob:.1f}% of all tickets were issued on this day. This is {day_interval} than the average.\"))\n",
    "    display(HTML(f\"<li>{100*hour_prob:.1f}% of all tickets were issued at your selected hour. This is {hour_interval} than the average.\"))\n",
    "    display(HTML(f\"<li>{meter}\"))\n",
    "\n",
    "    display(HTML(\"<h4>Past Tickets Issued in This Area</h4>\"))\n",
    "    markers = mark_tickets_nearby((lat,lon),day, hour, pv, 0.1)\n",
    "    for marker in markers:\n",
    "        cusemap.add_child(marker)\n",
    "    display(cusemap)\n"
   ]
  },
  {
   "cell_type": "code",
   "execution_count": null,
   "id": "70db7f3e-ec15-4cf4-94a2-98857f84b3e4",
   "metadata": {},
   "outputs": [],
   "source": []
  },
  {
   "cell_type": "markdown",
   "id": "21afac79-e3d3-46f4-bbbb-a5312aeb6cb7",
   "metadata": {},
   "source": [
    "# What makes this an \"A-Level\" grade?\n",
    "\n",
    "- Uses what we learned in units 09-13:\n",
    "    - pandas, \n",
    "    - input and display widgets, \n",
    "    - visualizizations like maps / graphs\n",
    "- Dataset is enriched in several ways:\n",
    "    - geocode address to lat/lon\n",
    "    - haversine distance for nearby tickets\n",
    "    - day of week and time of day extracted from date and time\n",
    "- I used something I had to figure out on my own (haversine)\n",
    "- Code:\n",
    "    - Clearly documented, labeled, \n",
    "    - Modularized into functions like `mark_tickets_nearby()`, and `get_day_of_week()`\n",
    "    - Tests written for functions\n",
    "    - Meets minimum line number requirements.\n",
    "    - Any code that does something questionable is commented for clarity.\n",
    "- Data Exploration\n",
    "    - There is code that explores the data to figure out what kind of story I want to tell and why\n",
    "    - Visuals such as charts, graphs, etc. were used to see what is happening with the data.\n",
    "- Data Product\n",
    "    - There is code that tells the story and allows a user to interact with the data product.\n",
    "    - There is a completed problem analysis with inputs -> process -> output for the data product to explain how the story goes.\n",
    "    - Missing are a video of my telling the data story + a reflection video for what I learned."
   ]
  },
  {
   "cell_type": "code",
   "execution_count": null,
   "id": "e8016b40-3e1e-411a-ac16-0718c94bf951",
   "metadata": {},
   "outputs": [],
   "source": []
  },
  {
   "cell_type": "code",
   "execution_count": null,
   "id": "58eea799-7761-464b-9604-13dd2151b650",
   "metadata": {},
   "outputs": [],
   "source": []
  },
  {
   "cell_type": "code",
   "execution_count": null,
   "id": "05d232b6-d92a-477f-b253-dffe6e3c6354",
   "metadata": {},
   "outputs": [],
   "source": []
  },
  {
   "cell_type": "code",
   "execution_count": null,
   "id": "df27fade-0411-4a5b-a5f4-cf966843647e",
   "metadata": {
    "tags": []
   },
   "outputs": [],
   "source": []
  },
  {
   "cell_type": "code",
   "execution_count": null,
   "id": "b25ae3a8-3e9e-4a61-9075-196545013f45",
   "metadata": {},
   "outputs": [],
   "source": []
  },
  {
   "cell_type": "code",
   "execution_count": null,
   "id": "f588457a-ddbf-466e-bec1-e43551da8bd8",
   "metadata": {},
   "outputs": [],
   "source": []
  },
  {
   "cell_type": "code",
   "execution_count": null,
   "id": "36c325cd-92f4-4d46-a259-483302330f66",
   "metadata": {},
   "outputs": [],
   "source": []
  }
 ],
 "metadata": {
  "kernelspec": {
   "display_name": "Python 3 (ipykernel)",
   "language": "python",
   "name": "python3"
  },
  "language_info": {
   "codemirror_mode": {
    "name": "ipython",
    "version": 3
   },
   "file_extension": ".py",
   "mimetype": "text/x-python",
   "name": "python",
   "nbconvert_exporter": "python",
   "pygments_lexer": "ipython3",
   "version": "3.12.8"
  }
 },
 "nbformat": 4,
 "nbformat_minor": 5
}
