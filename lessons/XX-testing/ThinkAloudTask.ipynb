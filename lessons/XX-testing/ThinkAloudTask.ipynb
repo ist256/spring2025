{
 "cells": [
  {
   "cell_type": "markdown",
   "id": "48cd4dff-cecc-42ca-a84d-936ee37466f6",
   "metadata": {},
   "source": [
    "## The Task\n",
    "\n",
    "Your E-commerce store accepts orders using credit cards. You received a notice from one of the credit card companies, Discover. Discover is asking for a list of customer emails for all pending orders so they can track down potentially fraudulent activity.\n",
    "\n",
    "Orders are here: `https://raw.githubusercontent.com/mafudge/datasets/refs/heads/master/orders/task.csv`"
   ]
  },
  {
   "cell_type": "code",
   "execution_count": null,
   "id": "88d7fec2-3513-49fb-858d-13079d089b82",
   "metadata": {},
   "outputs": [],
   "source": []
  },
  {
   "cell_type": "code",
   "execution_count": null,
   "id": "601cff9c-2654-4bb4-a26a-eb9f11cfdbd1",
   "metadata": {},
   "outputs": [],
   "source": []
  },
  {
   "cell_type": "code",
   "execution_count": null,
   "id": "850866e7-60e8-4a59-b456-ef1d0706cd16",
   "metadata": {},
   "outputs": [],
   "source": []
  }
 ],
 "metadata": {
  "kernelspec": {
   "display_name": "Python 3 (ipykernel)",
   "language": "python",
   "name": "python3"
  },
  "language_info": {
   "codemirror_mode": {
    "name": "ipython",
    "version": 3
   },
   "file_extension": ".py",
   "mimetype": "text/x-python",
   "name": "python",
   "nbconvert_exporter": "python",
   "pygments_lexer": "ipython3",
   "version": "3.12.8"
  }
 },
 "nbformat": 4,
 "nbformat_minor": 5
}
