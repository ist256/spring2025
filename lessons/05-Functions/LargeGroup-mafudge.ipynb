{
 "cells": [
  {
   "cell_type": "markdown",
   "metadata": {},
   "source": [
    "# Code Samples From Large Group\n",
    "\n",
    "Place your notes and code samples from large group here."
   ]
  },
  {
   "cell_type": "code",
   "execution_count": 3,
   "metadata": {},
   "outputs": [],
   "source": [
    "#   name             argument1    argument2          return\n",
    "def area_of_triangle(base: float, height: float) -> float:\n",
    "    '''\n",
    "    Given base and height calculate the area as \n",
    "    0.5 * base * height and return the value\n",
    "    '''\n",
    "    area = 0.5 * base * height\n",
    "    return area  # output its value back to its caller\n",
    "    "
   ]
  },
  {
   "cell_type": "code",
   "execution_count": 5,
   "metadata": {},
   "outputs": [
    {
     "name": "stdout",
     "output_type": "stream",
     "text": [
      "200.0\n"
     ]
    }
   ],
   "source": [
    "area = area_of_triangle(100, 4)\n",
    "print(area)"
   ]
  },
  {
   "cell_type": "code",
   "execution_count": 7,
   "metadata": {},
   "outputs": [
    {
     "name": "stdin",
     "output_type": "stream",
     "text": [
      "Enter base: 10\n",
      "Enter height: 10\n"
     ]
    },
    {
     "name": "stdout",
     "output_type": "stream",
     "text": [
      "Triangle area is 50.0\n"
     ]
    }
   ],
   "source": [
    "base = float(input(\"Enter base:\"))\n",
    "height = float(input(\"Enter height:\"))\n",
    "area = area_of_triangle(base, height)\n",
    "print(f\"Triangle area is {area}\")"
   ]
  },
  {
   "cell_type": "code",
   "execution_count": 8,
   "metadata": {},
   "outputs": [],
   "source": [
    "import datetime"
   ]
  },
  {
   "cell_type": "code",
   "execution_count": 12,
   "metadata": {},
   "outputs": [
    {
     "data": {
      "text/plain": [
       "datetime.date(2025, 2, 10)"
      ]
     },
     "execution_count": 12,
     "metadata": {},
     "output_type": "execute_result"
    }
   ],
   "source": [
    "datetime.date.today()"
   ]
  },
  {
   "cell_type": "code",
   "execution_count": 13,
   "metadata": {},
   "outputs": [
    {
     "name": "stdout",
     "output_type": "stream",
     "text": [
      "Collecting gTTS\n",
      "  Downloading gTTS-2.5.4-py3-none-any.whl.metadata (4.1 kB)\n",
      "Requirement already satisfied: requests<3,>=2.27 in /opt/conda/lib/python3.12/site-packages (from gTTS) (2.32.3)\n",
      "Requirement already satisfied: click<8.2,>=7.1 in /opt/conda/lib/python3.12/site-packages (from gTTS) (8.1.8)\n",
      "Requirement already satisfied: charset_normalizer<4,>=2 in /opt/conda/lib/python3.12/site-packages (from requests<3,>=2.27->gTTS) (3.4.1)\n",
      "Requirement already satisfied: idna<4,>=2.5 in /opt/conda/lib/python3.12/site-packages (from requests<3,>=2.27->gTTS) (3.10)\n",
      "Requirement already satisfied: urllib3<3,>=1.21.1 in /opt/conda/lib/python3.12/site-packages (from requests<3,>=2.27->gTTS) (2.3.0)\n",
      "Requirement already satisfied: certifi>=2017.4.17 in /opt/conda/lib/python3.12/site-packages (from requests<3,>=2.27->gTTS) (2024.12.14)\n",
      "Downloading gTTS-2.5.4-py3-none-any.whl (29 kB)\n",
      "Installing collected packages: gTTS\n",
      "Successfully installed gTTS-2.5.4\n"
     ]
    }
   ],
   "source": [
    "!pip install gTTS"
   ]
  },
  {
   "cell_type": "code",
   "execution_count": null,
   "metadata": {},
   "outputs": [],
   "source": [
    "import gtts # imports everything!!!"
   ]
  },
  {
   "cell_type": "code",
   "execution_count": 14,
   "metadata": {},
   "outputs": [],
   "source": [
    "from gtts import gTTS # selective import only imports gTTS from package gtts"
   ]
  },
  {
   "cell_type": "code",
   "execution_count": 16,
   "metadata": {},
   "outputs": [],
   "source": [
    "text_to_speech = gTTS(\"I am a cheezeburger\")"
   ]
  },
  {
   "cell_type": "code",
   "execution_count": 17,
   "metadata": {},
   "outputs": [],
   "source": [
    "text_to_speech.save(\"testing.mp3\")"
   ]
  },
  {
   "cell_type": "code",
   "execution_count": 18,
   "metadata": {},
   "outputs": [],
   "source": [
    "from IPython.display import Audio"
   ]
  },
  {
   "cell_type": "code",
   "execution_count": 22,
   "metadata": {},
   "outputs": [
    {
     "data": {
      "text/html": [
       "\n",
       "                <audio  controls=\"controls\" autoplay=\"autoplay\">\n",
       "                    <source src=\"data:audio/mpeg;base64,//OExAAAAAAAAAAAAAAAAAAAAAAAAAAAAAAAAAAAAAAAAAAAAAAAAAAAAAAAAAAAAAAAAAAAAAAAAAAAAAAAAAAAAAAAAAAAAAAAAAAAAAAAAAAAAAAAAAAAAAAAAAAAAAAAAAAAAAAAAAAAAAAAAAAAAAAAAAAAAAAAAAAAAAAAAAAAAAAAAAAAAAAAAAAAAAAAAAAAAAAAAAAAAAAAAAAAAAAAAAAAAAAAAAAAAAAAAAAAAAAAAAAAAAAAAAAA//OExAAj2XIkAUkwAABgDAGAMDYJit6grFZOjRoyMVgmBgEAQFAoFAoFAoAYDAYDAYWTJkwggQIECBAgQJkyZMmTJkyZAgQIECBAgQJkyad3d2hEREREJnkyZMmTuyCAIAgCAJg+D4Pg+CAIAgCAJg+D4Ph8EAQBAEDJcHwffU6XP/wGD4Pg+HwQBAEIDB8Hz8Af//8uD4Ph/8uD6kxIwFQEwsLBoObcNv9VEgMDBBrIqeAoS2lYJDhoQkCh1IvJ//OExCMv0/JYAZuoAQCAIAMFCqBpRjAaYMwGpjUtFNwCg+FlgW8CiAb3SYGnzCBj8dgZ+ESuwoMkycJw0AOAgmoWgB8g4P7S+Xy+IUE6CyCPGoMqpD44DVPZwcAxejDRJ8iZMf/QTdPsXxOggoQQiZYHYITv+gkhQdjSouNTY1h84fOG+EUNRlyPLBcIcVCL//+u2//ZJqLpLQfVQmH///92b//zQvl9JSqZjj9K3CPQDrFlygABM7PRTb54ASEM//OExBYtihqEAdrQAIg2KLDiIGDg53gQ8OTEBogKiT5YDZHjADAEBJGhu9Z5X6aqsJlTQ4nNaZBoFDcDBTHgXmc5/nZcfdWMx6Ze+1Q1JiTVZRL45Ys1KSP0+p+MNzduUSBlcchqCbkljVJWzoN0Ny7QYXM9Z8qar00/D+Fd+L+OVnPVJdsX8alW1FKSV0ENxikqTdBdr269biAZNnHGzo01GP/7IXEDm/0PagzVicvrR0QvjHBWkQy8gIUnSgDR//OExBIsCi6MANbemEgeTDAEOfGRSFuBgpsbmIA5EWDIAAw9ePFXzNhwxAWCgEhGCWYx8tFh9MhTYwduACQAlhKtdoYOpXJqR2OudH3Ll8ugJ28sL03GFGr4MFwV7yA8Syoy3JwtSdukNP1ZjsCwrX0WPGfOU14VZrU/lhPYkY/krOwP2aLDhuEXEOzJFltGVT6HqDH1JndKU1uHjUADIItWv/9VEJ2/queKqoBl27CaQDH3PZ91/QCemgAEXrPQ//OExBQsUkaMAN7euGAjhqJ6HE+bJjBBU1KrN9MRIaY+Y4ynRdZgCiLE6sIhCjITI2USM0FEIAqEGKFZrEOKpBmAcqq0dco8AMffeXwy7Cw7r34y7MGxuH7+D/SCpRSqfaZWmk8W4ga3ZCTRZEfE1lOqdqrFq+mvBkvTfviVstO1SHVRutPZxa22sKHHtCvLDrE362xj2+N7pnNa6hyajCq1f/Op0Nb/8YYqob92OJPnChhF+BJuJgweeAauqE4U//OExBUrmgKQANbemGAC81sFMSBC/qiwqEmNQgQJvo74ECzHzw00oMuBl6MDLUmBAphwCPAcYLACYoOmUIJkw45FlhyRwQCmIgKD696CUM2UEeTKUzpXnQ4RmKGj4dlcrmVVt5ul+aTET6feq2JHznxYl9+ta7vevvq/tnf3/m1rWvNDg+81s6zTyaAIJEQ4FSwMi5Fiv1f9//pDysVLOKNn9DlvwtWhv622QwU0OPEYGnPWAMZUjRS9gz8xoYDz//OExBktC2aMAN7KvVCvH2RUkDvYASo01SMBH0R5DLVohYTAypA8hwdoQgQcETUkiK2izQiBUN8ZUoqYMCjJAKAKz4relKwyxGsN65LDXcceFy1rLitacjCzHY9LOuxTS61nldQ1UKrINEA4QlCiZCI4gFiYiMFHEGa6jUQOschnKPmRCkcisR5mb//ff/////IxKlOjzHYiqRnSYwxulhcdl3H1NcHZKsaPVeCBkJNlIHjlExfIQAymQATRM4aF//OExBcnyyaUAN6KvEXOHyN4CaDavOkpUHImaQxKaVfSlzacynoCWNFa2OV+Wtad+mut0BoAHDlLIpepGRKSDAEsnb/dQiH6fseh67HJZKs6d9YMfi92sAogIh9EEhcBBdTIzHF1R2F3VhIeJnjGI26lS7pRTuaUxHVdv//T/////6mopFGhIOkBRnCNQff1Ia//SrVVqc1u4VAE2wxKAucvZLbIAA5oKZJUbAy4qjBMQHAktardQEgqha9/LvK7//OExCol2haUAN5emIljX1nSYvSZ8+llCm8P16ub7A0GLQJOU4jwYReUvEpZXHMhDZh7hrZi4RHcWRtYGSHvb6PSJrUGj//HpCc779XTPS73NmaJXWMe2vT4tqmq1peIoSkSCf3f/9ZAxcKuadYgqMY+OUAL/Qr+1yUK1U3QQSSgBhtMEAFDbfxwUOhqbunHXf+Ww2W1KfLkfYlU0FzAcep69y7Vzeze7nxFgtHepbFpmKwTuzd6JLZLKrFl2ckx//OExEUnQiKQAN6emH4Icpd+PhTHmPDMGsqdDUiBxYLHSErpt61vagrnXi7zDxNDq1TaU8FfeMr/VfjF9/+24nr8d7H1bFrSOaJSH//t1c+VUXaPCTioNJvxQKGc7BNK74R+D+jcs7Yftkhl4wNZDnzbMHeGBQ4hMJk9uEDQ61lFI4MhcShpIjSFhADuQnty/hYVozzqQwtACIX68ol9Io6aRf0vL+FtCVb5rfZpi3f/V2Uslw7jblT/Kixwz5qZ//OExFsn876IAN5U3J3+5Z8t2OXseXKKeexGKgYkpQucoyE4lpRTvkRtEmCFL2SgnljHShv///+///9eab6HOb//9DjjU9aXQ4mnVFVRK7qdopQ8sgh9qABBJk/mmOwqHDgwYCDAoBBANMarowqJgcNkQWosq6FnQeUr6rVpo4mEWxZLMVaWUgUdEl9oVADIioE1eJQ12ngh1ExnuvZY2nYazJrdI+8ndSLdxq9zped7rtFDUWrU2XfHTeyjUijj//OExG4nYzp4AOZOvIMA+EocFowBcKABAHSCEf+vrfzhsSdaklN+d///////6G5uxtWc0aFRUMlne9jJWmyM5awhmYBAwYNoWZZx8DkfMAgIVIRAOHDgYVHw05JJnNCp0Z+597Cz07vHOSUdN76K2KQLbL2qxECAExA0Nah6UMMUwZ7bjErp4bh6GXFmaSGlSLTUFZTHX/i/Zm9YwlFDclVnV/9Yfngy3W6qeQQ5gwoey4YD+Jap3ZJFkV+v/WjW//OExIMnwzZsAO5avKo7Kr/en//X/////r1vt61InjweDhYRrGen/+vV9ubTxUGzLeAzlonTA4BwMEYJBcKgQYBiMZ0EOYXhOLA2FDGwQIkZ5N3QTq3AYj8wxIWeAYaY6VzAVzq/BhjgwkSx9iaXbAFkqXNFvuw+7J4YclW5t6FoQXklqfHGYRBZ1dZ8wSRYto64ZKVmf/GsXrnHrl/h+zK9jR0irYYGct8k8EWAaVKZw4HzH7v//b/U7xGLmWOg//OExJcm6aJwAO4elB/Z/+1V+1m/IqMjd0NNKFEw0CQYBQoGDMViNJOU1EVQqMAwXGCiEABuLA1ubCC8BiKxkhLWGpCIEZBECQjQqV7HpABYeFL1bkIQZlUpIiEIdDkpaYk2LInFsP/cUXl1Bm/7hvvGYBh2EvvUyzllFR72eJYghiPgWAKACAtsgiBqKCIxBUHpMdOGAqhesREgrkyE6Hk513+vZpzT5hASFif/kBr7f////2mn+ky6lDQRDgRB//OExK4v0wJ8AOaUuAW8v/9XctGIAgoPgANnFEyalaCnjzdyoiHmiiAZKIvWZY8GOqoKEFxDoKYqbm0iiQULbsYUJGBl5lAa8jWwKk3gLkyKNqViwwElqN+qgELeuSylTcdMFnnao8BTQMOZiIlOmXDY84NBIIbkcgcqfl9JdsTMvmqtSGoxFb7vNzgVnDc3iuSivRX7OFi3Uyyxx1re9D9TRHIBENGc+jPMNsxhk7EdypYga768sYOmz/b////o//OExKEwVB6EAN4O3NekzWhtDHU1lWfu///ro7apvscrT5tN5th1p8fNYd1F1aGVQaWAIyySM5AoNlIoVG/2xh4MtdZZh6iZmfCT1aHwoAdIyl0zXR3cx9bD6PYy63YjDYXFw5MLlYjCYMiEXd16ZS5RfUIBhlpcNOLNVJaGwJMumoSsQYbhQoC4PgiFSiAGxsuWSVdkvLbyVVfyFQn2k2PGo+P3Zb9nu5TwRu6RUie//0yLqzNKiux//4oF1Abf//OExJIm6fKIAN5SmA85h5BGDELscLpuirI6FQGbdGQ8BQcG2WheJHCEeDhqyR5BQRCMBrUlSDJncHKym5ZPxmVTcPXLeD7Q9Gs8JmW67qm79alltSHqFOVdMO1ZVGpdNJFKStqs5KiJrqkIZYNKhlVnomsl1mqy41tSlLxjaGKEUpl+k+r1RVWSSrQJlAiMEnEREJOLC3/8lKNhVbj1Plos9zUqh0WNNFUoHWREeUCqwVEpgiAZWhlKHQtaRplm//OExKkoIep4AOYSmHuWJowGYUdmyGpoNga0NGXgZlAqYYJiQSgGZ63BiVmgh6XB4PONESoLKxWMui27MYowPgVHUhurGM5vILIYBgCGipqFLNLTNlzGKjqlAMETgCIC0eIsPMJhwDCJBYokiojXkd2lR6XsrJajFrlqtM9cnlKQyt1VO9PW9F0Vn/8+ya2FkAqzO9XaKmSx9dUl8TGgJwmhRGMzitza2/y5zuufhl8+P2///b20Y3z532H1u8IY//OExLslS65MANlK3M0Zfzv/d25iB9IH60XuX2gxD6YhCAOHslBuNjShYlrnJJBYO9ImJk8lnyehRuuxpvdb3zaE5+OZtjz7DSuP6rhmyp4rf7Kt77f77h6fT3v+GM+/9/9xXcVP9/f/y59752U+b99wxpz0djy+eEfnSwgJ4DvWmTK7pmiziKjzJub1KscqY3caeV36fUYsdq4TcbuTNbvZqy+liHORChyhilfeLxCklt9/5bNSaF0UEQK67IwA//OExNglQ9JYAMGW3RF2F2qvXnBhcxGhy4gXAIQUk27gEkDHxeADTlOmE2zTNLBxbEgcoXPBJAjkK1klgE4YKanKCAwCAM4rFIAgBxlSQyvBIwzipIguje1pzHXdlx2tAEFAGkO4yi6o2Vo9suUHZe7cbtv40uaWEVOgDoG7rrf+2/7tsshytDEOfYeNv2HtfhuPM4fh/43uGXLXOut35c6k287pv0yiWRlrcqZ+v9oawkgfxu7fsoijsNfgiTK3//OExPZQXDpcAJZy3Lruw7kmrT3Y/KncpNxiVv5DkMNchyGIcmX7ncohDmFaVxecnJI5EpjdtrcunXYVI1yDY25cbqWu1JZK3ff993LZ26lI+8jrPvG5fioJA5OpFFkEGd8mjfvPPPeH6/Pv6/u6/fym9/he7UvVp3We5ujp7NqZykdSS0EVmJfOwLDEZnJSFQiEirF8wey5kMOQBBLztQQFue+T0OeYQgUTJSuo7WHVBS5bOnfaW2GTp8M7cByp//OExGdA3DqIAC4w3FsCoXzgB/G5xty685ep4dgiXOBblF9+JybjeU3D1LOSx36rPpTeeCKVb9PdtdpuR6rL4xPRWNPvJ8ZJOWa0kxp5O5DqTMxAEHYyavnYktPbhm5TT9JMQLInficckkfmZZMUWEiuTc3Q6k1iX8vYbpJXT388Pp92Ldidt16G7hNzM+//Zvk9Odl/ZZbr09y5et9pI3vte3jNTNrDOxW///X///x/r7+Pv09NV+/nEXWmTzz3//OExBYrjBKoAAvY3e8xh/Sa8PFqXc483TJjuCPepRvUMd+lo0qtQxUBUF5QA8FtkFqG4/HyFc5LjCEhFNIygo2LNoTiXz+BesXQNOrWGK7VdlH2rLlkNk9Maat+PZkMU99W2rahyzSN+G7r7mtq2Ms7RbVVzLtMRxJ7MPUg6k3ZZc/7TTYIJe/f5n67fNf/aRc1TW5nNn5n6Vmttpa8/jlsTFG+Kr/iEr+F///693E/3z2ykyhjsxLHEg49Y8i5//OExBon686sAArQ3QSWJY/k81A+IIHYexeAgAwCGCGB21z5wlKk8d1kERS4HEDQmBwg4DA9CcG4igLi4k2MszD2xTEcO0gVHFnh+bDCtikLSHdH25eUZFNfU9xCLNaktfj3ose7i10WeKGUTQ9ncXRlmmlierviLhqdU6GaP9W0RTVBUtJvXUQS17Rcc5AJ86lN2OEK7CziJ19f9v+cvRUNux5Y5Di5AXjwExMD4auJ1IiMTYatzAW06S/D+Jqx//OExC0maw6sABHeuR/RIUuNwafCuspTpgMLds3ywJlnhKlVqFrewr2291iy5gQlbqFG3JbeLZtWWBebO6b1mF/8X/3r+3xXGLfMWFfXz86hRdVrq8XEKsKN95r843v2hFmgnBLa1iQ0Ve/TXmnEvm/L/tLzFju//9qYgmRrlEZQwPEJphhlL5sIBCG2cESF7py3hGGKLuZTudf8v59f4p/jOaWtus9d78DMmOupFYqUjRWkxFsV7TAUwHARRtJB//OExEYoKuaMANPWuCh3EtEPwEyiCK7FzY0Z6UNOHkjYikodzThALHTItLKQtaDrHLExeTLROtO89IM3Q6eYtscU1sdfz//xtqL/j/dM025mlntDrVHtB71PTkBZ6J4o6lYoECbgxHWafqjnWvAzAG42mStsLBDFzR5YyepXxUFZpv9bjljn/8usc//vc/8atJhhrGlpqTDtNTUUYsRphy+0qEwF2VkJoYg3vDBpXsSQmqCKBqWN4/OMus50dNWl//OExFgnnBKMANYO3PhjhljW+kscxpqTp4qFQRhEAIKAWiIJYoG546Iw6MjYeGpEoaafpqh9qP/////1dbL/1NmrM////9u1U/620d+hx79m8lLq+R0kbYYYSCH9oYkNuJDEBiIbAXY0SWuocoB1Df0mqIERBCnMScQ0jEuIajIzqZGYmBpLyIxopBnE7YaU340UDMSsUVBBw4AdoHQQAQU7EXcmVP5hqtFpdLKS5WtztPR2N1dV7dqtTUE3nuje//OExGwnChKMANxwmBfh370P3b1Bb+dltL3nda13/1/PzvAdrv/1AN6D+/W0TsD///FQN+flD7b7HtFDVFXd/C7BAqMm3ZgcMV6aop4xdsDhGMcu2VyDgQiJ/g5mGbf1Cj0/+H0GPv5gxnCmvq7g/rdsNIPsk6LR5KkSAASRGK4jlOBagJqDyOYchPWXTRZfQQTNbJol06eN8usXkaY7RhR2CdiYF0Y5IEsmgmiijRV17eimmyCP//7fqep3Nw+k//OExIInOqKMANvauChgqSB8eJRGOG0f/ww5aWuDAgiizQJPaWDmLqlHnOP2owbUAD8Dvu2siPDIw3pxEjC/6yUDGZIdRDhJS32RNX1XPodIpEsmmxDhZ4XtEnL6hWQAOAwR8GLUSaIsPc80kQ5IKyEUJNV0lnvpLW1kUVfSL6ai8SRInh7vWyKCH1q86giqpaSf6v2eqtZu2yVBFNEyc4mZqWzKWg2mmeUXBKk4uEf+B7iQoZQAbgecCY9qqpMn//OExJgmKvaMANRauE3Lv7uQUYnoYrLORqmiRhBtrr+8p4dsv1Gz/T/6JKM5IfAcJR/Q45t5pvnDY5O//rT3Sp/+IRubd7pP4REviY2qarzELLPgPFm3txS3osXIWxooHhglBee+kGHlnkA0osAghni4cBwaLhwEZAothwDQcWDQUFIoitBcXPmSzy3MSRdEk+yz9EQgwbU3GhSxcPdM+wuLh+7Pl4CNgAi+wxgCiNzyC0VF5+r/Lf//MQf/L//0//OExLInBBKcAMnQ3Udcp/Z5TMzMzM9PV7ZmezJ3/yuzM7WZnq0W7bqxVlmx5ud9V94zllpXxPKg9AYL52hsONasPBZZwQibYsCOOI5DmPTYklLCocFcqEMJj1ee0UFx3zvVDh+7B6OC8ZxztaPM1hVr7QTeqQpna02hV6/D5cL2omvWbZXNXsWVWLKH/wdZ/Yi/OAt9fd28wGl7/+NvpGX//5iGElynf/35mZmZnv2+T15Ysscvf8o7LCynWc5l//OExMkmvDKkAGhY3WOsc2lhYjX2PPmhXodHh6VRwMUqgjF2oaDsuMr7heCgnjqwXWlCp5CZEYOj+y1aerWTo+ORyPnpXH11rDxZQkbue6hH0cTFLxczjvst47s970FD5qBc+6uT6fS9DlzF06svdZVFV1cSXNWsmp4IbgYHXMKDCrsORptY7IcYWcmi77IiHHoUWopVNzTt+k4iogNassuZDEcTFQoVByh8I6fK6kkPL+LCiryRVDMiTJbTuHqF//OExOEmtCqkABBY3Xk+ZKqQ1TK5bJaPUlnUyhcWFdFuiwttyua2WChrMwstu++lNFYn6pYozdHcfp9G3i8RPRH3pGrCngsTNBe5wzRs5w+fTvfWLb7gsLixM0aTcKNZ9LR9F+awYtYL3L2TdrPoMXFrbxl7N7Z1uu5N+DS1YSiV0NW71FNDagZBUDCW2FTuKdYS3KpmUTkwzb1jwaysOuorQtNOtqpqqjE3Dg1D3KOmV2v+d9VgWGg6DYWBUI23//OExPkwFBqMABle3SrMzWSh1UUcHI5yn3FrAhFryqTVA5LFVDJ6yGTS8DU4LRJPVqUAU0EEAEKXFxkqZiOT1b1rbXN621rS1ddtetZ63bLK3rfO1ouem1mfxda1tqzb65a1a276zjT0za07Wd3s+ZmZmbf01rXmst/TNct01605bf7P1lxtQ3wWDWz5dMcZJEZJT7g1xJyNYV5yhzo87ljKVX7t693LSFVXXSKoVkcVjtEyfem6Kbn9FKxKxNBh//OExOstNApcAHoY3SsrJ4uw7ZHZIkb4ZAmni2dch5dbGYIXRtQ+olqJq7S1800LGMon9D4y244h1eq2pbGS7oWlFm6TlFjajKjUqnKlo7J9p/cjHul+n81y09nCVQnGDM6qDNeKSschKd5UosXC8xdLMnToz+ay+DOIayVCmyC8JLS4YNszODCYzgGjAaVMpg4zUoDJgUVOvQHA4OBBkAEGBwm1FbkbRqftIkuaZezouAJqfaTaDQJTDJs4GCnh//OExOkr+7YsAVlIAQEHMDQEwYCrfvTSXJyZfJYLSKWDyPoYajUsBuNFlcEe6b2o/WQ/h8AQBb2d0n1wql5SM7AusQVpD5wEcWA5yWvBYBmLLYtUUcZnXbG2I6HSFOr024m+TcN8Vw70wxE4DULmRk7CqHsisewoLtmJWcqXRzBWHIumxYF+DyHyhY2RZi4AtDcQkUtZiPVdK+cWtviNsNljKtsQxqQx2nVZI/friHAq/L42E4VRum2IBAMsY4Hs//OExOxN7DoUAZx4AFpP1AmXUpEXPAc3TDIzq7CPiYdODVm7x5Ec6pxbTasbHVlI3rLSpXNRqfTLAdn41tUQGvCOMm5zIAaqnYls6RAybpwtgoEPKQ83hzpo5eMwUvCh+AhQ1vck5iomaGDnsPRtvaes6mHgbQzMggMHDgYIqmbEJbFzVFgcQJgIHCmcXGzFvxLH/UsMEIMQEBwxixsjJslRnBZmgcsjDSHkzYcviH3Gcp3k7wIBZfLZ52Ks7TQ5//OExGc+U8Z0AZvQADNaGt44SnlffNyqdtz8MXqLta5M0VBvu8P/XL8Ymr3bcoxs1Nd5zO9Uu8/Dn2c8bNqHJPzCejFedvyygxw3z6vO5Y61n3n/////9W3D9TdLRxiPTsvzqbq2ss8eVt71qm7h+W+f///9//3jllU5GK17VqWV7NyxSV9Wr1PdrWKTfa2+f+st/TfnjU0PBbodcHzSal9AoDZaYCCgZ9A2AgpAAEmFgcGnBFmDQIgQBTAkbTSG//OExCAwOyJ0Ad2gAE8mUgwKAEcAccD0LAAhJBgAGBwiGIQMgIAVeGBwJGHwRjwChj4Ao8DgpQOU3AzR8ChEDA1wNCKAODA0Fg4OBjhYj0LXwMODAkECyoL7BagCSkMjDLFAkCJGRkblWtbXUttO2v66/6/7VpJLSWdQskhdSLrpskYHTiSkGSZ7////////+vRoPqrmRncBTahZBkFGhccsCwxjBOOLAkBCf90hpntixgRVAJwzDXDDTQMphBiA//OExBIrG7Z4AOUK3BQOZTp4XNRYDokAQSDQ43Rp4DBg+MPBNQgS4ABAAgWMETYBh0IBJAPGIiBj2YGJbAaUsBjwYGDSgeouMaG2iygBloooiIGLOgClAbwhlgMQCdTUwJgzNTqdS00q2epb9rf+7v2/1jzERxeViNIRRc40YaIj48zP/////7//pp//synqS7Mn61KRUcUIQ4uwmY70uEBqTB47/t1Kj8IZQAZAOyF7qgMfvjFABUAVCjoMsAC5//OExBgn+8J8AN0K3BBE8YofBgVRRMy8RWo/YoQCSclB6AEGDKHxwgClQ2gho6QMCzA0LYFhoY6BjS4BxUdo3wDUopUQqF/wtbE6mJBysgmZosgo13bpOplVuv/2//q5WY5JK6aoxEMYw9HVG//////+2i06sv+5tXaiEY6EZCEpNPUgweOjHc5RB2UrnOCq4uKE/9F9Ykukx6LxJ8qxJKmUW2RCxzTDIpOFooWAy+BkFGTgqy24MjniBGYAChgs//OExCsnM154AOZKvPRmAgK43z+uAGS3XBUfMgYqCw+ICwXxI518QhpxXoER8eeVrCwl/mMe5y5Z/93v/D//Ln/zv5///3//9iogy4zQtTpIMBRoAh0z0///////+m6mMz/9aynIUqJAhREXcWOpFGKTPMnlHiyriJqh38s+TX1YMVQSMTExEDUZCERmrFMYrArDxh5msAM7iSUyUCB34yuwiOhmNGKQ30ZgUwH2nQ6xoeOyf0qCgqVoragSs2g5//OExEEmw1JwAOZOvAN8lUs7UO00ktPQtN/MInFb1mexz1S/rW/w3j/65/4//9/9/006TDj5pYoQPMU2KgcscPHZrf/////////m2o6TnMRXGo6wkFTZE7JA0BX/6j1utAYo5cWSES94ABxgYUHAgmarHJgABmDAIc8TZjUTF/wAtzThFMHAALgsADcFDGQp+g0ALOYapigrIYCBoEMEgQRIjQXYeROGCAmobocoYYcARYdQzgkJiURmJUexJCND//OExFkmYzpYAVxoACh2kw3Jxomev1IqqfUrUktdVr6/q/62UkkZS8Sx9H1f//////////+r9aNaKJiXVF5I8ODolBX/4d5gsDXfxKGlJRhjRxDcMHkY0w+whAACCYvAGJk+hCmFsAWYXgVgKA7MFYJEoA4MDYBEwBwCzAJAUT7LRqQgSLUzwwjixEi4PluCgSNsMVnQi6I7OJEGMZbTW8so1F4py0/cMKoIiLrt9jm5idzpe2JbXn6rrtfiUm1c//OExHJCPDI0AZ7AAcs9U9a7U5uk1x/JDI43P6o6+7OtWu8/t7WVBbtUnKTCKPW6664KkEOfnzD+f+NfHnL9S/e1jrK9/J23ep+WL17PeHM9fz9Yb/D+75l++6q/fsYZYY85nqUYfv8d/hKKe1bmORCz97n/38t81+XPwz//72xS71unt/hfz3ykpN9lHNc+/Q55y+9KHUp9V6mFNOwxOSuhi+Q1Fk60Gh1Xx9E/EVLeln0GMd4hBqjINDcSYdom//OExBwttDqMAY9oAJLpIjzNhyBYBfwT4G2BBA5ROBChyjgNA9mqhOAJIkiTHgASozjAE02aXDdTMNp9MrkgbEqVFI2danVUeJhomX0UkC6tJ0E7aki4eUzmqJLIpIoIm60mWXzB2//V/7prd6NWr/92f/Qsm1BX+hTSY7Q0EKkKamTSZA0mlBTOZsibJszXpInKaZmTEUMyQTTQdZ9zZTIMcQNTF0DGg1MyUIumvZiIoF250aJtwplRIEVGmQGS//OExBgnI1Z4AdpoAABABcxWm9KIYeSnts7beglEYWO0QES0xEMO4kB2Hwu4N8HkQRQjQlJYOQ1JAe4W8fyeYmRigmigPY2S6KReNno0UUjZ6JiZG1nUXkklGJqovF46iYqU90i8kZGr2r1KqSRU/////////9Tf/S6Lruqm963mKxvbR9Zjah0GgaERoRGBoUrTtkoCMYOww2AoiX0NwFZJ0VB4yQx9fBcEEQHBAmW7QRIkCzyw0/INggkxyBdA//OExC4m7Dp0AOSK3MQjiuF+x6IqOWAaIgCOaKUBXCAkBAJESIxEZg38hg6AxACIBjyfELmBwsE6VjBBHbq/V///+Vw4PFzkRrkuZCHU4m+r//7////////NuzzEc5zEQTOxBMDkUSEHFBhO3///v69bk3R6WKIsU5xloo8w0izyg8YmMFBrKOrYtEwGFOTEFWBUBByks26XnB7ZDAZbdLnr4Eh3y2sGklfbggMX9wRhBgVPJ3gGI0yXiAQlBCJZ//OExEUj0058AN4KvAZFAw8IZWjfLKWIQFarY2tfh38N/+sf/9f///////eHSsbfs85HGiYcHkvZ///////////vIuUgwTERQYCjVGMLiVf/+j0oFUumFXAYo65yTe3sZFQg+cIViGQ437INJBEoBGQjXxDLYgUMhwsPKOkWMggoGMIjYp7o3SKVkomU8oYaiLV26g2kHEtonuPlJip6EqiDrvMuEiEapb7vb3NWtVN/rLX/jz+Zfv///////5To//OExGgmo1J0AN5KvHV2XadDriQrIxTG///////////ZUYrmKQXCAgAoxhYcJjQ8CRI0fPvP6+5T3jyCdws+tSENGIAqqqbvTDvsPMLFY4iBF/AEVGz1GYNBCKpkk/mtgWxJjZjUIMUWaaM4lCxMYCLJwMwEsJstl7xIo4NVL7LSjws2GCF/CyRZRMIGiByZpGkwKEkMLXS2kBOtfwp6XDXf/Def/rf//////9/+/+1rTkE5LuCIpFIoGeVmt/////OExIAn81poAOZEvP//////9v2Zg0YhhQYgDKVRISFQKPApcvI+ixZz+pJdRuViQmHGCOGBElABiZ6GgQs2pgUxmrzYMgIBB4x5HQoB16EoRaQ/z6gelBDApIIXSlzuIzYRNOZzmnbQdduLkpJQQn2qoNOo9uoPIxRlZaVV8OQE/tFNR67Vytfl//r8v/fOf/853/4v//1ccLFAe3Rpp3MUkTHQqaLmRUdv/9P///////nzFdKHO5Yaxw4005Dh//OExJMoI1poAOZOvF4MFBKgo+9qv8jS1VCVeN8wqBDg41Dgmyoxq5DGgAGgAYEMJqgMBYBiEPGMncLDprg6AYirY2YBvcNf7EJHSv3jAjca0Dwqy6jQX4QFhURbeGx4jUmmIKly0+gahvINmLPe1dXP5r8+/v/7r//////////92RRQsg73ZDkfYjKLfe3//1///////60uMc5quQOR1kKQgMhynUSdxIJHna/+smDsVmlKSdMFBBgnPitigUe0//OExKUmG35oAOYEvM/UzeANCWy88IHJgAFGBwraGGknGAFabPFTmpD1KPIbrpaUymTMV2/j6PpMMph9UxQRuYzEQjG4QKjIkGia/wVKs1or9SyU91nUwzy/vNf//z8/3///719v//4koHKe4iasjojlHiAazcv9l/f///////35Eq212ZJHDhw86mdBMVOg8BhanIfrTHiWqgZVaY2wweGXYKAgKgZkGWX1jg4WGBCrwlUFFr1aMYW3L6B4AMVu//OExL8mi4JgAN4KvO2JlLF1PPY0B25UrbCLEJn2zq3lUBZYv+o+B9IEVgg6aR4MCOAAg26J9MchuvKdXvsZ7/P+/////////////+2JCKs5ndu6ajgKNBnqdd//////////rTkku9lqhhaIh05aFFSFDgagNTopW//chFq1TWUwMQhM93CgMf1UTKwKATSZoBSsCk03YVBwQhxIBTypVbHhZALJI5w+hExVpi5FMWXqZq3RppaVyFfR0YHBBwyM//OExNclI4JgAN4KvKb7QWFIwzDQPVMGZF1R/EBEDxbD2QQNTROWRiU2rtjG/h/d5a5/8/vf7+/ZTlYw5uydlQ+wjjwfk5K5CT0Q2p6EgxCcQDgjELMv9HPmc9PN3TdHb////6IWeqMcTkyWU9TjjUQ4oPjkPsNkJyZJVl9t//a9my53YjebQ26lRpRsESnOQAsxIBGBGWUQYLBCZIGCrSUhRIBAYNUjxt0b5vkfFKiIJRRNePp0LVUAaESAuk7b//OExPUvs4JMAOZUvSKQoTzBEEIIFHQgQ7hQogNA05ptnMYBDwd6aRAGWHlhYYWNWjT1YlRORKLuqaes/rWOXNax/f/rm/RbVM7XdLbvEDh8CmOUPKOGJZjhRAmAouCizihWR/26pRrcvez2p////2VGstiCy9u1gsOCwkEbCLBRosLCyiTAqmVWFdSlQ7BQcY4ibBWhANHj/WQoBVia4immKjekXKHddBWxPWXhUJe8HM6QBK5uLlgCVQIpqxhL//OExOktYyZIAOZKvKbmFhwMcgBZQOHkwAFmM1hMoyiEjUVgUcc5S3UclMXYeF0HwYAEJwsH5AoSfk1eOql2iD54v/5G7rxUllCAPFrIvj4RU4xoDgLwWh0eHoCALdcYJCey16KHNXf/9YbJMQ9NamFboobBsa/FgddWceg0hGsLBDVFVmBAcyAFFY6ZxOhMZLoCBhkAvpkit7T2IQSlsruEjRMFtgVOvhYdpyxlBnziUAl1V2JCFrkHpeXHRkHg//OExOYpgfJEANZQmIqihghKQjUcBIyOlmFhEDx4seBYIrllDgKR8B4dhxOWo1tlrq348ansr0OUic3WeO4nldj3yVTz2LG3XbWmZ29552sIKqzwSD8ycYh9uXPt9ueZeoWbE5qSnf9gfbrv0+2Nr93fV3ay7j/9BL6h6jfU7bv7q/sjO2KKIVBoRo4USBoCJJcVqIFAmKBgpLLoEnKbOyjq02UL5A0ZqpSr5h13GdOyzmKSeWrqj0pRWTlZYr2L//OExPMuWf44ANZYmUhTCCohZ0TSvfVH1K16nRZbLmtvIw11aO5fqTVFytl9i3eTK7Vw3UqWpIyg+JmAHAuLFkKY4zxiwmNQoWGkjwdERZBrNRFQ31xfLW1DbM0ulM81Eq5Hf9R/Ky5Qf0/JVY59/CuKzaflX/+a3uRLNvb9E6TfW/ZaVaGoAgkYQOXmL6goCmCnTDLBUlSsAyZRuH2ZuJL1pIpJ6jxNAc6MH6LaOF6uC5HkOVZKIMo0lacpMVg8//OExOwr8j4sAMYQuY6WYzBBxAQQOBjD6QtPs4tKFG9nbg0RHb+eWNrOs43LWsXUkvjuGmvL/UesXVdMT6iKijB/elhJxZcnTVCVESsJW7mMabaUveIJ3jZWdz9Uad/h5jnHm2WfWEFIb68HHxxJ8Q0odi9O3WQK3PVE4pkCMYZRsM2mrPhJGLKeKVbujdZErZzEGuUWvYQNfJJ9Rx+TyJ0dNqoKIxMQ0BR586atDtHVh6bjFNF4+4LBnea0jlSp//OExO80lBoYANPM3dkvpQZFqOBvjxUOIApbJpKH4xK6xbcShGEEPRJEgDxcPlg7KiOfIbq61m7OuZZLS1ome5+a2aivbbQX0979gadNoNbTtEWcZVk5NWcSR8Qznl0PZ0icVp9mKGLPTOooMLNFlmoQ96GJsAVoJpQutUbBWKLUY5A2ReoNVFkikUjjr8oBCYHjsSpRGzUtKLSuD1FZFX1EUtQ5E9JkytY46z1scmcgyop0QZW5DZ1IqqSVM0wf//OExM8y7DoQANMM3FfizqvlluphS/jLYFgiV1pTdjR4xKQ3y6dPUQk+1KOgom8i+VCwlERB1kUyKJqvuaeazXU45Ao7/X6DsVpUSzMdoIboUSzEz9I/cZjXjDSiRYY0NzJpXmR7T4CuhCpijXIPd3Lc3wcI8GXhXKFCZSUE0l/Z0NVBa2Fd2plGpZibUvZYJI0wQ5GjCYaIVOVOItHlRyoNCWhfamzr3KlbP8bmUav2oxSW9xEK1miHTkrISmkY//OExLYli94YAMGG3b7iokYr4OHjEHtqWOkoWLpCkFlNY5Rk8wiizCvWcxxMPJVnHQyvNz7b7T7XbtuV63H2mStRtRpzPFdteZKhmYlraKIm65s4le1c5tMRSjar5uN+bs5TfvG9r+1rP33LbK3OWbvLap9WVpsOjJZWv5hmquaffv9m8bPLQNOZeN1VJ1MqXmVDV3++T17ePJfjGKavwkqFFqhTsYJBrBYkHLEFUD8pKJfLiitqc6xBG2YjDj1S//OExNInjBoMAMIM3SkFpGv1CEjIeVlYJD6qIxUsvD/koulPTTejdLq2gXkp1UeQhVSfj2uHjpYTtxBI4YmpXjU1xZrZA+HDDHmuKsZ1HnbOQSrWsxY0vRnS1F4GI3B8CdzziB9qNJEehGam4GlRCuKSOKo2T0EjosxdBqVYaPM06icDT9mtZ35VWv3KbCUS2Yjb+P/UnpEdKig2yOh9mZhAQoVB4SolkIoIWMMInporTiv4kbiTGUET1sanTVtN//OExOYp3C38AMoQ3bRpAYk0SdtqCk00en9jVs4xhd3T4ZeI0jtrrJR7bhI5hx0oslhaIvGMUZkuUHQQR2RiCJqJBMz0/ZAzk2Z+owsaEQ0R0jEdPNRQUTUogsI5hjRnKfszoGQMCzk17qMthh0olArCEbrCyjUjCNlFqay7JcagWTJplqFERJAV9OPH1Sdy9XuXaeWd3V/us792vlWtWsxKiLVKclFgYH26JxYQlRsYADRhiVchjgSRpSVnD9FQ//OExPEvjCn0ANJM3eUnWbPQdjIj65W/TSzU7xrPCAAgMVQowbR3Z0BLOplKCDiUzpUB8zNWSkK2M0BV8OJodNWQ03EHvIZmr0nNXYzoskRBidouTIlJEcKFgkkwQt0EhWzq0yjU+ImuETbrvpWHkjNoDy4nNQY0HVTSZuulmTNnBhh+X2k8ZgJxo7OP9YtSnCYpKAkjFU0iZMlS2kJYNFSVEuKXMiITK5JEimim4REyrlpRgRBpqU2SzgsJiEyI//OExOUmpCH8AMmG3YNNFhSKSVJohBFn7HJWhjOeRQCCiRJLfVdwUJKCmsiYkaNq6qq7U89iSX787DkqqnkjpqJxLfvnKrcZKsBgotHuRKyq75RLfW/nEt8lAIK1q3/yx1b2NBUe4KicFZMAyTz+cSSeWOr1sxTkco0FAKq15mv97JRVMbAs0gMhPSoT3TIRnRkUUXm0h234i8mkUOwzEo/SLlhCDwPjYgIyQ+yiQkQiGSi6SpYPjBwugbc0hWVK//OExP0wJDHkAMJM3ZxeE6upzzcaQkRU4WOqLwtJNSpwnkorKqpLwurQ5/v3YxTCIkIhEYNIqDRg0aICZHYxTGVFRUGjEUjs5UVU/uzlMUSGjBIaMVFGDRgxUOzs9Us+qIqLVFRFZ2MVFERiookIjBo0YJkOz//9TKiqik1S7ZimGjFMQU1FMy4xMDBVVVVVVVVVVVVVVVVVVVVVVVVVVVVVVVVVVVVVVVVVVVVVVVVVVVVVVVVVVVVVVVVVVVVV//OExO8sdDlAAMJK3FVVVVVVVVVVVVVVVVVVVVVVVVVVVVVVVVVVVVVVVVVVVVVVVVVVVVVVVVVVVVVVVVVVVVVVVVVVVVVVVVVVVVVVVVVVVVVVVVVVVVVVVVVVVVVVVVVVVVVVVVVVVVVVVVVVVVVVVVVVVVVVVVVVVVVVVVVVVVVVVVVVVVVVVVVVVVVVVVVVVVVVVVVVVVVVVVVVVVVVVVVVVVVVVVVVVVVVVVVVVVVVVVVVVVVVVVVVVVVV\" type=\"audio/mpeg\" />\n",
       "                    Your browser does not support the audio element.\n",
       "                </audio>\n",
       "              "
      ],
      "text/plain": [
       "<IPython.lib.display.Audio object>"
      ]
     },
     "execution_count": 22,
     "metadata": {},
     "output_type": "execute_result"
    }
   ],
   "source": [
    "Audio(\"testing.mp3\", autoplay=True)"
   ]
  },
  {
   "cell_type": "code",
   "execution_count": 23,
   "metadata": {},
   "outputs": [
    {
     "name": "stdin",
     "output_type": "stream",
     "text": [
      "Enter something for me to say: Hi there\n"
     ]
    },
    {
     "data": {
      "text/html": [
       "\n",
       "                <audio  controls=\"controls\" autoplay=\"autoplay\">\n",
       "                    <source src=\"data:audio/mpeg;base64,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\" type=\"audio/mpeg\" />\n",
       "                    Your browser does not support the audio element.\n",
       "                </audio>\n",
       "              "
      ],
      "text/plain": [
       "<IPython.lib.display.Audio object>"
      ]
     },
     "execution_count": 23,
     "metadata": {},
     "output_type": "execute_result"
    }
   ],
   "source": [
    "message = input(\"Enter something for me to say:\")\n",
    "tts = gTTS(message)\n",
    "tts.save(\"sample.mp3\")\n",
    "Audio(\"sample.mp3\",autoplay=True)"
   ]
  },
  {
   "cell_type": "code",
   "execution_count": 25,
   "metadata": {},
   "outputs": [],
   "source": [
    "# input the message\n",
    "# output the audio widget\n",
    "def speakit(message: str) -> Audio:\n",
    "    filename = \"sample.mp3\"\n",
    "    tts = gTTS(message)\n",
    "    tts.save(filename)\n",
    "    audio = Audio(filename)\n",
    "    return audio\n",
    "    "
   ]
  },
  {
   "cell_type": "code",
   "execution_count": 28,
   "metadata": {},
   "outputs": [
    {
     "data": {
      "text/html": [
       "\n",
       "                <audio  controls=\"controls\" >\n",
       "                    <source src=\"data:audio/mpeg;base64,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\" type=\"audio/mpeg\" />\n",
       "                    Your browser does not support the audio element.\n",
       "                </audio>\n",
       "              "
      ],
      "text/plain": [
       "<IPython.lib.display.Audio object>"
      ]
     },
     "metadata": {},
     "output_type": "display_data"
    },
    {
     "data": {
      "text/html": [
       "\n",
       "                <audio  controls=\"controls\" >\n",
       "                    <source src=\"data:audio/mpeg;base64,//OExAAAAAAAAAAAAAAAAAAAAAAAAAAAAAAAAAAAAAAAAAAAAAAAAAAAAAAAAAAAAAAAAAAAAAAAAAAAAAAAAAAAAAAAAAAAAAAAAAAAAAAAAAAAAAAAAAAAAAAAAAAAAAAAAAAAAAAAAAAAAAAAAAAAAAAAAAAAAAAAAAAAAAAAAAAAAAAAAAAAAAAAAAAAAAAAAAAAAAAAAAAAAAAAAAAAAAAAAAAAAAAAAAAAAAAAAAAAAAAAAAAAAAAAAAAA//OExAAoQroUAU8wAH6fJWLeJuLmXNV4V6vV6vT6HoeaZplwNBDFYrFYrHjwmnd3d3ef//xCd3d3d2hEREQYQJkyZMmTJk7iIgwgQIECZMmTJkyZMmEECBAgQIECBMmTJkyZMmTCCBAgQIREXd3ve7iIiIiI17u7vf/ERERF3d3d3cRERERCZOwfB8HwQBAEAQBMHwfB8HwQBAEAQSD4Pg/kP4Y+XD/iAEwfB8+Xma1hrZc9BDTbh+FmKFBxDBZ3//OExBIrLC5kAZuYAR1xzSBgyIKbEFBOhoC1wtDBsEbyuYGiYfGFszEiN9i+bpIkHELi3BqgOTCwxXzAijGibgaoChADiBYWLGM3/Ysk+7LTEAg9ESYR0YkEJz/puQQgBOOpBMawsAkYgGUSZPk+//66kECfenydLY1hsnxUyRMjI7X/////qUcX9TJGiB9f///3+1n32+YGTKZSJnMyKInzIqGaZ14aoYajTtgRIMtAWYQUKAI6sHHDBblLAEgS//OExBgtwiqEAdvAAKMHJDuv7gKC5EJxeJUz1vlTy+dVVDjy6/700dShq4MntT95uK9OTNC+Cl8PQ+4MXB3HdSoW0X3ARHVcCqu0HHl7zRhKlWOIvC9aHaBX+eGOvE5cZlFBGmWcosIlIpbHpibaxGZRAEYUziT/x2MRO13C1Sax5reWGuyjl7DtJjay1ld/LKva2dJ/9P//ataBCHCjf+A2mD80OLXIrqZTkLvNR8YVgVRtwjyhQw0AscTUaNgS//OExBQpoiaMAN5emIETutpErRISbBUMx+7YB0kCWOtVQynd8oVIRf8vWlFLNWhRXdfOjgseXZfSUqwYtLD9HiGgBlbcm9ckgsrYilEBQtmc1MBeBUHRG45lXnMKOhGLbN2PnN1OZFJ2RgLG33iyM974t/v4j6zncT/tUCLSuWCbWe5pv///8VvYlIDBAQVv68+q9wSFhhVKCymsFiFWirueUdFVwDs71NDFiIGVBlRirxh7+kAcYuI3dycGBhnA//OExCAvI8KIAN4O3Y0krxgIytc3UWiBmXJuYzaeTvVNQGKjor1h6Q5DJpzb2HT8enpVDhAJj2ojSMyaF9XGAKf92Z5Or86WcLdtRktF1im/y+Db1WzyHcssqGbBEkhwKgDCUBwLxaLhoWMEQgdlSA4RjhOswHo4caOE2OOiS/X/9H////6P1TZ5ymGmIhx7HVo3bfzLWOdUcsquYcPhkHPB9qV7dt0P6PrmfY+KHII+ZhsHkgOBgYMNYQEIgyEA//OExBYtvDKAAOYK3CICoLMBiowaAkg4YTTMEkBMZ6ozajRap27MlTsDRQu3QNHUt3dji8VnNu26ihLMDOhVvFpACcxa9VlUDS+S0E6taD7+eE9az5dlMz2pAL/NSo6R9WfOLz8a1rus6a13+1aVtpFMIAw4WBXDqGWHho0aMBjXT0M/v///////+tnel0dTGqaem7M5UXRzOZSmeVjKxw87IpWmo/snzZTKjsJPwYJyZMIEuOvx6MSQWJRaMXQ8//OExBIrEvpoAO6auAZOx1YOJiICYVAhK8HAQu51y8KqIInERmZjUnira3IhPJ6hCqBqa6mXLcqWYa2Whaa/McLVsmmq86nPB1an6z1r0ParF335rZ3ojGot6xzjAljl4BLjIGCMTAntU7mLIu9JJFaNVNJOs1H0eI7SVSQprSdNjI3fSZaVHWzW6//////99Wy0ED7hs1bjAULAZJFZX//9FbElCIGVL/o4BQAjC4cjJR0DmsWTE8IwsNgXIA1R//OExBgpzDJoAV2YAQoOshuMVhSAQuM4JQqbgyJgjIzBMGR4KJiPU8j7Nmg6AKSDtIrYW0d6i6ZDmnkS64EDlwnCocEel9Irl0Wo+x04G+mZvcmkkKZqam58dIj42LyRkXkW1XU12RWtf9dOUTRBaC7K1GyDn3q19VrUG///////W+yZ9d29fqqRVZBSa9lVf/////91tUtFA3QjqhwIjFGXhwCzKtTVbzLQLjIlJDnA2zDhKzJUOTCI9TLkJjA4//OExCMsUppwAZ2YAAwWAwxHAcFAaYGBCr8AcJTHABbRPE6I6LRIBnQwBzi2Tw8l1Qssslckkh8DtIMbmQpxTLR03IuZrMDwphsZuZGJuXGNI4DqZUuOSyNFblJJLWo+eNyfOIFRF3RXR6+e6cwWblcuMtRsloJfr/9jyC000LbfrsYn4i7SR7S/cnDhVX4EJGf7RKyflyARpHIqL6AkQzcyeNXJpD48RM8kATE8LgzZo+REWEJoDAozQ1DoB4cF//OExCQwQlqUAZrQACpGCGAHKsUmYK0EQDBAWhwS58ofRfEuTxVaRBaQiCZ0kgwlaT7lkgWXPYxyPgEJBTeZw5D9qW0cQpN3q+pp5aTupiVR2erXLNnBrk9ZsVMZZDUZke728KejmaOcn4c3jS8z1bmHalvLFexhnqgr38971h/Of/493399///8Obzv8Nm1ugFdV36Qt2RoCJzhc4s6BjoZTYr5zN+Rt5J6pdGpUw8at0cl9QWIQQ2MTYLKsVKT//OExBYmwfaUAdvIAAYqDDZWKMI3GIvgDIELYjL0JQOQ2G2aNTYClrfhyG1ygWsOTmJQ/gtcGCW3YQSlmY9JpiGn6h3OYtSt8s8cI1H5Z3dWlp+2q1Fdo85mW0WOVXHKpr/xt/nnj3f6v9xvZXaSvhVx/O7hnjfvUsxL6PnLOAVCQPCyCf////7nJi5xqf///+qSU0zBQ4dMg4bin/13wHYX/SVXqFWhLRt2EDgGFbY0U/RyclToUATE0YoBpXG4//OExC4nIhaMANbemGTBkhXUfZW8iQptIKqJ5G7mBCpug8ECFaH46CgGH6trJHaKYbpyZBdq+ZtekLdyRGtDFqeuoznN4tfSb+NTXs363qsGmrbgpSC+ZLTxLUsxVzA0wxsMT683zmuNT1iwdngiz////4HCwZFEj3lJStWbEbEAQ9wdSCj1l+Dssk8IvXhgwFKCFyXtghwqQBTXCQdLbrxmMH9BYiTqGHhQ0AQ+/L8lQBM3DHfl0TWEDm8MJXvZ//OExEQnWe6QANbimNwOVTADEDqX7aUy9LeFgfYL8l2TNAbsKRQTQESJQqH3MRhFeuW0k6JdRW1jTUs8y6R93MZTZ9RbWiyi6iyLmB0FSTRYIhsXP////+s0gSCIa0Og6baUT7N9Ne2a0RFRRyTrrLzwjZsr8jlLzLxMqVDHrwvq2IElByI00+M319gUYeWMSJuohC0zdTM6KhcUmKfOVBhDAsbd5uZa4HCMHNnrJGM1sV6VW9PjLDOPKSltSj62//OExFkmsxqUANbEvAb25q4+8at7zqTvDqYIZGQ4mTFqpRgrOjAxCNczyHDMjsOimVjoxAY7Jq3//Rdf///+r2zozoHFCp1gxDA2kYr/qbuFuMBcydcgydLyKkIM59ROOKU6dhvmM2zm0z4LQCZRmNXSEIaWNUlqhHg0vLsZRhq81NvdAta7NpVg5tFPXWuMximVqoqq3u935JKbOrUQHqUTEkRAASElkzMnjcjdZeZKpkutJ6RxSTqMFmijNBku//OExHEnmxKUANYauPUouG6BtqTS1dFBH/1pq+l//v//+pSCkDJZuDoBD6Xpe0UmHio7t/+h8PPGvWq7hXgARrZiQFOtwSJHhgBxqA2HlZQuDG3hCksplI85ymhY2qYRIpc6m33VOzX6eYaPIKr7zSqL+yyq3cRAqW0VrUYd6XZ/8qnv1yllvf1VxQxChUeD4iFAISseRlLIj81EmM9qnEiOgqiqee5AcjoaV3M8w9VNJiRF/6KdRP///97b2c1j//OExIUnUwKMAN5UuBiYsJDQdHgJmhamBwUKotqf/UIcrMsGBOqpZjCCMw2nMMBVeIAgIXHd0ZuAmpUuUwslAD4Bm52Z9AQD4txe2No3iMiI1Mw9BO6D1MsTkSYQeXMkWjWJQLfQNO8kawsPb3W/WuZ6y5+W9/rWXcvQ5FNMOOEpR8WqPq6sk1kp7spznWGoUEUqWZTburqajshx2lKnOY2l81lZFun///6eaciocqIeKi5QCsRws2OFgMdDR2N///OExJon2wqEAN4OuPsfW2LzVbZd96EQDbCySySHEQcMiWIbA48LUJQoJjgSDMjCNCQv4oDB0CrtgBh5ejKSoenKOEDI5MBM0g3AVAVtK7ZkzFAC9kqpoantXcrWNzHHncOY/n3WWPf7vDX/3n613PnLOYXHBHOMNV2eZsjKap5qIpUu87dzG/+qbqkw52e7Z/26///63abdDuj/O/283+apqFDlY4m1r35iHx9dI87BVXRTWTdJSoZzepAAGfmA//OExK0no5Z0AOZOvAAnZ9maBNxhYDo/BUpDTAiz+wQYTFi4Ys+ojFofDJgGql0xCQREDKFxPpFlh1RmTc1SN6c4ldZrVRbMEkakta+s0Z79JkXOl0uk6YmVeglrpcpTAhR6t2snsX+S9i1MysypN//q82vymZSM0IzkWvajq6iSBzqb2dfmKhjFFTJOsdtp50RHFrcdEQwtXEjvg2r7TIAaD5m+YwXAFQAwDDczWg82IFowEAVZwjCIEAarZKZe//OExMEnnApsAOUE3QABxjysZgOJgZ0CS7AUEgaggDgZFTYEwAuBA+Q03QQoMvQ7N25o1SVlqXrb2rbqQQxRjz/v+m3/t/67akZaqmhd7f//uj54g7mWjU9E2WcqEnOjG7ZTucczDsIO2WjxfARggVoW6C3MDEzxFcbFQkBJsBGo5PSOAYwMYzyQ9EIALiFQAGIUcAlAjegKMECAyQOgYAV7LxMowMoOTYkTUDkkzCiRoG6AhBgkCGA6B4VV2D02//OExNUjW4ZwAO0EvRN26fPc3b7qnw3nuvT91v+Z73nn/5Yczzzt9r5UlWnoWtuPWhld7O37oLWHMLF2uLj4xgCgCgeKL3acEGb2LwnFfTjESbqqm66fj6f+05/6//qr4SWos+3RpLuPSJRPne5mrur2X//nJjivGny6IjaRFRKW1NBmsVaY8jSUx4HfqkxBTUUzLjEwMKqq5qlZ8YG0DgEMwEQETfvQgnFoCCpIBvwwG57PhhmcqMaIE7qaRQeM//OExPox3BJ4AOaQ3dEEKI8DDpF9MiJVe4oIFipAFDErKN0nbf+H6Gkl9PY5aQQxmTE7le+/eeqh7yp/JJo00KSxIGAWFidhAiNIN1V9ryQJkwrLpOe9SwOFIqfhW2xI9Kpf/7K4VDR5X7V////xUSBx03XstpnZBLIzQ9sDYUzTFSTeaAFUjLhmYnnoeIlKEl4aU1X82osBDvC5pmYgEIFLhcgy3DzmM4s4WVYwqQISQEmi40BpMAN+wBrkVuyG//OExNojWa6UANaSlB+grT87blErxrY093Gmxwv0dW5ufo5mrUkMphqU0kC4tBj1WH6sgqTsb3Pbyw7WQXD4KABkhESQkhh7opRCImKFDyVSR3NYkPY8idWdDPcmLqa9tP//9PMfSyZ5mcQMhzsvdG3PPzP//o3/T19byEoccJf1+zWgEZCjZ34DMCzndRtKoMa8nhxU8jqmDmRs+8dAhGmmYFABQnNaiTlZGaLQWWYo2ZmAaWOasqgeAQxjThtU//OExP8v9AaMANZU3YbIUjgYUWFgJhA5ahYNic7NM9aXFqGAXdfSG4bm6kqldBLJDS3K+r9NTTdBeq2ZuAPe6BnPgFkSqjYU5Y8yeKSmPwDKpqvjOUErvHSs6PAIIT8SQdxYUC1NI8xOMUh7Hh7mhuaFBTkxZUZrlaJMWjP+dRQpalU///9nmDUKjdmP1KQRdBNSSkzi0VGaJdWpJJlUWT//9SW3V/svop0zA8YGi2qF+UboEO5hwUm6hsq2heEg//OExPI4pBaEAN6a3QUYxUBwtPkRTUsWSFTEbXkx10VGEwShEW5EAQ18wzsExoljyPRbMWYm/JGcBJqs4MWoOLCMzENUSRohxaQXAF60HF+e1lUrPG7v3flNFDMShyz8zIYvhTVpVL5ZdpolFnah2FwPL3oZOtSClBUfYxA0tn90DtTlPY5Mv7EB3kwtEqGDCqiZBlE3GseA/mCJubHzEwPEoMQewwJQTLxUiXlFMqVRUbF10jd3UTzdC6aKv//3//OExMI+pCZ8AOaa3VLdRPMlIKoHnSTWZmy3daRcPmxsks1p27V+pdbqQt+upaS6k3ZOpSFTXdc2TYurJhdNUlHTIuhw5bH0s08I6IjBzXFi3LKZrIKHxja5F0hIIPEraYSEhpiimllMZCCkAxKLJ+mbwCetGT0hfUxTO0k2JE+yxSyRiOhXB9eMv6jzALr160qcJ54Yln4wy6sD8z3KZdMz93KJP9Svo48ij7DVVm1huVO1DtLc5ndpZTUqc7fr//OExHo2JDJ8AOYW3FuiJ7aG0QA6xINAgwRgCiCIqRodOw5RJJc1YfhY1Jz9tuSl7s7KCtlBdc8T///////V01c/LpKlu3RTW01NJZjfu/////vv5rr+ONsJSpcVPMfzz8zufpLOSfw6l9GFjkpvTzWTC4/NPtIOXzaLkTTMCBs0rYjYYEZyrYmyEAkUMTVH84ArWM3j/NqXmMzPBYAaFFm6NZBIKUAsUl1mVuk03Caw59HDV+1r691/bVvC3t3b//OExFQtYwZ4AObauDbwwsVYdsE8vEUcAVwVYkimUR7FpdaupfVqSdTuakkbIEmNpJHiWLzJnjUySRZR1FM1NVrRMmobaKWtkUUV6///U3ZlI3MS6XTW/urWcc0c3b5ft/JCpWm51womTrOh0eGlbI81qilxksZ9CbYH/quUBCJnh5dZub+RuMOSwGQT5NIICIaikpDySQ/AFEUdKR5o7TrNqj0dtHbuW0yWTDnxdxxdKtl0Tv9k1//xftn3fzlz//OExFEpRDJ0ANLM3Y1/I+Y1crU8d+zRW3n3P3vPvzGnG/7437f/7n79qyYe7kxK48fJOSli8MdHN3I5UveN9fK+ecp97V8rLxy91/je9Mtd5BsctttQFNQrSj1IHd8X2lwj/R8ElHpeTq/TMqr6+90p8JnBlpZHk6ElozBejiw+CBjwcAB2ia9CAzYAVyyqI4GOSwWIFsqouimUvzPbe3vTDclOLxI6LxNXq2jYTbzhdVPSZ71vkf/unE57bYl9//OExF8mdCJ4AHjM3cabhR8joLbMKyOeo+WTL711L0reg/hWVjtj1uxG0oox7rT2+gWZUeEX//koHKxw6Cc1vIkjAcXSORHNCYT4wpLhhBqlmPm7TaO2fN//hHYhnMqg0l1clpn5A/TLhNvCCtOfYakCyaj9EG2m+dosygckhjZdXZPVW6367SQ1rzdimb/8vVTrPGyntuXTl7sVOsxaft8vdz7EPGGVmn1ynp9/kg8OhBVGXDSn3nLhptyfdFzz//OExHgmNDKAAEGM3eXFvlyh5ZHY7U8KtBFikPtthhiJEyxYhynQ1VnmJkT3lasusrYNFDkRfjS2RA5aAhWCWTdbmfa178XtKWv7r/JpakVdS6gVgVLDBonXNsbI0UIEYa8jj4UOw+CCxcOCibLTlezW1FTUq7wIPMTmGOXu7Kcsa23c5mP+Zv919m2/r60fe002vUPLzms01CfdUdm+o5PpG36Nl5s+HOds2v3/zHbc1tNzfOuUlVMX/jVrOre8//OExJIoJCqIAMIM3f9ftOG5u8pc15zujaImlc4eeJhZ4QZvjZkgIiAmK/H1cQOyFvQAAgOW7gorLVs1R7WiuKcz+nG6fObSevn4xdq3QrjkqDQTBPuT1ji6+sR0nSCxKQCEAZQ8wal3PzHfPndQUFisnIa/GffGOwrC6rfW97uCeGWnylXL62f//1///+2/7934z7Dd//vZaKmCw7/9YDeZMXMUKnyYYQcpWbGXeWWPyyeCgMNgBkWBLYwsEDGU//OExKQk4uqEANMMuPDIIJVhf4RAYaB9y1ZVks8ylha/5V/0wZOU3920zsdZyj2fL5zahgq4vCgES8nWXd7H8tQ4b1wwieTB2VygbPaub76QYww0Ojw3CIPc2OzUOaaaZMB0pju3mqOoC4mh48eo8ebVqf//RrGWdV0d7pMRyLbf///+tTZzfztkGaHKy3Nd3Ns2QTAKZ/DzXSwoGnl6XzkmDlJ+dyULStjyDpEyqV9htS2ezAgt5hq615GvXvb+//OExMMmRAqAAOMO3fm2/eb6zGx8yQsYnivJm5tUCsOwqjyc2+AISHmkoNEjChQiAqBWhYaOBsNGIPHO4yhglD0SCudzUQjP7NBdGvFdfFXvXHo+u///////3uszHxM+/x3E2L//+mTE9mpdhwIoOIcPDoBYNVUQgExkwkmDZYaaWmmYDb5w8zAwOp0mAQQYsBbTJcxcMBMVlDKGvUdFzAhsZkIU+iQdVhxmaFAg1zLbMmo71vY2yNO2q5Fl3P8///OExN0ksu6AANvQuApxMxjjHEonGduQtUwXBwRiZfLZ3o9lLEXkxXJDXFrowP3Gd5m7hsDwjAXQWWpR0mBqX3QeCAsDpmYItJkkVlpezovnieZ////6zGllWqxYWKlUMkexxNjJ6al+/+///v+E97SpIomr+Ih4kUFbM1WrWhSYNphlYtfh3/aRjrdRgEGAoEYjBT3hwEM3SooT6AMyAWjSwFL8w0l+GDWKzTOpzN02vT0rZXBHJh/KPVTH8InL//OExP0xs/J0AOPQ3b+18O526bUxGZqpGJLB0Du/JpGw9twcAHML0OUoPHYW4rjP31w2kOw2Ve6YbOlKZIvaGZVVvfcmqTVP/LEqvy4FhQegBCxVzGu77G/Ra55DVrpHF7NTYSlq036V/////B6wW/Q/a1nZbILlw/iEqptP/6+b//+f5SpHjpe5/9LTrX+bvV/NaoPEwbd0qojGlkmzqJQGLiMMdD6DcIDC+Bmq4AqlWJOQxQFabNKUS3CAGOfX//OExOkwi/Z0AOYQ3F58xlcD81KOfXo8t17XcL1rOxnZr01LrGXv1PPDJG2AKwaBlq+GLyCRYuJPZsPVsjN6O3JPTwLTdcaVXAo5xYweHO4MIAwTEUc3VpflIKjWMxZtfoYWdSearf/+jpdUT0lfZxy9Ksv/v/qVNWlFMdf9F7z60qibCgyp6f//faKZnJYakIT4swHW8ZYB5MBgqCjGVrU3VsBAuTMe9uCm9HNqxvzw/zmftY8HKhuQfAVO8qfe//OExNkpM3p8AN4KvS7N8n/eMnDlbCCCGGsXMmocxbgfRYRnXFwcy/k7Acy4lkdICcS5CVInlEzMsWNAfU0+jePWlawfTbPZgiHg6zoY5qMjWxgdBxARZ1b2OpiNQ9V5Csb//m7EKjIroJxwfKHBQwcV1f//X/11ZyIpn7Sobv3OYZcRHIYPI4eNF3v4SpVERUEGizmjk0EDJ4HPBHowyQzqroAR+JACZhPK644sATAOU1iIOUtOODi84wuF2rrV//OExOctNAp0AOPK3Om68GFvbQM+ymVxNAW98wDBN1nUJSqbq2JW32EqTmhqD3geF3FVV4LuiMBdk9Ja+1dv5ds75f7+HctZ65zWNDlkOkmNPdrZ9vKnuPHpd/zzGQcmzDE7UNb//TZTHU8xmNJorIJA3CciVNOWd///9vNZndfrb2Q52c84iag6ODRRYRIJhYNeIqhkQpa4QAEZhJgoIg4YgRjla8LSg0GG6D0LAaBR0GJrR0kACldqThaFJLCE//OExOUtbAJwAOYO3SuOV2kkNUr94TD0K0uRFVfUagLcIU9L+OVIsZyrhdv5djMtmpdajrVUmYAhrPHkxTc1f73mu673Ln7rd1r8dWctCIscr0VkRbuqnDzCxrG/q92RU1LmT///2KKi6o5NFBhEIDB7kd2vt9N//9t5v/RqKVZqCQuJlCBh40LGz3pVd1a5gQaHLmCUEQOBxs4MAaNFYyMLMM7gITCwRAoJPdqVMpyS0zpNdJAELHKBpoyV3lfs//OExOIrk/5sAOYK3EcbAqIgCQGwKwgIRe2HzLBL0OmkcX6da1D1rsqv02VrW7t/DKexuxSP0rbp8wThZrcq5fr9/rXd93rvdY45d/VqrzIFw45hzfPZkYhs+d+l1N7oh5vsv///VnUicapzECQ1Kg9BAiaITlH3RHY/edPUxv+2b1b/+ZoyHGPGg1LkhgeAYPjhAtz/IZJwyICmDQYd1B4YSwoBjP9UAAiR4HTecSEoiBAhQZqB2FsYAIALJWIO//OExOYva/5cAOZO3ZDxOkbMxCqajw0FaseHHPA1YLOEprCpyzs0+0qgarZq8xuZY42v3h/1sM6lLhVZzMZY293be/7//+uZfr+f3eOstZXsq0pEYcIclU73KTv/8/rvp/T///UgfVc1lJDp4REjnNMqdo/W66vt7dqN//03c67iwVA+FKCMI4VHT7tgmDyKT1ROEBxNxNYuqi+Y/kZElE3iAdm6BiIACDiKcOeocNFYhIAqMrqfUmL7Oh5ACyM+//OExNsqo/pcAOYO3GgD8A0MFAAZaA5Y6xSgdOai5iDMYSsYnrHk0a7TFMvkqeLpNJTp+TpIE8bHTZB0rMyVL3XaqaJmJiXnS7v185H//9SzdTW69f//92OQw985iQ1Jg5Egw9CrnIyL//bX/3v/6LTv2OJoODYUmjikkUzotSjq6iQJhQBmKDId+zJiILGIwGaeKIY/gICASHzVQpLwGP0IcjMwkPrwVCRfsCgAvEYhAjcYsEjJ8M7LEsOm0Sgi//OExOMpFCpUAOTO3UrIFlFR6X1vyDKGK0bjE1T007rGrJ+yiXdl7OJbG3oncOz9LYks46UXhqzT4a53vd9/vNb53eGsqGVUuEyUeprGud7TzFlEUyWT85ji7G9TdHf///6I8y1HY5Zw2eaaWV9LvrQ2zziFZvrdHsy1/+t+55E0iICYrNNElKS/5h2NeUAAcwCmj+7IBRyMIAACsgxyAhECDBgNMkAswIBWKjoAgF2H6gVhVCtxywukSDApYGog//OExPEvbAJEAOZO3eIXRaNNus+jkNchDPYGh+A4ROMuazDFyVXcIJ7WgOdiPGvMTed3Hfu4UNzs3jldjNXkkpsan833f/hrLl6klspylNWp6Kktf5ZnKxSAQMIVgZ78s+xv9Fb/r6aPn/Y2tfU3Z9X1vKZSkdb++bQ39etf6ZRK/jhkpPsNJAYJADR81cgvCOHjJWQUEAoNfzKAcnGCZEtikZfxvHSdlBUOAQjICVEk1ZEFX9VuZs1RlT/taRGj//OExOYrM/JAAOYE3U6Lr00agqL3XBkkad6XXJijf2WxuP3lUEQaAMTJI08pq5amwsuAwqBMVGG6+T1Zw8C2tCI0y1CtuO74w2/WUp6TWanBaUoBnMDobNtfF0ivtgZI82G1MOvRlVJGkXuuqUpIswvFrUC6KBRLmUva865KMYdWZOUzIwxUkEM14ImLSvm4ObD2ddkNOXsReUrAyoNLTVGiCqg4SnEWcyVxiiizhRGGF9NJdNWiAbsERaBdWbMq//OExOwqae40ANYSmK1+atSmvJWtRl9ZRLsq07nutvdLve7Xc7mcE3Ic1dwsX5dhTU1LGq1Hcm6V4VIHX1lUNMlxwtFeMOPCIWKuFb4a5iVVaqG+amZR7ueblZf51zYn1h0+JnHqqVN/HHXLc0ms9VxEzVjNv7mdfnsff//bm0LhUpDlUj+iqgAA3ZYg+77slp3ocqBGpNwX9AMtd5p7A0TWTBzEKg/j+DVKUurTp6nXGilIKVRwsUpon6qZoUe7//OExPUvE7IkAM4Q3de5mnfPtQm2jAzYgxd51rGt2zjT2CyxYTe4tGJYULMWA+zGhXi7jYoKhR3KHUOezj1shiuiSkKQwuoxzuxTGtPqkooVFIqaEZkaQruziSqMcyLdbGO6OREutXWxzkpU6ZnRDEsVzGSfcilVypIiOXfetYw41rTM7mb5MY4DtOM2C3EKB5KeWzMSlVqXxCbUdl78suacwDy5hYq2tJ5MFi5MQuYJlpelnrLalOZgpaVN6o5F//OExOssfAIcAMPK3XUW4Jwh6qM3nCB6q7iqyzyKp5blUEo2FXlER/1REnZMr0VqZxLGaefhBFIgU4+J3NvDikSoUKooynpMXzjB443EIyKgxKVoETR27IvygWr/mk3jXrUVSfMHOU+4ie3Unavpz8nGMZRbqCjHwlMni881qFNrl80SMzDUTZtLHQ4NaihiZsKadLI9CrtLLqGxTUty/QUFBSRuGRQfmZZrC6REdUTUxJCzLaz3BuDK3y9jiGrp//OExOwuXBoMAMpM3Tc6+lqsNWhGTNPpgfo/uoYK+N0iVtbYGIHxTTdQW5MZ12igWv6oH01htSVjilikMWIAjAmoEUPa7BU8mhunSa0IHszBZXULsT2lsbYODgQgUG6oVRMqtwthUZq0hkxp4VjRyYWJwaBnkMGxpQR4aycS3Z839sS7sts0suls/jKqszIqN2q8RFCsWGookUWEGuSNJKosexFZs+sYSI8QIFCAuTCmOLJsDM6CglLRWYghUiQj//OExOUoPDoQAMJG3KcWN1hxt+SkLEUkSsU15GINI0SFAanqaKouYbi2wlJOHdrDDSyahTrtOc21ObCzTW+rbi2Q7jGeVspfcsy/0zJRCsxGeR2t6UN32x5sfxgh0o0vF+ZLH/U3/Vrj5VmSRIHwak31aaYUX7RDIFUTSf75VTT81IyhRnoFtaFqK+OZ3ubuYV9X8d17dWOZSnWNk6dUbRWWikuwu1HBOQJZZIwSOXYYi8SwRPMQZPrxMFWk+scf//OExPcwHCn0ANJS3UoiHNnqy3p+LEru4/jEEujbxzkRqyvpeZbGMgZGb6hOPCU+8Sf2duvKe+plEka+O9Xj1qpJ3bueWUg31TRrzr1i9zZom5p8bbs3bD4X5/UW9ntP1ksxb6WX06a7LqdauXOTiSOPG46OzyrfnZ5XSsB1qicZzGvn2gv5ZWqCevSivc+zhUp7l+mJ3o9QFqM3hvSF7R5lgTUkR86wuhWZV4yTLHj1VdXZxlw9lJVqB1EdORnt//OExOkp1Cn4AMpM3Rw91Siyy613lnHaJNUgaISa3Y5g6QXZZCKB9iNA0dEDHEeRyEDrQqi8PbVB9JMM0szOYePILQp7p9JeCTqQRsaXY1iZHRDOiNUlSi1SED8fslxyUhb4hMp9uIdErB9Va2iWQRW/aaETLEczn2fY86EHMnSY1QqpUYMyRgXGl6Q4wkDRLjOamzYmEndRdnE4pGRAK1hNUiXD+cOLGG4l1jJw6Tmnjxl7OiKxhazDFnOsRlML//OExPQtTCH0ANMQ3dSnKRKRKz2GNsmcUNHAcgEZ0LUhXojNoCZLy4MWCkrrNC6RLUXBZJpRA2eaOPGDMaJ3nKFEQU5IuJhayzQJJJSCCRPYa8zbImAhaDtsHAFjcVB9nGYtwPWdHpNzmNtJRaCcq+wpcnLyTq9ctpL1ETWFBVI2Trex0t+qlRvAvOlmgEfmafVY8BKDw01yh72/euzkfi9AgQJitsDZOmGGFBOu9dpRtyCJHMnRkCAwsdXULrGH//OExPEuFDnwAKJM3FbFVrF04MoZNszXQObxGuw2jnBWRdRaKGN1kJ+T1nOhi1uXqkWv2wtOHcunRPcp7tILRTpBqfSaG0ggb26e0gdd6L88xAHKiH7M03TpioqbqCUySaDzmYmfUSTTMtzPhes1w93tepKjTvW7UW+mO8Rslxjzd67ZPm7j+8YnajIUAZC/nfcSpDNBFq73yhwUH3vik+7nZlnjiP4acSJLwwDoeKR6/keYPw0DQQxUN/onGddJ//OExOstXDn8AMpM3MQwkZpEIJQZDOzl/FzLmo2dno/fv4UPcDUdwL+hxODgP9Pk7QuLHga9X894DWdbtvNND4fyhufaQuiSy+Jv+/7EKV25HUq25RFH0ZxAlPBDuTsNv3GIxXl600w4KhLlvxUYZBzW2Hv0W4QodBsqK663La/TQ5KGdu296ci/GBu08rT6ypGMprxhDNPYFIUPMyEWS7bYGuImOZBDglrIZgpQBejA3maw5DPkUIcXI6num/yx//OExOhMrDooAMvw3CT8lbtrDuvNu/G5BDcP0zsSaG5O/kbZ21+frw3D9Sha5Mv/Tw3L7deX0nORN+79C7cnjc24+pXfpPlF/88NUmFSWfXp4bh+ahyk5UPBoutfhvuc/9V9olUsZyuKSuftwo8iK7l1kSxz77vyw726sjTgTBoiNhLTsrDhQs1tf956d3tulaGodCotdXpVa1qiLW6UovuserJUiWs8Q9RvXNjYFkn6PVEseiccX6jnb47NBbX7//OExGhBdDpYAMMe3MaX7M/ZicHG8nN9pMApX8Y3qLRNhmJkXNVxGJdxkMPc8lW4JojCBSIgAsZHYEPJmEGJafgaYJEZ5jnI/F3LEM00w/ADQOQXAShTGg9L0yCaHQPA/CsSCLerZ4BD0sdgkgcmi30vG2ysZ6HQjzQcTrjRNtSMeON4+JItGVQIs63kCExx3MyD5hIer3dcQ4DYdFWNXw1G8c3+2uM2KyLtDD/q1TW67GzAbTec8RX6Nlmz2kY9//OExBUq3BqIABBe3R/zkdmRHMgE6Kalv3vqkmqeXOv8UvquqYie97RL7jUzNDf2y+w7WGzMaO1Xgsce00eq+1K2kkNNrhqU6cbFOsqU3jvcjcPBJK1VsBKDQWV0TJGrydVzJVJsrAgTnOM87TPlYfnVkWyrfaiKDTHaDHmkjQnr+PvMetIkXOoDz0tXrzJHfs00F5Ggf/Vbsbnrdd0gQBbTYIq/znmXS7b0anOjKmtiQc9SSKhVOmT9tlQ6t10R//OExBwtLDqUAAie3Lts3/2+cfd73zPn4xf18LeolZ8QNU1fd7MjHKrJPBmZdVf1rEjzv2OdTrcr/EJna4DKbi6NHY61w8UK2ysY3U82qw6E4vHSnVGnE0i2aGYrGPxDyavD6RZmnWsrUJWMm28giPSLGf0s+o7nO/YJcObEyxGGR48cax4bhPGY3OaJLDYFRFU66e48NR2YJXcjfGrpqed4rGSBNSf+9h/7rdboja1unO597kBu0z0TdHzaupzI//OExBoujDqYAAie3N0T21p5x9//73jFZN39c4/1r3+cVtXwNvNQtNlqOT1mvEewHL2x62w4tlYM7ExtTRKxoYVSXZC6sZ9mU+eLuOuVaX1QMosoddiZIWrWEuBkE/N47ixE9RblEYHA/ESfhxRpB9K9FoMvkVgeQ3jqiy3ubgssMaZ/HvGRCnTK+rE8wnPGftanhtq5W2SIk46XUrw73qgMOsZFJ5AIh47tpzyqUf/Rd+fyApYxCZF2SogMHGU7//OExBIpfDqgABBY3MUWXvkZpkrsEO4vzM9Mzk/8zOf1K/WZnZmZn7zl+pE/e2s0Zo2wpZjtNuyqperdxxJ7CV4aD18A5RSCsyCgliwGwlg3AwXlhzzkBkwqZLIoLSwcWS6c2thXkqmAcmi905PR8EEm46TYCr8utvE7ERwuwrJyYtSJD2DjblJm0X/X8tUWVFcSXm3Kl1McKj9kkWMqNHcwSQ2jtEArq7UyW/Z/OxR0dFVS0tR//+RXu37/pTZm//OExB8nDDqkAAiY3H+mnXgP2z/m7Rf152dyaLDNXzBTVLLKImytXfLCp8yWsQ/S/OJm1AjIa1Jan8dEotFU121bCSkIwETwSiOSnrnpaW7tYRJpevLWnm2XI6s1OVrV9dhUrlTMcGu5Zd/dZDYjW1YW1mqmOWUX1iduuemP6rv563rodmsPVgXPKrt/3qWSYRpXK4eGQQTfmrvMOVO4X+rNeWZ+h35mZlS6VVXZ32Stk5SoAQMcszoUvzKZyJMW//OExDUjo/aQAMFQ3cVY5YZha4DkFIAEFqmlHQTTB1bSHIiiCAqC00kVFTWSaKsVGC3wzbWrbfysMq/8HTaCwtJJqk38Kl/39Q1rar///z8r61/tTN8SuzMLMzMyrDe0ksmbRL/8KnTTHQ+T9MCwCOqJUMqQBMKAFCARX8CDBNIRRGhhR6f+aT1MBgUKHVpyhhiU3Zh2a6D9PLYBqN3eKkf2CpGyx/YzLZvNwIryxZoJ+fpb1RWxoEVgqIQ4uRt6//OExFkna1pkAO4OvHt16ee/uf/3Pf4f6q5h9HGxQWoEyjIqIim7ocYimua365rmHPz3pun/Zqfb/7/9v/9P/QxTGnuYzFnppvoZ/JNygEa8vUnZxoCI4cJBybBBmoDiEtQAZAYYJ0zsG4MBll0ZhoKOLZz8TlEFs3kWMkouhlKacxdMw/maSzcWDLhaz/jA04aXKkgwFqPCfqQXM6aLhdEYLirn2aQTy1Dk3969N2z8Ym+MZUh5ZzGbCCKi2d0f//OExG4koa5sAO4elNdb1ADdhdoWtD5ul5F3///9TUP4JuA6WCjAAx2PART/9SVoaMV4Yg8LhEoNNZekyKKwYGggQAkFmNzyZIRpmUtmUyGYtCIjDGgiCxgAAGArGAwBF0yYFclswRQ5e85akdALhfBfigCu6S3ElBVu1LFeVxCK4bjsVafR8TArv9pL9pnKv/rb9UE4MDAwiX3cos27bZ2ZmbZLJ49CSvbXrKK/B8PhkH3wg0o544msPp/////r//OExI4mWZ6AAOaYlA+AGtY9ald3/+59Cs8aZlKexllARDQKCZCoqYcVmhvBkIgGBTDmtAEGOGFEwnJhoUAzJpE20FUuREGQYyZbNJehoReOUvKCDEaLnrR8eVhYGCNOxXnm5NkgTrSYtDo5WxKHNffa9G/SdiJZ/LAchoAQGlXiSZEz5hcO188ZEJFSg9CGICBy/lkJ2vDhJoqXeBXjS4qSNA+aMxJ////rxAPFiBne6krZgYyzGhAEEzUSGAEx//OExKclwaaQAN7YlMhQcVxacgNDgY3CmYBz6xqPEAiYVDAJcdOBBwFMgQzeABWLCZY2YYYmsDyPkMt0bkAQoQi48Fu5WsshZBAlf7krdiL8up1EVpNluZ4FN9uW4mICeMMTRQRG16xLmPGtWE1v5o0LLVSiuQ5uui3BWxo1Pb2lpE+LRqZrnUaJiPTdX5sKmgw5TP///9CVDyIFOqrnN3HrHHRP5cSbjrdgs3OGCbnLqRwwZPOE1LnNNdpcoVWH//OExMMoIg6UAN7emIk6Dzk7gAxqY2IFw3+oZYYVYNbRo21GBWqJDGZpCTFsDlu/wLCQcLdepdjKRzBHErIni5Km2ZU6pTLV7SrS6pcJAaCzFU0dktH9ZGeJbdXrhe9LXVDOyZc1FLGhXx/717C3S4+I2t6xGxubedUvNoAuP0/+3//+7/xdVeU1WVOCF2xv6aSU7hQDo8/CkrMzkENJGRsy/+NwMCgQcZ9RkSNXoBCF0EBw3BQwEmHBT+ck0PCM//OExNUnGiKQANaemBjHRgSCJZTshIAIylAL1t/L1xrzLumLgwKEIxK6AvMKhYZavZKuxvCl1RUE0R0lOu36hRRlHCo498MTI/jwstrLGpl4+jQb3w+YUqxsbdKyuL/FNfH3vdXsS9/Fg0pSBi14gmEp0IGEf/+yr/yi2F9FS3xjRxhVlhTBqOGcoWeahcgkAZVlsuAYVmwQdk1EjwwRGKwUYpjBq+mhi7JgC4yVI4SOvkTZbC+jrLlYwlrP9lMA//OExOssQhaMANbemK9SAWlZWzf5Mox7AxAZrDBUjkdTDEzeVxpOzt/5hhJjjowSQUYjTw6ghEhiC7L7PXBkzhMTj9JNRp1qSkyqSp2onXyuZwy/cIs1eymHScdPHlVgSjI9nTwdBMOIS0tLjcv0ioQRMeezxmRhvL6Nh6LDeat0nH1///9XN9zX/H//1///82zbwcVMddilJLdWxh32Rb2+eYg98zV3uc2FFoA1zXMtwQB9Lkp9Wxxqljw4CTLU//OExO04q758AOaW3E0+IvXsl+yw5japBLgITzBAJMIgoxCfDCn+DFMzV53Ngd4Q4ZPpbuU8oi8OZa3KrCQDULUzTCgAGgWNAB5ZfDrxNDBQBXdWgGdjqkTBAFgS/jRLyEIGIgVCd3ak+kypJ+Mq+pRDb/nT9sY+eDE4MbvadRvtqBUGw7TW1SgEpxqfqlCEJ29VQ2JzuHZkbPdC6zWf8M+P576iP/////n/7+ft0UubUfYakhzyUO9Y4x7El7iJ//OExL0ze558AOcWvLk9cUm5fUqI9MJgc+GkiH/VgBZ2NWjEQCAuISbZUtJDEkFxr7tHaSYQgEQAYwyEr5fQ56cTJQAQjcxdT1Et4aU+MgbBKwuGtpvIi/T7CpINWQdnIZ1LkGjEVFiY1nrtZdU99y/YVWYNb5vK471+ls43pTLoBfmav125JFPdWryiy81SN2rstz1Wy7g596ky+5IonTIegzAN4ilE2JqZmPVkqkh7G3nC8/VRqTZSa0TBNqlM//OExKI16+JwAOZa3Zli7a///q91XWfTMKCi6YDmLqSKNE9SqrRVV0EzJ00fZqjIolBBBSCalMp0ziR6cx/21Hs5Anqg+naYgHMICyNGDPHhcXuxdOgwnL845WoxRBRpc6IABStCs8FFgcBeqXwSzsUIKF5uC/yRhoAqYMCym819w0NZZf1yku2u4fqzl3W6+scf5vDvdfn+GWv1vuOP69jhGCYwaBGSCEbF9UOOY8cKmrmExc4oONLmmm+if//6//OExH0py5p0AO6OvFWR66mnOl////PzkNPmtT2Xf7c9FqhhphynGXNNE4gQo2Wi5V37RMaJitW5qpH0yjHkoMygqRQ+MAYABk0rrwITRoQtTdx0XePKInSxt/1M0ALqy6IKUJWBwrsjl6wBZh8GmO5GU50U4PcicfR+I3yznnnl+8KSx/MeZ////4fr8+63U/Ibjw1GwjBQsI40LK5jHtMJjitUw0mODxhp5n//bP9DDNDHmGfvt//1c8noee3V//OExIgoE4p8AOYOvN8y3/SveiTnNc1HYdJx8RB1DWF/+QUCGhWZ5Sy4LAs06YBwFGAAA+JgQJGERSdQLxlUNM2i0VBIJMJAGHquy+4N5W/bGBqHLjFUPMIvwhRcTVGIDNFhPwC8QcbgBsDlJsQQLwII/UafE0Lwzs+mNVzRsPGB1PElV8ZnywMhuDEVax+zLL73jxpq6+vji7jRZSBQBQVFhUXuKun/n//qUgUUthyRHa3D38/////y7x1KYuo8//OExJoxxCKEAOPQ3D0tCbc4el0RTykTPxHHFVPz2yXUdLTPFCrSyJ//1zf1MaJEw9xIye1Uyh0LDKuVV9gQBHDBbaBUDQiBioa94mpBLMq8MYztn0MQwYrehMxILOMGBTPa4wUl/XXoSUxdc1cy4dKzIxSknQIALLICwJi9pa7jhMLJCo/C8GwCIUoqiHHEKnkB5uYpzMqOzGsLh+MR+NTRwpaztPU3/cxFNk1tLf///ez1edXHyPRFiBy//+vh//OExIYkYsqUANsUuKGo0IGUiFQipipylddvwcYPEgYmV1ooA4FmetIanIw8I2rOOgDErOzPbkiAQil1iMDSKXtZFk20MYz1mpVSz7eoj1hcdIMyV4wh6BsGyhEV4+eqltfK0/jqL4f5pNc0eA44tresXxV9LXVYSYrHfQ5IOjD50ir6wrCwDE//ucRagwEjpUsaEDyBoGf/6EpGldgITyos1aDgdKCcCtV4wKgkxO7wcDXHAgKMorczlDzBQCTX//OExKcj+a6MAOJelKYYAbOqv1qPm9JxyjZhrLNnywt+j+b/y5z8fX8eWLr3TyebjQXoR3bC8KdDVa/XSGrHYTmLkTqjOyq2j19G96Y8uvqkm3JBABIGjhzO2aalO1D/0vSqnEzVY9n///6HR06a7HIcqHsmSHlVSJhezp////c6qjz/1N6bs088+691UwpnpKV9TCplMDroWLSBjfmKLedVVwkD0GEDB4NPfLZe2CQfDb1Wlhta1tpye23zif20//OExMomhBaAAOPO3Y693MLHRLVwmBcKo9aTyKeASC9WuJy4RUq0rDscQrfXwPw0rb+tec7Hc7XHxIBgFA1jClDSksQhSR63RGkbIpGyshren/f6J6mFhMi1SYrIPIxSMpkW02T3///U813ef+hnoZ0fUpnbsHRWFEqCkmEtzPIk3g9LIFkggOMWKQuAsKLpJDJrQLvkZnpfbpcNkWRQUvB3fTzbUxs0JUpNkbl9FHaeCOOaIkT2PU60NG4nWOOT//OExOMnJBZ4AOMK3Zu7escBlnXSyd6xBcHNUIawHYfTM+VidQ5cqpU7dNuXq0sX3FkwNKD4AILDsiUA4e0KFxguOhYVKiouSGsQmIyNxJ2HtMJHl0kBG+BHOLah3/wUnTFJ7BHZthyZ+CpyK5ciVJ4tpprNxIyIumoTRLoolSIwmorTC6VNwi2wjTRtrtqMKCibkcsny6L0QN0ovIu0ghW/wDZhtYCC46+TmFUTBsGxQXNOnSmVEgVQa8KqiEFr//OExPk73DpsANvS3MmFWGR68uq75tT/tqM53FZEsSoULKiy1Kaknqz8k69b2zrrgiajNaOYdUirGtqpY4sO77r7dpnTheHSpR5WnblVKMy+7KPmWfflRnbK7+rqp+na13lx33NvK2tzT2tTS0v3g1vMo4f97G95zYrW8O7e7l3jlUtm7bH693WTOs9v9bmNTFsYOVswkp2RMCKFYjOVVkWBrRrs3ZFL0+bOTNtG/dZv+WabRxGAqlilqViPg80w//OExLwl5CaEAEJM3dPR9JGNhtiPJwlDT0KY36KUYjCSVsfjEmjpHEjTfYgbSG1XFtcVbsPRI7Rqe2aNviO5lRjXSqKmzGVUm0TKSQtFD0axufZJuKnM3FE1LZU17PcbxbOaaer2wgmqTI64N7HoIQuSJx1LQjni7HQHwuOIg8Kjj6mnMmDmHFwqCYA6qceh2IT1YjLPMqUIz9yzPCHuHgy2kotqAzVqwn4espZu7oookSKUuseQIDpfSqjY9SM0//OExNcoDDp4ADGQ3Hk2Hwsv734rEohUQXMuitJZg8xWpvuf/1SvkbVaUkluZqNvwnkKjP+d16+7dXT6hJh93B8kmlXo4xfyRduD3pk+whU4MeFI292FMR6C28exaNHXusSYqiR0E1poy7aM0K27SSQ2iIircCCJORqwIUzAOM2oWQwKkQhuEID7BpheC4GCD8E3PRQnXCdK/VbMkPqF10r9twUt8XoIk60bWMCgumHlCdi3umgbRKY+oYsqPqrQ//OExOkrJDJ0ACpS3dfkLfF0F1Uk2Uj7DNQu7VkhnA0QVENlnPgpM5klGW68oN+1DK8I+aBeDWXBDNi06nuV8u4btf1r1Pm5PJMvz5u5KSHfVk0JrZjC8kprPtKsytahLyZayW1FqUvJNZKfQ6rUViGSFXFsbrpoGVqNZ32zSYZ3uesmnVbLybdVeMt+yww0sNiZTXT4xMPJh0znXP0LzJSow0xCjsfRZCg67LvCoCZIAJRKYkgAAkMDeyB3bLuO//OExO8uDDqAAHpS3PuK0ZXDX4OtorpAOc1lmTgrXfmmLVhBHfUxQBCRDGlPqPxKBoOYwrYWkhLfSFYBv5TEl6RJkkhmHItX6mefPrTGV7VzDPPWrnblSku14A0TB2A4FCBCJA4IY0d2gshlh4QXQ52FhGFhAofC8zETTRdF33Dfrf3rTd//P//UfFzXOVDViByRD1HC1HUadRzxxY6HL/iUin+olW+ZjXZblYgajCXU8myyiMHywVAZoUhJ9ssC//OExOk3LBJ0AN4Q3aAwIwxJwFrhwBmDwUdRN4FBDD1UDCQyWrnbCwOY/A1yyIBIpYmBEBA1r4+uikrSxMhl0q2tNrlSmoRwgxwkkl1jAIDGam3NCWDm1ew0qQAEPTLXALqJ6uq5KVaIzFZRTxZs1fl2LVNyuH8McMZ7u5XR85MSAShKFAAgExHDApB0Nalzaj42KqVJERwoIgvImsa6W+hhlndTHY39Or///9fpZjDS5zHq3X9//Vzi2cZMQ0ua//OExL8yO6qAAOZO3LVvKj5c2mpSkxmGIS19roCeiiF8kABl49GFAC2cEgUwILzhokjMaTICL0c+9YGVGsJt+1YbVpkEN4ZzDwy3U3Iorh8rdWz2YbjDtWYXaptE4iBWkjgJY/1eAGx+qdEhnNDEnRjgKpcaBUB0qGAuEIVVqMcXOW99Gjw3DeMKx9Cq2IcrtoyGy6bHUHV76+bwtWgOEIOCo7wWDwbO+v//72AdYT3f9DFi4ebor3sdOU60KlZE//OExKkpieqIAOYemNZyxAPjEwpZY3NpRpUZtsrGYKFRpbIGVQIzFkBUCwYEorUIQCLA2M3IYL8y3Bu6C0PfZfCXarrTeW9el7BZ3CbadTagteSup6GSqWhqpGRCGM3TiYaNMtARK7YcUML4uS6iWiGsJlLtuNS2c4lKb+crqZZ5zkq5nPxnlPaB6JIoEURgmCgQiUTGyNmLNMIi0xhoprI//RDHOc23//////3U5SCDVWZv//+/Q5EWrmo5Li+t//OExLUvA6qEAOZO3COOOraKShdu0qko4oFEm9zhgFLM7GExYsaB0GpVIQWNusJColMLYCA1+dQQyuQ7cBS2lxmHrluMrd36tSPw7jK5PGreENxmrE2vJUs2iY6URCB7mvjqQUZUS5FVFdqhXIvRJKGVDGtxWiuxirFZzDmFu9jjYvduX8MeYUp46SEacJQUE4oEoqh5rmO8o5VGdWbTTPJocfZHWv////6NY9M4siHHIp7bf//1Vv9Fqv/q63o7//OExKwsjDaEAN4O3Ld6Kmj8m1WDJlshgTgClqJioIZYQkwW64AITjewzscGg9lqI9yeiaOcHU7pq6jVdncvwysuNPblc7WqSyLZVIjr7csjVSOPrGYS7jOG2a+sYWoazCSkB67IEgBoCgzIAkwJAAYQmJufGKMUfTBNknZFF3utkWU12SRNT6zx4vImqR5qmXoLRU3+tNJZdUjdB3srV////qWtN3RUmeGlAUat63K9WX3Vv9SxPJoaoyMDY0Ky//OExKwrQuKEAN4auCuSSOQGUpydEvBIubeHJ5pambxZ0CCNCrchIIV9tkAkx5ZM86ox+Fti3XaHM0j19aj6tNRrSRX0WsasSj6EpnaEo0eJIwLJ5hHg6S/2QI8ifiNg9EIRAww9RyJm5qYM5kk7HNFBbKdKgp2RRNHKKLIqf///QZk3ZlJpr19Xf///WpRkitE4YJWdM6IgSPJ7+MXrOAcRFgV+0MDnWGAEaCC1hAMKuxZhBmSijDExhfFmqKmF//OExLIomu6EANvauBIeUcgodnh0Gll/isWWwghYoysOJ9dWM1njNb7riJG/3XN42KW/tWWqmjRnIvpBSrEcDdUJvvC5OKeooUIjO3JzrSfuh1uVl7qf3UBxNxJ3///9Dmq2Y5VV0Ta///rqQkIjinKdqqPdR7Co0/VX6//lOiM7MeYkgl/efPrmXicDg4GENVWC4aUPPmYTzdo00ABUkahDyO0Tgl5AEFe3tqRZxCZ6wEJ2oW0oe6d8cw6dnx/E//OExMIk25qAANvKvO2ZXG46kNxDBiL6XHgmnVStEdxFN7QWc57nP55+t1/UpmVA+HzHZ3///oQzK6Rokl2OV53VP//kdncxhJVFHoHxhQcrkEDCFV73Y+jX7p73RyRzkVkInuiyqYg8qoUVKQSMPiCuAQDQVtUqABGewdEIGh0NjVllDw0YW0AkZZEreUJ1LSN0tafSD6CZhpFnZ38mf//eDSBAiQMZu/zSX8yJScI1iBjkyN07Fyhqmsvxpox8//OExOEle/58ANLK3aTPxLmAW5XXWGNlfXe5h5tq+f7Z3XSu10KOUJg+Fzd7/53+fe9EoYH521GGKglWbGEQqQjwlfp/PpWoeWSKKRZYqKlCpw4ThwIRInCcOw/JFDh7pyqV2lLOquOjb01WBg9TBcWscYS2S09REOzKSrXDHHHmqOBsKB6hsB6e4vGvEU9jNNa1KajvI2R1ExmltIZt+Vavy1Vr1mkLuZb/mZm32t1pvedM1TS2MyGkjrCdel+p//OExP4yfDpoANvQ3GiY/stY4yik+MIcj+jvbs076ew5t926HvA4k0cW3J/ci4+iziK0675mkNm20l1epqaTTrcu/nGuIALDO4qjGk4yBQcMMDgVFw7AXKoeYI5LjS3eXU9ITQU+/IFJd0Svd3t7vmSz/uEgjGCh4/l3dqMLPGChCF2LsYgJh6prhvhJlW2KrOMS4puem4T7U800yvZB6caXfpXCzA0Pw9AFAiKjkQUmhcwbzN6Oo6yhVBUGoE2Z//OExOcrzCJ8AMMQ3WEqhSbRD2PHK0TaFFxrM2dRYDy8nvZlZ8ObFmHjUee97Yt5cxcvaRIjO8nvSFGjRmyA8mfxHkajkwxlbRIM5wv93nXbM5H+iIRbEMeKh8QszyFpU/0QpDklRqDbnnHrJuhabhHgXMvj1RnGiA6FZBfHI4WPCJMwMl2CJWROQGtjc47eo9sikXavf0eTMC+PWdByKxUN6jUZsKAnathpaaKN+zxUHnDiVhSreAgn5yM/+lar//OExOo4hDqAAHoe3H0+v1UrCGZXMun/+uKf9Ha9f076ffKQ7SHdtvf1bfZbuVpTZy9Ov96TWuzR+1rZH/W/mV3dC5HsVmH6v3vZ95i6zZPGGmSqP5ONikPRcdP1QrHY0A2TlZ+HawpvkokDqZFoNS8RVAF2lwgGB6P66CtCrQksOk2s1wjXZLtUM2iZa95SlMOSH6xR5ovQlY8EtMePm7zcSHamCCP1ts/f16Fn5/OR9wG///z95f7///+cb/zu//OExLsn9CqUAAiY3d////8Z19/fxf+3puuaZtX3xSfX+9yVxrOM2/vaDJmjhPqTx4kP0YcwWd6hzqqqUzpIUjt5CC2qYXgsarLeSlOi7krVBLyFLg92I8VS+SahaFY+erqK7b2Y/njxSP56ubfZnknYGCR81OHV8Rahv2x52u1mfLxzmYXVoMe+8eNeDCf99/0lv6f5/z/v//qL82t+2pH/+f/jfz9///f//zvXzvXvX5vW282r/XT7ON2zv41C//OExM4mtDqYABBe3M5mjZ8l+/3iBGdK+iPUD98hrim1luVkqrSI01czsiyIMWwwxjHeIeOEuZvJw8xZXiRQvLIC9djnL8gDFVCKUrtUqFEMa+2xEGzbOGBVagMTYdTPGVjM45tATMBOx3JCtQsxThjUaH7dTUl9qR/LuSqBT95W6UpvSU1ZW1SzInlMddVCopmqj77eZdE/90TdPv5z/87+c7+P/T3+v6Y+fndaQtb3muZ8099Ytam9WrJ9++Nv//OExOYolDKQABBe3SzxyiMD9jYmRtiMUP3gqpNqFFvXkEvB0ha0JUBOAdwMogCHCShqwTIDYjy6BGyILCVol9oeQYGCexMzyQ8Z62rjVZVAcRmrtiPNApJjmjp1LnU5HzGYnE4XyRs/czlTh1nKwLMkBntHTaRMNTN7i6jK9hjwlVpTYi1gR/zHdjfo7hSLTUGvI2E/qloq/5Od8/10Ob0//+cfX1vWc5+vqS+L6p9++JIGId4cGeK57jwpq3ni//OExPYu7DqIADie3HrreZtZrXOLxZfquWiyKjZlVLe/aFKiVWrENZ3x1D4CPnQOANWN0dp2IwZAcgdQJo+SbDCI8dgnBhliLsKkbYjxjrajR5grN1AizpkMZyQo00JUFEQ2q5wQ1Ptity3pQ4X1lwZTkX1doxKl8ftcx0tJen64T6MY2FoUzdaSMqUKBF/5KfphcubfP54Kmq/Ul+pYr9l9//1/rX+ff//3//3vfvPuvxnPtj7tqXN4NbXxFx8///OExO0uXDKIADhe3Hmvt42N0nf32/zNJDlnbtskBjYcTpFVKVQGkdKEJV6YotplltF8SQiwa4jB2lvMA9lGYjeTwyyliFyfKF82MEjS4O0ifyjlfnKtMpvKp2/aXGVvc5rvfCqwqzujzq2OeVS4n4yKltXapYIDyHDX3BhYlpffVQfh9X+nnU+ZDayLsmszmUNDQCSTL0uc0M/y/+S//+vrPzu2f///j2p67+dY1/T4vun3jf/vrW8fWd6t4+t5//OExOYpzDqQABBe3LZxhtrSM+V8BVuDUxscJYJWQBcPyuLio0PPdqIgNQOxlL6FGe4JZOKIbg/TqlcT+RaVfQJFwaNT+ZGxsZ4zWoKKdsXbCjZFMtRG94rJMtTbHbIFmWkWZkVDWjVpjc3ekfdycnasi0iuLBEh3o9VLgbxeS1LZamQTvU7dHcGcllard+FI4CfDqZisdak2p5Zzoj2evsSymZ785/t/67xiv+fb2za/prWq2vXEa+ovj3xvGJs//OExPEq1DqMADhe3EOH6Uxf5pLiSLNBgwaSSzRYMSVxbmhWxmZyOVwONlM401gZ6XRYTwxz+JoIAJCrms8RJSnRQasM4IrKnQoyCwCwmAqkIiKtF3ZHp2qiZlWU/aVvU9Va6YbnK2zoWyOmVhep5POzluxxESjV2mKubCiLtyv9Wdcsq2rZZrQ1ChcGzfuys70zsiCl9a61eFQ4mqsscok1jU/9UjmF+htj7ohdd9f/f+s7tTH18/Oq+S2MW+P///OExPgwrDqEAGie3Lvr209pNTGdUy+hQZvnVsNzPEevXUGG9o3xGRgVrNAiv3B21KJPORNFdUmSRJaqGQtx6gwSflwCTDWfEyZ4SrOo6lQqm5jLCS6GmHaaYj+YtrPjT1tEtqBV7IuqZphaQ2sjq9cxG86m5jVMV89Vraw4Z7uoOoUsGesS13zFLqoKxJattM4XXNFNdB00ym4mhumlyMyrO4JJLCgxs6zKX8j7tQY/e/fNp3ml/y3YN/Jnvv8z//OExOgs1DqAAFCe3DObk/aFj7I53cr9bNecsu1i+kLy5azSszaj51HGe27KwFJVEmVlhom68XFQgmhTtFGDYRmrXPyy8fjSMQAoCiOThWJwNRihRL0VXyg9eLinZgy5la1Tbf3LaHahta9Vqtvj1StqermInmWTJ5daJ6i7diXViurjBhPg3M1t/rc0B9ER0afUabW9LRNjgmoWEZ15HY/SLFTHG1cTV1c4qbBJpajUvyhYoseeqqrZVTVX/o0///OExOcq9CJ0AGjY3e1Cqk0iaagTQ3//qs5aG1YXB94RbtoYb635Jafk1kpNRgilKU2ULJE0ysCRpUlYe4QiWUhUKkREjLhUSxSapZrosRTBFwDGvK1nxVJXIUObpCw1+qzn9eXiqz7itspIpqu3rKsot6opQsqsxZVBK1QUF5UZhPyOHnedCGtSWxPOinS3JTaG4TLM5TUdl3al6N1adCEJRkTmVyc8BUPFgluiCeE4nMJl+XMXXoFrFqeewxMn//OExO4rXAJcAHoS3VbNpp7A2+p57616rX2/dzNs963p66hQiHkT0JE+VMofJrWlkT7M51l0zKGF+SzXkmpsVtVkzjSJp0oxhdwWlVZbORcitnUrdJVDIhNVMsiW9inUOkIlWTQ7JEiqrQ4TIpx2MpxdLU/StSQ1JN1blLVuVn3MjVQymtv5TWTDx2I4KTAoSul0ssSSX0sXh23LpdCL0FMqtzVvEjEjKAe1jUDDcyqToIjSGGTZm+sbg1KaFCjf//OExPMvu+4oAMsS3YzN8WURC+EJ9ovlocGnWatvNZS+GrP1LoOmcx/eWuDpIpXEPcw5zvJBODoa9N07qzS1oukn6NoQ9f0xb3rk0G6ZuVKJL5cmqhkEW0gmrcjeE3+9yep4d87anr+5JSRdCzG1kWUVBs1BeKjXi/lnaowlrnFoJKo2VXWr2FeWJiDwBkdeUflK7+sd95Xhq5R1qSNVmRaRVxyEUzKjbLByTVlESSFiEoIIMP6bcxmMExVivXYc//OExOcsNDIUAMpM3ZwuaVldbtrIIpZDG4OS8bUVdCDTRacoyaKHWhlXKsVyiTtCF0VBUK5bl7kXUHOiInsNQ2ina3ZjVn2keUVTGMbhEGs1tRTLqC4M02cd0d3WaS9o3HAxMJtTbEnD1RD1lIfGSwlE+JNIIvuGaXqVtgqU8RnNt5mNvUp6FwJvPbFbOXz0t73CRYyrCvEbOU++sJJIWcQBgs9JIiak6R+GjkwIDGkUf32BQO2kg5JJIqgQBEjs//OExOkr5DIQAMpM3TyN3I8xdJBRTmZCZvIvMFFLWqzmOsuKYlMb6YtFZaubbHae6R9GzFS1X0CdJXwNR5tNjw9sswmElK18xtm08qEUVbXfnGkZ87f9LitRPUbPaX2Dxs+znS1iy6ZnKisnMc7dmn3uqNpevHhma0TtSdlkKSkLONad6Jdq467hXxh3GLQXKMpTfjxMyiFIaMvCzGoQu2c16z1lD4qQolSaBbtxYLKucOxZwwYZuKcZmULWo4G4//OExOwqvA4IAMGM3R9uP0w3NuJknM5SaK5wcmVetGJBhP5KFGowchSXcgmgo/HWJCFmMcJF58rslwyhInoUnFPLbLTjlxRky6jMZo7gy19SldTfOZfKlDUSvqWbd6lU5x9FMqT0MU0pa95LJUzxU1OWvUb1rGCz/sci1ii0cUpXxSi6kkz6aSdKpI3B6ilyv25U7vmO7P2c5qtRWtTvN4sKOLNNhbFl43LJpsel7kwhMnH6ebQNKJ6RO8ki2gkm//OExPQwXDH0ANJS3RJl0op+xGs0iyBuXe3eJn6u4KQR/vNwkz7MJJUd+rWSMaymmvr4Ezr12z9jXNRy2VDLaMevVsjru0pOZ6z6huMmxutr/Yio+0URRKSXO4XKzofI+7rbOty4d3LnXfvKMnYVs3jTl47XmOljRz1VKUmFmtWvVsNym5LJ3Vj5r+U9+pdM2oeTQiOeONHWmhXD3l91J8RIWTIsITpYOTtDf4pKjKVCluy09deNWWCdG1Au21m3//OExOUn3DH8AMmM3OaFYkcuVrt2iOWz8+GwWFgIcHGa4KaRIjTxCy9EnKelW8WwGJNJZFGpm0cdHb5rAzqfmiTBkEoEKceajcy6A5zoQluQUWYg2HTR5yCDErTSTWmlbM55BLjTgMN/UvUYiT/RvJKGlObdo9Mq1s5DwagtXckkJ3oGHv3bLwoKjC4o3PrWaqUbHD8mTU7PKtFM2QDKFVz+xc1SImKqaZSw0XbGFZlbmITy4050ECFNChgUJyWN//OExPgwRDnwANMM3IkNTR3kknsDRKqwgyYoTVXUNFW7RksmtdMvFjsTifQtWHlmK5c60INJp9G3dln2eyjefmIdcpYc7Fws38jXaiM21GS6THWolap1HGzVWoniRPFWk9zSPn3r9k9epMs3Cba/Z6g7e5k8FezWRST3bh9ut6dQUZ2SvD0pGZVL96zu3nVoru6aT8q3KS1nSNzgQomkkaKbSggWpCiaJDSjS9vtyq6jWTKrkyShohPJMrqdZhgp//OExOor9Dn0AKJM3CTYWjZA5zETqN6E3GPTlcTDCWmDk02Coss4ggkUY6iR5SNJ+jEDotK0thREhapmekRjVRjZuELKpcZyw6COJYfJ5jESzgZysIaYaHYuauTNLgxDHX1/Ss101ZeucuYt81JJJGSyue5R1Oo48176LzeozxpufkuG8nagqjSjIAFksidGNQ7D0OzsikMvgWHvmaSglcolaBcaNlhoVmGlnxLGxUiLiVcWNCmOxQllxoGiIujM//OExO0tDAn0ANJM3ZVAjMot8aik1LVWYNEJmLNLNSjUerU1XoYwe4mNm8SmSl5RqtIz2JObnJFxv5uZT9q8zhK8mSJcJqSOJMlzl4ai5R6arUlNVpaNNv01AjFGwl97a294Jefnk5Ktk64oGTUWvNyu8m0zskcS3/KLVR1HI1+1TWvzUe29jSKOPlHXNvCpUEAQBqkYGshKdDok4re1x/4xK5iOvEDwrJB+oRuyuOkNYjUnxiVh5LqROxDAlLxB//OExOst/DnsAMpM3CCVF6y9NaKpVLh24/Fas7n9atmYIL0/vrbXb+aNOAyzHZ6NFCQMy4dnOEiTLjcqWzf9mnZv/3Z2b//+plnZ2c400q2dpOEiRB8XDlFlxebn////aSinZ2ejSirz92fJp2/k400q4tnYssRuWKkjSAZFBJULf1iqTEFNRTMuMTAwqqqqqqqqqqqqqqqqqqqqqqqqqqqqqqqqqqqqqqqqqqqqqqqqqqqqqqqqqqqqqqqqqqqq//OExOYqa4mUAMMMvKqqqqqqqqqqqqqqqqqqqqqqqqqqqqqqqqqqqqqqqqqqqqqqqqqqqqqqqqqqqqqqqqqqqqqqqqqqqqqqqqqqqqqqqqqqqqqqqqqqqqqqqqqqqqqqqqqqqqqqqqqqqqqqqqqqqqqqqqqqqqqqqqqqqqqqqqqqqqqqqqqqqqqqqqqqqqqqqqqqqqqqqqqqqqqqqqqqqqqqqqqqqqqqqqqqqqqqqqqqqqqqqqqqqqqqqqqqqqqq\" type=\"audio/mpeg\" />\n",
       "                    Your browser does not support the audio element.\n",
       "                </audio>\n",
       "              "
      ],
      "text/plain": [
       "<IPython.lib.display.Audio object>"
      ]
     },
     "metadata": {},
     "output_type": "display_data"
    }
   ],
   "source": [
    "from IPython.display import display # use display like print() but for widgets\n",
    "first = speakit(\"Hello, Mom. Please send money.\")\n",
    "display(first)\n",
    "second = speakit(\"And I love you. :-)\")\n",
    "display(second)\n"
   ]
  },
  {
   "cell_type": "code",
   "execution_count": 29,
   "metadata": {},
   "outputs": [],
   "source": [
    "# output widgets are in IPython.display\n",
    "# inputs widgets are in ipywidgets"
   ]
  },
  {
   "cell_type": "code",
   "execution_count": 30,
   "metadata": {},
   "outputs": [],
   "source": [
    "from ipywidgets import IntSlider"
   ]
  },
  {
   "cell_type": "code",
   "execution_count": 34,
   "metadata": {},
   "outputs": [
    {
     "data": {
      "application/vnd.jupyter.widget-view+json": {
       "model_id": "469b9261bcdc4e549197f864ba7e24c0",
       "version_major": 2,
       "version_minor": 0
      },
      "text/plain": [
       "IntSlider(value=5, max=5, min=1)"
      ]
     },
     "execution_count": 34,
     "metadata": {},
     "output_type": "execute_result"
    }
   ],
   "source": [
    "IntSlider(value=5,min=1, max=5, step=1)"
   ]
  },
  {
   "cell_type": "code",
   "execution_count": 35,
   "metadata": {},
   "outputs": [],
   "source": [
    "from ipywidgets import interact_manual # decorator function"
   ]
  },
  {
   "cell_type": "code",
   "execution_count": 36,
   "metadata": {},
   "outputs": [
    {
     "data": {
      "application/vnd.jupyter.widget-view+json": {
       "model_id": "2781a18f59464342a5851c47324b7f22",
       "version_major": 2,
       "version_minor": 0
      },
      "text/plain": [
       "interactive(children=(Text(value='Mike', continuous_update=False, description='name'), IntSlider(value=50, des…"
      ]
     },
     "metadata": {},
     "output_type": "display_data"
    }
   ],
   "source": [
    "@interact_manual(name=\"Mike\", age=50)\n",
    "def onclick(name, age):\n",
    "    print(f\"Hello {name} you are {age} years old\")"
   ]
  },
  {
   "cell_type": "code",
   "execution_count": 37,
   "metadata": {},
   "outputs": [
    {
     "data": {
      "application/vnd.jupyter.widget-view+json": {
       "model_id": "9d3027e9bb4b4637a997f9587468b480",
       "version_major": 2,
       "version_minor": 0
      },
      "text/plain": [
       "interactive(children=(Text(value='', continuous_update=False, description='text'), Button(description='Run Int…"
      ]
     },
     "metadata": {},
     "output_type": "display_data"
    }
   ],
   "source": [
    "@interact_manual(text = \"\")\n",
    "def onclick(text):\n",
    "    speech = speakit(text)\n",
    "    display(speech)"
   ]
  },
  {
   "cell_type": "code",
   "execution_count": 50,
   "metadata": {},
   "outputs": [
    {
     "data": {
      "application/vnd.jupyter.widget-view+json": {
       "model_id": "6d2a6f01153a446e9576de5671c30a5a",
       "version_major": 2,
       "version_minor": 0
      },
      "text/plain": [
       "interactive(children=(Dropdown(description='your_choice', options=('rock', 'paper', 'scissors'), value='rock')…"
      ]
     },
     "metadata": {},
     "output_type": "display_data"
    }
   ],
   "source": [
    "choices = [\"rock\", \"paper\", \"scissors\"]\n",
    "number = 56.90\n",
    "college_student = True\n",
    "name = \"Tony\"\n",
    "@interact_manual(\n",
    "    your_choice=choices, \n",
    "    salary=(1, 5, 0.5),  # min, max, step\n",
    "    name=name, \n",
    "    in_college=college_student)\n",
    "def onclick(your_choice, salary, name, in_college):\n",
    "    print(f\"You picked {your_choice}\")"
   ]
  },
  {
   "cell_type": "code",
   "execution_count": null,
   "metadata": {},
   "outputs": [],
   "source": []
  }
 ],
 "metadata": {
  "kernelspec": {
   "display_name": "Python 3 (ipykernel)",
   "language": "python",
   "name": "python3"
  },
  "language_info": {
   "codemirror_mode": {
    "name": "ipython",
    "version": 3
   },
   "file_extension": ".py",
   "mimetype": "text/x-python",
   "name": "python",
   "nbconvert_exporter": "python",
   "pygments_lexer": "ipython3",
   "version": "3.12.8"
  },
  "varInspector": {
   "cols": {
    "lenName": 16,
    "lenType": 16,
    "lenVar": 40
   },
   "kernels_config": {
    "python": {
     "delete_cmd_postfix": "",
     "delete_cmd_prefix": "del ",
     "library": "var_list.py",
     "varRefreshCmd": "print(var_dic_list())"
    },
    "r": {
     "delete_cmd_postfix": ") ",
     "delete_cmd_prefix": "rm(",
     "library": "var_list.r",
     "varRefreshCmd": "cat(var_dic_list()) "
    }
   },
   "position": {
    "height": "209.852px",
    "left": "603.5px",
    "right": "20px",
    "top": "120px",
    "width": "329px"
   },
   "types_to_exclude": [
    "module",
    "function",
    "builtin_function_or_method",
    "instance",
    "_Feature"
   ],
   "window_display": false
  }
 },
 "nbformat": 4,
 "nbformat_minor": 4
}
