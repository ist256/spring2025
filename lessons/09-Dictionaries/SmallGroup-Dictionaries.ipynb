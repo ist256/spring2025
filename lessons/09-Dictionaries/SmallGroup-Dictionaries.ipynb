{
 "cells": [
  {
   "cell_type": "markdown",
   "metadata": {},
   "source": [
    "# Now You Code In Class : IST256 YouTube Video Explorer\n",
    "\n",
    "In this small group we will write a UI to search YouTube videos associated with this course. Normally we would read this information directly from YouTube in the form of an API (Application Program Interface), but since we have not learned that yet, we will read a JSON file which represents the output from the API itself. \n",
    "\n",
    "- We will start by writing code to deserialize json to a Python object. \n",
    "- Then we will learn how to explore the object loaded into Python as we work to create the final program.\n",
    "- After some exploration, we will write the program.\n"
   ]
  },
  {
   "cell_type": "code",
   "execution_count": 19,
   "metadata": {
    "tags": []
   },
   "outputs": [
    {
     "data": {
      "text/plain": [
       "{'kind': 'youtube#playlistItem',\n",
       " 'etag': '5aho-lNBnleu5BqOWvK_X7q6e2s',\n",
       " 'id': 'UEx5UmlSVXNUeVVYZ204NHRVWndLRUh0NGt4QXUyMDJWYi4yODlGNEE0NkRGMEEzMEQy',\n",
       " 'snippet': {'publishedAt': '2021-02-05T02:16:44Z',\n",
       "  'channelId': 'UCqpc8sbuW9-FWglYJic9-aA',\n",
       "  'title': 'IST256 Learn Python Lab 01 Walk Through',\n",
       "  'description': 'This video walks the learner through the You Code sections of Lab 01.\\n\\nTable of Contents: \\r\\n\\r\\n00:00 - Introduction\\r\\n00:14 - Lab 01 You Code 1.1\\r\\n03:08 - Lab 01 You Code 1.2\\r\\n06:16 - Lab 01 You Code 1.3\\r\\n09:03 - Lab 01 You Code 1.4\\r\\n14:24 - Lab 01 You Code 1.5\\n\\nIf you are an IST256 student, you can find your lab in JupyterHub. If you are learning on your own you can find the code for this course at https://github.com/IST256/learn-python',\n",
       "  'thumbnails': {'default': {'url': 'https://i.ytimg.com/vi/jUXoz-rKWEQ/default.jpg',\n",
       "    'width': 120,\n",
       "    'height': 90},\n",
       "   'medium': {'url': 'https://i.ytimg.com/vi/jUXoz-rKWEQ/mqdefault.jpg',\n",
       "    'width': 320,\n",
       "    'height': 180},\n",
       "   'high': {'url': 'https://i.ytimg.com/vi/jUXoz-rKWEQ/hqdefault.jpg',\n",
       "    'width': 480,\n",
       "    'height': 360},\n",
       "   'standard': {'url': 'https://i.ytimg.com/vi/jUXoz-rKWEQ/sddefault.jpg',\n",
       "    'width': 640,\n",
       "    'height': 480},\n",
       "   'maxres': {'url': 'https://i.ytimg.com/vi/jUXoz-rKWEQ/maxresdefault.jpg',\n",
       "    'width': 1280,\n",
       "    'height': 720}},\n",
       "  'channelTitle': 'Michael Fudge',\n",
       "  'playlistId': 'PLyRiRUsTyUXgm84tUZwKEHt4kxAu202Vb',\n",
       "  'position': 0,\n",
       "  'resourceId': {'kind': 'youtube#video', 'videoId': 'jUXoz-rKWEQ'},\n",
       "  'videoOwnerChannelTitle': 'Michael Fudge',\n",
       "  'videoOwnerChannelId': 'UCqpc8sbuW9-FWglYJic9-aA'},\n",
       " 'contentDetails': {'videoId': 'jUXoz-rKWEQ',\n",
       "  'videoPublishedAt': '2022-09-27T11:52:06Z'},\n",
       " 'status': {'privacyStatus': 'public'}}"
      ]
     },
     "execution_count": 19,
     "metadata": {},
     "output_type": "execute_result"
    }
   ],
   "source": []
  },
  {
   "cell_type": "code",
   "execution_count": 1,
   "metadata": {
    "tags": []
   },
   "outputs": [
    {
     "name": "stdout",
     "output_type": "stream",
     "text": [
      "For file mike.json expect=mike, actual=mike\n",
      "For file usinfo.json expect=Washington, D.C., actual=Washington, D.C.\n"
     ]
    }
   ],
   "source": [
    "# Read Any JSON file:\n",
    "def deserialize_json(jsonfile: str) -> any:\n",
    "    import json\n",
    "    with open(jsonfile, \"r\") as f:\n",
    "        data = json.load(f)\n",
    "        return data\n",
    "\n",
    "\n",
    "#PROMPT Test mike.json\n",
    "file = \"mike.json\"\n",
    "expect_name = \"mike\"\n",
    "actual = deserialize_json(file)\n",
    "print(f\"For file {file} expect={expect_name}, actual={actual['name']}\")\n",
    "assert expect_name == actual['name']\n",
    "\n",
    "#PROMPT Test usinfo.json\n",
    "file = \"usinfo.json\"\n",
    "expect_first_capital = \"Washington, D.C.\"\n",
    "actual = deserialize_json(file)\n",
    "print(f\"For file {file} expect={expect_first_capital}, actual={actual[0]['capital']}\")\n",
    "assert expect_first_capital == actual[0]['capital']"
   ]
  },
  {
   "cell_type": "markdown",
   "metadata": {},
   "source": [
    "## Code Challenges\n",
    "\n",
    "You will be given a minute or two to complete each of these code challenges. The code for each challenge is short and in many cases solving the previous challenge will help with the next one. We will go over each challenge one at a time."
   ]
  },
  {
   "cell_type": "markdown",
   "metadata": {
    "tags": []
   },
   "source": [
    "#### Challenge 1\n",
    "\n",
    "Deserialize the `ist256-youtube-playlist.json` file into the variable `playlist`"
   ]
  },
  {
   "cell_type": "code",
   "execution_count": 2,
   "metadata": {
    "scrolled": true
   },
   "outputs": [
    {
     "data": {
      "text/plain": [
       "[{'kind': 'youtube#playlistItem',\n",
       "  'etag': '5aho-lNBnleu5BqOWvK_X7q6e2s',\n",
       "  'id': 'UEx5UmlSVXNUeVVYZ204NHRVWndLRUh0NGt4QXUyMDJWYi4yODlGNEE0NkRGMEEzMEQy',\n",
       "  'snippet': {'publishedAt': '2021-02-05T02:16:44Z',\n",
       "   'channelId': 'UCqpc8sbuW9-FWglYJic9-aA',\n",
       "   'title': 'IST256 Learn Python Lab 01 Walk Through',\n",
       "   'description': 'This video walks the learner through the You Code sections of Lab 01.\\n\\nTable of Contents: \\r\\n\\r\\n00:00 - Introduction\\r\\n00:14 - Lab 01 You Code 1.1\\r\\n03:08 - Lab 01 You Code 1.2\\r\\n06:16 - Lab 01 You Code 1.3\\r\\n09:03 - Lab 01 You Code 1.4\\r\\n14:24 - Lab 01 You Code 1.5\\n\\nIf you are an IST256 student, you can find your lab in JupyterHub. If you are learning on your own you can find the code for this course at https://github.com/IST256/learn-python',\n",
       "   'thumbnails': {'default': {'url': 'https://i.ytimg.com/vi/jUXoz-rKWEQ/default.jpg',\n",
       "     'width': 120,\n",
       "     'height': 90},\n",
       "    'medium': {'url': 'https://i.ytimg.com/vi/jUXoz-rKWEQ/mqdefault.jpg',\n",
       "     'width': 320,\n",
       "     'height': 180},\n",
       "    'high': {'url': 'https://i.ytimg.com/vi/jUXoz-rKWEQ/hqdefault.jpg',\n",
       "     'width': 480,\n",
       "     'height': 360},\n",
       "    'standard': {'url': 'https://i.ytimg.com/vi/jUXoz-rKWEQ/sddefault.jpg',\n",
       "     'width': 640,\n",
       "     'height': 480},\n",
       "    'maxres': {'url': 'https://i.ytimg.com/vi/jUXoz-rKWEQ/maxresdefault.jpg',\n",
       "     'width': 1280,\n",
       "     'height': 720}},\n",
       "   'channelTitle': 'Michael Fudge',\n",
       "   'playlistId': 'PLyRiRUsTyUXgm84tUZwKEHt4kxAu202Vb',\n",
       "   'position': 0,\n",
       "   'resourceId': {'kind': 'youtube#video', 'videoId': 'jUXoz-rKWEQ'},\n",
       "   'videoOwnerChannelTitle': 'Michael Fudge',\n",
       "   'videoOwnerChannelId': 'UCqpc8sbuW9-FWglYJic9-aA'},\n",
       "  'contentDetails': {'videoId': 'jUXoz-rKWEQ',\n",
       "   'videoPublishedAt': '2022-09-27T11:52:06Z'},\n",
       "  'status': {'privacyStatus': 'public'}},\n",
       " {'kind': 'youtube#playlistItem',\n",
       "  'etag': 'HuxhxxZn4v9YlXLlkLi-YFBpKgw',\n",
       "  'id': 'UEx5UmlSVXNUeVVYZ204NHRVWndLRUh0NGt4QXUyMDJWYi41NkI0NEY2RDEwNTU3Q0M2',\n",
       "  'snippet': {'publishedAt': '2021-02-05T02:00:02Z',\n",
       "   'channelId': 'UCqpc8sbuW9-FWglYJic9-aA',\n",
       "   'title': 'IST256 Learn Python Homework HW 01 Advice',\n",
       "   'description': 'This video provides hints, tips and tricks for completing the first homework assignment.\\n\\nIf you are an IST256 student, you can find your lab in JupyterHub. If you are learning on your own you can find the code for this course at https://github.com/IST256/learn-python',\n",
       "   'thumbnails': {'default': {'url': 'https://i.ytimg.com/vi/QLsMdSw3HU8/default.jpg',\n",
       "     'width': 120,\n",
       "     'height': 90},\n",
       "    'medium': {'url': 'https://i.ytimg.com/vi/QLsMdSw3HU8/mqdefault.jpg',\n",
       "     'width': 320,\n",
       "     'height': 180},\n",
       "    'high': {'url': 'https://i.ytimg.com/vi/QLsMdSw3HU8/hqdefault.jpg',\n",
       "     'width': 480,\n",
       "     'height': 360},\n",
       "    'standard': {'url': 'https://i.ytimg.com/vi/QLsMdSw3HU8/sddefault.jpg',\n",
       "     'width': 640,\n",
       "     'height': 480},\n",
       "    'maxres': {'url': 'https://i.ytimg.com/vi/QLsMdSw3HU8/maxresdefault.jpg',\n",
       "     'width': 1280,\n",
       "     'height': 720}},\n",
       "   'channelTitle': 'Michael Fudge',\n",
       "   'playlistId': 'PLyRiRUsTyUXgm84tUZwKEHt4kxAu202Vb',\n",
       "   'position': 1,\n",
       "   'resourceId': {'kind': 'youtube#video', 'videoId': 'QLsMdSw3HU8'},\n",
       "   'videoOwnerChannelTitle': 'Michael Fudge',\n",
       "   'videoOwnerChannelId': 'UCqpc8sbuW9-FWglYJic9-aA'},\n",
       "  'contentDetails': {'videoId': 'QLsMdSw3HU8',\n",
       "   'videoPublishedAt': '2022-09-27T11:55:04Z'},\n",
       "  'status': {'privacyStatus': 'public'}},\n",
       " {'kind': 'youtube#playlistItem',\n",
       "  'etag': 'T5Tiv2WrCvo3aoVALhwGjwGx17w',\n",
       "  'id': 'UEx5UmlSVXNUeVVYZ204NHRVWndLRUh0NGt4QXUyMDJWYi4wMTcyMDhGQUE4NTIzM0Y5',\n",
       "  'snippet': {'publishedAt': '2021-02-14T23:04:23Z',\n",
       "   'channelId': 'UCqpc8sbuW9-FWglYJic9-aA',\n",
       "   'title': 'IST256 Learn Python Lab 02 Walk Through',\n",
       "   'description': \"This video walks the learner through the You Code sections of Lab 02.\\r\\n\\r\\nTable of Contents: \\r\\n\\r\\n00:00 - Introduction\\r\\n00:09 - Lab 02 You Code 1.1\\r\\n04:11 - Lab 02 You Code 1.2\\r\\n06:36 - Lab 02 You Code 1.3\\r\\n09:05 - Lab 02 You Code 1.4 Fred's Fence\\n\\nIf you are an IST256 student, you can find your lab in JupyterHub. If you are learning on your own you can find the code for this course at https://github.com/IST256/learn-python\",\n",
       "   'thumbnails': {'default': {'url': 'https://i.ytimg.com/vi/YRbh6MWUjKE/default.jpg',\n",
       "     'width': 120,\n",
       "     'height': 90},\n",
       "    'medium': {'url': 'https://i.ytimg.com/vi/YRbh6MWUjKE/mqdefault.jpg',\n",
       "     'width': 320,\n",
       "     'height': 180},\n",
       "    'high': {'url': 'https://i.ytimg.com/vi/YRbh6MWUjKE/hqdefault.jpg',\n",
       "     'width': 480,\n",
       "     'height': 360},\n",
       "    'standard': {'url': 'https://i.ytimg.com/vi/YRbh6MWUjKE/sddefault.jpg',\n",
       "     'width': 640,\n",
       "     'height': 480},\n",
       "    'maxres': {'url': 'https://i.ytimg.com/vi/YRbh6MWUjKE/maxresdefault.jpg',\n",
       "     'width': 1280,\n",
       "     'height': 720}},\n",
       "   'channelTitle': 'Michael Fudge',\n",
       "   'playlistId': 'PLyRiRUsTyUXgm84tUZwKEHt4kxAu202Vb',\n",
       "   'position': 2,\n",
       "   'resourceId': {'kind': 'youtube#video', 'videoId': 'YRbh6MWUjKE'},\n",
       "   'videoOwnerChannelTitle': 'Michael Fudge',\n",
       "   'videoOwnerChannelId': 'UCqpc8sbuW9-FWglYJic9-aA'},\n",
       "  'contentDetails': {'videoId': 'YRbh6MWUjKE',\n",
       "   'videoPublishedAt': '2022-09-27T11:55:11Z'},\n",
       "  'status': {'privacyStatus': 'public'}},\n",
       " {'kind': 'youtube#playlistItem',\n",
       "  'etag': 'jpX62fL9XywwQC7kvHmMWgd4_Yk',\n",
       "  'id': 'UEx5UmlSVXNUeVVYZ204NHRVWndLRUh0NGt4QXUyMDJWYi41MjE1MkI0OTQ2QzJGNzNG',\n",
       "  'snippet': {'publishedAt': '2021-02-14T23:25:35Z',\n",
       "   'channelId': 'UCqpc8sbuW9-FWglYJic9-aA',\n",
       "   'title': 'IST256 Learn Python Homework HW 02 Advice',\n",
       "   'description': 'This video provides hints, tips and tricks for completing the Lesson 02 homework assignment.\\r\\n\\r\\nIf you are an IST256 student, you can find your lab in JupyterHub. If you are learning on your own you can find the code for this course at https://github.com/IST256/learn-python',\n",
       "   'thumbnails': {'default': {'url': 'https://i.ytimg.com/vi/ML-UCIWEAks/default.jpg',\n",
       "     'width': 120,\n",
       "     'height': 90},\n",
       "    'medium': {'url': 'https://i.ytimg.com/vi/ML-UCIWEAks/mqdefault.jpg',\n",
       "     'width': 320,\n",
       "     'height': 180},\n",
       "    'high': {'url': 'https://i.ytimg.com/vi/ML-UCIWEAks/hqdefault.jpg',\n",
       "     'width': 480,\n",
       "     'height': 360},\n",
       "    'standard': {'url': 'https://i.ytimg.com/vi/ML-UCIWEAks/sddefault.jpg',\n",
       "     'width': 640,\n",
       "     'height': 480},\n",
       "    'maxres': {'url': 'https://i.ytimg.com/vi/ML-UCIWEAks/maxresdefault.jpg',\n",
       "     'width': 1280,\n",
       "     'height': 720}},\n",
       "   'channelTitle': 'Michael Fudge',\n",
       "   'playlistId': 'PLyRiRUsTyUXgm84tUZwKEHt4kxAu202Vb',\n",
       "   'position': 3,\n",
       "   'resourceId': {'kind': 'youtube#video', 'videoId': 'ML-UCIWEAks'},\n",
       "   'videoOwnerChannelTitle': 'Michael Fudge',\n",
       "   'videoOwnerChannelId': 'UCqpc8sbuW9-FWglYJic9-aA'},\n",
       "  'contentDetails': {'videoId': 'ML-UCIWEAks',\n",
       "   'videoPublishedAt': '2022-09-27T12:01:12Z'},\n",
       "  'status': {'privacyStatus': 'public'}},\n",
       " {'kind': 'youtube#playlistItem',\n",
       "  'etag': 'ZwDbs9ZTdKMjNmzdh516PylD2Yo',\n",
       "  'id': 'UEx5UmlSVXNUeVVYZ204NHRVWndLRUh0NGt4QXUyMDJWYi4wOTA3OTZBNzVEMTUzOTMy',\n",
       "  'snippet': {'publishedAt': '2021-02-22T16:18:49Z',\n",
       "   'channelId': 'UCqpc8sbuW9-FWglYJic9-aA',\n",
       "   'title': 'IST256 Learn Python Lab 03 Walk Through',\n",
       "   'description': 'This video walks the learner through the You Code sections of Lab 03 on Conditionals.\\n\\nTable of Contents: \\n\\n00:00 - Introduction\\n00:16 - Lab 03 You Code 1.1\\n03:18 - Lab 03 You Code 1.2\\n07:11 - Lab 03 You Code 1.3 \\n11:57 - Lab 03 You Code 1.4 - Finishing up Rock,Paper, Scissors\\n16:10 - Lab 03 You Code 1.5 - Exceptions\\n\\nIf you are an IST256 student, you can find your lab in JupyterHub. If you are learning on your own you can find the code for this course at https://github.com/IST256/learn-python',\n",
       "   'thumbnails': {'default': {'url': 'https://i.ytimg.com/vi/heJ-6ji332E/default.jpg',\n",
       "     'width': 120,\n",
       "     'height': 90},\n",
       "    'medium': {'url': 'https://i.ytimg.com/vi/heJ-6ji332E/mqdefault.jpg',\n",
       "     'width': 320,\n",
       "     'height': 180},\n",
       "    'high': {'url': 'https://i.ytimg.com/vi/heJ-6ji332E/hqdefault.jpg',\n",
       "     'width': 480,\n",
       "     'height': 360},\n",
       "    'standard': {'url': 'https://i.ytimg.com/vi/heJ-6ji332E/sddefault.jpg',\n",
       "     'width': 640,\n",
       "     'height': 480},\n",
       "    'maxres': {'url': 'https://i.ytimg.com/vi/heJ-6ji332E/maxresdefault.jpg',\n",
       "     'width': 1280,\n",
       "     'height': 720}},\n",
       "   'channelTitle': 'Michael Fudge',\n",
       "   'playlistId': 'PLyRiRUsTyUXgm84tUZwKEHt4kxAu202Vb',\n",
       "   'position': 4,\n",
       "   'resourceId': {'kind': 'youtube#video', 'videoId': 'heJ-6ji332E'},\n",
       "   'videoOwnerChannelTitle': 'Michael Fudge',\n",
       "   'videoOwnerChannelId': 'UCqpc8sbuW9-FWglYJic9-aA'},\n",
       "  'contentDetails': {'videoId': 'heJ-6ji332E',\n",
       "   'videoPublishedAt': '2022-09-27T11:56:27Z'},\n",
       "  'status': {'privacyStatus': 'public'}},\n",
       " {'kind': 'youtube#playlistItem',\n",
       "  'etag': 'z4-639_YEBRWUysGq8Ve4fZgAKU',\n",
       "  'id': 'UEx5UmlSVXNUeVVYZ204NHRVWndLRUh0NGt4QXUyMDJWYi4xMkVGQjNCMUM1N0RFNEUx',\n",
       "  'snippet': {'publishedAt': '2021-02-22T17:15:01Z',\n",
       "   'channelId': 'UCqpc8sbuW9-FWglYJic9-aA',\n",
       "   'title': 'IST256 Learn Python Homework HW 03 Advice',\n",
       "   'description': 'This video provides hints, tips and tricks for completing the lesson 03 homework assignment on conditionals.\\n\\nIf you are an IST256 student, you can find your lab in JupyterHub. If you are learning on your own you can find the code for this course at https://github.com/IST256/learn-python',\n",
       "   'thumbnails': {'default': {'url': 'https://i.ytimg.com/vi/O3vh1r5Efbg/default.jpg',\n",
       "     'width': 120,\n",
       "     'height': 90},\n",
       "    'medium': {'url': 'https://i.ytimg.com/vi/O3vh1r5Efbg/mqdefault.jpg',\n",
       "     'width': 320,\n",
       "     'height': 180},\n",
       "    'high': {'url': 'https://i.ytimg.com/vi/O3vh1r5Efbg/hqdefault.jpg',\n",
       "     'width': 480,\n",
       "     'height': 360},\n",
       "    'standard': {'url': 'https://i.ytimg.com/vi/O3vh1r5Efbg/sddefault.jpg',\n",
       "     'width': 640,\n",
       "     'height': 480},\n",
       "    'maxres': {'url': 'https://i.ytimg.com/vi/O3vh1r5Efbg/maxresdefault.jpg',\n",
       "     'width': 1280,\n",
       "     'height': 720}},\n",
       "   'channelTitle': 'Michael Fudge',\n",
       "   'playlistId': 'PLyRiRUsTyUXgm84tUZwKEHt4kxAu202Vb',\n",
       "   'position': 5,\n",
       "   'resourceId': {'kind': 'youtube#video', 'videoId': 'O3vh1r5Efbg'},\n",
       "   'videoOwnerChannelTitle': 'Michael Fudge',\n",
       "   'videoOwnerChannelId': 'UCqpc8sbuW9-FWglYJic9-aA'},\n",
       "  'contentDetails': {'videoId': 'O3vh1r5Efbg',\n",
       "   'videoPublishedAt': '2022-09-27T12:01:06Z'},\n",
       "  'status': {'privacyStatus': 'public'}},\n",
       " {'kind': 'youtube#playlistItem',\n",
       "  'etag': 'ZNvjXH0ul3piqUZww1mbdkEQih8',\n",
       "  'id': 'UEx5UmlSVXNUeVVYZ204NHRVWndLRUh0NGt4QXUyMDJWYi41MzJCQjBCNDIyRkJDN0VD',\n",
       "  'snippet': {'publishedAt': '2021-02-28T15:44:49Z',\n",
       "   'channelId': 'UCqpc8sbuW9-FWglYJic9-aA',\n",
       "   'title': 'IST256 Learn Python Lab 04 Walk Through',\n",
       "   'description': 'This video walks the learner through the You Code sections of Lab 04 on Iterations\\n\\nTable of Contents: \\r\\n\\r\\n00:00 - Introduction\\r\\n00:12 - Lab 04 You Code 1.1 \\r\\n01:46 - Lab 04 You Code 1.2\\r\\n07:19 - Lab 04 You Code 1.3\\n13:01 - Lab 04 You Code 1.4\\n\\nIf you are an IST256 student, you can find your lab in JupyterHub. If you are learning on your own you can find the code for this course at https://github.com/IST256/learn-python',\n",
       "   'thumbnails': {'default': {'url': 'https://i.ytimg.com/vi/qiQYbAxJTds/default.jpg',\n",
       "     'width': 120,\n",
       "     'height': 90},\n",
       "    'medium': {'url': 'https://i.ytimg.com/vi/qiQYbAxJTds/mqdefault.jpg',\n",
       "     'width': 320,\n",
       "     'height': 180},\n",
       "    'high': {'url': 'https://i.ytimg.com/vi/qiQYbAxJTds/hqdefault.jpg',\n",
       "     'width': 480,\n",
       "     'height': 360},\n",
       "    'standard': {'url': 'https://i.ytimg.com/vi/qiQYbAxJTds/sddefault.jpg',\n",
       "     'width': 640,\n",
       "     'height': 480},\n",
       "    'maxres': {'url': 'https://i.ytimg.com/vi/qiQYbAxJTds/maxresdefault.jpg',\n",
       "     'width': 1280,\n",
       "     'height': 720}},\n",
       "   'channelTitle': 'Michael Fudge',\n",
       "   'playlistId': 'PLyRiRUsTyUXgm84tUZwKEHt4kxAu202Vb',\n",
       "   'position': 6,\n",
       "   'resourceId': {'kind': 'youtube#video', 'videoId': 'qiQYbAxJTds'},\n",
       "   'videoOwnerChannelTitle': 'Michael Fudge',\n",
       "   'videoOwnerChannelId': 'UCqpc8sbuW9-FWglYJic9-aA'},\n",
       "  'contentDetails': {'videoId': 'qiQYbAxJTds',\n",
       "   'videoPublishedAt': '2022-09-27T11:54:54Z'},\n",
       "  'status': {'privacyStatus': 'public'}},\n",
       " {'kind': 'youtube#playlistItem',\n",
       "  'etag': '8uOCGpsU0uB1m1SE-0LQ8c-QJsk',\n",
       "  'id': 'UEx5UmlSVXNUeVVYZ204NHRVWndLRUh0NGt4QXUyMDJWYi5DQUNERDQ2NkIzRUQxNTY1',\n",
       "  'snippet': {'publishedAt': '2021-02-28T16:20:11Z',\n",
       "   'channelId': 'UCqpc8sbuW9-FWglYJic9-aA',\n",
       "   'title': 'IST256 Learn Python Homework HW 04 Advice',\n",
       "   'description': 'This video provides hints, tips and tricks for completing the lesson 04 homework assignment on iterations.\\n\\nIf you are an IST256 student, you can find your lab in JupyterHub. If you are learning on your own you can find the code for this course at https://github.com/IST256/learn-python',\n",
       "   'thumbnails': {'default': {'url': 'https://i.ytimg.com/vi/dTasdLouiak/default.jpg',\n",
       "     'width': 120,\n",
       "     'height': 90},\n",
       "    'medium': {'url': 'https://i.ytimg.com/vi/dTasdLouiak/mqdefault.jpg',\n",
       "     'width': 320,\n",
       "     'height': 180},\n",
       "    'high': {'url': 'https://i.ytimg.com/vi/dTasdLouiak/hqdefault.jpg',\n",
       "     'width': 480,\n",
       "     'height': 360},\n",
       "    'standard': {'url': 'https://i.ytimg.com/vi/dTasdLouiak/sddefault.jpg',\n",
       "     'width': 640,\n",
       "     'height': 480},\n",
       "    'maxres': {'url': 'https://i.ytimg.com/vi/dTasdLouiak/maxresdefault.jpg',\n",
       "     'width': 1280,\n",
       "     'height': 720}},\n",
       "   'channelTitle': 'Michael Fudge',\n",
       "   'playlistId': 'PLyRiRUsTyUXgm84tUZwKEHt4kxAu202Vb',\n",
       "   'position': 7,\n",
       "   'resourceId': {'kind': 'youtube#video', 'videoId': 'dTasdLouiak'},\n",
       "   'videoOwnerChannelTitle': 'Michael Fudge',\n",
       "   'videoOwnerChannelId': 'UCqpc8sbuW9-FWglYJic9-aA'},\n",
       "  'contentDetails': {'videoId': 'dTasdLouiak',\n",
       "   'videoPublishedAt': '2022-09-27T11:54:59Z'},\n",
       "  'status': {'privacyStatus': 'public'}},\n",
       " {'kind': 'youtube#playlistItem',\n",
       "  'etag': 'PNIbfhV863q93gD59J2OvMxCwQQ',\n",
       "  'id': 'UEx5UmlSVXNUeVVYZ204NHRVWndLRUh0NGt4QXUyMDJWYi45NDk1REZENzhEMzU5MDQz',\n",
       "  'snippet': {'publishedAt': '2021-03-06T22:29:05Z',\n",
       "   'channelId': 'UCqpc8sbuW9-FWglYJic9-aA',\n",
       "   'title': 'IST256 Learn Python Lab 05 Walk Through',\n",
       "   'description': 'This video walks the learner through the You Code sections of Lab 05 on Functions\\n\\r\\n00:00 - Introduction\\r\\n00:15 - Lab 05 You Code 1.1\\r\\n01:59 - Lab 05 You Code 1.2 \\r\\n04:19 - Lab 05 You Code 1.3\\r\\n07:40 - Lab 05 You Code 1.3\\r\\n12:22 - Lab 05 You Code 1.5\\r\\n18:32 - Lab 05 You Code 1.6\\r\\n20:55 - Lab 05 You Code 1.7\\r\\n28:30 - Summary\\n\\nIf you are an IST256 student, you can find your lab in JupyterHub. If you are learning on your own you can find the code for this course at https://github.com/IST256/learn-python',\n",
       "   'thumbnails': {'default': {'url': 'https://i.ytimg.com/vi/3gLyp9KUFB4/default.jpg',\n",
       "     'width': 120,\n",
       "     'height': 90},\n",
       "    'medium': {'url': 'https://i.ytimg.com/vi/3gLyp9KUFB4/mqdefault.jpg',\n",
       "     'width': 320,\n",
       "     'height': 180},\n",
       "    'high': {'url': 'https://i.ytimg.com/vi/3gLyp9KUFB4/hqdefault.jpg',\n",
       "     'width': 480,\n",
       "     'height': 360},\n",
       "    'standard': {'url': 'https://i.ytimg.com/vi/3gLyp9KUFB4/sddefault.jpg',\n",
       "     'width': 640,\n",
       "     'height': 480},\n",
       "    'maxres': {'url': 'https://i.ytimg.com/vi/3gLyp9KUFB4/maxresdefault.jpg',\n",
       "     'width': 1280,\n",
       "     'height': 720}},\n",
       "   'channelTitle': 'Michael Fudge',\n",
       "   'playlistId': 'PLyRiRUsTyUXgm84tUZwKEHt4kxAu202Vb',\n",
       "   'position': 8,\n",
       "   'resourceId': {'kind': 'youtube#video', 'videoId': '3gLyp9KUFB4'},\n",
       "   'videoOwnerChannelTitle': 'Michael Fudge',\n",
       "   'videoOwnerChannelId': 'UCqpc8sbuW9-FWglYJic9-aA'},\n",
       "  'contentDetails': {'videoId': '3gLyp9KUFB4',\n",
       "   'videoPublishedAt': '2022-09-27T11:56:36Z'},\n",
       "  'status': {'privacyStatus': 'public'}},\n",
       " {'kind': 'youtube#playlistItem',\n",
       "  'etag': 'Jc-Ej7zwJ1zx_IwvHSEfVXLhXnU',\n",
       "  'id': 'UEx5UmlSVXNUeVVYZ204NHRVWndLRUh0NGt4QXUyMDJWYi5GNjNDRDREMDQxOThCMDQ2',\n",
       "  'snippet': {'publishedAt': '2021-03-06T22:29:36Z',\n",
       "   'channelId': 'UCqpc8sbuW9-FWglYJic9-aA',\n",
       "   'title': 'IST256 Learn Python Homework HW 05 Advice',\n",
       "   'description': 'This video provides hints, tips and tricks for completing the lesson 05 homework assignment on functions.\\n\\nIf you are an IST256 student, you can find your lab in JupyterHub. If you are learning on your own you can find the code for this course at https://github.com/IST256/learn-python',\n",
       "   'thumbnails': {'default': {'url': 'https://i.ytimg.com/vi/0hJjqlkItXg/default.jpg',\n",
       "     'width': 120,\n",
       "     'height': 90},\n",
       "    'medium': {'url': 'https://i.ytimg.com/vi/0hJjqlkItXg/mqdefault.jpg',\n",
       "     'width': 320,\n",
       "     'height': 180},\n",
       "    'high': {'url': 'https://i.ytimg.com/vi/0hJjqlkItXg/hqdefault.jpg',\n",
       "     'width': 480,\n",
       "     'height': 360},\n",
       "    'standard': {'url': 'https://i.ytimg.com/vi/0hJjqlkItXg/sddefault.jpg',\n",
       "     'width': 640,\n",
       "     'height': 480},\n",
       "    'maxres': {'url': 'https://i.ytimg.com/vi/0hJjqlkItXg/maxresdefault.jpg',\n",
       "     'width': 1280,\n",
       "     'height': 720}},\n",
       "   'channelTitle': 'Michael Fudge',\n",
       "   'playlistId': 'PLyRiRUsTyUXgm84tUZwKEHt4kxAu202Vb',\n",
       "   'position': 9,\n",
       "   'resourceId': {'kind': 'youtube#video', 'videoId': '0hJjqlkItXg'},\n",
       "   'videoOwnerChannelTitle': 'Michael Fudge',\n",
       "   'videoOwnerChannelId': 'UCqpc8sbuW9-FWglYJic9-aA'},\n",
       "  'contentDetails': {'videoId': '0hJjqlkItXg',\n",
       "   'videoPublishedAt': '2022-09-27T11:56:47Z'},\n",
       "  'status': {'privacyStatus': 'public'}},\n",
       " {'kind': 'youtube#playlistItem',\n",
       "  'etag': '-O3XuqEmR0Z2lHl6HHQxGN7VUp8',\n",
       "  'id': 'UEx5UmlSVXNUeVVYZ204NHRVWndLRUh0NGt4QXUyMDJWYi40NzZCMERDMjVEN0RFRThB',\n",
       "  'snippet': {'publishedAt': '2021-03-15T17:40:13Z',\n",
       "   'channelId': 'UCqpc8sbuW9-FWglYJic9-aA',\n",
       "   'title': 'IST256 Learn Python Lab 06 Walk Through',\n",
       "   'description': 'This video walks the learner through the You Code sections of Lab 06 on Strings\\n\\nTable of Contents: \\r\\n\\r\\n00:00 - Introduction\\r\\n00:13 - Lab 06 You Code 1.1\\r\\n03:01 - Lab 06 You Code 1.2 \\r\\n05:24 - Lab 06 You Code 1.3\\r\\n10:07 - Lab 06 You Code 1.4\\r\\n24:10 - Summary\\n\\nIf you are an IST256 student, you can find your lab in JupyterHub. If you are learning on your own you can find the code for this course at https://github.com/IST256/learn-python',\n",
       "   'thumbnails': {'default': {'url': 'https://i.ytimg.com/vi/StVUoVsi_NI/default.jpg',\n",
       "     'width': 120,\n",
       "     'height': 90},\n",
       "    'medium': {'url': 'https://i.ytimg.com/vi/StVUoVsi_NI/mqdefault.jpg',\n",
       "     'width': 320,\n",
       "     'height': 180},\n",
       "    'high': {'url': 'https://i.ytimg.com/vi/StVUoVsi_NI/hqdefault.jpg',\n",
       "     'width': 480,\n",
       "     'height': 360},\n",
       "    'standard': {'url': 'https://i.ytimg.com/vi/StVUoVsi_NI/sddefault.jpg',\n",
       "     'width': 640,\n",
       "     'height': 480},\n",
       "    'maxres': {'url': 'https://i.ytimg.com/vi/StVUoVsi_NI/maxresdefault.jpg',\n",
       "     'width': 1280,\n",
       "     'height': 720}},\n",
       "   'channelTitle': 'Michael Fudge',\n",
       "   'playlistId': 'PLyRiRUsTyUXgm84tUZwKEHt4kxAu202Vb',\n",
       "   'position': 10,\n",
       "   'resourceId': {'kind': 'youtube#video', 'videoId': 'StVUoVsi_NI'},\n",
       "   'videoOwnerChannelTitle': 'Michael Fudge',\n",
       "   'videoOwnerChannelId': 'UCqpc8sbuW9-FWglYJic9-aA'},\n",
       "  'contentDetails': {'videoId': 'StVUoVsi_NI',\n",
       "   'videoPublishedAt': '2022-09-27T11:57:47Z'},\n",
       "  'status': {'privacyStatus': 'public'}},\n",
       " {'kind': 'youtube#playlistItem',\n",
       "  'etag': '-toB53a5XqOJAIkuOpdJRnXoDwU',\n",
       "  'id': 'UEx5UmlSVXNUeVVYZ204NHRVWndLRUh0NGt4QXUyMDJWYi5EMEEwRUY5M0RDRTU3NDJC',\n",
       "  'snippet': {'publishedAt': '2021-03-15T18:24:29Z',\n",
       "   'channelId': 'UCqpc8sbuW9-FWglYJic9-aA',\n",
       "   'title': 'IST256 Learn Python Homework HW 06 Advice',\n",
       "   'description': 'This video provides hints, tips and tricks for completing the lesson 06 homework assignment on strings.\\n\\nIf you are an IST256 student, you can find your lab in JupyterHub. If you are learning on your own you can find the code for this course at https://github.com/IST256/learn-python',\n",
       "   'thumbnails': {'default': {'url': 'https://i.ytimg.com/vi/1Gnv6KYbWb4/default.jpg',\n",
       "     'width': 120,\n",
       "     'height': 90},\n",
       "    'medium': {'url': 'https://i.ytimg.com/vi/1Gnv6KYbWb4/mqdefault.jpg',\n",
       "     'width': 320,\n",
       "     'height': 180},\n",
       "    'high': {'url': 'https://i.ytimg.com/vi/1Gnv6KYbWb4/hqdefault.jpg',\n",
       "     'width': 480,\n",
       "     'height': 360},\n",
       "    'standard': {'url': 'https://i.ytimg.com/vi/1Gnv6KYbWb4/sddefault.jpg',\n",
       "     'width': 640,\n",
       "     'height': 480},\n",
       "    'maxres': {'url': 'https://i.ytimg.com/vi/1Gnv6KYbWb4/maxresdefault.jpg',\n",
       "     'width': 1280,\n",
       "     'height': 720}},\n",
       "   'channelTitle': 'Michael Fudge',\n",
       "   'playlistId': 'PLyRiRUsTyUXgm84tUZwKEHt4kxAu202Vb',\n",
       "   'position': 11,\n",
       "   'resourceId': {'kind': 'youtube#video', 'videoId': '1Gnv6KYbWb4'},\n",
       "   'videoOwnerChannelTitle': 'Michael Fudge',\n",
       "   'videoOwnerChannelId': 'UCqpc8sbuW9-FWglYJic9-aA'},\n",
       "  'contentDetails': {'videoId': '1Gnv6KYbWb4',\n",
       "   'videoPublishedAt': '2022-09-27T11:56:24Z'},\n",
       "  'status': {'privacyStatus': 'public'}},\n",
       " {'kind': 'youtube#playlistItem',\n",
       "  'etag': 'JFaIe4jyWoN8KWZQbKArHHyxo4M',\n",
       "  'id': 'UEx5UmlSVXNUeVVYZ204NHRVWndLRUh0NGt4QXUyMDJWYi45ODRDNTg0QjA4NkFBNkQy',\n",
       "  'snippet': {'publishedAt': '2021-03-22T17:40:28Z',\n",
       "   'channelId': 'UCqpc8sbuW9-FWglYJic9-aA',\n",
       "   'title': 'IST256 Learn Python Lab 07 Walk Through',\n",
       "   'description': 'This video walks the learner through the You Code sections of Lab 07 on Files\\n\\nTable of Contents: \\r\\n\\r\\n00:00 - Introduction\\r\\n00:10 - Lab 07 You Code 1.1\\r\\n09:25 - Lab 07 You Code 1.2\\r\\n17:35 - Lab 07 You Code 1.3\\n28:50 - Lab 07 You Code 1.4\\n\\nIf you are an IST256 student, you can find your lab in JupyterHub. If you are learning on your own you can find the code for this course at https://github.com/IST256/learn-python',\n",
       "   'thumbnails': {'default': {'url': 'https://i.ytimg.com/vi/NiZsQ7GJqlU/default.jpg',\n",
       "     'width': 120,\n",
       "     'height': 90},\n",
       "    'medium': {'url': 'https://i.ytimg.com/vi/NiZsQ7GJqlU/mqdefault.jpg',\n",
       "     'width': 320,\n",
       "     'height': 180},\n",
       "    'high': {'url': 'https://i.ytimg.com/vi/NiZsQ7GJqlU/hqdefault.jpg',\n",
       "     'width': 480,\n",
       "     'height': 360},\n",
       "    'standard': {'url': 'https://i.ytimg.com/vi/NiZsQ7GJqlU/sddefault.jpg',\n",
       "     'width': 640,\n",
       "     'height': 480},\n",
       "    'maxres': {'url': 'https://i.ytimg.com/vi/NiZsQ7GJqlU/maxresdefault.jpg',\n",
       "     'width': 1280,\n",
       "     'height': 720}},\n",
       "   'channelTitle': 'Michael Fudge',\n",
       "   'playlistId': 'PLyRiRUsTyUXgm84tUZwKEHt4kxAu202Vb',\n",
       "   'position': 12,\n",
       "   'resourceId': {'kind': 'youtube#video', 'videoId': 'NiZsQ7GJqlU'},\n",
       "   'videoOwnerChannelTitle': 'Michael Fudge',\n",
       "   'videoOwnerChannelId': 'UCqpc8sbuW9-FWglYJic9-aA'},\n",
       "  'contentDetails': {'videoId': 'NiZsQ7GJqlU',\n",
       "   'videoPublishedAt': '2022-09-27T12:00:05Z'},\n",
       "  'status': {'privacyStatus': 'public'}},\n",
       " {'kind': 'youtube#playlistItem',\n",
       "  'etag': 'IfT1f2VKTqHyqKNzWb0rUpgoGUw',\n",
       "  'id': 'UEx5UmlSVXNUeVVYZ204NHRVWndLRUh0NGt4QXUyMDJWYi4zMDg5MkQ5MEVDMEM1NTg2',\n",
       "  'snippet': {'publishedAt': '2021-03-23T01:32:38Z',\n",
       "   'channelId': 'UCqpc8sbuW9-FWglYJic9-aA',\n",
       "   'title': 'IST256 Learn Python Homework HW 07 Advice',\n",
       "   'description': 'This video provides hints, tips and tricks for completing the lesson 07 homework assignment on files.\\n\\nIf you are an IST256 student, you can find your lab in JupyterHub. If you are learning on your own you can find the code for this course at https://github.com/IST256/learn-python',\n",
       "   'thumbnails': {'default': {'url': 'https://i.ytimg.com/vi/WKb5fKDn_Nc/default.jpg',\n",
       "     'width': 120,\n",
       "     'height': 90},\n",
       "    'medium': {'url': 'https://i.ytimg.com/vi/WKb5fKDn_Nc/mqdefault.jpg',\n",
       "     'width': 320,\n",
       "     'height': 180},\n",
       "    'high': {'url': 'https://i.ytimg.com/vi/WKb5fKDn_Nc/hqdefault.jpg',\n",
       "     'width': 480,\n",
       "     'height': 360},\n",
       "    'standard': {'url': 'https://i.ytimg.com/vi/WKb5fKDn_Nc/sddefault.jpg',\n",
       "     'width': 640,\n",
       "     'height': 480},\n",
       "    'maxres': {'url': 'https://i.ytimg.com/vi/WKb5fKDn_Nc/maxresdefault.jpg',\n",
       "     'width': 1280,\n",
       "     'height': 720}},\n",
       "   'channelTitle': 'Michael Fudge',\n",
       "   'playlistId': 'PLyRiRUsTyUXgm84tUZwKEHt4kxAu202Vb',\n",
       "   'position': 13,\n",
       "   'resourceId': {'kind': 'youtube#video', 'videoId': 'WKb5fKDn_Nc'},\n",
       "   'videoOwnerChannelTitle': 'Michael Fudge',\n",
       "   'videoOwnerChannelId': 'UCqpc8sbuW9-FWglYJic9-aA'},\n",
       "  'contentDetails': {'videoId': 'WKb5fKDn_Nc',\n",
       "   'videoPublishedAt': '2022-09-27T11:56:20Z'},\n",
       "  'status': {'privacyStatus': 'public'}},\n",
       " {'kind': 'youtube#playlistItem',\n",
       "  'etag': '7RPfv9NmL-bXLh0lNleIyp_ayNc',\n",
       "  'id': 'UEx5UmlSVXNUeVVYZ204NHRVWndLRUh0NGt4QXUyMDJWYi41Mzk2QTAxMTkzNDk4MDhF',\n",
       "  'snippet': {'publishedAt': '2021-03-28T22:10:06Z',\n",
       "   'channelId': 'UCqpc8sbuW9-FWglYJic9-aA',\n",
       "   'title': 'IST256 Learn Python Lab 08 Walk Through',\n",
       "   'description': 'This video walks the learner through the You Code sections of Lab 08 on Lists\\n\\r\\n\\r\\n00:00 - Introduction\\r\\n00:11 -  Lab 08 You Code 1.1\\r\\n02:02 - Lab 08 You Code 1.2\\r\\n03:29 - Lab 08 You Code 1.3\\r\\n09:52 - Lab 08 You Code 1.4\\n\\nIf you are an IST256 student, you can find your lab in JupyterHub. If you are learning on your own you can find the code for this course at https://github.com/IST256/learn-python',\n",
       "   'thumbnails': {'default': {'url': 'https://i.ytimg.com/vi/0sYoK726RRc/default.jpg',\n",
       "     'width': 120,\n",
       "     'height': 90},\n",
       "    'medium': {'url': 'https://i.ytimg.com/vi/0sYoK726RRc/mqdefault.jpg',\n",
       "     'width': 320,\n",
       "     'height': 180},\n",
       "    'high': {'url': 'https://i.ytimg.com/vi/0sYoK726RRc/hqdefault.jpg',\n",
       "     'width': 480,\n",
       "     'height': 360},\n",
       "    'standard': {'url': 'https://i.ytimg.com/vi/0sYoK726RRc/sddefault.jpg',\n",
       "     'width': 640,\n",
       "     'height': 480},\n",
       "    'maxres': {'url': 'https://i.ytimg.com/vi/0sYoK726RRc/maxresdefault.jpg',\n",
       "     'width': 1280,\n",
       "     'height': 720}},\n",
       "   'channelTitle': 'Michael Fudge',\n",
       "   'playlistId': 'PLyRiRUsTyUXgm84tUZwKEHt4kxAu202Vb',\n",
       "   'position': 14,\n",
       "   'resourceId': {'kind': 'youtube#video', 'videoId': '0sYoK726RRc'},\n",
       "   'videoOwnerChannelTitle': 'Michael Fudge',\n",
       "   'videoOwnerChannelId': 'UCqpc8sbuW9-FWglYJic9-aA'},\n",
       "  'contentDetails': {'videoId': '0sYoK726RRc',\n",
       "   'videoPublishedAt': '2022-09-27T12:01:45Z'},\n",
       "  'status': {'privacyStatus': 'public'}},\n",
       " {'kind': 'youtube#playlistItem',\n",
       "  'etag': 'VIAaQd3N-tFHtOo2wQDdWxHKB4k',\n",
       "  'id': 'UEx5UmlSVXNUeVVYZ204NHRVWndLRUh0NGt4QXUyMDJWYi5EQUE1NTFDRjcwMDg0NEMz',\n",
       "  'snippet': {'publishedAt': '2021-03-28T22:22:30Z',\n",
       "   'channelId': 'UCqpc8sbuW9-FWglYJic9-aA',\n",
       "   'title': 'IST256 Learn Python Homework HW 08 Advice',\n",
       "   'description': 'This video provides hints, tips and tricks for completing the lesson 08 homework assignment on lists.\\n\\nIf you are an IST256 student, you can find your lab in JupyterHub. If you are learning on your own you can find the code for this course at https://github.com/IST256/learn-python',\n",
       "   'thumbnails': {'default': {'url': 'https://i.ytimg.com/vi/eGnkG9Cpgvg/default.jpg',\n",
       "     'width': 120,\n",
       "     'height': 90},\n",
       "    'medium': {'url': 'https://i.ytimg.com/vi/eGnkG9Cpgvg/mqdefault.jpg',\n",
       "     'width': 320,\n",
       "     'height': 180},\n",
       "    'high': {'url': 'https://i.ytimg.com/vi/eGnkG9Cpgvg/hqdefault.jpg',\n",
       "     'width': 480,\n",
       "     'height': 360},\n",
       "    'standard': {'url': 'https://i.ytimg.com/vi/eGnkG9Cpgvg/sddefault.jpg',\n",
       "     'width': 640,\n",
       "     'height': 480},\n",
       "    'maxres': {'url': 'https://i.ytimg.com/vi/eGnkG9Cpgvg/maxresdefault.jpg',\n",
       "     'width': 1280,\n",
       "     'height': 720}},\n",
       "   'channelTitle': 'Michael Fudge',\n",
       "   'playlistId': 'PLyRiRUsTyUXgm84tUZwKEHt4kxAu202Vb',\n",
       "   'position': 15,\n",
       "   'resourceId': {'kind': 'youtube#video', 'videoId': 'eGnkG9Cpgvg'},\n",
       "   'videoOwnerChannelTitle': 'Michael Fudge',\n",
       "   'videoOwnerChannelId': 'UCqpc8sbuW9-FWglYJic9-aA'},\n",
       "  'contentDetails': {'videoId': 'eGnkG9Cpgvg',\n",
       "   'videoPublishedAt': '2022-09-27T11:56:43Z'},\n",
       "  'status': {'privacyStatus': 'public'}},\n",
       " {'kind': 'youtube#playlistItem',\n",
       "  'etag': 'rBeW6HvFxmmUVEceiJXbayyn8L8',\n",
       "  'id': 'UEx5UmlSVXNUeVVYZ204NHRVWndLRUh0NGt4QXUyMDJWYi41QTY1Q0UxMTVCODczNThE',\n",
       "  'snippet': {'publishedAt': '2021-04-05T15:49:04Z',\n",
       "   'channelId': 'UCqpc8sbuW9-FWglYJic9-aA',\n",
       "   'title': 'IST256 Learn Python Lab 09 Walk Through',\n",
       "   'description': 'This video walks the learner through the You Code sections of Lab 09 on Dictionaries\\n\\n00:00 - Introduction\\r\\n00:10 - Lab 09 You Code 1.1 \\r\\n03:08 - Lab 09 You Code 1.2 \\r\\n07:44 - Lab 09 You Code 1.3\\r\\n09:12 - Lab 09 You Code 1.4\\r\\n16:06 - Lab 09 You Code 1.5\\n\\nIf you are an IST256 student, you can find your lab in JupyterHub. If you are learning on your own you can find the code for this course at https://github.com/IST256/learn-python',\n",
       "   'thumbnails': {'default': {'url': 'https://i.ytimg.com/vi/WIw7oXCtir0/default.jpg',\n",
       "     'width': 120,\n",
       "     'height': 90},\n",
       "    'medium': {'url': 'https://i.ytimg.com/vi/WIw7oXCtir0/mqdefault.jpg',\n",
       "     'width': 320,\n",
       "     'height': 180},\n",
       "    'high': {'url': 'https://i.ytimg.com/vi/WIw7oXCtir0/hqdefault.jpg',\n",
       "     'width': 480,\n",
       "     'height': 360},\n",
       "    'standard': {'url': 'https://i.ytimg.com/vi/WIw7oXCtir0/sddefault.jpg',\n",
       "     'width': 640,\n",
       "     'height': 480},\n",
       "    'maxres': {'url': 'https://i.ytimg.com/vi/WIw7oXCtir0/maxresdefault.jpg',\n",
       "     'width': 1280,\n",
       "     'height': 720}},\n",
       "   'channelTitle': 'Michael Fudge',\n",
       "   'playlistId': 'PLyRiRUsTyUXgm84tUZwKEHt4kxAu202Vb',\n",
       "   'position': 16,\n",
       "   'resourceId': {'kind': 'youtube#video', 'videoId': 'WIw7oXCtir0'},\n",
       "   'videoOwnerChannelTitle': 'Michael Fudge',\n",
       "   'videoOwnerChannelId': 'UCqpc8sbuW9-FWglYJic9-aA'},\n",
       "  'contentDetails': {'videoId': 'WIw7oXCtir0',\n",
       "   'videoPublishedAt': '2022-09-27T11:57:36Z'},\n",
       "  'status': {'privacyStatus': 'public'}},\n",
       " {'kind': 'youtube#playlistItem',\n",
       "  'etag': 'lI8HBGCnPE0a9soqZVUD0ka8CUw',\n",
       "  'id': 'UEx5UmlSVXNUeVVYZ204NHRVWndLRUh0NGt4QXUyMDJWYi4yMUQyQTQzMjRDNzMyQTMy',\n",
       "  'snippet': {'publishedAt': '2021-04-05T18:38:35Z',\n",
       "   'channelId': 'UCqpc8sbuW9-FWglYJic9-aA',\n",
       "   'title': 'IST256 Learn Python Homework HW 09 Advice',\n",
       "   'description': 'This video provides hints, tips and tricks for completing the lesson 09 homework assignment on dictionaries.\\n\\nIf you are an IST256 student, you can find your lab in JupyterHub. If you are learning on your own you can find the code for this course at https://github.com/IST256/learn-python',\n",
       "   'thumbnails': {'default': {'url': 'https://i.ytimg.com/vi/rvSZhsvNQZk/default.jpg',\n",
       "     'width': 120,\n",
       "     'height': 90},\n",
       "    'medium': {'url': 'https://i.ytimg.com/vi/rvSZhsvNQZk/mqdefault.jpg',\n",
       "     'width': 320,\n",
       "     'height': 180},\n",
       "    'high': {'url': 'https://i.ytimg.com/vi/rvSZhsvNQZk/hqdefault.jpg',\n",
       "     'width': 480,\n",
       "     'height': 360},\n",
       "    'standard': {'url': 'https://i.ytimg.com/vi/rvSZhsvNQZk/sddefault.jpg',\n",
       "     'width': 640,\n",
       "     'height': 480},\n",
       "    'maxres': {'url': 'https://i.ytimg.com/vi/rvSZhsvNQZk/maxresdefault.jpg',\n",
       "     'width': 1280,\n",
       "     'height': 720}},\n",
       "   'channelTitle': 'Michael Fudge',\n",
       "   'playlistId': 'PLyRiRUsTyUXgm84tUZwKEHt4kxAu202Vb',\n",
       "   'position': 17,\n",
       "   'resourceId': {'kind': 'youtube#video', 'videoId': 'rvSZhsvNQZk'},\n",
       "   'videoOwnerChannelTitle': 'Michael Fudge',\n",
       "   'videoOwnerChannelId': 'UCqpc8sbuW9-FWglYJic9-aA'},\n",
       "  'contentDetails': {'videoId': 'rvSZhsvNQZk',\n",
       "   'videoPublishedAt': '2022-09-27T12:00:05Z'},\n",
       "  'status': {'privacyStatus': 'public'}},\n",
       " {'kind': 'youtube#playlistItem',\n",
       "  'etag': 'ccpUUof_-jotvUy7Sx6b_o_pe-c',\n",
       "  'id': 'UEx5UmlSVXNUeVVYZ204NHRVWndLRUh0NGt4QXUyMDJWYi45RTgxNDRBMzUwRjQ0MDhC',\n",
       "  'snippet': {'publishedAt': '2021-04-12T18:34:58Z',\n",
       "   'channelId': 'UCqpc8sbuW9-FWglYJic9-aA',\n",
       "   'title': 'IST256 Learn Python Lab 10 Walk Through',\n",
       "   'description': 'This video walks the learner through the You Code sections of Lab 10 on HTTP\\r\\n\\r\\n00:00 - Introduction\\r\\n00:11 - Lab 10 You Code 1.1\\r\\n06:19 - Lab 10 You Code 1.2\\r\\n11:48 - Lab 10 You Code 1.3\\r\\n19:38 - Lab 10 You Code 1.4\\n\\nIf you are an IST256 student, you can find your lab in JupyterHub. If you are learning on your own you can find the code for this course at https://github.com/IST256/learn-python',\n",
       "   'thumbnails': {'default': {'url': 'https://i.ytimg.com/vi/0Zy7C8_IHNs/default.jpg',\n",
       "     'width': 120,\n",
       "     'height': 90},\n",
       "    'medium': {'url': 'https://i.ytimg.com/vi/0Zy7C8_IHNs/mqdefault.jpg',\n",
       "     'width': 320,\n",
       "     'height': 180},\n",
       "    'high': {'url': 'https://i.ytimg.com/vi/0Zy7C8_IHNs/hqdefault.jpg',\n",
       "     'width': 480,\n",
       "     'height': 360},\n",
       "    'standard': {'url': 'https://i.ytimg.com/vi/0Zy7C8_IHNs/sddefault.jpg',\n",
       "     'width': 640,\n",
       "     'height': 480},\n",
       "    'maxres': {'url': 'https://i.ytimg.com/vi/0Zy7C8_IHNs/maxresdefault.jpg',\n",
       "     'width': 1280,\n",
       "     'height': 720}},\n",
       "   'channelTitle': 'Michael Fudge',\n",
       "   'playlistId': 'PLyRiRUsTyUXgm84tUZwKEHt4kxAu202Vb',\n",
       "   'position': 18,\n",
       "   'resourceId': {'kind': 'youtube#video', 'videoId': '0Zy7C8_IHNs'},\n",
       "   'videoOwnerChannelTitle': 'Michael Fudge',\n",
       "   'videoOwnerChannelId': 'UCqpc8sbuW9-FWglYJic9-aA'},\n",
       "  'contentDetails': {'videoId': '0Zy7C8_IHNs',\n",
       "   'videoPublishedAt': '2022-09-27T11:57:32Z'},\n",
       "  'status': {'privacyStatus': 'public'}},\n",
       " {'kind': 'youtube#playlistItem',\n",
       "  'etag': 'dtpxlzeExgkAQ7sVYYVY2wb8MiQ',\n",
       "  'id': 'UEx5UmlSVXNUeVVYZ204NHRVWndLRUh0NGt4QXUyMDJWYi5ENDU4Q0M4RDExNzM1Mjcy',\n",
       "  'snippet': {'publishedAt': '2021-04-13T17:02:00Z',\n",
       "   'channelId': 'UCqpc8sbuW9-FWglYJic9-aA',\n",
       "   'title': 'IST256 Learn Python Homework HW 10 Advice',\n",
       "   'description': 'This video provides hints, tips and tricks for completing the lesson 10 homework assignment on HTTP.\\n\\nIf you are an IST256 student, you can find your lab in JupyterHub. If you are learning on your own you can find the code for this course at https://github.com/IST256/learn-python',\n",
       "   'thumbnails': {'default': {'url': 'https://i.ytimg.com/vi/RVZgMiktDlg/default.jpg',\n",
       "     'width': 120,\n",
       "     'height': 90},\n",
       "    'medium': {'url': 'https://i.ytimg.com/vi/RVZgMiktDlg/mqdefault.jpg',\n",
       "     'width': 320,\n",
       "     'height': 180},\n",
       "    'high': {'url': 'https://i.ytimg.com/vi/RVZgMiktDlg/hqdefault.jpg',\n",
       "     'width': 480,\n",
       "     'height': 360},\n",
       "    'standard': {'url': 'https://i.ytimg.com/vi/RVZgMiktDlg/sddefault.jpg',\n",
       "     'width': 640,\n",
       "     'height': 480},\n",
       "    'maxres': {'url': 'https://i.ytimg.com/vi/RVZgMiktDlg/maxresdefault.jpg',\n",
       "     'width': 1280,\n",
       "     'height': 720}},\n",
       "   'channelTitle': 'Michael Fudge',\n",
       "   'playlistId': 'PLyRiRUsTyUXgm84tUZwKEHt4kxAu202Vb',\n",
       "   'position': 19,\n",
       "   'resourceId': {'kind': 'youtube#video', 'videoId': 'RVZgMiktDlg'},\n",
       "   'videoOwnerChannelTitle': 'Michael Fudge',\n",
       "   'videoOwnerChannelId': 'UCqpc8sbuW9-FWglYJic9-aA'},\n",
       "  'contentDetails': {'videoId': 'RVZgMiktDlg',\n",
       "   'videoPublishedAt': '2022-09-27T11:57:24Z'},\n",
       "  'status': {'privacyStatus': 'public'}},\n",
       " {'kind': 'youtube#playlistItem',\n",
       "  'etag': '3ixhEihxjUL-IQIT30keuZSnu0o',\n",
       "  'id': 'UEx5UmlSVXNUeVVYZ204NHRVWndLRUh0NGt4QXUyMDJWYi4yMDhBMkNBNjRDMjQxQTg1',\n",
       "  'snippet': {'publishedAt': '2021-04-19T17:24:53Z',\n",
       "   'channelId': 'UCqpc8sbuW9-FWglYJic9-aA',\n",
       "   'title': 'IST256 Learn Python Lab 11 Walk Through',\n",
       "   'description': \"This video walks the learner through the You Code sections of Lab 11 on Web API's\\r\\n\\r\\n00:00 - Introduction\\r\\n00:15 - Lab 11 The Azure API\\r\\n06:44 - Lab 11 You Code 1.1\\r\\n11:35 - Lab 11 You Code 1.2\\r\\n19:34 - Lab 11 You Code 1.3\\r\\n24:16 - Lab 11 You Code 1.4\\n\\n\\nIf you are an IST256 student, you can find your lab in JupyterHub. If you are learning on your own you can find the code for this course at https://github.com/IST256/learn-python\",\n",
       "   'thumbnails': {'default': {'url': 'https://i.ytimg.com/vi/5Q8mHA0L4HY/default.jpg',\n",
       "     'width': 120,\n",
       "     'height': 90},\n",
       "    'medium': {'url': 'https://i.ytimg.com/vi/5Q8mHA0L4HY/mqdefault.jpg',\n",
       "     'width': 320,\n",
       "     'height': 180},\n",
       "    'high': {'url': 'https://i.ytimg.com/vi/5Q8mHA0L4HY/hqdefault.jpg',\n",
       "     'width': 480,\n",
       "     'height': 360},\n",
       "    'standard': {'url': 'https://i.ytimg.com/vi/5Q8mHA0L4HY/sddefault.jpg',\n",
       "     'width': 640,\n",
       "     'height': 480},\n",
       "    'maxres': {'url': 'https://i.ytimg.com/vi/5Q8mHA0L4HY/maxresdefault.jpg',\n",
       "     'width': 1280,\n",
       "     'height': 720}},\n",
       "   'channelTitle': 'Michael Fudge',\n",
       "   'playlistId': 'PLyRiRUsTyUXgm84tUZwKEHt4kxAu202Vb',\n",
       "   'position': 20,\n",
       "   'resourceId': {'kind': 'youtube#video', 'videoId': '5Q8mHA0L4HY'},\n",
       "   'videoOwnerChannelTitle': 'Michael Fudge',\n",
       "   'videoOwnerChannelId': 'UCqpc8sbuW9-FWglYJic9-aA'},\n",
       "  'contentDetails': {'videoId': '5Q8mHA0L4HY',\n",
       "   'videoPublishedAt': '2022-12-01T18:45:41Z'},\n",
       "  'status': {'privacyStatus': 'public'}},\n",
       " {'kind': 'youtube#playlistItem',\n",
       "  'etag': 'nxtYmEPxKphdRJSzL1JutVeXQ-I',\n",
       "  'id': 'UEx5UmlSVXNUeVVYZ204NHRVWndLRUh0NGt4QXUyMDJWYi5GM0Q3M0MzMzY5NTJFNTdE',\n",
       "  'snippet': {'publishedAt': '2021-04-20T18:45:09Z',\n",
       "   'channelId': 'UCqpc8sbuW9-FWglYJic9-aA',\n",
       "   'title': 'IST256 Learn Python Homework HW 11 Advice',\n",
       "   'description': \"This video provides hints, tips and tricks for completing the lesson 11 homework assignment on Web API's\\n\\nIf you are an IST256 student, you can find your lab in JupyterHub. If you are learning on your own you can find the code for this course at https://github.com/IST256/learn-python\",\n",
       "   'thumbnails': {'default': {'url': 'https://i.ytimg.com/vi/xnrYDAajhq0/default.jpg',\n",
       "     'width': 120,\n",
       "     'height': 90},\n",
       "    'medium': {'url': 'https://i.ytimg.com/vi/xnrYDAajhq0/mqdefault.jpg',\n",
       "     'width': 320,\n",
       "     'height': 180},\n",
       "    'high': {'url': 'https://i.ytimg.com/vi/xnrYDAajhq0/hqdefault.jpg',\n",
       "     'width': 480,\n",
       "     'height': 360},\n",
       "    'standard': {'url': 'https://i.ytimg.com/vi/xnrYDAajhq0/sddefault.jpg',\n",
       "     'width': 640,\n",
       "     'height': 480},\n",
       "    'maxres': {'url': 'https://i.ytimg.com/vi/xnrYDAajhq0/maxresdefault.jpg',\n",
       "     'width': 1280,\n",
       "     'height': 720}},\n",
       "   'channelTitle': 'Michael Fudge',\n",
       "   'playlistId': 'PLyRiRUsTyUXgm84tUZwKEHt4kxAu202Vb',\n",
       "   'position': 21,\n",
       "   'resourceId': {'kind': 'youtube#video', 'videoId': 'xnrYDAajhq0'},\n",
       "   'videoOwnerChannelTitle': 'Michael Fudge',\n",
       "   'videoOwnerChannelId': 'UCqpc8sbuW9-FWglYJic9-aA'},\n",
       "  'contentDetails': {'videoId': 'xnrYDAajhq0',\n",
       "   'videoPublishedAt': '2022-09-27T11:55:15Z'},\n",
       "  'status': {'privacyStatus': 'public'}},\n",
       " {'kind': 'youtube#playlistItem',\n",
       "  'etag': 'cOHuqL15gX1L1SPUo2nX50rLQv0',\n",
       "  'id': 'UEx5UmlSVXNUeVVYZ204NHRVWndLRUh0NGt4QXUyMDJWYi4zRjM0MkVCRTg0MkYyQTM0',\n",
       "  'snippet': {'publishedAt': '2021-04-26T18:08:17Z',\n",
       "   'channelId': 'UCqpc8sbuW9-FWglYJic9-aA',\n",
       "   'title': 'IST256 Learn Python Lab 12 Walk Through',\n",
       "   'description': 'This video walks the learner through the You Code sections of Lab 12 on Pandas\\n\\nTable of Contents: \\r\\n\\r\\n00:00 - Introduction\\r\\n00:15 - Lab 12 You Code 1.1 and 1.2\\r\\n23:12 - Lab 12 You Code 1.3\\r\\n28:31 - Lab 12 You Code 1.4\\r\\n35:02 - Lab 12 A Project Worthy Epilogue\\n\\nIf you are an IST256 student, you can find your lab in JupyterHub. If you are learning on your own you can find the code for this course at https://github.com/IST256/learn-python',\n",
       "   'thumbnails': {'default': {'url': 'https://i.ytimg.com/vi/w6Fq9QCZQ4w/default.jpg',\n",
       "     'width': 120,\n",
       "     'height': 90},\n",
       "    'medium': {'url': 'https://i.ytimg.com/vi/w6Fq9QCZQ4w/mqdefault.jpg',\n",
       "     'width': 320,\n",
       "     'height': 180},\n",
       "    'high': {'url': 'https://i.ytimg.com/vi/w6Fq9QCZQ4w/hqdefault.jpg',\n",
       "     'width': 480,\n",
       "     'height': 360},\n",
       "    'standard': {'url': 'https://i.ytimg.com/vi/w6Fq9QCZQ4w/sddefault.jpg',\n",
       "     'width': 640,\n",
       "     'height': 480},\n",
       "    'maxres': {'url': 'https://i.ytimg.com/vi/w6Fq9QCZQ4w/maxresdefault.jpg',\n",
       "     'width': 1280,\n",
       "     'height': 720}},\n",
       "   'channelTitle': 'Michael Fudge',\n",
       "   'playlistId': 'PLyRiRUsTyUXgm84tUZwKEHt4kxAu202Vb',\n",
       "   'position': 22,\n",
       "   'resourceId': {'kind': 'youtube#video', 'videoId': 'w6Fq9QCZQ4w'},\n",
       "   'videoOwnerChannelTitle': 'Michael Fudge',\n",
       "   'videoOwnerChannelId': 'UCqpc8sbuW9-FWglYJic9-aA'},\n",
       "  'contentDetails': {'videoId': 'w6Fq9QCZQ4w',\n",
       "   'videoPublishedAt': '2022-09-27T11:57:10Z'},\n",
       "  'status': {'privacyStatus': 'public'}},\n",
       " {'kind': 'youtube#playlistItem',\n",
       "  'etag': '0HL9GJ7WXpyryw8a6FgehQTA1DQ',\n",
       "  'id': 'UEx5UmlSVXNUeVVYZ204NHRVWndLRUh0NGt4QXUyMDJWYi45NzUwQkI1M0UxNThBMkU0',\n",
       "  'snippet': {'publishedAt': '2021-04-26T18:09:51Z',\n",
       "   'channelId': 'UCqpc8sbuW9-FWglYJic9-aA',\n",
       "   'title': 'IST256 Learn Python Homework HW 12 Advice',\n",
       "   'description': 'This video provides hints, tips and tricks for completing the lesson 12 homework assignment on Pandas\\n\\nIf you are an IST256 student, you can find your lab in JupyterHub. If you are learning on your own you can find the code for this course at https://github.com/IST256/learn-python',\n",
       "   'thumbnails': {'default': {'url': 'https://i.ytimg.com/vi/knam4pH9lpY/default.jpg',\n",
       "     'width': 120,\n",
       "     'height': 90},\n",
       "    'medium': {'url': 'https://i.ytimg.com/vi/knam4pH9lpY/mqdefault.jpg',\n",
       "     'width': 320,\n",
       "     'height': 180},\n",
       "    'high': {'url': 'https://i.ytimg.com/vi/knam4pH9lpY/hqdefault.jpg',\n",
       "     'width': 480,\n",
       "     'height': 360},\n",
       "    'standard': {'url': 'https://i.ytimg.com/vi/knam4pH9lpY/sddefault.jpg',\n",
       "     'width': 640,\n",
       "     'height': 480},\n",
       "    'maxres': {'url': 'https://i.ytimg.com/vi/knam4pH9lpY/maxresdefault.jpg',\n",
       "     'width': 1280,\n",
       "     'height': 720}},\n",
       "   'channelTitle': 'Michael Fudge',\n",
       "   'playlistId': 'PLyRiRUsTyUXgm84tUZwKEHt4kxAu202Vb',\n",
       "   'position': 23,\n",
       "   'resourceId': {'kind': 'youtube#video', 'videoId': 'knam4pH9lpY'},\n",
       "   'videoOwnerChannelTitle': 'Michael Fudge',\n",
       "   'videoOwnerChannelId': 'UCqpc8sbuW9-FWglYJic9-aA'},\n",
       "  'contentDetails': {'videoId': 'knam4pH9lpY',\n",
       "   'videoPublishedAt': '2022-09-27T11:57:19Z'},\n",
       "  'status': {'privacyStatus': 'public'}},\n",
       " {'kind': 'youtube#playlistItem',\n",
       "  'etag': 'lgj4Sy-pVr4pjfugyWpuK4sMttA',\n",
       "  'id': 'UEx5UmlSVXNUeVVYZ204NHRVWndLRUh0NGt4QXUyMDJWYi5DNzE1RjZEMUZCMjA0RDBB',\n",
       "  'snippet': {'publishedAt': '2021-05-03T18:58:13Z',\n",
       "   'channelId': 'UCqpc8sbuW9-FWglYJic9-aA',\n",
       "   'title': 'IST256 Learn Python Lab 13 Walk Through',\n",
       "   'description': 'This video walks the learner through the You Code sections of Lab 13 on Visualizations!\\n\\nTable of Contents: \\n\\n00:00 - Introduction\\n00:11 - Lab 13 You Code 1.1\\n05:11 - Lab 13 You Code 1.2\\n07:15 - Lab 13 You Code 1.3\\n14:38 - Lab 13 You Code 1.4\\n22:42 - Lab 13 You Code 1.5\\n36:20 - Lab 13 Bonus! Maps!\\n\\nIf you are an IST256 student, you can find your lab in JupyterHub. If you are learning on your own you can find the code for this course at https://github.com/IST256/learn-python',\n",
       "   'thumbnails': {'default': {'url': 'https://i.ytimg.com/vi/APlS-yQ5opo/default.jpg',\n",
       "     'width': 120,\n",
       "     'height': 90},\n",
       "    'medium': {'url': 'https://i.ytimg.com/vi/APlS-yQ5opo/mqdefault.jpg',\n",
       "     'width': 320,\n",
       "     'height': 180},\n",
       "    'high': {'url': 'https://i.ytimg.com/vi/APlS-yQ5opo/hqdefault.jpg',\n",
       "     'width': 480,\n",
       "     'height': 360},\n",
       "    'standard': {'url': 'https://i.ytimg.com/vi/APlS-yQ5opo/sddefault.jpg',\n",
       "     'width': 640,\n",
       "     'height': 480},\n",
       "    'maxres': {'url': 'https://i.ytimg.com/vi/APlS-yQ5opo/maxresdefault.jpg',\n",
       "     'width': 1280,\n",
       "     'height': 720}},\n",
       "   'channelTitle': 'Michael Fudge',\n",
       "   'playlistId': 'PLyRiRUsTyUXgm84tUZwKEHt4kxAu202Vb',\n",
       "   'position': 24,\n",
       "   'resourceId': {'kind': 'youtube#video', 'videoId': 'APlS-yQ5opo'},\n",
       "   'videoOwnerChannelTitle': 'Michael Fudge',\n",
       "   'videoOwnerChannelId': 'UCqpc8sbuW9-FWglYJic9-aA'},\n",
       "  'contentDetails': {'videoId': 'APlS-yQ5opo',\n",
       "   'videoPublishedAt': '2022-09-27T12:01:09Z'},\n",
       "  'status': {'privacyStatus': 'public'}},\n",
       " {'kind': 'youtube#playlistItem',\n",
       "  'etag': 'caOpIdpuxrKrPYlQFq8XnQadZyU',\n",
       "  'id': 'UEx5UmlSVXNUeVVYZ204NHRVWndLRUh0NGt4QXUyMDJWYi43MTI1NDIwOTMwQjIxMzNG',\n",
       "  'snippet': {'publishedAt': '2021-05-03T18:59:16Z',\n",
       "   'channelId': 'UCqpc8sbuW9-FWglYJic9-aA',\n",
       "   'title': 'IST256 Learn Python Homework HW 13 Advice',\n",
       "   'description': 'This video provides hints, tips and tricks for completing the lesson 13 homework assignment on Visualization\\n\\nIf you are an IST256 student, you can find your lab in JupyterHub. If you are learning on your own you can find the code for this course at https://github.com/IST256/learn-python',\n",
       "   'thumbnails': {'default': {'url': 'https://i.ytimg.com/vi/VJfbmIY-4SA/default.jpg',\n",
       "     'width': 120,\n",
       "     'height': 90},\n",
       "    'medium': {'url': 'https://i.ytimg.com/vi/VJfbmIY-4SA/mqdefault.jpg',\n",
       "     'width': 320,\n",
       "     'height': 180},\n",
       "    'high': {'url': 'https://i.ytimg.com/vi/VJfbmIY-4SA/hqdefault.jpg',\n",
       "     'width': 480,\n",
       "     'height': 360},\n",
       "    'standard': {'url': 'https://i.ytimg.com/vi/VJfbmIY-4SA/sddefault.jpg',\n",
       "     'width': 640,\n",
       "     'height': 480},\n",
       "    'maxres': {'url': 'https://i.ytimg.com/vi/VJfbmIY-4SA/maxresdefault.jpg',\n",
       "     'width': 1280,\n",
       "     'height': 720}},\n",
       "   'channelTitle': 'Michael Fudge',\n",
       "   'playlistId': 'PLyRiRUsTyUXgm84tUZwKEHt4kxAu202Vb',\n",
       "   'position': 25,\n",
       "   'resourceId': {'kind': 'youtube#video', 'videoId': 'VJfbmIY-4SA'},\n",
       "   'videoOwnerChannelTitle': 'Michael Fudge',\n",
       "   'videoOwnerChannelId': 'UCqpc8sbuW9-FWglYJic9-aA'},\n",
       "  'contentDetails': {'videoId': 'VJfbmIY-4SA',\n",
       "   'videoPublishedAt': '2022-12-01T18:45:31Z'},\n",
       "  'status': {'privacyStatus': 'public'}},\n",
       " {'kind': 'youtube#playlistItem',\n",
       "  'etag': 'nNW5PN3XnphRIVuEm-9MdiQ87Rs',\n",
       "  'id': 'UEx5UmlSVXNUeVVYZ204NHRVWndLRUh0NGt4QXUyMDJWYi5DQ0MyQ0Y4Mzg0M0VGOEYw',\n",
       "  'snippet': {'publishedAt': '2022-09-27T11:43:01Z',\n",
       "   'channelId': 'UCqpc8sbuW9-FWglYJic9-aA',\n",
       "   'title': 'Quick introduction to Jupyter Notebook',\n",
       "   'description': \"This this video we provide a quick overview of Jupyter Notebook. We'll explain the purpose of this web-based notebook programming environment and demonstrate how to write code in it as well as manage it.\",\n",
       "   'thumbnails': {'default': {'url': 'https://i.ytimg.com/vi/jZ952vChhuI/default.jpg',\n",
       "     'width': 120,\n",
       "     'height': 90},\n",
       "    'medium': {'url': 'https://i.ytimg.com/vi/jZ952vChhuI/mqdefault.jpg',\n",
       "     'width': 320,\n",
       "     'height': 180},\n",
       "    'high': {'url': 'https://i.ytimg.com/vi/jZ952vChhuI/hqdefault.jpg',\n",
       "     'width': 480,\n",
       "     'height': 360},\n",
       "    'standard': {'url': 'https://i.ytimg.com/vi/jZ952vChhuI/sddefault.jpg',\n",
       "     'width': 640,\n",
       "     'height': 480},\n",
       "    'maxres': {'url': 'https://i.ytimg.com/vi/jZ952vChhuI/maxresdefault.jpg',\n",
       "     'width': 1280,\n",
       "     'height': 720}},\n",
       "   'channelTitle': 'Michael Fudge',\n",
       "   'playlistId': 'PLyRiRUsTyUXgm84tUZwKEHt4kxAu202Vb',\n",
       "   'position': 26,\n",
       "   'resourceId': {'kind': 'youtube#video', 'videoId': 'jZ952vChhuI'},\n",
       "   'videoOwnerChannelTitle': 'Michael Fudge',\n",
       "   'videoOwnerChannelId': 'UCqpc8sbuW9-FWglYJic9-aA'},\n",
       "  'contentDetails': {'videoId': 'jZ952vChhuI',\n",
       "   'videoPublishedAt': '2017-01-30T17:10:02Z'},\n",
       "  'status': {'privacyStatus': 'public'}}]"
      ]
     },
     "execution_count": 2,
     "metadata": {},
     "output_type": "execute_result"
    }
   ],
   "source": [
    "playlist = deserialize_json(\"ist256-youtube-playlist.json\")\n",
    "playlist"
   ]
  },
  {
   "cell_type": "code",
   "execution_count": 8,
   "metadata": {},
   "outputs": [],
   "source": [
    "names = [ \"tom\", \"fred\" ]\n",
    "friend = { \"name\" : \"bill\", \"dob\": \"2010-04-05\" }"
   ]
  },
  {
   "cell_type": "markdown",
   "metadata": {
    "tags": []
   },
   "source": [
    "#### Challenge 2\n",
    "\n",
    "write code to display the data type of `playlist`? Is it list or dict?"
   ]
  },
  {
   "cell_type": "code",
   "execution_count": 3,
   "metadata": {
    "tags": []
   },
   "outputs": [
    {
     "data": {
      "text/plain": [
       "list"
      ]
     },
     "execution_count": 3,
     "metadata": {},
     "output_type": "execute_result"
    }
   ],
   "source": [
    "type(playlist)"
   ]
  },
  {
   "cell_type": "markdown",
   "metadata": {
    "tags": []
   },
   "source": [
    "#### Challenge 3\n",
    "\n",
    "write code to get the data from the first video in `playlist` store the variable `firstvid` and show it to the console. Is it a list or dict?"
   ]
  },
  {
   "cell_type": "code",
   "execution_count": 4,
   "metadata": {
    "tags": []
   },
   "outputs": [
    {
     "data": {
      "text/plain": [
       "dict"
      ]
     },
     "execution_count": 4,
     "metadata": {},
     "output_type": "execute_result"
    }
   ],
   "source": [
    "firstvid = playlist[0]\n",
    "type(firstvid)"
   ]
  },
  {
   "cell_type": "markdown",
   "metadata": {
    "tags": []
   },
   "source": [
    "#### Challenge 4\n",
    "\n",
    "Write code to retrieve the title of the 4th video. You don't need to store it in a variable. The title should be `'IST256 Learn Python Homework HW 02 Advice'`"
   ]
  },
  {
   "cell_type": "code",
   "execution_count": 9,
   "metadata": {
    "scrolled": true,
    "tags": []
   },
   "outputs": [
    {
     "data": {
      "text/plain": [
       "'IST256 Learn Python Homework HW 02 Advice'"
      ]
     },
     "execution_count": 9,
     "metadata": {},
     "output_type": "execute_result"
    }
   ],
   "source": [
    "playlist[3]['snippet']['title']"
   ]
  },
  {
   "cell_type": "markdown",
   "metadata": {
    "tags": []
   },
   "source": [
    "#### Challenge 5\n",
    "\n",
    "Write a loop to print all the video titles in the playlist. Leverage the power of the iterator!!!!"
   ]
  },
  {
   "cell_type": "code",
   "execution_count": 20,
   "metadata": {
    "tags": []
   },
   "outputs": [
    {
     "name": "stdout",
     "output_type": "stream",
     "text": [
      "jUXoz-rKWEQ IST256 Learn Python Lab 01 Walk Through\n",
      "QLsMdSw3HU8 IST256 Learn Python Homework HW 01 Advice\n",
      "YRbh6MWUjKE IST256 Learn Python Lab 02 Walk Through\n",
      "ML-UCIWEAks IST256 Learn Python Homework HW 02 Advice\n",
      "heJ-6ji332E IST256 Learn Python Lab 03 Walk Through\n",
      "O3vh1r5Efbg IST256 Learn Python Homework HW 03 Advice\n",
      "qiQYbAxJTds IST256 Learn Python Lab 04 Walk Through\n",
      "dTasdLouiak IST256 Learn Python Homework HW 04 Advice\n",
      "3gLyp9KUFB4 IST256 Learn Python Lab 05 Walk Through\n",
      "0hJjqlkItXg IST256 Learn Python Homework HW 05 Advice\n",
      "StVUoVsi_NI IST256 Learn Python Lab 06 Walk Through\n",
      "1Gnv6KYbWb4 IST256 Learn Python Homework HW 06 Advice\n",
      "NiZsQ7GJqlU IST256 Learn Python Lab 07 Walk Through\n",
      "WKb5fKDn_Nc IST256 Learn Python Homework HW 07 Advice\n",
      "0sYoK726RRc IST256 Learn Python Lab 08 Walk Through\n",
      "eGnkG9Cpgvg IST256 Learn Python Homework HW 08 Advice\n",
      "WIw7oXCtir0 IST256 Learn Python Lab 09 Walk Through\n",
      "rvSZhsvNQZk IST256 Learn Python Homework HW 09 Advice\n",
      "0Zy7C8_IHNs IST256 Learn Python Lab 10 Walk Through\n",
      "RVZgMiktDlg IST256 Learn Python Homework HW 10 Advice\n",
      "5Q8mHA0L4HY IST256 Learn Python Lab 11 Walk Through\n",
      "xnrYDAajhq0 IST256 Learn Python Homework HW 11 Advice\n",
      "w6Fq9QCZQ4w IST256 Learn Python Lab 12 Walk Through\n",
      "knam4pH9lpY IST256 Learn Python Homework HW 12 Advice\n",
      "APlS-yQ5opo IST256 Learn Python Lab 13 Walk Through\n",
      "VJfbmIY-4SA IST256 Learn Python Homework HW 13 Advice\n",
      "jZ952vChhuI Quick introduction to Jupyter Notebook\n"
     ]
    }
   ],
   "source": [
    "for video in playlist:\n",
    "    title = video['snippet']['title']\n",
    "    videoid = video['snippet']['resourceId']['videoId']\n",
    "    print(videoid, title)"
   ]
  },
  {
   "cell_type": "code",
   "execution_count": 25,
   "metadata": {},
   "outputs": [
    {
     "data": {
      "text/plain": [
       "'jZ952vChhuI'"
      ]
     },
     "execution_count": 25,
     "metadata": {},
     "output_type": "execute_result"
    }
   ],
   "source": [
    "#figure out where the video id is:\n",
    "video\n",
    "video.keys()\n",
    "video['snippet'].keys()\n",
    "video['snippet']['resourceId'].keys()\n",
    "video['snippet']['resourceId']['videoId']"
   ]
  },
  {
   "cell_type": "markdown",
   "metadata": {
    "tags": []
   },
   "source": [
    "#### Challenge 6\n",
    "\n",
    "Write a loop to print ONLY the `\"Homework\"` Titles in the playlist"
   ]
  },
  {
   "cell_type": "code",
   "execution_count": 27,
   "metadata": {},
   "outputs": [
    {
     "data": {
      "text/plain": [
       "True"
      ]
     },
     "execution_count": 27,
     "metadata": {},
     "output_type": "execute_result"
    }
   ],
   "source": [
    "title = \"IST256 Learn Python Homework HW 12 Advice\"\n",
    "\"Homework\" in title.split() #breaks up into words and check the list of words for \"Homework\"\n",
    "title.find(\"Homework\") != -1 # searches the string for \"Homework\" and returns its location (slice)"
   ]
  },
  {
   "cell_type": "code",
   "execution_count": 36,
   "metadata": {
    "tags": []
   },
   "outputs": [
    {
     "name": "stdout",
     "output_type": "stream",
     "text": [
      "jUXoz-rKWEQ IST256 Learn Python Lab 01 Walk Through\n",
      "YRbh6MWUjKE IST256 Learn Python Lab 02 Walk Through\n",
      "heJ-6ji332E IST256 Learn Python Lab 03 Walk Through\n",
      "qiQYbAxJTds IST256 Learn Python Lab 04 Walk Through\n",
      "3gLyp9KUFB4 IST256 Learn Python Lab 05 Walk Through\n",
      "StVUoVsi_NI IST256 Learn Python Lab 06 Walk Through\n",
      "NiZsQ7GJqlU IST256 Learn Python Lab 07 Walk Through\n",
      "0sYoK726RRc IST256 Learn Python Lab 08 Walk Through\n",
      "WIw7oXCtir0 IST256 Learn Python Lab 09 Walk Through\n",
      "0Zy7C8_IHNs IST256 Learn Python Lab 10 Walk Through\n",
      "5Q8mHA0L4HY IST256 Learn Python Lab 11 Walk Through\n",
      "w6Fq9QCZQ4w IST256 Learn Python Lab 12 Walk Through\n",
      "APlS-yQ5opo IST256 Learn Python Lab 13 Walk Through\n"
     ]
    }
   ],
   "source": [
    "for video in playlist:\n",
    "    title = video['snippet']['title']\n",
    "    if \"Lab\" in title.split():\n",
    "        videoid = video['snippet']['resourceId']['videoId']\n",
    "        print(videoid, title)"
   ]
  },
  {
   "cell_type": "code",
   "execution_count": 32,
   "metadata": {
    "tags": []
   },
   "outputs": [
    {
     "data": {
      "text/plain": [
       "True"
      ]
     },
     "execution_count": 32,
     "metadata": {},
     "output_type": "execute_result"
    }
   ],
   "source": [
    "\"Homework\" in \"Nobody's Homeworkisdone\""
   ]
  },
  {
   "cell_type": "markdown",
   "metadata": {
    "tags": []
   },
   "source": [
    "#### Challenge 7\n",
    "\n",
    "For the following title `\"IST256 Learn Python Homework HW 13 Advice\"` extract out the unit number: \"13\"  \n",
    "likewise for a lab `\"IST256 Learn Python Lab 04 Walk Through\"` extract out number \"04\""
   ]
  },
  {
   "cell_type": "code",
   "execution_count": null,
   "metadata": {},
   "outputs": [],
   "source": [
    "def extract_number(input_string):\n",
    "    parts = input_string.split(\" \")\n",
    "    for part in parts:\n",
    "        if part.isdigit():\n",
    "            return part\n",
    "    return None  # Return None if no number is found\n",
    "\n",
    "# Example usage\n",
    "example_string = \"something 13 something else\"\n",
    "number = extract_number(example_string)\n",
    "print(f\"Extracted number: {number}\")"
   ]
  },
  {
   "cell_type": "code",
   "execution_count": 38,
   "metadata": {
    "tags": []
   },
   "outputs": [],
   "source": [
    "def extract_unit_number(title: str) -> str:\n",
    "    parts = title.split() # make a list separated by whitespace\n",
    "    for part in parts:\n",
    "        if part.isdigit(): # is the string only digits??\n",
    "            return part\n",
    "    return \"N/A\"\n",
    "    \n",
    "# todo write test for walk through and homework\n",
    "assert extract_unit_number(\"This is 10 test\") == \"10\"\n",
    "assert extract_unit_number(\"IST256 Learn Python Lab 04 Walk Through\") == \"04\""
   ]
  },
  {
   "cell_type": "markdown",
   "metadata": {
    "tags": []
   },
   "source": [
    "#### Challenge 8\n",
    "\n",
    "For any video at index `i`, get the description of the video."
   ]
  },
  {
   "cell_type": "code",
   "execution_count": 40,
   "metadata": {
    "tags": []
   },
   "outputs": [
    {
     "data": {
      "text/plain": [
       "\"This this video we provide a quick overview of Jupyter Notebook. We'll explain the purpose of this web-based notebook programming environment and demonstrate how to write code in it as well as manage it.\""
      ]
     },
     "execution_count": 40,
     "metadata": {},
     "output_type": "execute_result"
    }
   ],
   "source": [
    "desc = video['snippet']['description']\n",
    "desc"
   ]
  },
  {
   "cell_type": "markdown",
   "metadata": {
    "tags": []
   },
   "source": [
    "#### Challenge 9\n",
    "\n",
    "For any video at index `i`, get get the url of the medium-sized thumbnail."
   ]
  },
  {
   "cell_type": "code",
   "execution_count": 47,
   "metadata": {
    "tags": []
   },
   "outputs": [],
   "source": [
    "video\n",
    "video.keys()\n",
    "video['snippet'].keys()\n",
    "video['snippet']['thumbnails']\n",
    "video['snippet']['thumbnails']['medium']['url']\n",
    "thumb = video['snippet']['thumbnails']['medium']['url']"
   ]
  },
  {
   "cell_type": "markdown",
   "metadata": {
    "tags": []
   },
   "source": [
    "#### Challenge 10\n",
    "\n",
    "Use Ipython display and Image to display the url as an image"
   ]
  },
  {
   "cell_type": "code",
   "execution_count": 48,
   "metadata": {
    "tags": []
   },
   "outputs": [
    {
     "data": {
      "text/html": [
       "<img src=\"https://i.ytimg.com/vi/jZ952vChhuI/mqdefault.jpg\"/>"
      ],
      "text/plain": [
       "<IPython.core.display.Image object>"
      ]
     },
     "metadata": {},
     "output_type": "display_data"
    }
   ],
   "source": [
    "from IPython.display import display, Image, YouTubeVideo\n",
    "\n",
    "display(Image(url=thumb))"
   ]
  },
  {
   "cell_type": "markdown",
   "metadata": {
    "tags": []
   },
   "source": [
    "#### Challenge 11\n",
    "\n",
    "Going back to the `firstvid` variable. Extract out the YouTube video Id. In this case, it should be:  `'jUXoz-rKWEQ'`"
   ]
  },
  {
   "cell_type": "code",
   "execution_count": 50,
   "metadata": {
    "tags": []
   },
   "outputs": [
    {
     "data": {
      "image/jpeg": "[encoded data removed]",
      "text/html": [
       "\n",
       "        <iframe\n",
       "            width=\"400\"\n",
       "            height=\"300\"\n",
       "            src=\"https://www.youtube.com/embed/APlS-yQ5opo\"\n",
       "            frameborder=\"0\"\n",
       "            allowfullscreen\n",
       "            \n",
       "        ></iframe>\n",
       "        "
      ],
      "text/plain": [
       "<IPython.lib.display.YouTubeVideo at 0x7f426a30cf80>"
      ]
     },
     "metadata": {},
     "output_type": "display_data"
    }
   ],
   "source": [
    "display(YouTubeVideo(videoid))"
   ]
  },
  {
   "cell_type": "markdown",
   "metadata": {
    "tags": []
   },
   "source": [
    "#### Challenge 12\n",
    "\n",
    "\n",
    "Use Ipython display, YouTubeVideo to show the video!"
   ]
  },
  {
   "cell_type": "code",
   "execution_count": null,
   "metadata": {
    "tags": []
   },
   "outputs": [],
   "source": []
  },
  {
   "cell_type": "markdown",
   "metadata": {},
   "source": [
    "#### Challenge 13\n",
    "\n",
    "Deserialize the `ist256-exams.json` file into the variable `exams`. What is the type?"
   ]
  },
  {
   "cell_type": "code",
   "execution_count": null,
   "metadata": {
    "tags": []
   },
   "outputs": [],
   "source": []
  },
  {
   "cell_type": "markdown",
   "metadata": {},
   "source": [
    "#### Challenge 14\n",
    "\n",
    "Write code to display the units covered in Exam 2 (E2)."
   ]
  },
  {
   "cell_type": "code",
   "execution_count": null,
   "metadata": {
    "tags": []
   },
   "outputs": [],
   "source": []
  },
  {
   "cell_type": "markdown",
   "metadata": {},
   "source": [
    "#### Challenge 15\n",
    "\n",
    "Start by Copying your solution from Challenge 6. Using The snippet from Challenge 7 and the `exams` variable only display homework video titles for units covered in Exam 2."
   ]
  },
  {
   "cell_type": "code",
   "execution_count": null,
   "metadata": {
    "tags": []
   },
   "outputs": [],
   "source": []
  },
  {
   "cell_type": "markdown",
   "metadata": {},
   "source": [
    "#### Challenge 16\n",
    "\n",
    "Modify your previous challenge to display the title AND the youtube video Id, as you did in challenge 12."
   ]
  },
  {
   "cell_type": "code",
   "execution_count": null,
   "metadata": {
    "tags": []
   },
   "outputs": [],
   "source": []
  },
  {
   "cell_type": "markdown",
   "metadata": {},
   "source": [
    "#### Challenge 17\n",
    "\n",
    "Write an IPython interact with the following input widgets:\n",
    "\n",
    "- dropdown selecting \"Lab\" or \"Homework\"\n",
    "- dropdown of exams keys() + the option \"All Exams\"\n",
    "\n",
    "in the `onclick` just output the values of the widgets\n",
    "\n",
    "\n",
    "    input a unit (01, 02, 03)\n",
    "    input a lab/hw (assignment)\n",
    "    show the video that matches the search\n",
    "\n",
    "    title\n",
    "    video\n",
    "    description\n",
    "\n",
    "    read in the json ist256-youtube-playlist.json deserialize_json\n",
    "\n",
    "    for video playlist\n",
    "        extract unit number from title\n",
    "        extract assignment from title\n",
    "        if video matches the unit and assignment\n",
    "        show titile\n",
    "        show video\n",
    "        show discription"
   ]
  },
  {
   "cell_type": "code",
   "execution_count": 59,
   "metadata": {
    "tags": []
   },
   "outputs": [
    {
     "data": {
      "text/plain": [
       "'IST256 Learn Python Homework HW 10 Advice'"
      ]
     },
     "metadata": {},
     "output_type": "display_data"
    },
    {
     "data": {
      "image/jpeg": "[encoded data removed]",
      "text/html": [
       "\n",
       "        <iframe\n",
       "            width=\"400\"\n",
       "            height=\"300\"\n",
       "            src=\"https://www.youtube.com/embed/RVZgMiktDlg\"\n",
       "            frameborder=\"0\"\n",
       "            allowfullscreen\n",
       "            \n",
       "        ></iframe>\n",
       "        "
      ],
      "text/plain": [
       "<IPython.lib.display.YouTubeVideo at 0x7f426a08f9b0>"
      ]
     },
     "metadata": {},
     "output_type": "display_data"
    }
   ],
   "source": [
    "from IPython.display import display, HTML,Image, YouTubeVideo\n",
    "from ipywidgets import interact_manual\n",
    "\n",
    "selected_assignment = \"Homework\"\n",
    "selected_unit = \"10\"\n",
    "\n",
    "playlist = deserialize_json(\"ist256-youtube-playlist.json\")\n",
    "for video in playlist:\n",
    "    title = video['snippet']['title']\n",
    "    unit = extract_unit_number(title)\n",
    "    if \"Lab\" in title.split():\n",
    "        assignment = \"Lab\"\n",
    "    elif \"Homework\" in title.split():\n",
    "        assignment = \"Homework\"\n",
    "    else:\n",
    "        assignment = \"N/A\"\n",
    "\n",
    "    if selected_assignment == assignment and selected_unit == unit:\n",
    "        videoid = video['snippet']['resourceId']['videoId']\n",
    "        display(title)\n",
    "        display(YouTubeVideo(videoid))\n",
    "    \n",
    "    "
   ]
  },
  {
   "cell_type": "raw",
   "metadata": {},
   "source": [
    "## You Made it Through the Challenges!\n",
    "\n",
    "You are now ready to write the program but putting it all together.\n",
    "\n",
    "INPUTS:\n",
    "    \n",
    " - deserialize `ist256-exams.json`\n",
    " - deserialize `ist256-youtube-playlist.json`\n",
    " - select video type (Homework or Lab)\n",
    " - select exam coverage (E1, E2, etc... or All Exams)\n",
    " \n",
    "OUTPUTS (For matching videos):\n",
    "\n",
    " - Show the title of the video\n",
    " - Show the video itself (so it can be played with the widget)\n",
    " \n",
    " \n",
    "PROCESS / ALGORITHM (onclick)\n",
    "\n",
    "    Pretty much challenge 16 but with variables\n",
    "    \n",
    "    for video in playlist:\n",
    "        if the title matches the video type (e.g. \"Homework\" or \"Lab\") \n",
    "            extract out the unit number (e.g. \"05\" or \"13\"\n",
    "            if exam equals \"All Exams\"\n",
    "                display video title\n",
    "                display video on YouTube\n",
    "            else if unit is in the list of exam units\n",
    "                display video title\n",
    "                display video on YouTube\n"
   ]
  },
  {
   "cell_type": "code",
   "execution_count": null,
   "metadata": {
    "tags": []
   },
   "outputs": [],
   "source": [
    "# FINAL CODE\n",
    "from IPython.display import display, HTML, YouTubeVideo\n",
    "from ipywidgets import interact_manual\n",
    "\n",
    "\n",
    "\n"
   ]
  },
  {
   "cell_type": "code",
   "execution_count": null,
   "metadata": {},
   "outputs": [],
   "source": []
  },
  {
   "cell_type": "code",
   "execution_count": null,
   "metadata": {
    "tags": []
   },
   "outputs": [],
   "source": [
    "from casstools.assignment import Assignment\n",
    "Assignment().submit()"
   ]
  }
 ],
 "metadata": {
  "anaconda-cloud": {},
  "kernelspec": {
   "display_name": "Python 3 (ipykernel)",
   "language": "python",
   "name": "python3"
  },
  "language_info": {
   "codemirror_mode": {
    "name": "ipython",
    "version": 3
   },
   "file_extension": ".py",
   "mimetype": "text/x-python",
   "name": "python",
   "nbconvert_exporter": "python",
   "pygments_lexer": "ipython3",
   "version": "3.12.8"
  },
  "toc": {
   "base_numbering": 1,
   "nav_menu": {},
   "number_sections": false,
   "sideBar": false,
   "skip_h1_title": false,
   "title_cell": "Table of Contents",
   "title_sidebar": "Contents",
   "toc_cell": false,
   "toc_position": {},
   "toc_section_display": false,
   "toc_window_display": false
  },
  "varInspector": {
   "cols": {
    "lenName": 16,
    "lenType": 16,
    "lenVar": 40
   },
   "kernels_config": {
    "python": {
     "delete_cmd_postfix": "",
     "delete_cmd_prefix": "del ",
     "library": "var_list.py",
     "varRefreshCmd": "print(var_dic_list())"
    },
    "r": {
     "delete_cmd_postfix": ") ",
     "delete_cmd_prefix": "rm(",
     "library": "var_list.r",
     "varRefreshCmd": "cat(var_dic_list()) "
    }
   },
   "types_to_exclude": [
    "module",
    "function",
    "builtin_function_or_method",
    "instance",
    "_Feature"
   ],
   "window_display": false
  }
 },
 "nbformat": 4,
 "nbformat_minor": 4
}
