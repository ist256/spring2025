{
 "cells": [
  {
   "cell_type": "markdown",
   "metadata": {},
   "source": [
    "## Lesson 11: Data Analysis with Pandas II\n",
    "\n",
    "### Overview\n",
    "\n",
    "In this lesson we learn:\n",
    "\n",
    "- Advanced use cases for Pandas\n",
    "- Loading and Saving Data JSON with Pandas\n",
    "- Simple Web scraping with Pandas\n",
    "- Basic Pandas operations for DataFrames\n",
    "\n",
    "### Required Before Large Group\n",
    "\n",
    "- READ: [Fudge: Data Analysis with Pandas (Part Two)](../10-Pandas-I/DataAnalysisWithPandas.ipynb#Part-Two)\n",
    "- VIDEO: [Normalize JSON Dataset with Pandas, by Jie Jenn](https://www.youtube.com/watch?v=8ppVvMz33Qg)\n",
    "- VIDEO: [How do I merge DataFrames in pandas, by Data School](https://www.youtube.com/watch?v=iYWKfUOtGaw&t=168s)\n",
    "- VIDEO: [How do I apply a function to a pandas Series or DataFrame?, by Data School](https://www.youtube.com/watch?v=P_q0tkYqvSk)\n",
    "\n",
    "### Additional Resources\n",
    "\n",
    "- VIDEO: [10 Minutes of Pandas by Wes McKinney](https://www.youtube.com/watch?v=_T8LGqJtuGc)\n",
    "- No more lab walk throughs or homework advice yet as content was re-written this semester.\n"
   ]
  },
  {
   "cell_type": "code",
   "execution_count": 1,
   "metadata": {},
   "outputs": [
    {
     "name": "stdout",
     "output_type": "stream",
     "text": [
      "✅ TIMESTAMP  : 2025-04-07 16:33\n",
      "✅ COURSE     : ist256\n",
      "✅ TERM       : spring2025\n",
      "✅ USER       : mafudge@syr.edu\n",
      "✅ STUDENT    : True\n",
      "💣 ERROR GETTING ASSIGNMENT INFORMATION 💣\n",
      "❌ Error Details: Content.ipynb is not an assignment on the course assignment list.\n",
      "Possible Causes:\n",
      " - Is the assignment 'Content.ipynb'on the assignment list?\n"
     ]
    }
   ],
   "source": [
    "from casstools.assignment import Assignment\n",
    "Assignment().submit()"
   ]
  },
  {
   "cell_type": "code",
   "execution_count": null,
   "metadata": {},
   "outputs": [],
   "source": []
  }
 ],
 "metadata": {
  "kernelspec": {
   "display_name": "Python 3 (ipykernel)",
   "language": "python",
   "name": "python3"
  },
  "language_info": {
   "codemirror_mode": {
    "name": "ipython",
    "version": 3
   },
   "file_extension": ".py",
   "mimetype": "text/x-python",
   "name": "python",
   "nbconvert_exporter": "python",
   "pygments_lexer": "ipython3",
   "version": "3.12.8"
  }
 },
 "nbformat": 4,
 "nbformat_minor": 4
}
