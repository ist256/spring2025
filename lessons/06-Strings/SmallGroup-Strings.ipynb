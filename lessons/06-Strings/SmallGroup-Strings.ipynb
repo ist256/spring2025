{
 "cells": [
  {
   "cell_type": "markdown",
   "metadata": {},
   "source": [
    "# Now You Code In Class: Spell Checker \n",
    "\n",
    "Let's build a rudimentary spell checker. The basic idea is as follows:\n",
    "\n",
    "- provide a list of correctly spelled words\n",
    "- check the itext words against the list of correctly spelled words\n",
    "- output any words not in the list, assuming they are misspelled.\n",
    "\n",
    "Of course we cannot provide every possible word, but we'll try to fetch words from the internet in a later assignment. \n",
    "\n",
    "Advanced Concerns:\n",
    "\n",
    "- case sensitivity `The` should equal `the`\n",
    "- stripping punctuation `orange.` should equal `orange`\n",
    "- removing whitespace ` within ` should equal `within`\n",
    "\n",
    "## Approach\n",
    "\n",
    "Let's take a **problem simplification** approach. This this approach we break the problem, into simpler problems, solve those, then add to the larger problem.\n",
    "\n",
    "1. Write a function `onlist(word, dictionary)` which returns True when we find `word` in the text string `dictionary`.\n",
    "2. Write tests to make sure 1. works\n",
    "3. Use the function to implement our spelling checker.\n",
    "4. Address advanced concerns with another function `cleanup(word)`\n",
    "5. Write tests for 4 to make sure it works\n",
    "6. Re-write the spell checker final version\n"
   ]
  },
  {
   "cell_type": "markdown",
   "metadata": {},
   "source": [
    "## Step 1a: Problem Analysis for `onlist()`\n",
    "\n",
    "Examples:\n",
    "\n",
    "    \"mike\" is in dictionary \"mike is a big fat bozo\" == true\n",
    "    \"fat\" is in dictionary \"mike is a big fat bozo\" == true\n",
    "    \"apple\" is not in dictionary \"mike is a big fat bozo\" == false\n",
    "\n",
    "Inputs: \n",
    "\n",
    "    PROMPT 1:\n",
    "    - dictionary\n",
    "    - word\n",
    "\n",
    "Outputs: \n",
    "\n",
    "    PROMPT 2:\n",
    "    - True / False\n",
    "    \n",
    "\n",
    "Algorithm (Steps in Program):\n",
    "\n",
    "    PROMPT 3:\n",
    "\n",
    "    for each word in the dictionary\n",
    "        if word == input word\n",
    "            found it\n",
    "            return true\n",
    "    else\n",
    "        return false\n",
    "    \n",
    "\n",
    "How many tests are required and why?\n",
    "\n",
    "    PROMPT 4\n",
    "\n",
    "    \"apple\" in \"apple cherry banana\"  ==> True\n",
    "    \"date\" in \"apple cherry banana\"  ==> False\n",
    "    \n",
    "\n",
    "## Step 1b: Code the function"
   ]
  },
  {
   "cell_type": "code",
   "execution_count": 13,
   "metadata": {},
   "outputs": [],
   "source": [
    "## PROMPT 5: write function def\n",
    "# I would like to make a new command\n",
    "def onlist(word:str, dictionary:str) -> bool:\n",
    "    for dict_word in dictionary.split(): # word at a time\n",
    "        if word == dict_word:\n",
    "            return True\n",
    "    return False"
   ]
  },
  {
   "cell_type": "code",
   "execution_count": null,
   "metadata": {},
   "outputs": [],
   "source": []
  },
  {
   "cell_type": "code",
   "execution_count": 14,
   "metadata": {
    "tags": []
   },
   "outputs": [
    {
     "data": {
      "text/plain": [
       "True"
      ]
     },
     "execution_count": 14,
     "metadata": {},
     "output_type": "execute_result"
    }
   ],
   "source": [
    "# sample call == true\n",
    "onlist(\"people\", \"up with people\")"
   ]
  },
  {
   "cell_type": "code",
   "execution_count": 15,
   "metadata": {
    "tags": []
   },
   "outputs": [
    {
     "data": {
      "text/plain": [
       "False"
      ]
     },
     "execution_count": 15,
     "metadata": {},
     "output_type": "execute_result"
    }
   ],
   "source": [
    "# sample call == false\n",
    "onlist(\"peeple\", \"up with people\")"
   ]
  },
  {
   "cell_type": "markdown",
   "metadata": {},
   "source": [
    "## Step 2: Write tests\n",
    "\n",
    "Let's make sure the function works"
   ]
  },
  {
   "cell_type": "code",
   "execution_count": 16,
   "metadata": {},
   "outputs": [
    {
     "name": "stdout",
     "output_type": "stream",
     "text": [
      "For WORD=pizzah, DICT=pig burger nose EXPECT=False, ACTUAL=False\n",
      "For WORD=you, DICT=a i you EXPECT=True, ACTUAL=True\n"
     ]
    }
   ],
   "source": [
    "## PROMT 6: tests\n",
    "def test_onlist(word, dictionary, expected):\n",
    "    actual = onlist(word, dictionary)\n",
    "    print(f\"For WORD={word}, DICT={dictionary} EXPECT={expected}, ACTUAL={actual}\")\n",
    "    assert expected == actual\n",
    "\n",
    "# call test function with test data\n",
    "test_onlist(\"pizzah\", \"pig burger nose\", False)\n",
    "test_onlist(\"you\", \"a i you\", True)"
   ]
  },
  {
   "cell_type": "markdown",
   "metadata": {},
   "source": [
    "## Step 3a: Problem Analysis v1 program\n",
    "\n",
    "Spell checker 1.0 for given text and dictionary output the misspelled words.\n",
    "\n",
    "Inputs: \n",
    "\n",
    "    PROMPT 7\n",
    "    Text to spell:\n",
    "    pizza is the numberr one chioyce of students\n",
    "\n",
    "Outputs: \n",
    "\n",
    "    PROMPT 8\n",
    "    Misspellings\n",
    "    numberr\n",
    "    choiyce\n",
    "\n",
    "Algorithm (Steps in Program):\n",
    "    PROMPT 9: Use the onlist() function!!!\n",
    "    \n",
    "     \n",
    "## Step 3b: Code for v1 program  "
   ]
  },
  {
   "cell_type": "code",
   "execution_count": 18,
   "metadata": {},
   "outputs": [
    {
     "data": {
      "text/html": [
       "<H1>Spellchecker</h1>"
      ],
      "text/plain": [
       "<IPython.core.display.HTML object>"
      ]
     },
     "metadata": {},
     "output_type": "display_data"
    },
    {
     "data": {
      "application/vnd.jupyter.widget-view+json": {
       "model_id": "5681efea5adc4f80b020991bf93e700e",
       "version_major": 2,
       "version_minor": 0
      },
      "text/plain": [
       "interactive(children=(Textarea(value='', description='text'), Button(description='Run Interact', style=ButtonS…"
      ]
     },
     "metadata": {},
     "output_type": "display_data"
    }
   ],
   "source": [
    "from IPython.display import display, HTML\n",
    "from ipywidgets import interact_manual, widgets\n",
    "dictionary = \"this test a and an are apple bar car cat dog eat eats ate bird fish for is goes went was has the wheel food water walk swim talk talks walks swims flies tly in on at sky \"\n",
    "\n",
    "display(HTML(\"<H1>Spellchecker</h1>\"))\n",
    "@interact_manual(text=widgets.Textarea())\n",
    "def onclick(text):\n",
    "    # PROMPT 10 Write code here\n",
    "    for word in text.split():\n",
    "        # TODO: clean up word\n",
    "        if onlist(word, dictionary):\n",
    "            continue\n",
    "        else:\n",
    "            print(f\"Could be misspelled: {word}\")\n",
    "    "
   ]
  },
  {
   "cell_type": "markdown",
   "metadata": {},
   "source": [
    "## Step 4a: Address concerns with cleanup function\n",
    "\n",
    "Let's write a `cleanup()` function to cleaned up the text:\n",
    "\n",
    "- case sensitivity `The` should equal `the`\n",
    "- stripping punctuation `orange.` should equal `orange` (see hint below)\n",
    "\n",
    "Examples:\n",
    "    \"The ORANGE!!!\" ==> \"the orange\"\n",
    "    \n",
    "    IN ==>\"What? ,The. Heck?\" \n",
    "    OUT ==> \"what the heck\"\n",
    "\n",
    "Inputs: \n",
    "\n",
    "    PROMPT 11\n",
    "    - some text\n",
    "\n",
    "Outputs: \n",
    "\n",
    "    PROMPT 12\n",
    "    - lower-cased punct-free text\n",
    "\n",
    "Algorithm (Steps in Program):\n",
    "\n",
    "    PROMPT 13\n",
    "    text\n",
    "    lower case the text\n",
    "    remove punct (non-alpha)\n",
    "    return cleaned up text\n",
    "\n",
    "How many tests are required and why?\n",
    "\n",
    "    PROMPT 14\n",
    "    \"this?\"\n",
    "    \"this!\"\n",
    "    \"This!?\"\n",
    "    \"this..\"\n"
   ]
  },
  {
   "cell_type": "code",
   "execution_count": 21,
   "metadata": {},
   "outputs": [
    {
     "name": "stdout",
     "output_type": "stream",
     "text": [
      "!\n",
      "\"\n",
      "#\n",
      "$\n",
      "%\n",
      "&\n",
      "'\n",
      "(\n",
      ")\n",
      "*\n",
      "+\n",
      ",\n",
      "-\n",
      ".\n",
      "/\n",
      ":\n",
      ";\n",
      "<\n",
      "=\n",
      ">\n",
      "?\n",
      "@\n",
      "[\n",
      "\\\n",
      "]\n",
      "^\n",
      "_\n",
      "`\n",
      "{\n",
      "|\n",
      "}\n",
      "~\n"
     ]
    }
   ],
   "source": [
    "# HINT Punctuation\n",
    "from string import punctuation \n",
    "punctuation\n",
    "\n",
    "text = \"Huh?!\"\n",
    "text.replace(\"?\", \"\").replace(\"!\", \"\")\n",
    "\n",
    "for p in punctuation:\n",
    "    print(p)"
   ]
  },
  {
   "cell_type": "markdown",
   "metadata": {},
   "source": [
    "## Step 4b: Write cleanup function"
   ]
  },
  {
   "cell_type": "code",
   "execution_count": 23,
   "metadata": {},
   "outputs": [
    {
     "data": {
      "text/plain": [
       "'hi mom'"
      ]
     },
     "execution_count": 23,
     "metadata": {},
     "output_type": "execute_result"
    }
   ],
   "source": [
    "# PROMPT 15\n",
    "def cleanup(text: str) -> str:\n",
    "    '''\n",
    "    Cleans up text by removing any puncutation and converting the text to lowercase\n",
    "    '''\n",
    "    # This is a localized import.\n",
    "    # commonly done when a function needs OPC to work, and will be re-used.\n",
    "    from string import punctuation\n",
    "\n",
    "    text = text.lower()\n",
    "    for ch in text:\n",
    "        if ch in punctuation:\n",
    "            text = text.replace(ch, \"\")\n",
    "\n",
    "    return text\n",
    "\n",
    "cleanup(\"Hi! <moM>\")\n"
   ]
  },
  {
   "cell_type": "markdown",
   "metadata": {},
   "source": [
    "## Step 5: Write tests\n",
    "\n",
    "Let's make sure the function works\n",
    "\n"
   ]
  },
  {
   "cell_type": "code",
   "execution_count": 25,
   "metadata": {},
   "outputs": [
    {
     "name": "stdout",
     "output_type": "stream",
     "text": [
      "For TEXT=WHAT?!?!?! ArE yOu {DOING}., EXPECT=what are you doing, ACTUAL=what are you doing\n",
      "For TEXT=See spot run. Spot runs fast. Do you, Dave, run fast?, EXPECT=see spot run spot runs fast do you dave run fast, ACTUAL=see spot run spot runs fast do you dave run fast\n"
     ]
    }
   ],
   "source": [
    "# PROMPT 16\n",
    "def test_cleanup(text, expected):\n",
    "    actual = cleanup(text)\n",
    "    print(f\"For TEXT={text}, EXPECT={expected}, ACTUAL={actual}\")\n",
    "    assert expected == actual\n",
    "\n",
    "# call test function with test data\n",
    "test_cleanup(\"WHAT?!?!?! ArE yOu {DOING}.\", \"what are you doing\")\n",
    "test_cleanup(\"See spot run. Spot runs fast. Do you, Dave, run fast?\", \"see spot run spot runs fast do you dave run fast\")"
   ]
  },
  {
   "cell_type": "markdown",
   "metadata": {},
   "source": [
    "## Step 6: Rewrite final program with cleanup v2\n",
    "\n",
    "Spellchecker 2.0 deals with punctuation, whitespace and case-sensitivity\n"
   ]
  },
  {
   "cell_type": "code",
   "execution_count": 28,
   "metadata": {},
   "outputs": [
    {
     "data": {
      "text/html": [
       "<H1>Spellchecker</h1>"
      ],
      "text/plain": [
       "<IPython.core.display.HTML object>"
      ]
     },
     "metadata": {},
     "output_type": "display_data"
    },
    {
     "data": {
      "application/vnd.jupyter.widget-view+json": {
       "model_id": "1eee02b9019f42beb73a938e691de3e8",
       "version_major": 2,
       "version_minor": 0
      },
      "text/plain": [
       "interactive(children=(Textarea(value='', description='text'), Button(description='Run Interact', style=ButtonS…"
      ]
     },
     "metadata": {},
     "output_type": "display_data"
    }
   ],
   "source": [
    "#PROMPT 17 (copy code cell from PROMPT 10 and edit to be)\n",
    "from IPython.display import display, HTML\n",
    "from ipywidgets import interact_manual, widgets\n",
    "dictionary = '''this test a and an are apple bar car cat dog eat eats ate bird fish \n",
    "for is goes went was has the wheel food water walk swim talk talks walks swims flies tly in on at sky\n",
    "am i like\n",
    "'''\n",
    "\n",
    "display(HTML(\"<H1>Spellchecker</h1>\"))\n",
    "@interact_manual(text=widgets.Textarea())\n",
    "def onclick(text):\n",
    "    # PROMPT 10 Write code here\n",
    "    for word in text.split():\n",
    "        cleaned_word = cleanup(word)\n",
    "        if onlist(cleaned_word, dictionary):\n",
    "            continue\n",
    "        else:\n",
    "            print(f\"Could be misspelled: {word}\")\n"
   ]
  },
  {
   "cell_type": "code",
   "execution_count": 5,
   "metadata": {},
   "outputs": [
    {
     "data": {
      "application/vnd.jupyter.widget-view+json": {
       "model_id": "0d8c53c883ea47fd9081e370bfac7d06",
       "version_major": 2,
       "version_minor": 0
      },
      "text/plain": [
       "Textarea(value='h')"
      ]
     },
     "execution_count": 5,
     "metadata": {},
     "output_type": "execute_result"
    }
   ],
   "source": []
  },
  {
   "cell_type": "code",
   "execution_count": 29,
   "metadata": {},
   "outputs": [
    {
     "name": "stdout",
     "output_type": "stream",
     "text": [
      "✅ TIMESTAMP  : 2025-02-19 16:55\n",
      "✅ COURSE     : ist256\n",
      "✅ TERM       : spring2025\n",
      "✅ USER       : mafudge@syr.edu\n",
      "✅ STUDENT    : True\n",
      "✅ PATH       : ist256/spring2025/lessons/06-Strings/SmallGroup-Strings.ipynb\n",
      "✅ ASSIGNMENT : SmallGroup-Strings.ipynb\n",
      "✅ POINTS     : 3\n",
      "✅ DUE DATE   : 2025-02-19 23:59\n",
      "✅ LATE       : False\n",
      "✅ STATUS     : New Submission\n",
      "\n"
     ]
    },
    {
     "name": "stdin",
     "output_type": "stream",
     "text": [
      "❓ Submit? [y/n] ❓  y\n"
     ]
    },
    {
     "name": "stdout",
     "output_type": "stream",
     "text": [
      "\n",
      "👍 SUBMITTED\n",
      "📃 RECIEPT   : 8e234f9f97a5d46b9590008b14f49dfe\n"
     ]
    }
   ],
   "source": [
    "from casstools.assignment import Assignment\n",
    "Assignment().submit()"
   ]
  },
  {
   "cell_type": "code",
   "execution_count": null,
   "metadata": {},
   "outputs": [],
   "source": []
  },
  {
   "cell_type": "code",
   "execution_count": 30,
   "metadata": {},
   "outputs": [
    {
     "data": {
      "application/vnd.jupyter.widget-view+json": {
       "model_id": "cb579a60413a4276ba82b405e686f645",
       "version_major": 2,
       "version_minor": 0
      },
      "text/plain": [
       "interactive(children=(Textarea(value='', description='text'), Text(value='', continuous_update=False, descript…"
      ]
     },
     "metadata": {},
     "output_type": "display_data"
    }
   ],
   "source": [
    "@interact_manual(text=widgets.Textarea(), pos_words=\"\", neg_words=\"\")\n",
    "def onclick(text, pos_words, neg_words):\n",
    "    pass"
   ]
  },
  {
   "cell_type": "code",
   "execution_count": null,
   "metadata": {},
   "outputs": [],
   "source": []
  }
 ],
 "metadata": {
  "anaconda-cloud": {},
  "kernelspec": {
   "display_name": "Python 3 (ipykernel)",
   "language": "python",
   "name": "python3"
  },
  "language_info": {
   "codemirror_mode": {
    "name": "ipython",
    "version": 3
   },
   "file_extension": ".py",
   "mimetype": "text/x-python",
   "name": "python",
   "nbconvert_exporter": "python",
   "pygments_lexer": "ipython3",
   "version": "3.12.8"
  },
  "toc": {
   "base_numbering": 1,
   "nav_menu": {},
   "number_sections": false,
   "sideBar": false,
   "skip_h1_title": false,
   "title_cell": "Table of Contents",
   "title_sidebar": "Contents",
   "toc_cell": false,
   "toc_position": {},
   "toc_section_display": false,
   "toc_window_display": false
  },
  "varInspector": {
   "cols": {
    "lenName": 16,
    "lenType": 16,
    "lenVar": 40
   },
   "kernels_config": {
    "python": {
     "delete_cmd_postfix": "",
     "delete_cmd_prefix": "del ",
     "library": "var_list.py",
     "varRefreshCmd": "print(var_dic_list())"
    },
    "r": {
     "delete_cmd_postfix": ") ",
     "delete_cmd_prefix": "rm(",
     "library": "var_list.r",
     "varRefreshCmd": "cat(var_dic_list()) "
    }
   },
   "types_to_exclude": [
    "module",
    "function",
    "builtin_function_or_method",
    "instance",
    "_Feature"
   ],
   "window_display": false
  }
 },
 "nbformat": 4,
 "nbformat_minor": 4
}
